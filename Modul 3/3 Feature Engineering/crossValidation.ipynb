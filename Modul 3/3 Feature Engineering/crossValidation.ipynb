{
 "cells": [
  {
   "attachments": {},
   "cell_type": "markdown",
   "metadata": {},
   "source": [
    "# DILAKUKAN SETELAH PRE PROCESSING DAN SEBELUM TUNING"
   ]
  },
  {
   "cell_type": "code",
   "execution_count": 93,
   "metadata": {},
   "outputs": [],
   "source": [
    "# Library\n",
    "\n",
    "#Standard\n",
    "import pandas as pd\n",
    "import numpy as np\n",
    "import matplotlib.pyplot as plt\n",
    "import seaborn as sns\n",
    "import warnings\n",
    "from scipy import stats\n",
    "\n",
    "#Data Pre-Processing\n",
    "import statsmodels.api as sm\n",
    "import category_encoders as ce\n",
    "from sklearn.compose import ColumnTransformer\n",
    "from sklearn.impute import SimpleImputer\n",
    "from sklearn.preprocessing import OneHotEncoder, MinMaxScaler, RobustScaler, StandardScaler\n",
    "\n",
    "#Data Modeling\n",
    "from sklearn.model_selection import train_test_split, StratifiedKFold, cross_val_score\n",
    "from sklearn.tree import DecisionTreeClassifier\n",
    "from sklearn.neighbors import KNeighborsClassifier\n",
    "from sklearn.linear_model import LogisticRegression\n",
    "from sklearn.svm import SVC\n",
    "\n",
    "#Data Output\n",
    "from sklearn.metrics import accuracy_score,recall_score, confusion_matrix,f1_score\n",
    "from sklearn.pipeline import Pipeline #menggabungkan proces\n",
    "\n",
    "warnings.filterwarnings('ignore')"
   ]
  },
  {
   "cell_type": "code",
   "execution_count": 94,
   "metadata": {},
   "outputs": [
    {
     "data": {
      "text/html": [
       "<div>\n",
       "<style scoped>\n",
       "    .dataframe tbody tr th:only-of-type {\n",
       "        vertical-align: middle;\n",
       "    }\n",
       "\n",
       "    .dataframe tbody tr th {\n",
       "        vertical-align: top;\n",
       "    }\n",
       "\n",
       "    .dataframe thead th {\n",
       "        text-align: right;\n",
       "    }\n",
       "</style>\n",
       "<table border=\"1\" class=\"dataframe\">\n",
       "  <thead>\n",
       "    <tr style=\"text-align: right;\">\n",
       "      <th></th>\n",
       "      <th>age</th>\n",
       "      <th>ed</th>\n",
       "      <th>employ</th>\n",
       "      <th>address</th>\n",
       "      <th>income</th>\n",
       "      <th>debtinc</th>\n",
       "      <th>creddebt</th>\n",
       "      <th>othdebt</th>\n",
       "      <th>default</th>\n",
       "    </tr>\n",
       "  </thead>\n",
       "  <tbody>\n",
       "    <tr>\n",
       "      <th>0</th>\n",
       "      <td>41</td>\n",
       "      <td>3</td>\n",
       "      <td>17</td>\n",
       "      <td>12</td>\n",
       "      <td>176</td>\n",
       "      <td>9.3</td>\n",
       "      <td>11.359392</td>\n",
       "      <td>5.008608</td>\n",
       "      <td>1</td>\n",
       "    </tr>\n",
       "    <tr>\n",
       "      <th>1</th>\n",
       "      <td>27</td>\n",
       "      <td>1</td>\n",
       "      <td>10</td>\n",
       "      <td>6</td>\n",
       "      <td>31</td>\n",
       "      <td>17.3</td>\n",
       "      <td>1.362202</td>\n",
       "      <td>4.000798</td>\n",
       "      <td>0</td>\n",
       "    </tr>\n",
       "    <tr>\n",
       "      <th>2</th>\n",
       "      <td>40</td>\n",
       "      <td>1</td>\n",
       "      <td>15</td>\n",
       "      <td>14</td>\n",
       "      <td>55</td>\n",
       "      <td>5.5</td>\n",
       "      <td>0.856075</td>\n",
       "      <td>2.168925</td>\n",
       "      <td>0</td>\n",
       "    </tr>\n",
       "    <tr>\n",
       "      <th>3</th>\n",
       "      <td>41</td>\n",
       "      <td>1</td>\n",
       "      <td>15</td>\n",
       "      <td>14</td>\n",
       "      <td>120</td>\n",
       "      <td>2.9</td>\n",
       "      <td>2.658720</td>\n",
       "      <td>0.821280</td>\n",
       "      <td>0</td>\n",
       "    </tr>\n",
       "    <tr>\n",
       "      <th>4</th>\n",
       "      <td>24</td>\n",
       "      <td>2</td>\n",
       "      <td>2</td>\n",
       "      <td>0</td>\n",
       "      <td>28</td>\n",
       "      <td>17.3</td>\n",
       "      <td>1.787436</td>\n",
       "      <td>3.056564</td>\n",
       "      <td>1</td>\n",
       "    </tr>\n",
       "  </tbody>\n",
       "</table>\n",
       "</div>"
      ],
      "text/plain": [
       "   age  ed  employ  address  income  debtinc   creddebt   othdebt  default\n",
       "0   41   3      17       12     176      9.3  11.359392  5.008608        1\n",
       "1   27   1      10        6      31     17.3   1.362202  4.000798        0\n",
       "2   40   1      15       14      55      5.5   0.856075  2.168925        0\n",
       "3   41   1      15       14     120      2.9   2.658720  0.821280        0\n",
       "4   24   2       2        0      28     17.3   1.787436  3.056564        1"
      ]
     },
     "execution_count": 94,
     "metadata": {},
     "output_type": "execute_result"
    }
   ],
   "source": [
    "data = pd.read_csv('bankloan.csv')\n",
    "data.head()"
   ]
  },
  {
   "cell_type": "code",
   "execution_count": 95,
   "metadata": {},
   "outputs": [],
   "source": [
    "# Split X and Y\n",
    "x = data[['age','employ','income','debtinc','creddebt','othdebt',]]\n",
    "y = data['default']\n",
    "\n",
    "xtrain, xtest, ytrain, ytest = train_test_split(\n",
    "    x,\n",
    "    y,\n",
    "    stratify=y,\n",
    "    random_state=100,\n",
    "    test_size=0.2\n",
    ")"
   ]
  },
  {
   "cell_type": "code",
   "execution_count": 96,
   "metadata": {},
   "outputs": [],
   "source": [
    "# Model Benchmarking\n",
    "tree = DecisionTreeClassifier()\n",
    "knn = KNeighborsClassifier()\n",
    "logreg = LogisticRegression()"
   ]
  },
  {
   "cell_type": "code",
   "execution_count": 97,
   "metadata": {},
   "outputs": [],
   "source": [
    "# Create Manual Cross Validation\n",
    "\n",
    "skfold = StratifiedKFold(n_splits=5)\n",
    "\n",
    "logreg_cv = cross_val_score(logreg,xtrain,ytrain, cv=skfold)\n",
    "tree_cv = cross_val_score(tree,xtrain,ytrain, cv=skfold)\n",
    "knn_cv = cross_val_score(knn,xtrain,ytrain, cv=skfold)"
   ]
  },
  {
   "cell_type": "code",
   "execution_count": 98,
   "metadata": {},
   "outputs": [
    {
     "name": "stdout",
     "output_type": "stream",
     "text": [
      "LogisticRegression CV :  [0.82142857 0.76785714 0.84821429 0.79464286 0.78571429]\n",
      "DecisionTreeClassifier :  [0.72321429 0.75892857 0.8125     0.72321429 0.76785714]\n",
      "KNeighborsClassifier CV :  [0.75892857 0.74107143 0.74107143 0.69642857 0.8125    ]\n"
     ]
    }
   ],
   "source": [
    "print('LogisticRegression CV : ',logreg_cv)\n",
    "print('DecisionTreeClassifier : ',knn_cv)\n",
    "print('KNeighborsClassifier CV : ',tree_cv)"
   ]
  },
  {
   "attachments": {},
   "cell_type": "markdown",
   "metadata": {},
   "source": [
    "muncul 5 akurasi sesuai dengan k yang disebutkan, setelah didapatkan hasil ini untuk menentukan yang paling bagus ambil mean-nya!"
   ]
  },
  {
   "cell_type": "code",
   "execution_count": 99,
   "metadata": {},
   "outputs": [
    {
     "name": "stdout",
     "output_type": "stream",
     "text": [
      "LogisticRegression CV :  0.8035714285714286\n",
      "DecisionTreeClassifier :  0.7571428571428571\n",
      "KNeighborsClassifier CV :  0.75\n"
     ]
    }
   ],
   "source": [
    "print('LogisticRegression CV : ',logreg_cv.mean())\n",
    "print('DecisionTreeClassifier : ',knn_cv.mean())\n",
    "print('KNeighborsClassifier CV : ',tree_cv.mean())"
   ]
  },
  {
   "attachments": {},
   "cell_type": "markdown",
   "metadata": {},
   "source": [
    "kalau tipis-tipis aja bisa gunakan standar deviasi, makin kecil makin bagus"
   ]
  },
  {
   "cell_type": "code",
   "execution_count": 100,
   "metadata": {},
   "outputs": [
    {
     "name": "stdout",
     "output_type": "stream",
     "text": [
      "LogisticRegression CV :  0.028234621965789086\n",
      "DecisionTreeClassifier :  0.03312006605534181\n",
      "KNeighborsClassifier CV :  0.0374574588632197\n"
     ]
    }
   ],
   "source": [
    "print('LogisticRegression CV : ',logreg_cv.std())\n",
    "print('DecisionTreeClassifier : ',knn_cv.std())\n",
    "print('KNeighborsClassifier CV : ',tree_cv.std())"
   ]
  },
  {
   "attachments": {},
   "cell_type": "markdown",
   "metadata": {},
   "source": [
    "bisa dibuat looping"
   ]
  },
  {
   "cell_type": "code",
   "execution_count": 104,
   "metadata": {},
   "outputs": [],
   "source": [
    "tree = DecisionTreeClassifier(max_depth=10, criterion='entropy')\n",
    "knn = KNeighborsClassifier(n_neighbors=10)\n",
    "logreg = LogisticRegression()\n",
    "svm = SVC(kernel='rbf')\n",
    "\n",
    "skfold = StratifiedKFold(n_splits=5)\n",
    "\n",
    "model = [tree, knn, logreg, svm]\n",
    "score = []\n",
    "recall = []\n",
    "std = []\n",
    "\n",
    "for i in model:\n",
    "    model_cv = cross_val_score(i,xtrain,ytrain,cv=skfold, scoring='recall') #\n",
    "    score.append(model_cv)\n",
    "    recall.append(model_cv.mean())\n",
    "    std.append(model_cv.std())\n",
    "\n",
    "result = pd.DataFrame({\n",
    "    'Model' : ['DecisionTreeClassifier','KNeighborsClassifier','LogisticRegression','SVM'],\n",
    "    'Mean Recall' : recall, #Recall ->  nilai akurasi fokus pada FN\n",
    "    'Standard Deviation' : std\n",
    "}).sort_values('Mean Recall',ascending=False)"
   ]
  },
  {
   "cell_type": "code",
   "execution_count": 105,
   "metadata": {},
   "outputs": [
    {
     "data": {
      "text/html": [
       "<div>\n",
       "<style scoped>\n",
       "    .dataframe tbody tr th:only-of-type {\n",
       "        vertical-align: middle;\n",
       "    }\n",
       "\n",
       "    .dataframe tbody tr th {\n",
       "        vertical-align: top;\n",
       "    }\n",
       "\n",
       "    .dataframe thead th {\n",
       "        text-align: right;\n",
       "    }\n",
       "</style>\n",
       "<table border=\"1\" class=\"dataframe\">\n",
       "  <thead>\n",
       "    <tr style=\"text-align: right;\">\n",
       "      <th></th>\n",
       "      <th>Model</th>\n",
       "      <th>Mean Recall</th>\n",
       "      <th>Standard Deviation</th>\n",
       "    </tr>\n",
       "  </thead>\n",
       "  <tbody>\n",
       "    <tr>\n",
       "      <th>2</th>\n",
       "      <td>LogisticRegression</td>\n",
       "      <td>0.459080</td>\n",
       "      <td>0.036807</td>\n",
       "    </tr>\n",
       "    <tr>\n",
       "      <th>0</th>\n",
       "      <td>DecisionTreeClassifier</td>\n",
       "      <td>0.437241</td>\n",
       "      <td>0.114208</td>\n",
       "    </tr>\n",
       "    <tr>\n",
       "      <th>1</th>\n",
       "      <td>KNeighborsClassifier</td>\n",
       "      <td>0.294253</td>\n",
       "      <td>0.069576</td>\n",
       "    </tr>\n",
       "    <tr>\n",
       "      <th>3</th>\n",
       "      <td>SVM</td>\n",
       "      <td>0.178391</td>\n",
       "      <td>0.067456</td>\n",
       "    </tr>\n",
       "  </tbody>\n",
       "</table>\n",
       "</div>"
      ],
      "text/plain": [
       "                    Model  Mean Recall  Standard Deviation\n",
       "2      LogisticRegression     0.459080            0.036807\n",
       "0  DecisionTreeClassifier     0.437241            0.114208\n",
       "1    KNeighborsClassifier     0.294253            0.069576\n",
       "3                     SVM     0.178391            0.067456"
      ]
     },
     "execution_count": 105,
     "metadata": {},
     "output_type": "execute_result"
    }
   ],
   "source": [
    "result"
   ]
  }
 ],
 "metadata": {
  "kernelspec": {
   "display_name": "Python 3",
   "language": "python",
   "name": "python3"
  },
  "language_info": {
   "codemirror_mode": {
    "name": "ipython",
    "version": 3
   },
   "file_extension": ".py",
   "mimetype": "text/x-python",
   "name": "python",
   "nbconvert_exporter": "python",
   "pygments_lexer": "ipython3",
   "version": "3.9.1"
  },
  "orig_nbformat": 4
 },
 "nbformat": 4,
 "nbformat_minor": 2
}
