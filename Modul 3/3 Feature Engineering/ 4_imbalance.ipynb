{
 "cells": [
  {
   "cell_type": "code",
   "execution_count": 90,
   "metadata": {},
   "outputs": [],
   "source": [
    "import numpy as np \n",
    "import pandas as pd \n",
    "import seaborn as sns \n",
    "import matplotlib.pyplot as plt\n",
    "\n",
    "# train test split\n",
    "from sklearn.model_selection import train_test_split\n",
    "\n",
    "# impute missing values\n",
    "from sklearn.impute import SimpleImputer # mean, median, most_frequent (mode), constant\n",
    "from sklearn.experimental import enable_iterative_imputer\n",
    "from sklearn.impute import IterativeImputer # regresi\n",
    "from sklearn.impute import KNNImputer # regresi KKN\n",
    "\n",
    "# encoding\n",
    "from sklearn.preprocessing import OneHotEncoder\n",
    "from category_encoders import OrdinalEncoder, BinaryEncoder\n",
    "\n",
    "# scaling\n",
    "from sklearn.preprocessing import MinMaxScaler, StandardScaler, RobustScaler \n",
    "\n",
    "# column transformer & pipeline\n",
    "from sklearn.compose import ColumnTransformer\n",
    "from sklearn.pipeline import Pipeline\n",
    "\n",
    "# cross validation\n",
    "from sklearn.model_selection import cross_val_score\n",
    "\n",
    "# algorithm\n",
    "from sklearn.linear_model import LogisticRegression\n",
    "from sklearn.neighbors import KNeighborsClassifier\n",
    "from sklearn.tree import DecisionTreeClassifier\n",
    "\n",
    "# metric\n",
    "from sklearn.metrics import accuracy_score, precision_score, recall_score, f1_score \n",
    "\n",
    "# hyperparameter tuning\n",
    "from sklearn.model_selection import GridSearchCV, RandomizedSearchCV\n",
    "\n",
    "# algorithm\n",
    "from sklearn.linear_model import LogisticRegression\n",
    "from sklearn.neighbors import KNeighborsClassifier\n",
    "from sklearn.tree import DecisionTreeClassifier\n",
    "\n",
    "# metric\n",
    "from sklearn.metrics import accuracy_score, precision_score, recall_score, f1_score \n",
    "\n",
    "# hyperparameter tuning\n",
    "from sklearn.model_selection import GridSearchCV, RandomizedSearchCV"
   ]
  },
  {
   "cell_type": "code",
   "execution_count": 91,
   "metadata": {},
   "outputs": [
    {
     "data": {
      "text/html": [
       "<div>\n",
       "<style scoped>\n",
       "    .dataframe tbody tr th:only-of-type {\n",
       "        vertical-align: middle;\n",
       "    }\n",
       "\n",
       "    .dataframe tbody tr th {\n",
       "        vertical-align: top;\n",
       "    }\n",
       "\n",
       "    .dataframe thead th {\n",
       "        text-align: right;\n",
       "    }\n",
       "</style>\n",
       "<table border=\"1\" class=\"dataframe\">\n",
       "  <thead>\n",
       "    <tr style=\"text-align: right;\">\n",
       "      <th></th>\n",
       "      <th>employ</th>\n",
       "      <th>debtinc</th>\n",
       "      <th>creddebt</th>\n",
       "      <th>othdebt</th>\n",
       "      <th>default</th>\n",
       "    </tr>\n",
       "  </thead>\n",
       "  <tbody>\n",
       "    <tr>\n",
       "      <th>0</th>\n",
       "      <td>17</td>\n",
       "      <td>9.3</td>\n",
       "      <td>11.359392</td>\n",
       "      <td>5.008608</td>\n",
       "      <td>1</td>\n",
       "    </tr>\n",
       "    <tr>\n",
       "      <th>1</th>\n",
       "      <td>10</td>\n",
       "      <td>17.3</td>\n",
       "      <td>1.362202</td>\n",
       "      <td>4.000798</td>\n",
       "      <td>0</td>\n",
       "    </tr>\n",
       "    <tr>\n",
       "      <th>2</th>\n",
       "      <td>15</td>\n",
       "      <td>5.5</td>\n",
       "      <td>0.856075</td>\n",
       "      <td>2.168925</td>\n",
       "      <td>0</td>\n",
       "    </tr>\n",
       "    <tr>\n",
       "      <th>3</th>\n",
       "      <td>15</td>\n",
       "      <td>2.9</td>\n",
       "      <td>2.658720</td>\n",
       "      <td>0.821280</td>\n",
       "      <td>0</td>\n",
       "    </tr>\n",
       "    <tr>\n",
       "      <th>4</th>\n",
       "      <td>2</td>\n",
       "      <td>17.3</td>\n",
       "      <td>1.787436</td>\n",
       "      <td>3.056564</td>\n",
       "      <td>1</td>\n",
       "    </tr>\n",
       "  </tbody>\n",
       "</table>\n",
       "</div>"
      ],
      "text/plain": [
       "   employ  debtinc   creddebt   othdebt  default\n",
       "0      17      9.3  11.359392  5.008608        1\n",
       "1      10     17.3   1.362202  4.000798        0\n",
       "2      15      5.5   0.856075  2.168925        0\n",
       "3      15      2.9   2.658720  0.821280        0\n",
       "4       2     17.3   1.787436  3.056564        1"
      ]
     },
     "execution_count": 91,
     "metadata": {},
     "output_type": "execute_result"
    }
   ],
   "source": [
    "# load dataset\n",
    "df = pd.read_csv('bankloan.csv')[['employ', 'debtinc','creddebt','othdebt', 'default']]\n",
    "df.head()"
   ]
  },
  {
   "attachments": {},
   "cell_type": "markdown",
   "metadata": {},
   "source": [
    "## Tentukan FP / FN yang merupakan kelas yang lebih parah, buat dikasih pinjeman 0 bisa bayar, 1 gagal bayar\n",
    "- FP : ML memprediksi calon nasabah akan default, padahal aktualnya lunas. -> Kita gak kasih pinjaman padahal bisa bayar. -> Padahal ini untuk keuntungan.\n",
    "- FN : ML memprekdisi calon nasabah akan lunas, padahal aktualmnya dia default. -> Kita pinjemin padagal gagal bayar.\n",
    "\n",
    "Ketika sama-sama bahaya, pakai saja F-1 score."
   ]
  },
  {
   "cell_type": "code",
   "execution_count": 92,
   "metadata": {},
   "outputs": [
    {
     "data": {
      "text/plain": [
       "employ      0\n",
       "debtinc     0\n",
       "creddebt    0\n",
       "othdebt     0\n",
       "default     0\n",
       "dtype: int64"
      ]
     },
     "execution_count": 92,
     "metadata": {},
     "output_type": "execute_result"
    }
   ],
   "source": [
    "df.isna().sum()"
   ]
  },
  {
   "cell_type": "code",
   "execution_count": 93,
   "metadata": {},
   "outputs": [
    {
     "data": {
      "text/plain": [
       "0"
      ]
     },
     "execution_count": 93,
     "metadata": {},
     "output_type": "execute_result"
    }
   ],
   "source": [
    "df.duplicated().sum()"
   ]
  },
  {
   "attachments": {},
   "cell_type": "markdown",
   "metadata": {},
   "source": [
    "## Define Feature"
   ]
  },
  {
   "cell_type": "code",
   "execution_count": 94,
   "metadata": {},
   "outputs": [],
   "source": [
    "x = df.drop(columns='default')\n",
    "y = df['default']"
   ]
  },
  {
   "cell_type": "code",
   "execution_count": 95,
   "metadata": {},
   "outputs": [],
   "source": [
    "# Data splitting\n",
    "xtrain, xtest, ytrain, ytest = train_test_split(\n",
    "                x,\n",
    "                y,\n",
    "                test_size=0.2,\n",
    "                stratify=y,\n",
    "                random_state=0\n",
    "                )"
   ]
  },
  {
   "attachments": {},
   "cell_type": "markdown",
   "metadata": {},
   "source": [
    "## Pre Processing"
   ]
  },
  {
   "cell_type": "code",
   "execution_count": 96,
   "metadata": {},
   "outputs": [],
   "source": [
    "scaler = RobustScaler()"
   ]
  },
  {
   "cell_type": "code",
   "execution_count": 97,
   "metadata": {},
   "outputs": [
    {
     "data": {
      "text/html": [
       "<style>#sk-container-id-5 {color: black;background-color: white;}#sk-container-id-5 pre{padding: 0;}#sk-container-id-5 div.sk-toggleable {background-color: white;}#sk-container-id-5 label.sk-toggleable__label {cursor: pointer;display: block;width: 100%;margin-bottom: 0;padding: 0.3em;box-sizing: border-box;text-align: center;}#sk-container-id-5 label.sk-toggleable__label-arrow:before {content: \"▸\";float: left;margin-right: 0.25em;color: #696969;}#sk-container-id-5 label.sk-toggleable__label-arrow:hover:before {color: black;}#sk-container-id-5 div.sk-estimator:hover label.sk-toggleable__label-arrow:before {color: black;}#sk-container-id-5 div.sk-toggleable__content {max-height: 0;max-width: 0;overflow: hidden;text-align: left;background-color: #f0f8ff;}#sk-container-id-5 div.sk-toggleable__content pre {margin: 0.2em;color: black;border-radius: 0.25em;background-color: #f0f8ff;}#sk-container-id-5 input.sk-toggleable__control:checked~div.sk-toggleable__content {max-height: 200px;max-width: 100%;overflow: auto;}#sk-container-id-5 input.sk-toggleable__control:checked~label.sk-toggleable__label-arrow:before {content: \"▾\";}#sk-container-id-5 div.sk-estimator input.sk-toggleable__control:checked~label.sk-toggleable__label {background-color: #d4ebff;}#sk-container-id-5 div.sk-label input.sk-toggleable__control:checked~label.sk-toggleable__label {background-color: #d4ebff;}#sk-container-id-5 input.sk-hidden--visually {border: 0;clip: rect(1px 1px 1px 1px);clip: rect(1px, 1px, 1px, 1px);height: 1px;margin: -1px;overflow: hidden;padding: 0;position: absolute;width: 1px;}#sk-container-id-5 div.sk-estimator {font-family: monospace;background-color: #f0f8ff;border: 1px dotted black;border-radius: 0.25em;box-sizing: border-box;margin-bottom: 0.5em;}#sk-container-id-5 div.sk-estimator:hover {background-color: #d4ebff;}#sk-container-id-5 div.sk-parallel-item::after {content: \"\";width: 100%;border-bottom: 1px solid gray;flex-grow: 1;}#sk-container-id-5 div.sk-label:hover label.sk-toggleable__label {background-color: #d4ebff;}#sk-container-id-5 div.sk-serial::before {content: \"\";position: absolute;border-left: 1px solid gray;box-sizing: border-box;top: 0;bottom: 0;left: 50%;z-index: 0;}#sk-container-id-5 div.sk-serial {display: flex;flex-direction: column;align-items: center;background-color: white;padding-right: 0.2em;padding-left: 0.2em;position: relative;}#sk-container-id-5 div.sk-item {position: relative;z-index: 1;}#sk-container-id-5 div.sk-parallel {display: flex;align-items: stretch;justify-content: center;background-color: white;position: relative;}#sk-container-id-5 div.sk-item::before, #sk-container-id-5 div.sk-parallel-item::before {content: \"\";position: absolute;border-left: 1px solid gray;box-sizing: border-box;top: 0;bottom: 0;left: 50%;z-index: -1;}#sk-container-id-5 div.sk-parallel-item {display: flex;flex-direction: column;z-index: 1;position: relative;background-color: white;}#sk-container-id-5 div.sk-parallel-item:first-child::after {align-self: flex-end;width: 50%;}#sk-container-id-5 div.sk-parallel-item:last-child::after {align-self: flex-start;width: 50%;}#sk-container-id-5 div.sk-parallel-item:only-child::after {width: 0;}#sk-container-id-5 div.sk-dashed-wrapped {border: 1px dashed gray;margin: 0 0.4em 0.5em 0.4em;box-sizing: border-box;padding-bottom: 0.4em;background-color: white;}#sk-container-id-5 div.sk-label label {font-family: monospace;font-weight: bold;display: inline-block;line-height: 1.2em;}#sk-container-id-5 div.sk-label-container {text-align: center;}#sk-container-id-5 div.sk-container {/* jupyter's `normalize.less` sets `[hidden] { display: none; }` but bootstrap.min.css set `[hidden] { display: none !important; }` so we also need the `!important` here to be able to override the default hidden behavior on the sphinx rendered scikit-learn.org. See: https://github.com/scikit-learn/scikit-learn/issues/21755 */display: inline-block !important;position: relative;}#sk-container-id-5 div.sk-text-repr-fallback {display: none;}</style><div id=\"sk-container-id-5\" class=\"sk-top-container\"><div class=\"sk-text-repr-fallback\"><pre>ColumnTransformer(transformers=[(&#x27;scaling&#x27;, RobustScaler(),\n",
       "                                 [&#x27;employ&#x27;, &#x27;debtinc&#x27;, &#x27;creddebt&#x27;, &#x27;othdebt&#x27;])])</pre><b>In a Jupyter environment, please rerun this cell to show the HTML representation or trust the notebook. <br />On GitHub, the HTML representation is unable to render, please try loading this page with nbviewer.org.</b></div><div class=\"sk-container\" hidden><div class=\"sk-item sk-dashed-wrapped\"><div class=\"sk-label-container\"><div class=\"sk-label sk-toggleable\"><input class=\"sk-toggleable__control sk-hidden--visually\" id=\"sk-estimator-id-15\" type=\"checkbox\" ><label for=\"sk-estimator-id-15\" class=\"sk-toggleable__label sk-toggleable__label-arrow\">ColumnTransformer</label><div class=\"sk-toggleable__content\"><pre>ColumnTransformer(transformers=[(&#x27;scaling&#x27;, RobustScaler(),\n",
       "                                 [&#x27;employ&#x27;, &#x27;debtinc&#x27;, &#x27;creddebt&#x27;, &#x27;othdebt&#x27;])])</pre></div></div></div><div class=\"sk-parallel\"><div class=\"sk-parallel-item\"><div class=\"sk-item\"><div class=\"sk-label-container\"><div class=\"sk-label sk-toggleable\"><input class=\"sk-toggleable__control sk-hidden--visually\" id=\"sk-estimator-id-16\" type=\"checkbox\" ><label for=\"sk-estimator-id-16\" class=\"sk-toggleable__label sk-toggleable__label-arrow\">scaling</label><div class=\"sk-toggleable__content\"><pre>[&#x27;employ&#x27;, &#x27;debtinc&#x27;, &#x27;creddebt&#x27;, &#x27;othdebt&#x27;]</pre></div></div></div><div class=\"sk-serial\"><div class=\"sk-item\"><div class=\"sk-estimator sk-toggleable\"><input class=\"sk-toggleable__control sk-hidden--visually\" id=\"sk-estimator-id-17\" type=\"checkbox\" ><label for=\"sk-estimator-id-17\" class=\"sk-toggleable__label sk-toggleable__label-arrow\">RobustScaler</label><div class=\"sk-toggleable__content\"><pre>RobustScaler()</pre></div></div></div></div></div></div></div></div></div></div>"
      ],
      "text/plain": [
       "ColumnTransformer(transformers=[('scaling', RobustScaler(),\n",
       "                                 ['employ', 'debtinc', 'creddebt', 'othdebt'])])"
      ]
     },
     "execution_count": 97,
     "metadata": {},
     "output_type": "execute_result"
    }
   ],
   "source": [
    "transformer = ColumnTransformer([\n",
    "    ('scaling', RobustScaler(), ['employ', 'debtinc', 'creddebt', 'othdebt'])\n",
    "])\n",
    "transformer"
   ]
  },
  {
   "attachments": {},
   "cell_type": "markdown",
   "metadata": {},
   "source": [
    "## Handling 4 skenario untuk Imblance Treatment\n",
    "\n",
    "1. No Treatment\n",
    "2. Optimized Threshold\n",
    "3. Resampling (Oversampling or Undersampling)\n",
    "4. Penalized model"
   ]
  },
  {
   "attachments": {},
   "cell_type": "markdown",
   "metadata": {},
   "source": [
    "### No Treament"
   ]
  },
  {
   "attachments": {},
   "cell_type": "markdown",
   "metadata": {},
   "source": [
    "Benchmark Model:"
   ]
  },
  {
   "cell_type": "code",
   "execution_count": 98,
   "metadata": {},
   "outputs": [
    {
     "data": {
      "text/plain": [
       "0.6101694915254238"
      ]
     },
     "execution_count": 98,
     "metadata": {},
     "output_type": "execute_result"
    }
   ],
   "source": [
    "model = LogisticRegression(random_state=0)\n",
    "\n",
    "pipe_model = Pipeline([\n",
    "    ('preprocessing',transformer),\n",
    "    ('modeling', model)\n",
    "])\n",
    "\n",
    "# Fit\n",
    "pipe_model.fit(xtrain,ytrain)\n",
    "\n",
    "#cross validation di skip\n",
    "\n",
    "# predict\n",
    "ypred_benchmark = pipe_model.predict(xtest)\n",
    "\n",
    "# f1 score\n",
    "f1_score(ytest, ypred_benchmark)"
   ]
  },
  {
   "cell_type": "code",
   "execution_count": 99,
   "metadata": {},
   "outputs": [
    {
     "data": {
      "text/plain": [
       "array([[0.5136731 , 0.4863269 ],\n",
       "       [0.9879077 , 0.0120923 ],\n",
       "       [0.95640033, 0.04359967],\n",
       "       [0.83711282, 0.16288718],\n",
       "       [0.97443242, 0.02556758],\n",
       "       [0.86153037, 0.13846963],\n",
       "       [0.93893686, 0.06106314],\n",
       "       [0.97982765, 0.02017235],\n",
       "       [0.97236611, 0.02763389],\n",
       "       [0.95201433, 0.04798567],\n",
       "       [0.93701082, 0.06298918],\n",
       "       [0.22813487, 0.77186513],\n",
       "       [0.68813742, 0.31186258],\n",
       "       [0.79380327, 0.20619673],\n",
       "       [0.37989445, 0.62010555],\n",
       "       [0.69102679, 0.30897321],\n",
       "       [0.65257812, 0.34742188],\n",
       "       [0.71419602, 0.28580398],\n",
       "       [0.43399589, 0.56600411],\n",
       "       [0.93871143, 0.06128857],\n",
       "       [0.99058339, 0.00941661],\n",
       "       [0.19002858, 0.80997142],\n",
       "       [0.24458056, 0.75541944],\n",
       "       [0.75969159, 0.24030841],\n",
       "       [0.57086808, 0.42913192],\n",
       "       [0.73365392, 0.26634608],\n",
       "       [0.73152543, 0.26847457],\n",
       "       [0.35709099, 0.64290901],\n",
       "       [0.99658213, 0.00341787],\n",
       "       [0.51795285, 0.48204715],\n",
       "       [0.70549086, 0.29450914],\n",
       "       [0.96674505, 0.03325495],\n",
       "       [0.98237462, 0.01762538],\n",
       "       [0.86575433, 0.13424567],\n",
       "       [0.43133239, 0.56866761],\n",
       "       [0.77150553, 0.22849447],\n",
       "       [0.96787712, 0.03212288],\n",
       "       [0.92624969, 0.07375031],\n",
       "       [0.87845599, 0.12154401],\n",
       "       [0.8012973 , 0.1987027 ],\n",
       "       [0.32633389, 0.67366611],\n",
       "       [0.7185489 , 0.2814511 ],\n",
       "       [0.72435845, 0.27564155],\n",
       "       [0.95976239, 0.04023761],\n",
       "       [0.80246774, 0.19753226],\n",
       "       [0.81086137, 0.18913863],\n",
       "       [0.87663514, 0.12336486],\n",
       "       [0.97748398, 0.02251602],\n",
       "       [0.42339847, 0.57660153],\n",
       "       [0.99085762, 0.00914238],\n",
       "       [0.76871963, 0.23128037],\n",
       "       [0.47591175, 0.52408825],\n",
       "       [0.86847689, 0.13152311],\n",
       "       [0.79958796, 0.20041204],\n",
       "       [0.98923365, 0.01076635],\n",
       "       [0.73767719, 0.26232281],\n",
       "       [0.79701802, 0.20298198],\n",
       "       [0.65520142, 0.34479858],\n",
       "       [0.81273257, 0.18726743],\n",
       "       [0.47994455, 0.52005545],\n",
       "       [0.63184778, 0.36815222],\n",
       "       [0.96473937, 0.03526063],\n",
       "       [0.81136616, 0.18863384],\n",
       "       [0.99580714, 0.00419286],\n",
       "       [0.76710385, 0.23289615],\n",
       "       [0.90324379, 0.09675621],\n",
       "       [0.38191852, 0.61808148],\n",
       "       [0.85208646, 0.14791354],\n",
       "       [0.86784063, 0.13215937],\n",
       "       [0.81812315, 0.18187685],\n",
       "       [0.7615582 , 0.2384418 ],\n",
       "       [0.7638317 , 0.2361683 ],\n",
       "       [0.94712814, 0.05287186],\n",
       "       [0.75049024, 0.24950976],\n",
       "       [0.77138149, 0.22861851],\n",
       "       [0.55246717, 0.44753283],\n",
       "       [0.81518599, 0.18481401],\n",
       "       [0.91691257, 0.08308743],\n",
       "       [0.91637597, 0.08362403],\n",
       "       [0.94182066, 0.05817934],\n",
       "       [0.77855937, 0.22144063],\n",
       "       [0.9521439 , 0.0478561 ],\n",
       "       [0.21631705, 0.78368295],\n",
       "       [0.61865982, 0.38134018],\n",
       "       [0.98627746, 0.01372254],\n",
       "       [0.37983199, 0.62016801],\n",
       "       [0.09706755, 0.90293245],\n",
       "       [0.70431172, 0.29568828],\n",
       "       [0.9841991 , 0.0158009 ],\n",
       "       [0.38623446, 0.61376554],\n",
       "       [0.82573546, 0.17426454],\n",
       "       [0.55813008, 0.44186992],\n",
       "       [0.80959706, 0.19040294],\n",
       "       [0.87748197, 0.12251803],\n",
       "       [0.99085429, 0.00914571],\n",
       "       [0.98983879, 0.01016121],\n",
       "       [0.92531377, 0.07468623],\n",
       "       [0.51525012, 0.48474988],\n",
       "       [0.68322881, 0.31677119],\n",
       "       [0.60799304, 0.39200696],\n",
       "       [0.74517922, 0.25482078],\n",
       "       [0.51463351, 0.48536649],\n",
       "       [0.18759883, 0.81240117],\n",
       "       [0.78546062, 0.21453938],\n",
       "       [0.04636624, 0.95363376],\n",
       "       [0.46178589, 0.53821411],\n",
       "       [0.96297892, 0.03702108],\n",
       "       [0.94741128, 0.05258872],\n",
       "       [0.56190536, 0.43809464],\n",
       "       [0.33139467, 0.66860533],\n",
       "       [0.66819388, 0.33180612],\n",
       "       [0.85290453, 0.14709547],\n",
       "       [0.89258428, 0.10741572],\n",
       "       [0.53426415, 0.46573585],\n",
       "       [0.97630349, 0.02369651],\n",
       "       [0.64240243, 0.35759757],\n",
       "       [0.98282385, 0.01717615],\n",
       "       [0.71010166, 0.28989834],\n",
       "       [0.57225344, 0.42774656],\n",
       "       [0.78879176, 0.21120824],\n",
       "       [0.74224959, 0.25775041],\n",
       "       [0.70611345, 0.29388655],\n",
       "       [0.33158233, 0.66841767],\n",
       "       [0.70777869, 0.29222131],\n",
       "       [0.82614073, 0.17385927],\n",
       "       [0.95605145, 0.04394855],\n",
       "       [0.98550072, 0.01449928],\n",
       "       [0.85903046, 0.14096954],\n",
       "       [0.14534092, 0.85465908],\n",
       "       [0.79169836, 0.20830164],\n",
       "       [0.59796168, 0.40203832],\n",
       "       [0.60463186, 0.39536814],\n",
       "       [0.80860965, 0.19139035],\n",
       "       [0.85828193, 0.14171807],\n",
       "       [0.98072157, 0.01927843],\n",
       "       [0.66652846, 0.33347154],\n",
       "       [0.97140505, 0.02859495],\n",
       "       [0.95943376, 0.04056624],\n",
       "       [0.99511168, 0.00488832],\n",
       "       [0.85341009, 0.14658991]])"
      ]
     },
     "execution_count": 99,
     "metadata": {},
     "output_type": "execute_result"
    }
   ],
   "source": [
    "pipe_model.predict_proba(xtest)"
   ]
  },
  {
   "cell_type": "code",
   "execution_count": 100,
   "metadata": {},
   "outputs": [],
   "source": [
    "from sklearn.metrics import confusion_matrix"
   ]
  },
  {
   "cell_type": "code",
   "execution_count": 101,
   "metadata": {},
   "outputs": [
    {
     "data": {
      "text/html": [
       "<div>\n",
       "<style scoped>\n",
       "    .dataframe tbody tr th:only-of-type {\n",
       "        vertical-align: middle;\n",
       "    }\n",
       "\n",
       "    .dataframe tbody tr th {\n",
       "        vertical-align: top;\n",
       "    }\n",
       "\n",
       "    .dataframe thead th {\n",
       "        text-align: right;\n",
       "    }\n",
       "</style>\n",
       "<table border=\"1\" class=\"dataframe\">\n",
       "  <thead>\n",
       "    <tr style=\"text-align: right;\">\n",
       "      <th></th>\n",
       "      <th>Predicted Negative</th>\n",
       "      <th>Predicted Positive</th>\n",
       "    </tr>\n",
       "  </thead>\n",
       "  <tbody>\n",
       "    <tr>\n",
       "      <th>Actual Negative</th>\n",
       "      <td>99</td>\n",
       "      <td>4</td>\n",
       "    </tr>\n",
       "    <tr>\n",
       "      <th>Actual Positive</th>\n",
       "      <td>19</td>\n",
       "      <td>18</td>\n",
       "    </tr>\n",
       "  </tbody>\n",
       "</table>\n",
       "</div>"
      ],
      "text/plain": [
       "                 Predicted Negative  Predicted Positive\n",
       "Actual Negative                  99                   4\n",
       "Actual Positive                  19                  18"
      ]
     },
     "execution_count": 101,
     "metadata": {},
     "output_type": "execute_result"
    }
   ],
   "source": [
    "confmatrix = confusion_matrix(ytest, ypred_benchmark)\n",
    "dfCM = pd.DataFrame(confmatrix, index=['Actual Negative', 'Actual Positive'], columns=['Predicted Negative', 'Predicted Positive'])\n",
    "tp = dfCM.loc['Actual Positive', 'Predicted Positive']\n",
    "fp = dfCM.loc['Actual Negative', 'Predicted Positive']\n",
    "tn = dfCM.loc['Actual Negative', 'Predicted Negative']\n",
    "fn = dfCM.loc['Actual Positive', 'Predicted Negative']\n",
    "dfCM\n"
   ]
  },
  {
   "attachments": {},
   "cell_type": "markdown",
   "metadata": {},
   "source": [
    "### Oprtimzed Threshold\n",
    "\n",
    "Looping probability threshold untuk mencari performat terbaik."
   ]
  },
  {
   "cell_type": "code",
   "execution_count": 102,
   "metadata": {},
   "outputs": [
    {
     "data": {
      "text/plain": [
       "0.6101694915254238"
      ]
     },
     "execution_count": 102,
     "metadata": {},
     "output_type": "execute_result"
    }
   ],
   "source": [
    "model = LogisticRegression(random_state=0)\n",
    "\n",
    "pipe_model = Pipeline([\n",
    "    ('preprocessing',transformer),\n",
    "    ('modeling', model)\n",
    "])\n",
    "\n",
    "# Fit\n",
    "pipe_model.fit(xtrain,ytrain)\n",
    "\n",
    "#cross validation di skip\n",
    "\n",
    "# predict\n",
    "ypred_benchmark = pipe_model.predict(xtest)\n",
    "\n",
    "# f1 score\n",
    "f1_score(ytest, ypred_benchmark)"
   ]
  },
  {
   "cell_type": "code",
   "execution_count": 103,
   "metadata": {},
   "outputs": [
    {
     "data": {
      "text/plain": [
       "array([0, 0, 0, 0, 0, 0, 0, 0, 0, 0, 0, 1, 0, 0, 1, 0, 0, 0, 1, 0, 0, 1,\n",
       "       1, 0, 0, 0, 0, 1, 0, 0, 0, 0, 0, 0, 1, 0, 0, 0, 0, 0, 1, 0, 0, 0,\n",
       "       0, 0, 0, 0, 1, 0, 0, 1, 0, 0, 0, 0, 0, 0, 0, 1, 0, 0, 0, 0, 0, 0,\n",
       "       1, 0, 0, 0, 0, 0, 0, 0, 0, 0, 0, 0, 0, 0, 0, 0, 1, 0, 0, 1, 1, 0,\n",
       "       0, 1, 0, 0, 0, 0, 0, 0, 0, 0, 0, 0, 0, 0, 1, 0, 1, 1, 0, 0, 0, 1,\n",
       "       0, 0, 0, 0, 0, 0, 0, 0, 0, 0, 0, 0, 1, 0, 0, 0, 0, 0, 1, 0, 0, 0,\n",
       "       0, 0, 0, 0, 0, 0, 0, 0])"
      ]
     },
     "execution_count": 103,
     "metadata": {},
     "output_type": "execute_result"
    }
   ],
   "source": [
    "ypred_proba = pipe_model.predict_proba(xtest)[:,1]\n",
    "\n",
    "ypred_class = np.where(ypred_proba>0.50, 1 ,0)\n",
    "ypred_class"
   ]
  },
  {
   "cell_type": "code",
   "execution_count": 104,
   "metadata": {},
   "outputs": [
    {
     "data": {
      "text/plain": [
       "array([[99,  4],\n",
       "       [19, 18]])"
      ]
     },
     "execution_count": 104,
     "metadata": {},
     "output_type": "execute_result"
    }
   ],
   "source": [
    "confusion_matrix(ytest,ypred_class)"
   ]
  },
  {
   "cell_type": "code",
   "execution_count": 105,
   "metadata": {},
   "outputs": [
    {
     "data": {
      "text/plain": [
       "0.6101694915254238"
      ]
     },
     "execution_count": 105,
     "metadata": {},
     "output_type": "execute_result"
    }
   ],
   "source": [
    "f1_score(ytest,ypred_class)"
   ]
  },
  {
   "cell_type": "code",
   "execution_count": 106,
   "metadata": {},
   "outputs": [
    {
     "data": {
      "text/plain": [
       "[0.43274853801169594,\n",
       " 0.4567901234567901,\n",
       " 0.47435897435897434,\n",
       " 0.4868421052631579,\n",
       " 0.5068493150684932,\n",
       " 0.5174825174825174,\n",
       " 0.5285714285714286,\n",
       " 0.5362318840579711,\n",
       " 0.5441176470588236,\n",
       " 0.5481481481481482,\n",
       " 0.5522388059701492,\n",
       " 0.5522388059701492,\n",
       " 0.5648854961832062,\n",
       " 0.5826771653543308,\n",
       " 0.5737704918032787,\n",
       " 0.5737704918032787,\n",
       " 0.5619834710743802,\n",
       " 0.5714285714285714,\n",
       " 0.5964912280701754,\n",
       " 0.6,\n",
       " 0.6037735849056604,\n",
       " 0.6153846153846153,\n",
       " 0.6336633663366337,\n",
       " 0.6597938144329898,\n",
       " 0.6526315789473685,\n",
       " 0.6236559139784947,\n",
       " 0.6222222222222221,\n",
       " 0.6292134831460674,\n",
       " 0.6046511627906977,\n",
       " 0.5853658536585367,\n",
       " 0.5679012345679012,\n",
       " 0.5569620253164557,\n",
       " 0.5569620253164557,\n",
       " 0.5194805194805195,\n",
       " 0.5333333333333333,\n",
       " 0.5135135135135135,\n",
       " 0.5205479452054794,\n",
       " 0.5205479452054794,\n",
       " 0.5277777777777778,\n",
       " 0.5142857142857143,\n",
       " 0.5217391304347827,\n",
       " 0.5217391304347827,\n",
       " 0.5373134328358209,\n",
       " 0.5454545454545455,\n",
       " 0.5625,\n",
       " 0.5625,\n",
       " 0.5714285714285714,\n",
       " 0.5714285714285714,\n",
       " 0.6101694915254238,\n",
       " 0.6101694915254238,\n",
       " 0.6101694915254238,\n",
       " 0.6101694915254238,\n",
       " 0.5964912280701754,\n",
       " 0.5714285714285715,\n",
       " 0.5714285714285715,\n",
       " 0.5714285714285715,\n",
       " 0.5185185185185186,\n",
       " 0.49056603773584906,\n",
       " 0.49056603773584906,\n",
       " 0.49056603773584906,\n",
       " 0.49056603773584906,\n",
       " 0.5098039215686275,\n",
       " 0.4489795918367347,\n",
       " 0.4489795918367347,\n",
       " 0.4166666666666667,\n",
       " 0.4166666666666667,\n",
       " 0.391304347826087,\n",
       " 0.35555555555555557,\n",
       " 0.35555555555555557,\n",
       " 0.35555555555555557,\n",
       " 0.35555555555555557,\n",
       " 0.35555555555555557,\n",
       " 0.35555555555555557,\n",
       " 0.35555555555555557,\n",
       " 0.35555555555555557,\n",
       " 0.3181818181818182,\n",
       " 0.3181818181818182,\n",
       " 0.27906976744186046,\n",
       " 0.2380952380952381,\n",
       " 0.2380952380952381,\n",
       " 0.1951219512195122,\n",
       " 0.15,\n",
       " 0.15,\n",
       " 0.15,\n",
       " 0.15,\n",
       " 0.10256410256410257,\n",
       " 0.10256410256410257,\n",
       " 0.10256410256410257,\n",
       " 0.10256410256410257,\n",
       " 0.10256410256410257,\n",
       " 0.052631578947368425,\n",
       " 0.052631578947368425,\n",
       " 0.052631578947368425,\n",
       " 0.052631578947368425,\n",
       " 0.052631578947368425,\n",
       " 0.0,\n",
       " 0.0,\n",
       " 0.0,\n",
       " 0.0]"
      ]
     },
     "execution_count": 106,
     "metadata": {},
     "output_type": "execute_result"
    }
   ],
   "source": [
    "listTemp = []\n",
    "\n",
    "model = LogisticRegression(random_state=0)\n",
    "\n",
    "pipe_model = Pipeline([\n",
    "    ('preprocessing',transformer),\n",
    "    ('modeling', model)\n",
    "])\n",
    "\n",
    "# Fit\n",
    "pipe_model.fit(xtrain,ytrain)\n",
    "\n",
    "#cross validation di skip\n",
    "\n",
    "#=======================\n",
    "\n",
    "#Looping THreshold\n",
    "list_threshold = np.arange(0.01,1.00,0.01)\n",
    "\n",
    "for threshold in list_threshold:\n",
    "\n",
    "    #predict\n",
    "    ypred_proba = pipe_model.predict_proba(xtest)[:,1]\n",
    "\n",
    "    ypred_class = np.where(ypred_proba>threshold, 1 ,0)\n",
    "\n",
    "    # f1 score\n",
    "    listTemp.append(f1_score(ytest, ypred_class))\n",
    "\n",
    "listTemp"
   ]
  },
  {
   "cell_type": "code",
   "execution_count": 107,
   "metadata": {},
   "outputs": [
    {
     "data": {
      "text/html": [
       "<div>\n",
       "<style scoped>\n",
       "    .dataframe tbody tr th:only-of-type {\n",
       "        vertical-align: middle;\n",
       "    }\n",
       "\n",
       "    .dataframe tbody tr th {\n",
       "        vertical-align: top;\n",
       "    }\n",
       "\n",
       "    .dataframe thead th {\n",
       "        text-align: right;\n",
       "    }\n",
       "</style>\n",
       "<table border=\"1\" class=\"dataframe\">\n",
       "  <thead>\n",
       "    <tr style=\"text-align: right;\">\n",
       "      <th></th>\n",
       "      <th>threshold</th>\n",
       "      <th>f1</th>\n",
       "    </tr>\n",
       "  </thead>\n",
       "  <tbody>\n",
       "    <tr>\n",
       "      <th>0</th>\n",
       "      <td>0.24</td>\n",
       "      <td>0.659794</td>\n",
       "    </tr>\n",
       "    <tr>\n",
       "      <th>1</th>\n",
       "      <td>0.25</td>\n",
       "      <td>0.652632</td>\n",
       "    </tr>\n",
       "    <tr>\n",
       "      <th>2</th>\n",
       "      <td>0.23</td>\n",
       "      <td>0.633663</td>\n",
       "    </tr>\n",
       "    <tr>\n",
       "      <th>3</th>\n",
       "      <td>0.28</td>\n",
       "      <td>0.629213</td>\n",
       "    </tr>\n",
       "    <tr>\n",
       "      <th>4</th>\n",
       "      <td>0.26</td>\n",
       "      <td>0.623656</td>\n",
       "    </tr>\n",
       "    <tr>\n",
       "      <th>...</th>\n",
       "      <td>...</td>\n",
       "      <td>...</td>\n",
       "    </tr>\n",
       "    <tr>\n",
       "      <th>94</th>\n",
       "      <td>0.95</td>\n",
       "      <td>0.052632</td>\n",
       "    </tr>\n",
       "    <tr>\n",
       "      <th>95</th>\n",
       "      <td>0.96</td>\n",
       "      <td>0.000000</td>\n",
       "    </tr>\n",
       "    <tr>\n",
       "      <th>96</th>\n",
       "      <td>0.97</td>\n",
       "      <td>0.000000</td>\n",
       "    </tr>\n",
       "    <tr>\n",
       "      <th>97</th>\n",
       "      <td>0.98</td>\n",
       "      <td>0.000000</td>\n",
       "    </tr>\n",
       "    <tr>\n",
       "      <th>98</th>\n",
       "      <td>0.99</td>\n",
       "      <td>0.000000</td>\n",
       "    </tr>\n",
       "  </tbody>\n",
       "</table>\n",
       "<p>99 rows × 2 columns</p>\n",
       "</div>"
      ],
      "text/plain": [
       "    threshold        f1\n",
       "0        0.24  0.659794\n",
       "1        0.25  0.652632\n",
       "2        0.23  0.633663\n",
       "3        0.28  0.629213\n",
       "4        0.26  0.623656\n",
       "..        ...       ...\n",
       "94       0.95  0.052632\n",
       "95       0.96  0.000000\n",
       "96       0.97  0.000000\n",
       "97       0.98  0.000000\n",
       "98       0.99  0.000000\n",
       "\n",
       "[99 rows x 2 columns]"
      ]
     },
     "execution_count": 107,
     "metadata": {},
     "output_type": "execute_result"
    }
   ],
   "source": [
    "dfTh = pd.DataFrame()\n",
    "dfTh['threshold'] = list_threshold\n",
    "dfTh['f1'] = listTemp\n",
    "\n",
    "dfTh.sort_values('f1',ascending=False).reset_index(drop=True)"
   ]
  },
  {
   "cell_type": "code",
   "execution_count": 110,
   "metadata": {},
   "outputs": [],
   "source": [
    "model = LogisticRegression(random_state=0)\n",
    "\n",
    "pipe_model = Pipeline([\n",
    "    ('preprocessing',transformer),\n",
    "    ('modeling', model)\n",
    "])\n",
    "\n",
    "# Fit\n",
    "pipe_model.fit(xtrain,ytrain)\n",
    "\n",
    "#cross validation di skip\n",
    "\n",
    "#=======================\n",
    "\n",
    "#Looping THreshold\n",
    "list_threshold = np.arange(0.01,1.00,0.01)\n",
    "listTotalCost = []\n",
    "\n",
    "for threshold in list_threshold:\n",
    "\n",
    "    #predict\n",
    "    ypred_proba = pipe_model.predict_proba(xtest)[:,1]\n",
    "\n",
    "    ypred_class = np.where(ypred_proba>threshold, 1 ,0)\n",
    "\n",
    "    # total cost\n",
    "    fn = confusion_matrix(ytest,ypred_class)[1,0] \n",
    "    cost_fn = fn*300\n",
    "\n",
    "    fp = confusion_matrix(ytest,ypred_class)[0,1]\n",
    "    cost_fp = fp*100\n",
    "\n",
    "    totalCost = cost_fn + cost_fp\n",
    "    listTotalCost.append(totalCost)"
   ]
  },
  {
   "cell_type": "code",
   "execution_count": 112,
   "metadata": {},
   "outputs": [
    {
     "data": {
      "text/html": [
       "<div>\n",
       "<style scoped>\n",
       "    .dataframe tbody tr th:only-of-type {\n",
       "        vertical-align: middle;\n",
       "    }\n",
       "\n",
       "    .dataframe tbody tr th {\n",
       "        vertical-align: top;\n",
       "    }\n",
       "\n",
       "    .dataframe thead th {\n",
       "        text-align: right;\n",
       "    }\n",
       "</style>\n",
       "<table border=\"1\" class=\"dataframe\">\n",
       "  <thead>\n",
       "    <tr style=\"text-align: right;\">\n",
       "      <th></th>\n",
       "      <th>threshold</th>\n",
       "      <th>totalCost</th>\n",
       "    </tr>\n",
       "  </thead>\n",
       "  <tbody>\n",
       "    <tr>\n",
       "      <th>0</th>\n",
       "      <td>0.24</td>\n",
       "      <td>4300</td>\n",
       "    </tr>\n",
       "    <tr>\n",
       "      <th>1</th>\n",
       "      <td>0.25</td>\n",
       "      <td>4500</td>\n",
       "    </tr>\n",
       "    <tr>\n",
       "      <th>2</th>\n",
       "      <td>0.23</td>\n",
       "      <td>4700</td>\n",
       "    </tr>\n",
       "    <tr>\n",
       "      <th>3</th>\n",
       "      <td>0.22</td>\n",
       "      <td>5000</td>\n",
       "    </tr>\n",
       "    <tr>\n",
       "      <th>4</th>\n",
       "      <td>0.28</td>\n",
       "      <td>5100</td>\n",
       "    </tr>\n",
       "    <tr>\n",
       "      <th>...</th>\n",
       "      <td>...</td>\n",
       "      <td>...</td>\n",
       "    </tr>\n",
       "    <tr>\n",
       "      <th>94</th>\n",
       "      <td>0.95</td>\n",
       "      <td>10800</td>\n",
       "    </tr>\n",
       "    <tr>\n",
       "      <th>95</th>\n",
       "      <td>0.98</td>\n",
       "      <td>11100</td>\n",
       "    </tr>\n",
       "    <tr>\n",
       "      <th>96</th>\n",
       "      <td>0.96</td>\n",
       "      <td>11100</td>\n",
       "    </tr>\n",
       "    <tr>\n",
       "      <th>97</th>\n",
       "      <td>0.97</td>\n",
       "      <td>11100</td>\n",
       "    </tr>\n",
       "    <tr>\n",
       "      <th>98</th>\n",
       "      <td>0.99</td>\n",
       "      <td>11100</td>\n",
       "    </tr>\n",
       "  </tbody>\n",
       "</table>\n",
       "<p>99 rows × 2 columns</p>\n",
       "</div>"
      ],
      "text/plain": [
       "    threshold  totalCost\n",
       "0        0.24       4300\n",
       "1        0.25       4500\n",
       "2        0.23       4700\n",
       "3        0.22       5000\n",
       "4        0.28       5100\n",
       "..        ...        ...\n",
       "94       0.95      10800\n",
       "95       0.98      11100\n",
       "96       0.96      11100\n",
       "97       0.97      11100\n",
       "98       0.99      11100\n",
       "\n",
       "[99 rows x 2 columns]"
      ]
     },
     "execution_count": 112,
     "metadata": {},
     "output_type": "execute_result"
    }
   ],
   "source": [
    "dfTh_cost = pd.DataFrame()\n",
    "dfTh_cost['threshold'] = list_threshold\n",
    "dfTh_cost['totalCost'] = listTotalCost\n",
    "\n",
    "dfTh_cost.sort_values('totalCost',ascending=True).reset_index(drop=True)"
   ]
  },
  {
   "attachments": {},
   "cell_type": "markdown",
   "metadata": {},
   "source": [
    "#### BEST THRESHOLD F1 SCORE TERBAIK"
   ]
  },
  {
   "cell_type": "code",
   "execution_count": 114,
   "metadata": {},
   "outputs": [
    {
     "data": {
      "text/plain": [
       "0.6597938144329898"
      ]
     },
     "execution_count": 114,
     "metadata": {},
     "output_type": "execute_result"
    }
   ],
   "source": [
    "best_threshold = 0.24\n",
    "y_pred_proba = pipe_model.predict_proba(xtest)[: ,1]\n",
    "y_pred_threshold = np.where(y_pred_proba > best_threshold, 1, 0)\n",
    "#f1\n",
    "f1_score(ytest,y_pred_threshold)"
   ]
  },
  {
   "cell_type": "code",
   "execution_count": 123,
   "metadata": {},
   "outputs": [
    {
     "name": "stdout",
     "output_type": "stream",
     "text": [
      "0.6101694915254238 no treatment\n",
      "0.6597938144329898 best threshold\n"
     ]
    },
    {
     "data": {
      "text/plain": [
       "array([[99,  4],\n",
       "       [19, 18]])"
      ]
     },
     "metadata": {},
     "output_type": "display_data"
    },
    {
     "data": {
      "text/plain": [
       "'matrix no treatment'"
      ]
     },
     "metadata": {},
     "output_type": "display_data"
    },
    {
     "data": {
      "text/plain": [
       "array([[75, 28],\n",
       "       [ 5, 32]])"
      ]
     },
     "metadata": {},
     "output_type": "display_data"
    },
    {
     "data": {
      "text/plain": [
       "'matrix best threshold'"
      ]
     },
     "metadata": {},
     "output_type": "display_data"
    }
   ],
   "source": [
    "print(f1_score(ytest,ypred_benchmark), 'no treatment')\n",
    "print(f1_score(ytest,y_pred_threshold), 'best threshold')\n",
    "\n",
    "display(confusion_matrix(ytest,ypred_benchmark), 'matrix no treatment')\n",
    "display(confusion_matrix(ytest,y_pred_threshold), 'matrix best threshold')"
   ]
  },
  {
   "attachments": {},
   "cell_type": "markdown",
   "metadata": {},
   "source": [
    "### RESAMPLING"
   ]
  },
  {
   "cell_type": "code",
   "execution_count": 119,
   "metadata": {},
   "outputs": [],
   "source": [
    "from imblearn.over_sampling import RandomOverSampler, SMOTE\n",
    "from imblearn.under_sampling import RandomUnderSampler, NearMiss"
   ]
  },
  {
   "cell_type": "code",
   "execution_count": 120,
   "metadata": {},
   "outputs": [
    {
     "data": {
      "text/plain": [
       "default\n",
       "0    414\n",
       "1    146\n",
       "Name: count, dtype: int64"
      ]
     },
     "execution_count": 120,
     "metadata": {},
     "output_type": "execute_result"
    }
   ],
   "source": [
    "ytrain.value_counts()"
   ]
  },
  {
   "cell_type": "code",
   "execution_count": 124,
   "metadata": {},
   "outputs": [
    {
     "data": {
      "text/plain": [
       "default\n",
       "0    0.739286\n",
       "1    0.260714\n",
       "Name: count, dtype: float64"
      ]
     },
     "execution_count": 124,
     "metadata": {},
     "output_type": "execute_result"
    }
   ],
   "source": [
    "ytrain.value_counts() / len(ytrain)"
   ]
  },
  {
   "cell_type": "code",
   "execution_count": 129,
   "metadata": {},
   "outputs": [
    {
     "data": {
      "text/plain": [
       "default\n",
       "0    414\n",
       "1    414\n",
       "Name: count, dtype: int64"
      ]
     },
     "execution_count": 129,
     "metadata": {},
     "output_type": "execute_result"
    }
   ],
   "source": [
    "# Define Resampler\n",
    "over = RandomOverSampler(random_state=0)\n",
    "\n",
    "#fit & resample xtrain\n",
    "xtrainOver, ytrainOver = over.fit_resample(xtrain,ytrain)\n",
    "\n",
    "#check\n",
    "ytrainOver.value_counts()"
   ]
  },
  {
   "cell_type": "code",
   "execution_count": 130,
   "metadata": {},
   "outputs": [
    {
     "data": {
      "text/plain": [
       "default\n",
       "0    146\n",
       "1    146\n",
       "Name: count, dtype: int64"
      ]
     },
     "execution_count": 130,
     "metadata": {},
     "output_type": "execute_result"
    }
   ],
   "source": [
    "# Define Resampler\n",
    "under = RandomUnderSampler(random_state=0)\n",
    "\n",
    "#fit & resample xtrain\n",
    "xtrainUnder, ytrainUnder = under.fit_resample(xtrain,ytrain)\n",
    "\n",
    "#check\n",
    "ytrainUnder.value_counts()"
   ]
  },
  {
   "attachments": {},
   "cell_type": "markdown",
   "metadata": {},
   "source": [
    "#### Models"
   ]
  },
  {
   "cell_type": "code",
   "execution_count": 133,
   "metadata": {},
   "outputs": [],
   "source": [
    "from imblearn.pipeline import Pipeline"
   ]
  },
  {
   "cell_type": "code",
   "execution_count": 137,
   "metadata": {},
   "outputs": [
    {
     "data": {
      "text/plain": [
       "0.6391752577319588"
      ]
     },
     "execution_count": 137,
     "metadata": {},
     "output_type": "execute_result"
    }
   ],
   "source": [
    "model = LogisticRegression(random_state=0)\n",
    "\n",
    "pipe_model = Pipeline([\n",
    "    ('preprocessing',transformer),\n",
    "    ('resampling', over),\n",
    "    ('modeling', model)\n",
    "])\n",
    "\n",
    "# Fit\n",
    "pipe_model.fit(xtrain,ytrain)\n",
    "\n",
    "#cross validation di skip\n",
    "\n",
    "#predict\n",
    "yPred_over = pipe_model.predict(xtest)\n",
    "\n",
    "# f1 score\n",
    "f1_score(ytest, yPred_over)"
   ]
  },
  {
   "cell_type": "code",
   "execution_count": 138,
   "metadata": {},
   "outputs": [
    {
     "data": {
      "text/plain": [
       "0.6451612903225806"
      ]
     },
     "execution_count": 138,
     "metadata": {},
     "output_type": "execute_result"
    }
   ],
   "source": [
    "model = LogisticRegression(random_state=0)\n",
    "\n",
    "pipe_model = Pipeline([\n",
    "    ('preprocessing',transformer),\n",
    "    ('resampling', under),\n",
    "    ('modeling', model)\n",
    "])\n",
    "\n",
    "# Fit\n",
    "pipe_model.fit(xtrain,ytrain)\n",
    "\n",
    "#cross validation di skip\n",
    "\n",
    "#predict\n",
    "yPred_under = pipe_model.predict(xtest)\n",
    "\n",
    "# f1 score\n",
    "f1_score(ytest, yPred_under)"
   ]
  },
  {
   "cell_type": "code",
   "execution_count": 139,
   "metadata": {},
   "outputs": [
    {
     "name": "stdout",
     "output_type": "stream",
     "text": [
      "0.6101694915254238 benchmark no treatment\n",
      "0.6597938144329898 best threshold\n",
      "0.6391752577319588 Oversampling\n",
      "0.6451612903225806 Undersampling\n"
     ]
    }
   ],
   "source": [
    "print(f1_score(ytest,ypred_benchmark), 'benchmark no treatment')\n",
    "print(f1_score(ytest,y_pred_threshold), 'best threshold')\n",
    "print(f1_score(ytest,yPred_over), 'Oversampling')\n",
    "print(f1_score(ytest,yPred_under), 'Undersampling')"
   ]
  },
  {
   "attachments": {},
   "cell_type": "markdown",
   "metadata": {},
   "source": [
    "### Penalized Models\n",
    "Algortima ML akan membarikan perhatian lebih pada kelas minority )kelas 1). Error di kelas minority (kelas 1) akan diboboti lebih berat daripada error di kelas majority (kelas 0)"
   ]
  },
  {
   "cell_type": "code",
   "execution_count": 140,
   "metadata": {},
   "outputs": [
    {
     "data": {
      "text/plain": [
       "0.6236559139784947"
      ]
     },
     "execution_count": 140,
     "metadata": {},
     "output_type": "execute_result"
    }
   ],
   "source": [
    "model = LogisticRegression(random_state=0, class_weight='balanced')\n",
    "\n",
    "pipe_model = Pipeline([\n",
    "    ('preprocessing',transformer),\n",
    "    ('modeling', model)\n",
    "])\n",
    "\n",
    "# Fit\n",
    "pipe_model.fit(xtrain,ytrain)\n",
    "\n",
    "#cross validation di skip\n",
    "\n",
    "#predict\n",
    "yPred_penalize = pipe_model.predict(xtest)\n",
    "\n",
    "# f1 score\n",
    "f1_score(ytest, yPred_penalize)"
   ]
  },
  {
   "cell_type": "code",
   "execution_count": 142,
   "metadata": {},
   "outputs": [
    {
     "name": "stdout",
     "output_type": "stream",
     "text": [
      "0.6101694915254238 benchmark no treatment\n",
      "0.6597938144329898 best threshold\n",
      "0.6391752577319588 Oversampling\n",
      "0.6451612903225806 Undersampling\n",
      "0.6236559139784947 Penalized Models\n"
     ]
    }
   ],
   "source": [
    "print(f1_score(ytest,ypred_benchmark), 'benchmark no treatment')\n",
    "print(f1_score(ytest,y_pred_threshold), 'best threshold')\n",
    "print(f1_score(ytest,yPred_over), 'Oversampling')\n",
    "print(f1_score(ytest,yPred_under), 'Undersampling')\n",
    "print(f1_score(ytest,yPred_penalize), 'Penalized Models')"
   ]
  }
 ],
 "metadata": {
  "kernelspec": {
   "display_name": "Python 3",
   "language": "python",
   "name": "python3"
  },
  "language_info": {
   "codemirror_mode": {
    "name": "ipython",
    "version": 3
   },
   "file_extension": ".py",
   "mimetype": "text/x-python",
   "name": "python",
   "nbconvert_exporter": "python",
   "pygments_lexer": "ipython3",
   "version": "3.9.1"
  },
  "orig_nbformat": 4
 },
 "nbformat": 4,
 "nbformat_minor": 2
}
