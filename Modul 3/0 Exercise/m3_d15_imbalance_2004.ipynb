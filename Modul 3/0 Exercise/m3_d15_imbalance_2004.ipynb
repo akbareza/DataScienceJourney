{
 "cells": [
  {
   "attachments": {},
   "cell_type": "markdown",
   "metadata": {},
   "source": [
    "# Imbalance Classification"
   ]
  },
  {
   "cell_type": "code",
   "execution_count": 194,
   "metadata": {},
   "outputs": [],
   "source": [
    "import numpy as np \n",
    "import pandas as pd \n",
    "import seaborn as sns \n",
    "import matplotlib.pyplot as plt\n",
    "\n",
    "# train test split\n",
    "from sklearn.model_selection import train_test_split\n",
    "\n",
    "# impute missing values\n",
    "from sklearn.impute import SimpleImputer # mean, median, most_frequent (mode), constant\n",
    "from sklearn.experimental import enable_iterative_imputer\n",
    "from sklearn.impute import IterativeImputer # regresi\n",
    "from sklearn.impute import KNNImputer # regresi KKN\n",
    "\n",
    "# encoding\n",
    "from sklearn.preprocessing import OneHotEncoder\n",
    "from category_encoders import OrdinalEncoder, BinaryEncoder\n",
    "\n",
    "# scaling\n",
    "from sklearn.preprocessing import MinMaxScaler, StandardScaler, RobustScaler \n",
    "\n",
    "# column transformer & pipeline\n",
    "from sklearn.compose import ColumnTransformer\n",
    "from sklearn.pipeline import Pipeline\n",
    "\n",
    "# cross validation\n",
    "from sklearn.model_selection import cross_val_score\n",
    "\n",
    "# algorithm\n",
    "from sklearn.linear_model import LogisticRegression\n",
    "from sklearn.neighbors import KNeighborsClassifier\n",
    "from sklearn.tree import DecisionTreeClassifier\n",
    "\n",
    "# metric\n",
    "from sklearn.metrics import accuracy_score, precision_score, recall_score, f1_score \n",
    "\n",
    "# hyperparameter tuning\n",
    "from sklearn.model_selection import GridSearchCV, RandomizedSearchCV"
   ]
  },
  {
   "attachments": {},
   "cell_type": "markdown",
   "metadata": {},
   "source": [
    "- FP: ML memprediksi calon nasabah akan default, padahal aktualnya lunas (cost 100jt)\n",
    "- FN: ML memprediksi calon nasabah akan lunas, padahal aktualnya default (cost 100jt)\n",
    "\n",
    "Metric: f1 score"
   ]
  },
  {
   "cell_type": "code",
   "execution_count": 195,
   "metadata": {},
   "outputs": [
    {
     "data": {
      "text/html": [
       "<div>\n",
       "<style scoped>\n",
       "    .dataframe tbody tr th:only-of-type {\n",
       "        vertical-align: middle;\n",
       "    }\n",
       "\n",
       "    .dataframe tbody tr th {\n",
       "        vertical-align: top;\n",
       "    }\n",
       "\n",
       "    .dataframe thead th {\n",
       "        text-align: right;\n",
       "    }\n",
       "</style>\n",
       "<table border=\"1\" class=\"dataframe\">\n",
       "  <thead>\n",
       "    <tr style=\"text-align: right;\">\n",
       "      <th></th>\n",
       "      <th>employ</th>\n",
       "      <th>debtinc</th>\n",
       "      <th>creddebt</th>\n",
       "      <th>othdebt</th>\n",
       "      <th>default</th>\n",
       "    </tr>\n",
       "  </thead>\n",
       "  <tbody>\n",
       "    <tr>\n",
       "      <th>0</th>\n",
       "      <td>17</td>\n",
       "      <td>9.3</td>\n",
       "      <td>11.359392</td>\n",
       "      <td>5.008608</td>\n",
       "      <td>1</td>\n",
       "    </tr>\n",
       "    <tr>\n",
       "      <th>1</th>\n",
       "      <td>10</td>\n",
       "      <td>17.3</td>\n",
       "      <td>1.362202</td>\n",
       "      <td>4.000798</td>\n",
       "      <td>0</td>\n",
       "    </tr>\n",
       "    <tr>\n",
       "      <th>2</th>\n",
       "      <td>15</td>\n",
       "      <td>5.5</td>\n",
       "      <td>0.856075</td>\n",
       "      <td>2.168925</td>\n",
       "      <td>0</td>\n",
       "    </tr>\n",
       "    <tr>\n",
       "      <th>3</th>\n",
       "      <td>15</td>\n",
       "      <td>2.9</td>\n",
       "      <td>2.658720</td>\n",
       "      <td>0.821280</td>\n",
       "      <td>0</td>\n",
       "    </tr>\n",
       "    <tr>\n",
       "      <th>4</th>\n",
       "      <td>2</td>\n",
       "      <td>17.3</td>\n",
       "      <td>1.787436</td>\n",
       "      <td>3.056564</td>\n",
       "      <td>1</td>\n",
       "    </tr>\n",
       "  </tbody>\n",
       "</table>\n",
       "</div>"
      ],
      "text/plain": [
       "   employ  debtinc   creddebt   othdebt  default\n",
       "0      17      9.3  11.359392  5.008608        1\n",
       "1      10     17.3   1.362202  4.000798        0\n",
       "2      15      5.5   0.856075  2.168925        0\n",
       "3      15      2.9   2.658720  0.821280        0\n",
       "4       2     17.3   1.787436  3.056564        1"
      ]
     },
     "execution_count": 195,
     "metadata": {},
     "output_type": "execute_result"
    }
   ],
   "source": [
    "# load dataset\n",
    "df = pd.read_csv('bankloan.csv')[['employ', 'debtinc','creddebt','othdebt', 'default']]\n",
    "df.head()"
   ]
  },
  {
   "cell_type": "code",
   "execution_count": 196,
   "metadata": {},
   "outputs": [
    {
     "data": {
      "text/plain": [
       "employ      0\n",
       "debtinc     0\n",
       "creddebt    0\n",
       "othdebt     0\n",
       "default     0\n",
       "dtype: int64"
      ]
     },
     "execution_count": 196,
     "metadata": {},
     "output_type": "execute_result"
    }
   ],
   "source": [
    "df.isna().sum()"
   ]
  },
  {
   "cell_type": "code",
   "execution_count": 197,
   "metadata": {},
   "outputs": [
    {
     "data": {
      "text/plain": [
       "0"
      ]
     },
     "execution_count": 197,
     "metadata": {},
     "output_type": "execute_result"
    }
   ],
   "source": [
    "df.duplicated().sum()"
   ]
  },
  {
   "cell_type": "code",
   "execution_count": 198,
   "metadata": {},
   "outputs": [],
   "source": [
    "# define feature and target\n",
    "X = df.drop(columns='default')\n",
    "y = df['default']"
   ]
  },
  {
   "cell_type": "code",
   "execution_count": 199,
   "metadata": {},
   "outputs": [],
   "source": [
    "# data splitting\n",
    "X_train, X_test, y_train, y_test = train_test_split(\n",
    "    X, \n",
    "    y, \n",
    "    test_size=0.2, \n",
    "    stratify=y, \n",
    "    random_state=0\n",
    ")"
   ]
  },
  {
   "cell_type": "code",
   "execution_count": 200,
   "metadata": {},
   "outputs": [],
   "source": [
    "# preprocessing\n",
    "scaler = RobustScaler()"
   ]
  },
  {
   "cell_type": "code",
   "execution_count": 201,
   "metadata": {},
   "outputs": [],
   "source": [
    "transformer = ColumnTransformer([\n",
    "    ('scaling', RobustScaler(), ['employ', 'debtinc', 'creddebt', 'othdebt'])\n",
    "])"
   ]
  },
  {
   "attachments": {},
   "cell_type": "markdown",
   "metadata": {},
   "source": [
    "## Imbalance Treatment:\n",
    "Kita akan coba 4 skenario berbeda:\n",
    "\n",
    "1. No treatment\n",
    "2. Optimized Threshold\n",
    "3. Resampling (Oversampling or Undersampling)\n",
    "4. Penalized model"
   ]
  },
  {
   "attachments": {},
   "cell_type": "markdown",
   "metadata": {},
   "source": [
    "## 1. No treatment\n",
    "\n",
    "Benchmark model "
   ]
  },
  {
   "cell_type": "code",
   "execution_count": 202,
   "metadata": {},
   "outputs": [
    {
     "data": {
      "text/plain": [
       "0.6101694915254238"
      ]
     },
     "execution_count": 202,
     "metadata": {},
     "output_type": "execute_result"
    }
   ],
   "source": [
    "model = LogisticRegression(random_state=0)\n",
    "\n",
    "pipe_model = Pipeline([\n",
    "    ('preprocessing', scaler),    \n",
    "    ('modeling', model)\n",
    "]) \n",
    "\n",
    "# fit\n",
    "pipe_model.fit(X_train, y_train)\n",
    "\n",
    "# predict\n",
    "y_pred_benchmark = pipe_model.predict(X_test)\n",
    "\n",
    "# f1 score\n",
    "f1_score(y_test, y_pred_benchmark)"
   ]
  },
  {
   "cell_type": "code",
   "execution_count": 203,
   "metadata": {},
   "outputs": [],
   "source": [
    "from sklearn.metrics import confusion_matrix "
   ]
  },
  {
   "cell_type": "code",
   "execution_count": 204,
   "metadata": {},
   "outputs": [
    {
     "data": {
      "text/plain": [
       "array([[99,  4],\n",
       "       [19, 18]], dtype=int64)"
      ]
     },
     "execution_count": 204,
     "metadata": {},
     "output_type": "execute_result"
    }
   ],
   "source": [
    "confusion_matrix(y_test, y_pred_benchmark)"
   ]
  },
  {
   "attachments": {},
   "cell_type": "markdown",
   "metadata": {},
   "source": [
    "## 2. Optimized Threshold\n",
    "\n",
    "Looping probability threshold untuk mencari performa terbaik."
   ]
  },
  {
   "cell_type": "code",
   "execution_count": 205,
   "metadata": {},
   "outputs": [
    {
     "data": {
      "text/plain": [
       "0.6101694915254238"
      ]
     },
     "execution_count": 205,
     "metadata": {},
     "output_type": "execute_result"
    }
   ],
   "source": [
    "model = LogisticRegression(random_state=0)\n",
    "\n",
    "pipe_model = Pipeline([\n",
    "    ('preprocessing', scaler),    \n",
    "    ('modeling', model)\n",
    "]) \n",
    "\n",
    "# fit\n",
    "pipe_model.fit(X_train, y_train)\n",
    "\n",
    "# predict\n",
    "y_pred_benchmark = pipe_model.predict(X_test)\n",
    "\n",
    "# f1 score\n",
    "f1_score(y_test, y_pred_benchmark)"
   ]
  },
  {
   "cell_type": "code",
   "execution_count": 206,
   "metadata": {},
   "outputs": [],
   "source": [
    "y_pred_proba = pipe_model.predict_proba(X_test)[: , 1]\n",
    "\n",
    "y_pred_class = np.where(y_pred_proba>0.50, 1, 0)"
   ]
  },
  {
   "cell_type": "code",
   "execution_count": 207,
   "metadata": {},
   "outputs": [
    {
     "data": {
      "text/plain": [
       "array([[99,  4],\n",
       "       [19, 18]], dtype=int64)"
      ]
     },
     "execution_count": 207,
     "metadata": {},
     "output_type": "execute_result"
    }
   ],
   "source": [
    "# threshold = 0.50\n",
    "confusion_matrix(y_test, y_pred_class)"
   ]
  },
  {
   "cell_type": "code",
   "execution_count": 208,
   "metadata": {},
   "outputs": [
    {
     "data": {
      "text/plain": [
       "400"
      ]
     },
     "execution_count": 208,
     "metadata": {},
     "output_type": "execute_result"
    }
   ],
   "source": [
    "fp = confusion_matrix(y_test, y_pred_class)[0,1]\n",
    "cost_fp = fp * 100\n",
    "cost_fp "
   ]
  },
  {
   "cell_type": "code",
   "execution_count": 209,
   "metadata": {},
   "outputs": [
    {
     "data": {
      "text/plain": [
       "5700"
      ]
     },
     "execution_count": 209,
     "metadata": {},
     "output_type": "execute_result"
    }
   ],
   "source": [
    "fn = confusion_matrix(y_test, y_pred_class)[1,0]\n",
    "cost_fn = fn * 300\n",
    "cost_fn"
   ]
  },
  {
   "cell_type": "code",
   "execution_count": 210,
   "metadata": {},
   "outputs": [
    {
     "data": {
      "text/plain": [
       "6100"
      ]
     },
     "execution_count": 210,
     "metadata": {},
     "output_type": "execute_result"
    }
   ],
   "source": [
    "total_cost = cost_fp + cost_fn\n",
    "total_cost"
   ]
  },
  {
   "cell_type": "code",
   "execution_count": 211,
   "metadata": {},
   "outputs": [
    {
     "data": {
      "text/plain": [
       "0.6101694915254238"
      ]
     },
     "execution_count": 211,
     "metadata": {},
     "output_type": "execute_result"
    }
   ],
   "source": [
    "f1_score(y_test, y_pred_class)"
   ]
  },
  {
   "cell_type": "code",
   "execution_count": 212,
   "metadata": {},
   "outputs": [],
   "source": [
    "model = LogisticRegression(random_state=0)\n",
    "\n",
    "pipe_model = Pipeline([\n",
    "    ('preprocessing', scaler),    \n",
    "    ('modeling', model)\n",
    "]) \n",
    "\n",
    "# fit\n",
    "pipe_model.fit(X_train, y_train)\n",
    "\n",
    "# ==============================================================\n",
    "# Looping threshold\n",
    "\n",
    "list_threshold = np.arange(0.01, 1.00, 0.01)\n",
    "list_f1 = []\n",
    "\n",
    "for threshold in list_threshold: \n",
    "\n",
    "    # predict proba\n",
    "    y_pred_proba = pipe_model.predict_proba(X_test)[: , 1]\n",
    "    y_pred_class = np.where(y_pred_proba> threshold, 1, 0)\n",
    "\n",
    "    # f1 score\n",
    "    list_f1.append(f1_score(y_test, y_pred_class))"
   ]
  },
  {
   "cell_type": "code",
   "execution_count": 213,
   "metadata": {},
   "outputs": [
    {
     "data": {
      "text/html": [
       "<div>\n",
       "<style scoped>\n",
       "    .dataframe tbody tr th:only-of-type {\n",
       "        vertical-align: middle;\n",
       "    }\n",
       "\n",
       "    .dataframe tbody tr th {\n",
       "        vertical-align: top;\n",
       "    }\n",
       "\n",
       "    .dataframe thead th {\n",
       "        text-align: right;\n",
       "    }\n",
       "</style>\n",
       "<table border=\"1\" class=\"dataframe\">\n",
       "  <thead>\n",
       "    <tr style=\"text-align: right;\">\n",
       "      <th></th>\n",
       "      <th>threshold</th>\n",
       "      <th>f1</th>\n",
       "    </tr>\n",
       "  </thead>\n",
       "  <tbody>\n",
       "    <tr>\n",
       "      <th>23</th>\n",
       "      <td>0.24</td>\n",
       "      <td>0.659794</td>\n",
       "    </tr>\n",
       "    <tr>\n",
       "      <th>24</th>\n",
       "      <td>0.25</td>\n",
       "      <td>0.652632</td>\n",
       "    </tr>\n",
       "    <tr>\n",
       "      <th>22</th>\n",
       "      <td>0.23</td>\n",
       "      <td>0.633663</td>\n",
       "    </tr>\n",
       "    <tr>\n",
       "      <th>27</th>\n",
       "      <td>0.28</td>\n",
       "      <td>0.629213</td>\n",
       "    </tr>\n",
       "    <tr>\n",
       "      <th>25</th>\n",
       "      <td>0.26</td>\n",
       "      <td>0.623656</td>\n",
       "    </tr>\n",
       "    <tr>\n",
       "      <th>...</th>\n",
       "      <td>...</td>\n",
       "      <td>...</td>\n",
       "    </tr>\n",
       "    <tr>\n",
       "      <th>94</th>\n",
       "      <td>0.95</td>\n",
       "      <td>0.052632</td>\n",
       "    </tr>\n",
       "    <tr>\n",
       "      <th>95</th>\n",
       "      <td>0.96</td>\n",
       "      <td>0.000000</td>\n",
       "    </tr>\n",
       "    <tr>\n",
       "      <th>96</th>\n",
       "      <td>0.97</td>\n",
       "      <td>0.000000</td>\n",
       "    </tr>\n",
       "    <tr>\n",
       "      <th>97</th>\n",
       "      <td>0.98</td>\n",
       "      <td>0.000000</td>\n",
       "    </tr>\n",
       "    <tr>\n",
       "      <th>98</th>\n",
       "      <td>0.99</td>\n",
       "      <td>0.000000</td>\n",
       "    </tr>\n",
       "  </tbody>\n",
       "</table>\n",
       "<p>99 rows × 2 columns</p>\n",
       "</div>"
      ],
      "text/plain": [
       "    threshold        f1\n",
       "23       0.24  0.659794\n",
       "24       0.25  0.652632\n",
       "22       0.23  0.633663\n",
       "27       0.28  0.629213\n",
       "25       0.26  0.623656\n",
       "..        ...       ...\n",
       "94       0.95  0.052632\n",
       "95       0.96  0.000000\n",
       "96       0.97  0.000000\n",
       "97       0.98  0.000000\n",
       "98       0.99  0.000000\n",
       "\n",
       "[99 rows x 2 columns]"
      ]
     },
     "execution_count": 213,
     "metadata": {},
     "output_type": "execute_result"
    }
   ],
   "source": [
    "df_th = pd.DataFrame()\n",
    "df_th['threshold'] = list_threshold\n",
    "df_th['f1'] = list_f1\n",
    "\n",
    "df_th.sort_values('f1', ascending=False)"
   ]
  },
  {
   "attachments": {},
   "cell_type": "markdown",
   "metadata": {},
   "source": [
    "Jika \n",
    "- cost FN: 300 dollar\n",
    "- cost FP: 100 dollar\n",
    "\n",
    "Looping threshold untuk mencari cost terendah"
   ]
  },
  {
   "cell_type": "code",
   "execution_count": 214,
   "metadata": {},
   "outputs": [],
   "source": [
    "model = LogisticRegression(random_state=0)\n",
    "\n",
    "pipe_model = Pipeline([\n",
    "    ('preprocessing', scaler),    \n",
    "    ('modeling', model)\n",
    "]) \n",
    "\n",
    "# fit\n",
    "pipe_model.fit(X_train, y_train)\n",
    "\n",
    "# ==============================================================\n",
    "# Looping threshold\n",
    "\n",
    "list_threshold = np.arange(0.01, 1.00, 0.01)\n",
    "list_total_cost = []\n",
    "\n",
    "for threshold in list_threshold: \n",
    "\n",
    "    # predict proba\n",
    "    y_pred_proba = pipe_model.predict_proba(X_test)[: , 1]\n",
    "    y_pred_class = np.where(y_pred_proba> threshold, 1, 0)\n",
    "\n",
    "    # total_cost\n",
    "    fn = confusion_matrix(y_test, y_pred_class)[1,0]\n",
    "    cost_fn = fn * 300\n",
    "\n",
    "    fp = confusion_matrix(y_test, y_pred_class)[0,1]\n",
    "    cost_fp = fp * 100\n",
    "    \n",
    "    total_cost = cost_fn + cost_fp\n",
    "    list_total_cost.append(total_cost)\n",
    "    "
   ]
  },
  {
   "cell_type": "code",
   "execution_count": 215,
   "metadata": {},
   "outputs": [
    {
     "data": {
      "text/html": [
       "<div>\n",
       "<style scoped>\n",
       "    .dataframe tbody tr th:only-of-type {\n",
       "        vertical-align: middle;\n",
       "    }\n",
       "\n",
       "    .dataframe tbody tr th {\n",
       "        vertical-align: top;\n",
       "    }\n",
       "\n",
       "    .dataframe thead th {\n",
       "        text-align: right;\n",
       "    }\n",
       "</style>\n",
       "<table border=\"1\" class=\"dataframe\">\n",
       "  <thead>\n",
       "    <tr style=\"text-align: right;\">\n",
       "      <th></th>\n",
       "      <th>threshold</th>\n",
       "      <th>total_cost</th>\n",
       "    </tr>\n",
       "  </thead>\n",
       "  <tbody>\n",
       "    <tr>\n",
       "      <th>23</th>\n",
       "      <td>0.24</td>\n",
       "      <td>4300</td>\n",
       "    </tr>\n",
       "    <tr>\n",
       "      <th>24</th>\n",
       "      <td>0.25</td>\n",
       "      <td>4500</td>\n",
       "    </tr>\n",
       "    <tr>\n",
       "      <th>22</th>\n",
       "      <td>0.23</td>\n",
       "      <td>4700</td>\n",
       "    </tr>\n",
       "    <tr>\n",
       "      <th>21</th>\n",
       "      <td>0.22</td>\n",
       "      <td>5000</td>\n",
       "    </tr>\n",
       "    <tr>\n",
       "      <th>27</th>\n",
       "      <td>0.28</td>\n",
       "      <td>5100</td>\n",
       "    </tr>\n",
       "  </tbody>\n",
       "</table>\n",
       "</div>"
      ],
      "text/plain": [
       "    threshold  total_cost\n",
       "23       0.24        4300\n",
       "24       0.25        4500\n",
       "22       0.23        4700\n",
       "21       0.22        5000\n",
       "27       0.28        5100"
      ]
     },
     "execution_count": 215,
     "metadata": {},
     "output_type": "execute_result"
    }
   ],
   "source": [
    "df_th_cost = pd.DataFrame()\n",
    "df_th_cost['threshold'] = list_threshold\n",
    "df_th_cost['total_cost'] = list_total_cost\n",
    "\n",
    "df_th_cost.sort_values('total_cost').head()"
   ]
  },
  {
   "attachments": {},
   "cell_type": "markdown",
   "metadata": {},
   "source": [
    "Best Threshold dengan f1 score terbaik"
   ]
  },
  {
   "cell_type": "code",
   "execution_count": 216,
   "metadata": {},
   "outputs": [
    {
     "data": {
      "text/plain": [
       "0.6597938144329898"
      ]
     },
     "execution_count": 216,
     "metadata": {},
     "output_type": "execute_result"
    }
   ],
   "source": [
    "best_threshold = 0.24 \n",
    "\n",
    "# predict proba\n",
    "y_pred_proba = pipe_model.predict_proba(X_test)[: , 1]\n",
    "y_pred_threshold = np.where(y_pred_proba> best_threshold, 1, 0)\n",
    "\n",
    "# f1\n",
    "f1_score(y_test, y_pred_threshold)"
   ]
  },
  {
   "cell_type": "code",
   "execution_count": 217,
   "metadata": {},
   "outputs": [
    {
     "name": "stdout",
     "output_type": "stream",
     "text": [
      "0.6101694915254238 benchmark (no treatment)\n",
      "0.6597938144329898 best threshold\n"
     ]
    }
   ],
   "source": [
    "print(f1_score(y_test, y_pred_benchmark), 'benchmark (no treatment)')\n",
    "print(f1_score(y_test, y_pred_threshold), 'best threshold')"
   ]
  },
  {
   "cell_type": "code",
   "execution_count": 218,
   "metadata": {},
   "outputs": [
    {
     "data": {
      "text/plain": [
       "array([[99,  4],\n",
       "       [19, 18]], dtype=int64)"
      ]
     },
     "metadata": {},
     "output_type": "display_data"
    },
    {
     "data": {
      "text/plain": [
       "array([[75, 28],\n",
       "       [ 5, 32]], dtype=int64)"
      ]
     },
     "metadata": {},
     "output_type": "display_data"
    }
   ],
   "source": [
    "display(confusion_matrix(y_test, y_pred_benchmark))\n",
    "display(confusion_matrix(y_test, y_pred_threshold))"
   ]
  },
  {
   "attachments": {},
   "cell_type": "markdown",
   "metadata": {},
   "source": [
    "## 3. Resampling\n",
    "\n",
    "- Oversampling\n",
    "- Undersampling"
   ]
  },
  {
   "cell_type": "code",
   "execution_count": 219,
   "metadata": {},
   "outputs": [],
   "source": [
    "# pip install imblearn "
   ]
  },
  {
   "cell_type": "code",
   "execution_count": 220,
   "metadata": {},
   "outputs": [],
   "source": [
    "from imblearn.over_sampling import RandomOverSampler, SMOTE \n",
    "from imblearn.under_sampling import RandomUnderSampler, NearMiss "
   ]
  },
  {
   "cell_type": "code",
   "execution_count": 221,
   "metadata": {},
   "outputs": [
    {
     "data": {
      "text/plain": [
       "default\n",
       "0    414\n",
       "1    146\n",
       "Name: count, dtype: int64"
      ]
     },
     "execution_count": 221,
     "metadata": {},
     "output_type": "execute_result"
    }
   ],
   "source": [
    "y_train.value_counts()"
   ]
  },
  {
   "cell_type": "code",
   "execution_count": 222,
   "metadata": {},
   "outputs": [
    {
     "data": {
      "text/plain": [
       "default\n",
       "0    0.739286\n",
       "1    0.260714\n",
       "Name: count, dtype: float64"
      ]
     },
     "execution_count": 222,
     "metadata": {},
     "output_type": "execute_result"
    }
   ],
   "source": [
    "y_train.value_counts() / len(y_train)"
   ]
  },
  {
   "cell_type": "code",
   "execution_count": 223,
   "metadata": {},
   "outputs": [],
   "source": [
    "# define resampler\n",
    "over = RandomOverSampler(random_state=0)\n",
    "\n",
    "# fit & resample\n",
    "X_train_over, y_train_over = over.fit_resample(X_train, y_train)"
   ]
  },
  {
   "cell_type": "code",
   "execution_count": 224,
   "metadata": {},
   "outputs": [
    {
     "data": {
      "text/plain": [
       "default\n",
       "0    414\n",
       "1    414\n",
       "Name: count, dtype: int64"
      ]
     },
     "execution_count": 224,
     "metadata": {},
     "output_type": "execute_result"
    }
   ],
   "source": [
    "y_train_over.value_counts()\n",
    "# data sudah balance setelah dilakukan oversampling\n",
    "# kelas 1 (minority) diperbanyak sampai jumlahnya sama dengan kelas 0 (majority)"
   ]
  },
  {
   "cell_type": "code",
   "execution_count": 225,
   "metadata": {},
   "outputs": [],
   "source": [
    "# define resampler\n",
    "under = RandomUnderSampler(random_state=0)\n",
    "\n",
    "# fit & resample\n",
    "X_train_under, y_train_under = under.fit_resample(X_train, y_train)"
   ]
  },
  {
   "cell_type": "code",
   "execution_count": 226,
   "metadata": {},
   "outputs": [
    {
     "data": {
      "text/plain": [
       "default\n",
       "0    146\n",
       "1    146\n",
       "Name: count, dtype: int64"
      ]
     },
     "execution_count": 226,
     "metadata": {},
     "output_type": "execute_result"
    }
   ],
   "source": [
    "y_train_under.value_counts()\n",
    "# data sudah balance setelah dilakukan undersampling\n",
    "# kelas 0 (majority) dikurangi sampai jumlahnya sama dengan kelas 1 (minority)"
   ]
  },
  {
   "attachments": {},
   "cell_type": "markdown",
   "metadata": {},
   "source": [
    "Modeling"
   ]
  },
  {
   "cell_type": "code",
   "execution_count": 228,
   "metadata": {},
   "outputs": [],
   "source": [
    "from imblearn.pipeline import Pipeline "
   ]
  },
  {
   "cell_type": "code",
   "execution_count": 231,
   "metadata": {},
   "outputs": [
    {
     "data": {
      "text/plain": [
       "0.6391752577319588"
      ]
     },
     "execution_count": 231,
     "metadata": {},
     "output_type": "execute_result"
    }
   ],
   "source": [
    "model = LogisticRegression(random_state=0)\n",
    "\n",
    "pipe_model = Pipeline([\n",
    "    ('preprocessing', scaler),    \n",
    "    ('resampling', over),\n",
    "    ('modeling', model)\n",
    "]) \n",
    "\n",
    "# fit\n",
    "pipe_model.fit(X_train, y_train)\n",
    "\n",
    "# predict\n",
    "y_pred_over = pipe_model.predict(X_test)\n",
    "\n",
    "# f1 score\n",
    "f1_score(y_test, y_pred_over)"
   ]
  },
  {
   "cell_type": "code",
   "execution_count": 232,
   "metadata": {},
   "outputs": [
    {
     "data": {
      "text/plain": [
       "0.6451612903225806"
      ]
     },
     "execution_count": 232,
     "metadata": {},
     "output_type": "execute_result"
    }
   ],
   "source": [
    "model = LogisticRegression(random_state=0)\n",
    "\n",
    "pipe_model = Pipeline([\n",
    "    ('preprocessing', scaler),    \n",
    "    ('resampling', under),\n",
    "    ('modeling', model)\n",
    "]) \n",
    "\n",
    "# fit\n",
    "pipe_model.fit(X_train, y_train)\n",
    "\n",
    "# predict\n",
    "y_pred_under = pipe_model.predict(X_test)\n",
    "\n",
    "# f1 score\n",
    "f1_score(y_test, y_pred_under)"
   ]
  },
  {
   "cell_type": "code",
   "execution_count": 233,
   "metadata": {},
   "outputs": [
    {
     "name": "stdout",
     "output_type": "stream",
     "text": [
      "0.6101694915254238 benchmark (no treatment)\n",
      "0.6597938144329898 best threshold\n",
      "0.6391752577319588 Oversampling\n",
      "0.6451612903225806 Undersampling\n"
     ]
    }
   ],
   "source": [
    "print(f1_score(y_test, y_pred_benchmark), 'benchmark (no treatment)')\n",
    "print(f1_score(y_test, y_pred_threshold), 'best threshold')\n",
    "print(f1_score(y_test, y_pred_over), 'Oversampling')\n",
    "print(f1_score(y_test, y_pred_under), 'Undersampling') "
   ]
  },
  {
   "attachments": {},
   "cell_type": "markdown",
   "metadata": {},
   "source": [
    "## 4. Penalized Model \n",
    "\n",
    "Algoritma ML akan memberikan perhatian lebih pada kelas minority (kelas 1).\n",
    "Error di kelas minority (kelas 1) akan diboboti lebih berat daripada error \n",
    "di kelas majority (kelas 0)."
   ]
  },
  {
   "cell_type": "code",
   "execution_count": 241,
   "metadata": {},
   "outputs": [
    {
     "data": {
      "text/plain": [
       "0.6236559139784947"
      ]
     },
     "execution_count": 241,
     "metadata": {},
     "output_type": "execute_result"
    }
   ],
   "source": [
    "model = LogisticRegression(random_state=0, class_weight='balanced')\n",
    "# model = LogisticRegression(random_state=0, class_weight={1 : 2.83})\n",
    "\n",
    "pipe_model = Pipeline([\n",
    "    ('preprocessing', scaler), \n",
    "    ('modeling', model)\n",
    "]) \n",
    "\n",
    "# fit\n",
    "pipe_model.fit(X_train, y_train)\n",
    "\n",
    "# predict\n",
    "y_pred_penalize = pipe_model.predict(X_test)\n",
    "\n",
    "# f1 score\n",
    "f1_score(y_test, y_pred_penalize)"
   ]
  },
  {
   "cell_type": "code",
   "execution_count": 235,
   "metadata": {},
   "outputs": [
    {
     "name": "stdout",
     "output_type": "stream",
     "text": [
      "0.6101694915254238 benchmark (no treatment)\n",
      "0.6597938144329898 best threshold\n",
      "0.6391752577319588 Oversampling\n",
      "0.6451612903225806 Undersampling\n",
      "0.6236559139784947 Penalize model\n"
     ]
    }
   ],
   "source": [
    "print(f1_score(y_test, y_pred_benchmark), 'benchmark (no treatment)')\n",
    "print(f1_score(y_test, y_pred_threshold), 'best threshold')\n",
    "print(f1_score(y_test, y_pred_over), 'Oversampling')\n",
    "print(f1_score(y_test, y_pred_under), 'Undersampling')\n",
    "print(f1_score(y_test, y_pred_penalize), 'Penalize model')"
   ]
  },
  {
   "cell_type": "code",
   "execution_count": 236,
   "metadata": {},
   "outputs": [
    {
     "data": {
      "text/plain": [
       "default\n",
       "0    414\n",
       "1    146\n",
       "Name: count, dtype: int64"
      ]
     },
     "execution_count": 236,
     "metadata": {},
     "output_type": "execute_result"
    }
   ],
   "source": [
    "y_train.value_counts()"
   ]
  },
  {
   "cell_type": "code",
   "execution_count": 237,
   "metadata": {},
   "outputs": [
    {
     "data": {
      "text/plain": [
       "2.835616438356164"
      ]
     },
     "execution_count": 237,
     "metadata": {},
     "output_type": "execute_result"
    }
   ],
   "source": [
    "414/146"
   ]
  },
  {
   "attachments": {},
   "cell_type": "markdown",
   "metadata": {},
   "source": [
    "---\n",
    "# Exercise: Imbalance Classification\n",
    "\n",
    "Anda bekerja sebagai data scientist di perusahaan asuransi. Anda diminta untuk memprediksi apakah seorang calon nasabah akan mengajukan klaim atau tidak ketika nantinya dia memiliki asuransi di perusahaan Anda. \n",
    "\n",
    "- Dataset: Car_Insurance_Claim.csv\n",
    "- Target: 'OUTCOME'\n",
    "    - 0: tidak mengajukan claim\n",
    "    - 1: mengajukan claim\n",
    "<br><br>\n",
    "\n",
    "1. Definisikan FP dan FN dalam kasus asuransi kendaraan ini. Menurut Anda, manakah kesalahan yang memiliki cost lebih tinggi (FP atau FN)? Gunakan evaluation metric yang sesuai dengan kebutuhan bisnis!\n",
    "1. Lakukan data cleaning jika diperlukan!\n",
    "1. Lakukan EDA singkat untuk memahami dataset yang Anda gunakan!\n",
    "1. Lakukan data splitting!\n",
    "1. Lakukan preprocessing/feature engineering yang sesuai dengan kebutuhan!\n",
    "1. Lakukan cross validation menggunakan beberapa algoritma ML yang sudah Anda kuasai. Pilih algoritma terbaik untuk melakukan modeling akhir!\n",
    "1. Lakukan hyperparameter tuning pada model terpilih (dari cross validation). Pilih hyperparameter terbaik untuk melakukan modeling akhir!\n",
    "1. Bandingkan performa model sebelum dan sesudah hyperparameter tuning, apakah performanya meningkat?\n",
    "    - Model sebelum sebelum hyperparameter tuning\n",
    "    - Model setelah setelah hyperparameter tuning"
   ]
  },
  {
   "cell_type": "code",
   "execution_count": null,
   "metadata": {},
   "outputs": [],
   "source": []
  },
  {
   "cell_type": "code",
   "execution_count": null,
   "metadata": {},
   "outputs": [],
   "source": []
  },
  {
   "cell_type": "code",
   "execution_count": null,
   "metadata": {},
   "outputs": [],
   "source": []
  },
  {
   "cell_type": "code",
   "execution_count": null,
   "metadata": {},
   "outputs": [],
   "source": []
  },
  {
   "cell_type": "code",
   "execution_count": null,
   "metadata": {},
   "outputs": [],
   "source": []
  },
  {
   "cell_type": "code",
   "execution_count": null,
   "metadata": {},
   "outputs": [],
   "source": []
  }
 ],
 "metadata": {
  "kernelspec": {
   "display_name": "base",
   "language": "python",
   "name": "python3"
  },
  "language_info": {
   "codemirror_mode": {
    "name": "ipython",
    "version": 3
   },
   "file_extension": ".py",
   "mimetype": "text/x-python",
   "name": "python",
   "nbconvert_exporter": "python",
   "pygments_lexer": "ipython3",
   "version": "3.11.3"
  },
  "orig_nbformat": 4
 },
 "nbformat": 4,
 "nbformat_minor": 2
}
