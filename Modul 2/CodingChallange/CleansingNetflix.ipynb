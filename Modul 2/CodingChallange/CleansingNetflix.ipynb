{
 "cells": [
  {
   "cell_type": "code",
   "execution_count": 308,
   "metadata": {},
   "outputs": [
    {
     "data": {
      "text/html": [
       "<div>\n",
       "<style scoped>\n",
       "    .dataframe tbody tr th:only-of-type {\n",
       "        vertical-align: middle;\n",
       "    }\n",
       "\n",
       "    .dataframe tbody tr th {\n",
       "        vertical-align: top;\n",
       "    }\n",
       "\n",
       "    .dataframe thead th {\n",
       "        text-align: right;\n",
       "    }\n",
       "</style>\n",
       "<table border=\"1\" class=\"dataframe\">\n",
       "  <thead>\n",
       "    <tr style=\"text-align: right;\">\n",
       "      <th></th>\n",
       "      <th>id</th>\n",
       "      <th>ingestion_date</th>\n",
       "      <th>link</th>\n",
       "      <th>date</th>\n",
       "      <th>post_message</th>\n",
       "      <th>like</th>\n",
       "      <th>comments</th>\n",
       "      <th>saved</th>\n",
       "      <th>share</th>\n",
       "      <th>engagement</th>\n",
       "      <th>video_views</th>\n",
       "      <th>reach</th>\n",
       "      <th>impression</th>\n",
       "      <th>type</th>\n",
       "      <th>username</th>\n",
       "    </tr>\n",
       "  </thead>\n",
       "  <tbody>\n",
       "    <tr>\n",
       "      <th>0</th>\n",
       "      <td>8495879833</td>\n",
       "      <td>25 May 2023</td>\n",
       "      <td>https://www.instagram.com/p/Co4wPXXJjku/</td>\n",
       "      <td>2/20/23 14:00</td>\n",
       "      <td>Serial yang diangkat dari kisah nyata, tentang...</td>\n",
       "      <td>10,865</td>\n",
       "      <td>71</td>\n",
       "      <td>15.0</td>\n",
       "      <td>134.0</td>\n",
       "      <td>11,085</td>\n",
       "      <td>1,424</td>\n",
       "      <td>2,372,168</td>\n",
       "      <td>3,392,200</td>\n",
       "      <td>Reels</td>\n",
       "      <td>Netflixid</td>\n",
       "    </tr>\n",
       "    <tr>\n",
       "      <th>1</th>\n",
       "      <td>8495879833</td>\n",
       "      <td>25 May 2023</td>\n",
       "      <td>https://www.instagram.com/p/Co4ihdsJevl/</td>\n",
       "      <td>2/20/23 12:00</td>\n",
       "      <td>?? Begini nasib, jadi third wheeler~</td>\n",
       "      <td>2,588</td>\n",
       "      <td>21</td>\n",
       "      <td>26.0</td>\n",
       "      <td>91.0</td>\n",
       "      <td>2,726</td>\n",
       "      <td>1,739</td>\n",
       "      <td>466,859</td>\n",
       "      <td>840,346</td>\n",
       "      <td>Videos</td>\n",
       "      <td>Netflixid</td>\n",
       "    </tr>\n",
       "    <tr>\n",
       "      <th>2</th>\n",
       "      <td>8495879833</td>\n",
       "      <td>25 May 2023</td>\n",
       "      <td>https://www.instagram.com/reel/Co4UwKhp1uw/</td>\n",
       "      <td>2/20/23 10:00</td>\n",
       "      <td>Udah akrab gini, apakah Jae-woo bakal berujung...</td>\n",
       "      <td>1,494</td>\n",
       "      <td>14</td>\n",
       "      <td>113.0</td>\n",
       "      <td>67.0</td>\n",
       "      <td>1,688</td>\n",
       "      <td>0</td>\n",
       "      <td>190,069</td>\n",
       "      <td>334,521</td>\n",
       "      <td>Picture</td>\n",
       "      <td>Netflixid</td>\n",
       "    </tr>\n",
       "    <tr>\n",
       "      <th>3</th>\n",
       "      <td>8495879833</td>\n",
       "      <td>25 May 2023</td>\n",
       "      <td>https://www.instagram.com/reel/Co4HBkaJm_Y/</td>\n",
       "      <td>2/20/23 8:00</td>\n",
       "      <td>Diajak main Alphabet Challenge pake huruf D-E-...</td>\n",
       "      <td>1,271</td>\n",
       "      <td>10</td>\n",
       "      <td>39.0</td>\n",
       "      <td>NaN</td>\n",
       "      <td>1,405</td>\n",
       "      <td>1,409</td>\n",
       "      <td>314,446</td>\n",
       "      <td>455,947</td>\n",
       "      <td>Reels</td>\n",
       "      <td>Netflixid</td>\n",
       "    </tr>\n",
       "    <tr>\n",
       "      <th>4</th>\n",
       "      <td>8495879833</td>\n",
       "      <td>25 May 2023</td>\n",
       "      <td>https://www.instagram.com/p/Co35ZDtJYai/</td>\n",
       "      <td>2/20/23 6:00</td>\n",
       "      <td>Besok kita buka bareng-bareng gaes suratnya!</td>\n",
       "      <td>19,829</td>\n",
       "      <td>412</td>\n",
       "      <td>91.0</td>\n",
       "      <td>117.0</td>\n",
       "      <td>20,449</td>\n",
       "      <td>0</td>\n",
       "      <td>1,518,338</td>\n",
       "      <td>2,307,874</td>\n",
       "      <td>Carousels</td>\n",
       "      <td>Netflixid</td>\n",
       "    </tr>\n",
       "  </tbody>\n",
       "</table>\n",
       "</div>"
      ],
      "text/plain": [
       "           id ingestion_date                                         link   \n",
       "0  8495879833    25 May 2023     https://www.instagram.com/p/Co4wPXXJjku/  \\\n",
       "1  8495879833    25 May 2023     https://www.instagram.com/p/Co4ihdsJevl/   \n",
       "2  8495879833    25 May 2023  https://www.instagram.com/reel/Co4UwKhp1uw/   \n",
       "3  8495879833    25 May 2023  https://www.instagram.com/reel/Co4HBkaJm_Y/   \n",
       "4  8495879833    25 May 2023     https://www.instagram.com/p/Co35ZDtJYai/   \n",
       "\n",
       "            date                                       post_message    like   \n",
       "0  2/20/23 14:00  Serial yang diangkat dari kisah nyata, tentang...  10,865  \\\n",
       "1  2/20/23 12:00               ?? Begini nasib, jadi third wheeler~   2,588   \n",
       "2  2/20/23 10:00  Udah akrab gini, apakah Jae-woo bakal berujung...   1,494   \n",
       "3   2/20/23 8:00  Diajak main Alphabet Challenge pake huruf D-E-...   1,271   \n",
       "4   2/20/23 6:00       Besok kita buka bareng-bareng gaes suratnya!  19,829   \n",
       "\n",
       "  comments  saved  share engagement video_views      reach impression   \n",
       "0       71   15.0  134.0     11,085       1,424  2,372,168  3,392,200  \\\n",
       "1       21   26.0   91.0      2,726       1,739    466,859    840,346   \n",
       "2       14  113.0   67.0      1,688           0    190,069    334,521   \n",
       "3       10   39.0    NaN      1,405       1,409    314,446    455,947   \n",
       "4      412   91.0  117.0     20,449           0  1,518,338  2,307,874   \n",
       "\n",
       "        type   username  \n",
       "0      Reels  Netflixid  \n",
       "1     Videos  Netflixid  \n",
       "2    Picture  Netflixid  \n",
       "3      Reels  Netflixid  \n",
       "4  Carousels  Netflixid  "
      ]
     },
     "execution_count": 308,
     "metadata": {},
     "output_type": "execute_result"
    }
   ],
   "source": [
    "import pandas as pd\n",
    "import numpy as np\n",
    "\n",
    "redcom_df = pd.read_csv('Social Media - Redcomm.csv')\n",
    "\n",
    "redcom_df.head()"
   ]
  },
  {
   "attachments": {},
   "cell_type": "markdown",
   "metadata": {},
   "source": [
    "# **CLEANSING**"
   ]
  },
  {
   "attachments": {},
   "cell_type": "markdown",
   "metadata": {},
   "source": [
    "## DUPLICATE DETECTION"
   ]
  },
  {
   "cell_type": "code",
   "execution_count": 332,
   "metadata": {},
   "outputs": [
    {
     "name": "stdout",
     "output_type": "stream",
     "text": [
      "Rows before remove duplicate : 2613\n",
      "Total rows duplicate         : 15\n",
      "Rows after remove duplicate  : 2598\n"
     ]
    }
   ],
   "source": [
    "print(f'Rows before remove duplicate : {len(redcom_df)}')\n",
    "print(f'Total rows duplicate         : {redcom_df.duplicated().sum()}')\n",
    "redcom_df.drop_duplicates(inplace=True)\n",
    "print(f'Rows after remove duplicate  : {len(redcom_df)}')"
   ]
  },
  {
   "attachments": {},
   "cell_type": "markdown",
   "metadata": {},
   "source": [
    "## NULL DETECTION"
   ]
  },
  {
   "cell_type": "code",
   "execution_count": 309,
   "metadata": {},
   "outputs": [
    {
     "data": {
      "text/plain": [
       "id                   0\n",
       "ingestion_date       0\n",
       "link                 0\n",
       "date                 1\n",
       "post_message      2328\n",
       "like                 2\n",
       "comments             4\n",
       "saved                7\n",
       "share                5\n",
       "engagement           1\n",
       "video_views          0\n",
       "reach                0\n",
       "impression           0\n",
       "type                 0\n",
       "username             0\n",
       "dtype: int64"
      ]
     },
     "execution_count": 309,
     "metadata": {},
     "output_type": "execute_result"
    }
   ],
   "source": [
    "redcom_df.isna().sum()"
   ]
  },
  {
   "cell_type": "code",
   "execution_count": 310,
   "metadata": {},
   "outputs": [],
   "source": [
    "# FILL POST MESSAGE\n",
    "redcom_df['post_message'].fillna('-',inplace=True)"
   ]
  },
  {
   "cell_type": "code",
   "execution_count": 311,
   "metadata": {},
   "outputs": [],
   "source": [
    "# FILL DATE\n",
    "redcom_df['date'] = redcom_df['date'].fillna('3/22/22 17:04')"
   ]
  },
  {
   "cell_type": "code",
   "execution_count": 312,
   "metadata": {},
   "outputs": [],
   "source": [
    "def removeComma(x):\n",
    "    return x.str.replace(',','')\n",
    "\n",
    "def convertFloat(x):\n",
    "    #x = x.str.replace(',','')\n",
    "    return pd.to_numeric(x)"
   ]
  },
  {
   "cell_type": "code",
   "execution_count": 313,
   "metadata": {},
   "outputs": [],
   "source": [
    "for i in ['like','comments','engagement','video_views','reach','impression']:\n",
    "    redcom_df[i] = removeComma(redcom_df[i])\n",
    "    redcom_df[i] = convertFloat(redcom_df[i])"
   ]
  },
  {
   "cell_type": "code",
   "execution_count": 314,
   "metadata": {},
   "outputs": [],
   "source": [
    "#FILL SOCMED MATRIX LIKE, COMMENTS, SAVED, SHARE, ENGAGEMENT\n",
    "\n",
    "redcom_df['like'] = redcom_df.apply(\n",
    "    lambda row: row['engagement'] - row['share'] - row['comments'] - row['saved'] if np.isnan(row['like']) else row['like'],\n",
    "    axis=1)\n",
    "\n",
    "redcom_df['comments'] = redcom_df.apply(\n",
    "    lambda row: row['engagement'] - row['like'] - row['share'] - row['saved'] if np.isnan(row['comments']) else row['comments'],\n",
    "    axis=1)\n",
    "\n",
    "redcom_df['saved'] = redcom_df.apply(\n",
    "    lambda row: row['engagement'] - row['like'] - row['comments'] - row['share'] if np.isnan(row['saved']) else row['saved'],\n",
    "    axis=1)\n",
    "\n",
    "redcom_df['share'] = redcom_df.apply(\n",
    "    lambda row: row['engagement'] - row['like'] - row['comments'] - row['saved'] if np.isnan(row['share']) else row['share'],\n",
    "    axis=1)\n",
    "\n",
    "redcom_df['engagement'] = redcom_df.apply(\n",
    "    lambda row: row['share'] + row['like'] + row['comments'] + row['saved'] if np.isnan(row['engagement']) else row['engagement'],\n",
    "    axis=1)"
   ]
  },
  {
   "cell_type": "code",
   "execution_count": 315,
   "metadata": {},
   "outputs": [
    {
     "data": {
      "text/plain": [
       "id                0\n",
       "ingestion_date    0\n",
       "link              0\n",
       "date              0\n",
       "post_message      0\n",
       "like              0\n",
       "comments          0\n",
       "saved             0\n",
       "share             0\n",
       "engagement        0\n",
       "video_views       0\n",
       "reach             0\n",
       "impression        0\n",
       "type              0\n",
       "username          0\n",
       "dtype: int64"
      ]
     },
     "execution_count": 315,
     "metadata": {},
     "output_type": "execute_result"
    }
   ],
   "source": [
    "redcom_df.isna().sum()"
   ]
  },
  {
   "attachments": {},
   "cell_type": "markdown",
   "metadata": {},
   "source": [
    "## TIPE DATA"
   ]
  },
  {
   "cell_type": "code",
   "execution_count": 316,
   "metadata": {},
   "outputs": [
    {
     "name": "stdout",
     "output_type": "stream",
     "text": [
      "<class 'pandas.core.frame.DataFrame'>\n",
      "RangeIndex: 2613 entries, 0 to 2612\n",
      "Data columns (total 15 columns):\n",
      " #   Column          Non-Null Count  Dtype  \n",
      "---  ------          --------------  -----  \n",
      " 0   id              2613 non-null   int64  \n",
      " 1   ingestion_date  2613 non-null   object \n",
      " 2   link            2613 non-null   object \n",
      " 3   date            2613 non-null   object \n",
      " 4   post_message    2613 non-null   object \n",
      " 5   like            2613 non-null   float64\n",
      " 6   comments        2613 non-null   float64\n",
      " 7   saved           2613 non-null   float64\n",
      " 8   share           2613 non-null   float64\n",
      " 9   engagement      2613 non-null   float64\n",
      " 10  video_views     2613 non-null   int64  \n",
      " 11  reach           2613 non-null   int64  \n",
      " 12  impression      2613 non-null   int64  \n",
      " 13  type            2613 non-null   object \n",
      " 14  username        2613 non-null   object \n",
      "dtypes: float64(5), int64(4), object(6)\n",
      "memory usage: 306.3+ KB\n"
     ]
    }
   ],
   "source": [
    "redcom_df.info()"
   ]
  },
  {
   "cell_type": "code",
   "execution_count": 317,
   "metadata": {},
   "outputs": [
    {
     "name": "stderr",
     "output_type": "stream",
     "text": [
      "/var/folders/tp/91my4k8n68z60sh31dbxcf1r0000gn/T/ipykernel_5239/764453062.py:1: UserWarning: Could not infer format, so each element will be parsed individually, falling back to `dateutil`. To ensure parsing is consistent and as-expected, please specify a format.\n",
      "  redcom_df['date'] = pd.to_datetime(redcom_df['date'])\n"
     ]
    }
   ],
   "source": [
    "redcom_df['date'] = pd.to_datetime(redcom_df['date'])\n",
    "redcom_df['ingestion_date'] = pd.to_datetime(redcom_df['ingestion_date'])\n",
    "\n",
    "redcom_df['tanggal_post'] = pd.to_datetime(redcom_df['date'], format='%m/%d/%y')\n",
    "redcom_df['tanggal_post'] = redcom_df['tanggal_post'].dt.to_period('D')\n",
    "redcom_df['waktu_post'] = redcom_df['date'].dt.strftime('%X')\n",
    "redcom_df['waktu_post'] = redcom_df['waktu_post'].str.slice(0,2)"
   ]
  },
  {
   "cell_type": "code",
   "execution_count": 319,
   "metadata": {},
   "outputs": [
    {
     "name": "stdout",
     "output_type": "stream",
     "text": [
      "<class 'pandas.core.frame.DataFrame'>\n",
      "RangeIndex: 2613 entries, 0 to 2612\n",
      "Data columns (total 17 columns):\n",
      " #   Column          Non-Null Count  Dtype         \n",
      "---  ------          --------------  -----         \n",
      " 0   id              2613 non-null   int64         \n",
      " 1   ingestion_date  2613 non-null   datetime64[ns]\n",
      " 2   link            2613 non-null   object        \n",
      " 3   date            2613 non-null   datetime64[ns]\n",
      " 4   post_message    2613 non-null   object        \n",
      " 5   like            2613 non-null   float64       \n",
      " 6   comments        2613 non-null   float64       \n",
      " 7   saved           2613 non-null   float64       \n",
      " 8   share           2613 non-null   float64       \n",
      " 9   engagement      2613 non-null   float64       \n",
      " 10  video_views     2613 non-null   int64         \n",
      " 11  reach           2613 non-null   int64         \n",
      " 12  impression      2613 non-null   int64         \n",
      " 13  type            2613 non-null   object        \n",
      " 14  username        2613 non-null   object        \n",
      " 15  tanggal_post    2613 non-null   period[D]     \n",
      " 16  waktu_post      2613 non-null   int64         \n",
      "dtypes: datetime64[ns](2), float64(5), int64(5), object(4), period[D](1)\n",
      "memory usage: 347.2+ KB\n"
     ]
    }
   ],
   "source": [
    "for i in ['waktu_post']:\n",
    "    redcom_df[i] = convertFloat(redcom_df[i])\n",
    "    \n",
    "redcom_df.info()\n"
   ]
  },
  {
   "attachments": {},
   "cell_type": "markdown",
   "metadata": {},
   "source": [
    "## ANOMALI CATEGORICAL"
   ]
  },
  {
   "cell_type": "code",
   "execution_count": 322,
   "metadata": {},
   "outputs": [
    {
     "data": {
      "text/plain": [
       "'type'"
      ]
     },
     "metadata": {},
     "output_type": "display_data"
    },
    {
     "data": {
      "text/plain": [
       "array(['Reels', 'Videos', 'Picture', 'Carousels'], dtype=object)"
      ]
     },
     "metadata": {},
     "output_type": "display_data"
    }
   ],
   "source": [
    "for i in ['type']:\n",
    "    display(i, redcom_df[i].unique())"
   ]
  }
 ],
 "metadata": {
  "kernelspec": {
   "display_name": "Python 3",
   "language": "python",
   "name": "python3"
  },
  "language_info": {
   "codemirror_mode": {
    "name": "ipython",
    "version": 3
   },
   "file_extension": ".py",
   "mimetype": "text/x-python",
   "name": "python",
   "nbconvert_exporter": "python",
   "pygments_lexer": "ipython3",
   "version": "3.9.1"
  },
  "orig_nbformat": 4
 },
 "nbformat": 4,
 "nbformat_minor": 2
}
