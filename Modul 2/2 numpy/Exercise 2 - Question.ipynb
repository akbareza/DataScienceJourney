{
  "cells": [
    {
      "cell_type": "markdown",
      "metadata": {
        "id": "Hg2o0LRZCRgq"
      },
      "source": [
        "# Exercise Numpy"
      ]
    },
    {
      "cell_type": "markdown",
      "metadata": {
        "id": "Lgc4RXe4CRgt"
      },
      "source": [
        "Jangan di-run all!. Lakukan run satu per satu pada tiap cell."
      ]
    },
    {
      "cell_type": "code",
      "execution_count": 3,
      "metadata": {
        "id": "iz4dvEhGCRgu"
      },
      "outputs": [],
      "source": [
        "import numpy as np"
      ]
    },
    {
      "cell_type": "markdown",
      "metadata": {
        "id": "RQCUVWJPCRgw"
      },
      "source": [
        "<hr>\n",
        "\n",
        "### **Nomor 1**\n",
        "\n",
        "Buatlah sebuah array 1D dengan nama variable myArray yang terdiri dari 36 angka bilangan bulat acak antara 1 dan 100! (Gunakan seed=0)"
      ]
    },
    {
      "cell_type": "code",
      "execution_count": 37,
      "metadata": {
        "id": "YSXFgbihCRgx",
        "outputId": "723233be-4acb-4a29-f9eb-66255c141823"
      },
      "outputs": [
        {
          "data": {
            "text/plain": [
              "array([45, 48, 65, 68, 68, 10, 84, 22, 37, 88, 71, 89, 89, 13, 59, 66, 40,\n",
              "       88, 47, 89, 82, 38, 26, 78, 73, 10, 21, 81, 70, 80, 48, 65, 83, 89,\n",
              "       50, 30])"
            ]
          },
          "execution_count": 37,
          "metadata": {},
          "output_type": "execute_result"
        }
      ],
      "source": [
        "np.random.seed(0)\n",
        "myArrray = np.random.randint(1,100,36)\n",
        "myArrray"
      ]
    },
    {
      "cell_type": "markdown",
      "metadata": {
        "id": "HFMET0NGCRgz"
      },
      "source": [
        "<hr>\n",
        "\n",
        "### **Nomor 2**\n",
        "\n",
        "Ubahlah array tersebut (myArray) menjadi\n",
        "\n",
        "* array 2D dengan ukuran 2 x 18\n",
        "* array 2D dengan ukuran 9 x 4\n",
        "* array 3D dengan ukuran 2 x 6 X 3"
      ]
    },
    {
      "cell_type": "code",
      "execution_count": 43,
      "metadata": {
        "id": "VtLboFR9CRgz",
        "outputId": "82180eb8-1650-4a07-d3ab-0437745e482b"
      },
      "outputs": [
        {
          "data": {
            "text/plain": [
              "array([[[45, 48, 65],\n",
              "        [68, 68, 10],\n",
              "        [84, 22, 37],\n",
              "        [88, 71, 89],\n",
              "        [89, 13, 59],\n",
              "        [66, 40, 88]],\n",
              "\n",
              "       [[47, 89, 82],\n",
              "        [38, 26, 78],\n",
              "        [73, 10, 21],\n",
              "        [81, 70, 80],\n",
              "        [48, 65, 83],\n",
              "        [89, 50, 30]]])"
            ]
          },
          "execution_count": 43,
          "metadata": {},
          "output_type": "execute_result"
        }
      ],
      "source": [
        "myArrray.reshape(2,18)\n",
        "myArrray.reshape(9,4)\n",
        "myArrray.reshape(2,6,3)"
      ]
    },
    {
      "cell_type": "markdown",
      "metadata": {
        "id": "mh9OJ-6VCRg1"
      },
      "source": [
        "<hr>\n",
        "\n",
        "### **Nomor 3**\n",
        "\n",
        "Tentukan\n",
        "\n",
        "* nilai minimum dari array tersebut (myArray)\n",
        "* nilai maximum dari array tersebut (myArray)\n",
        "* posisi dari nilai minimum tersebut\n",
        "* posisi dari nilai maximum tersebut"
      ]
    },
    {
      "cell_type": "code",
      "execution_count": 59,
      "metadata": {
        "id": "tK6lAMJvCRg2"
      },
      "outputs": [
        {
          "data": {
            "text/plain": [
              "10"
            ]
          },
          "metadata": {},
          "output_type": "display_data"
        },
        {
          "data": {
            "text/plain": [
              "89"
            ]
          },
          "metadata": {},
          "output_type": "display_data"
        },
        {
          "data": {
            "text/plain": [
              "(array([ 5, 25]),)"
            ]
          },
          "metadata": {},
          "output_type": "display_data"
        },
        {
          "data": {
            "text/plain": [
              "(array([11, 12, 19, 33]),)"
            ]
          },
          "metadata": {},
          "output_type": "display_data"
        }
      ],
      "source": [
        "display(np.min(myArrray))\n",
        "display(np.max(myArrray))\n",
        "display(np.where(myArrray == np.min(myArrray)))\n",
        "display(np.where(myArrray == np.max(myArrray)))"
      ]
    },
    {
      "cell_type": "markdown",
      "metadata": {
        "id": "ya05dsZgCRg2"
      },
      "source": [
        "<hr>\n",
        "\n",
        "### **Nomor 4**\n",
        "\n",
        "Buatlah array baru dengan nama variable new_array yang berisi 9 angka yang diambil dari data ke-3, 5, 30, 12, 15, 8, 24, 14, dan 22 dari myArray! \n",
        "\n",
        "Ubahlah array tersebut menjadi array 2D dengan ukuran 3 x 3 secara permanen!\n"
      ]
    },
    {
      "cell_type": "code",
      "execution_count": 76,
      "metadata": {
        "id": "6IVjyclYCRg3",
        "outputId": "c6dc13e3-c7be-494c-e9e7-96ac2c2b7802"
      },
      "outputs": [
        {
          "data": {
            "text/plain": [
              "array([[68, 10, 48],\n",
              "       [89, 66, 37],\n",
              "       [73, 59, 26]])"
            ]
          },
          "execution_count": 76,
          "metadata": {},
          "output_type": "execute_result"
        }
      ],
      "source": [
        "new_array = myArrray[[3,5,30,12,15,8,24,14,22]]\n",
        "new_array.reshape(3,3)"
      ]
    },
    {
      "cell_type": "markdown",
      "metadata": {
        "id": "FLB59-1hCRg3"
      },
      "source": [
        "<hr>\n",
        "\n",
        "### **Nomor 5**\n",
        "\n",
        "Tampilkan item pada new_array yang nilainya lebih besar dari 50!"
      ]
    },
    {
      "cell_type": "code",
      "execution_count": 78,
      "metadata": {
        "id": "xewLYoTECRg3",
        "outputId": "2990a4f2-a7e8-477e-b9f4-962e56688634"
      },
      "outputs": [
        {
          "data": {
            "text/plain": [
              "array([68, 89, 66, 73, 59])"
            ]
          },
          "execution_count": 78,
          "metadata": {},
          "output_type": "execute_result"
        }
      ],
      "source": [
        "np.extract(new_array > 50, new_array) #where to get the index, extract to get the value of the index"
      ]
    },
    {
      "cell_type": "markdown",
      "metadata": {
        "id": "dc5qcV9kCRg4"
      },
      "source": [
        "<hr>\n",
        "\n",
        "### **Nomor 6**\n",
        "\n",
        "Buatlah sebuah array 1D yang berisi angka 0, 25, 50, 75, dan 100 menggunakan fungsi:\n",
        "\n",
        "* arange\n",
        "* linspace"
      ]
    },
    {
      "cell_type": "code",
      "execution_count": 83,
      "metadata": {
        "id": "_R-X0bxKCRg4"
      },
      "outputs": [
        {
          "data": {
            "text/plain": [
              "array([  0,  25,  50,  75, 100])"
            ]
          },
          "metadata": {},
          "output_type": "display_data"
        },
        {
          "data": {
            "text/plain": [
              "array([  0.,  25.,  50.,  75., 100.])"
            ]
          },
          "metadata": {},
          "output_type": "display_data"
        }
      ],
      "source": [
        "display(np.arange(0,101,25))\n",
        "display(np.linspace(0,100,5))"
      ]
    },
    {
      "cell_type": "markdown",
      "metadata": {
        "id": "bTPlF4_3CRg5"
      },
      "source": [
        "<hr>\n",
        "\n",
        "### **Nomor 7**\n",
        "\n",
        "Buatlah sebuah array 2D berukuran N X N yang semuanya berisi angka 8, dimana n merupakan bilangan asli yang besarnya dimintakan input kepada user!\n",
        "\n",
        "contoh :\\\n",
        "N yang diinput adalah: 2\n",
        "\n",
        "hasil :\\\n",
        "array([[8., 8.],\\\n",
        "&emsp;&emsp;&nbsp;&nbsp;&nbsp;[8., 8.]])"
      ]
    },
    {
      "cell_type": "code",
      "execution_count": 17,
      "metadata": {
        "id": "hLIp7fCfCRg5"
      },
      "outputs": [
        {
          "data": {
            "text/plain": [
              "3"
            ]
          },
          "metadata": {},
          "output_type": "display_data"
        },
        {
          "data": {
            "text/plain": [
              "array([[8., 8., 8.],\n",
              "       [8., 8., 8.],\n",
              "       [8., 8., 8.]])"
            ]
          },
          "execution_count": 17,
          "metadata": {},
          "output_type": "execute_result"
        }
      ],
      "source": [
        "inputAngka = int(input(\"Please enter the array's dimension: \"))\n",
        "display(inputAngka)\n",
        "temp = (np.ones((inputAngka,inputAngka)))\n",
        "temp*8\n"
      ]
    },
    {
      "cell_type": "markdown",
      "metadata": {
        "id": "C_RhkY_nCRg6"
      },
      "source": [
        "<hr>\n",
        "\n",
        "### **Nomor 8**\n",
        "\n",
        "Buatlah array 2D dengan nama arrayA berukuran 3 x 4 dengan hasil sebagai berikut :"
      ]
    },
    {
      "cell_type": "code",
      "execution_count": 45,
      "metadata": {
        "id": "WEfGuMpICRg6",
        "outputId": "5b4d81ff-4455-46d4-99d7-cb61e31160ca"
      },
      "outputs": [],
      "source": [
        "arr34 = np.arange(1,13)\n",
        "arr34 = arr34.reshape(3,4)"
      ]
    },
    {
      "cell_type": "markdown",
      "metadata": {
        "id": "N2NSjuaSCRg6"
      },
      "source": [
        "Buatlah array 2D dengan nama arrayB berukuran 4 x 1 dengan hasil sebagai berikut :"
      ]
    },
    {
      "cell_type": "code",
      "execution_count": 46,
      "metadata": {
        "id": "CWjdFjvzCRg7",
        "outputId": "22718455-0fa0-4d5a-a235-fd3003f074e7"
      },
      "outputs": [],
      "source": [
        "arr41 = np.arange(100,401,100)\n",
        "arr41 = arr41.reshape(4,1)"
      ]
    },
    {
      "cell_type": "markdown",
      "metadata": {
        "id": "7376oL2BCRg7"
      },
      "source": [
        "Gabungkanlah arrayA dan arrayB menjadi arrayC dengan hasil sebagai berikut:"
      ]
    },
    {
      "cell_type": "code",
      "execution_count": 48,
      "metadata": {
        "id": "_5ujegJKCRg8",
        "outputId": "e15258c0-47f5-4bfe-afda-8cf30b1d3fdd"
      },
      "outputs": [
        {
          "data": {
            "text/plain": [
              "array([[  1,   2,   3,   4],\n",
              "       [  5,   6,   7,   8],\n",
              "       [  9,  10,  11,  12],\n",
              "       [100, 200, 300, 400]])"
            ]
          },
          "execution_count": 48,
          "metadata": {},
          "output_type": "execute_result"
        }
      ],
      "source": [
        "arrayC = np.concatenate((arr34,arr41.T), axis=0) #axis 0 = baris, 1 kolom\n",
        "arrayC"
      ]
    },
    {
      "cell_type": "markdown",
      "metadata": {
        "id": "dvq8tVJlCRg8"
      },
      "source": [
        "<hr>\n",
        "\n",
        "### **Nomor 9**\n",
        "\n",
        "Tampilkan hasil sebagai berikut dengan cara melakukan slicing pada arrayC!"
      ]
    },
    {
      "cell_type": "code",
      "execution_count": 59,
      "metadata": {
        "id": "ZVcSex3lCRg9",
        "outputId": "bc6973df-f972-44ee-b088-19b18bb072bf"
      },
      "outputs": [
        {
          "name": "stdout",
          "output_type": "stream",
          "text": [
            "[[ 7  8]\n",
            " [11 12]]\n"
          ]
        }
      ],
      "source": [
        "print(arrayC[1:3, 2:4]) #from row index-1,2, slice index-2,3"
      ]
    },
    {
      "cell_type": "markdown",
      "metadata": {
        "id": "ACcFaXyXCRg9"
      },
      "source": [
        "<hr>\n",
        "\n",
        "### **Nomor 10**\n",
        "\n",
        "Tampilkan hasil sebagai berikut dengan cara melakukan slicing pada arrayC!"
      ]
    },
    {
      "cell_type": "code",
      "execution_count": 60,
      "metadata": {
        "id": "G0dkgzi5CRg9",
        "outputId": "1cd00372-81c3-46d8-dd50-9d62cb10d123"
      },
      "outputs": [
        {
          "name": "stdout",
          "output_type": "stream",
          "text": [
            "200\n"
          ]
        }
      ],
      "source": [
        "print(arrayC[3, 1])"
      ]
    }
  ],
  "metadata": {
    "colab": {
      "provenance": []
    },
    "interpreter": {
      "hash": "7679c2132d3f6ce38c9df14d554b39c06862b36a4e6689c81f9ae15bd0911d7d"
    },
    "kernelspec": {
      "display_name": "Python 3.7.11 ('base')",
      "language": "python",
      "name": "python3"
    },
    "language_info": {
      "codemirror_mode": {
        "name": "ipython",
        "version": 3
      },
      "file_extension": ".py",
      "mimetype": "text/x-python",
      "name": "python",
      "nbconvert_exporter": "python",
      "pygments_lexer": "ipython3",
      "version": "3.10.5"
    },
    "orig_nbformat": 4
  },
  "nbformat": 4,
  "nbformat_minor": 0
}
