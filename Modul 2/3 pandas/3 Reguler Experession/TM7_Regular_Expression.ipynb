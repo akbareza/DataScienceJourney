{
  "cells": [
    {
      "cell_type": "markdown",
      "metadata": {
        "id": "Z6rBj-crPT8f"
      },
      "source": [
        "`July 21, 2022`"
      ]
    },
    {
      "cell_type": "markdown",
      "metadata": {
        "id": "twNZfZP3PT8n"
      },
      "source": [
        "## **Regular Expression**"
      ]
    },
    {
      "cell_type": "markdown",
      "metadata": {
        "id": "6NGloRbYPT8p"
      },
      "source": [
        "### **Raw Strings**"
      ]
    },
    {
      "cell_type": "code",
      "execution_count": 12,
      "metadata": {
        "id": "Th3if8R2PT8q",
        "outputId": "31d281a6-42de-4fcd-ae8c-6e4e89f68a0c"
      },
      "outputs": [
        {
          "ename": "SyntaxError",
          "evalue": "(unicode error) 'unicodeescape' codec can't decode bytes in position 1-2: truncated \\UXXXXXXXX escape (2247815689.py, line 4)",
          "output_type": "error",
          "traceback": [
            "\u001b[1;36m  Cell \u001b[1;32mIn[12], line 4\u001b[1;36m\u001b[0m\n\u001b[1;33m    path = 'C\\Users\\tab\\news'\u001b[0m\n\u001b[1;37m                             ^\u001b[0m\n\u001b[1;31mSyntaxError\u001b[0m\u001b[1;31m:\u001b[0m (unicode error) 'unicodeescape' codec can't decode bytes in position 1-2: truncated \\UXXXXXXXX escape\n"
          ]
        }
      ],
      "source": [
        "# Untuk membedakan antara regex code dan raw strings, gunakan 'r' di depan tanda kutip\n",
        "\n",
        "# Contoh 1\n",
        "path = 'C\\Users\\tab\\news'\n",
        "print(path)"
      ]
    },
    {
      "cell_type": "code",
      "execution_count": 8,
      "metadata": {
        "id": "rKOXxNS5PT8v",
        "outputId": "32c034e2-0f5b-4823-a84a-f69e78a06268"
      },
      "outputs": [
        {
          "name": "stdout",
          "output_type": "stream",
          "text": [
            "C\tab\n",
            "ew\n"
          ]
        }
      ],
      "source": [
        "# Contoh 2\n",
        "path = 'C\\tab\\new'\n",
        "print(path) # \\t akan terbaca sebagai tab,\n",
        "            # \\n akan terbaca sebagai new line"
      ]
    },
    {
      "cell_type": "code",
      "execution_count": null,
      "metadata": {
        "id": "pDKkX4XMPT8x",
        "outputId": "ca213ec5-d57b-4477-de48-ddc27b377ea0"
      },
      "outputs": [
        {
          "name": "stdout",
          "output_type": "stream",
          "text": [
            "C\\Users\\tab\\news\n"
          ]
        }
      ],
      "source": [
        "# Contoh 3\n",
        "path = r'C\\Users\\tab\\news'\n",
        "print(path)"
      ]
    },
    {
      "cell_type": "markdown",
      "metadata": {
        "id": "RH5wnguYPT8z"
      },
      "source": [
        "### **Regex Methods**"
      ]
    },
    {
      "cell_type": "code",
      "execution_count": 13,
      "metadata": {
        "id": "g8erL70xPT81"
      },
      "outputs": [],
      "source": [
        "# Import library 're' untuk menggunakan regex\n",
        "import re"
      ]
    },
    {
      "cell_type": "markdown",
      "metadata": {
        "id": "Md_VAloTPT82"
      },
      "source": [
        "#### **re.compile()**"
      ]
    },
    {
      "cell_type": "code",
      "execution_count": 14,
      "metadata": {
        "id": "egC-7K1-PT83",
        "outputId": "0cd21372-feae-47e3-8eca-b9d0c2137851"
      },
      "outputs": [
        {
          "name": "stdout",
          "output_type": "stream",
          "text": [
            "<class 'str'>\n"
          ]
        }
      ],
      "source": [
        "# x terbaca sebagai class str\n",
        "x = r'\\d{4}'\n",
        "print(type(x))"
      ]
    },
    {
      "cell_type": "code",
      "execution_count": 15,
      "metadata": {
        "id": "sRTCOkJ6PT85",
        "outputId": "ff39b789-ae7d-4bb4-cc48-4971c74b1ae1"
      },
      "outputs": [
        {
          "name": "stdout",
          "output_type": "stream",
          "text": [
            "<class 're.Pattern'>\n"
          ]
        }
      ],
      "source": [
        "# Untuk mengubahnya menjadi regex dtype (re.Pattern), gunakan re.compile()\n",
        "x = re.compile(x)\n",
        "print(type(x))"
      ]
    },
    {
      "cell_type": "code",
      "execution_count": 16,
      "metadata": {
        "id": "87Lf2aQuPT86",
        "outputId": "52095859-e7b6-4a57-f899-fe340630e825"
      },
      "outputs": [
        {
          "data": {
            "text/plain": [
              "['2022', '2026']"
            ]
          },
          "execution_count": 16,
          "metadata": {},
          "output_type": "execute_result"
        }
      ],
      "source": [
        "str1 = 'Saya lahir pada tahun 2022. Pada tahun 2026, umur saya baru 4 tahun.'\n",
        "\n",
        "# Gunakan re.findall()\n",
        "hasil = re.findall(x, str1)\n",
        "hasil"
      ]
    },
    {
      "cell_type": "markdown",
      "metadata": {
        "id": "P8uk55r9PT88"
      },
      "source": [
        "\n",
        "    - re.compile() bisa digunakan untuk mengonversi suatu class object menjadi class re.Pattern.\n",
        "    - re.findall() digunakan untuk mencari pola yang sama secara berulang.\n",
        "    - Akan tetapi, jika menggunakan method lain, otomatis cara kerja method lain tersebut mengandung proses compiling, sehingga kita tidak perlu melakukan compiling secara manual."
      ]
    },
    {
      "cell_type": "code",
      "execution_count": 21,
      "metadata": {
        "id": "dyNzyxOHPT89",
        "outputId": "0a712e96-0a4b-4fa3-9c20-d0b311c669b9"
      },
      "outputs": [
        {
          "data": {
            "text/plain": [
              "['89', '30', '33', '41']"
            ]
          },
          "execution_count": 21,
          "metadata": {},
          "output_type": "execute_result"
        }
      ],
      "source": [
        "# Contoh lain untuk membuktikan proses compiling secara otomatis\n",
        "    # jika menggunakan salah satu regex method.\n",
        "\n",
        "# Target string\n",
        "str2 = 'Nomor urut yang sudah dipanggil adalah 89, 302, 333, dan 417.'\n",
        "\n",
        "# Code regex\n",
        "str_pattern = r'\\d{2}'\n",
        "\n",
        "hasil = re.findall(str_pattern, str2)\n",
        "hasil"
      ]
    },
    {
      "cell_type": "markdown",
      "metadata": {
        "id": "Cvi5XDPJPT8-"
      },
      "source": [
        "#### **re.search()**"
      ]
    },
    {
      "cell_type": "code",
      "execution_count": 31,
      "metadata": {
        "id": "dL_yrRdGPT8_",
        "outputId": "75c6e8df-f9f9-484c-872f-f524483385d0"
      },
      "outputs": [
        {
          "data": {
            "text/plain": [
              "<re.Match object; span=(22, 25), match='203'>"
            ]
          },
          "execution_count": 31,
          "metadata": {},
          "output_type": "execute_result"
        }
      ],
      "source": [
        "# Mencari pola 3 digit secara berurutan\n",
        "\n",
        "str3 = 'Saya lahir pada tahun 2032. Pada tahun 2026, umur saya baru 4 tahun. Saya tinggal di rumah bernomor 399 jalan Kahatex.'\n",
        "\n",
        "hasil_re_search = re.search(r'\\d{3}', str3)\n",
        "hasil_re_search # Output-nya 202 karena pada 2022 hanya diambil 3 digit pertama saja.\n",
        "                # re.search() hanya mengembalikan nilai pertama yang cocok dengan regex\n",
        "                    # yang ditemukan di target string.\n",
        "                # Return value berupa match object."
      ]
    },
    {
      "cell_type": "code",
      "execution_count": null,
      "metadata": {
        "id": "HBAUezcXPT9H",
        "outputId": "10fe67f9-0663-4b82-9d3d-e4f628069116"
      },
      "outputs": [
        {
          "data": {
            "text/plain": [
              "'202'"
            ]
          },
          "execution_count": 21,
          "metadata": {},
          "output_type": "execute_result"
        }
      ],
      "source": [
        "str3[22:25]"
      ]
    },
    {
      "cell_type": "code",
      "execution_count": null,
      "metadata": {
        "id": "854NOvCFPT9I",
        "outputId": "de359e38-9202-4964-bbee-8040606aad05"
      },
      "outputs": [
        {
          "name": "stdout",
          "output_type": "stream",
          "text": [
            "None\n",
            "<class 'NoneType'>\n"
          ]
        }
      ],
      "source": [
        "# Jika tidak ada yang sesuai dengan pola regex yang didefinisikan,\n",
        "    # return value akan berupa class NoneType\n",
        "\n",
        "hasil_re_search2 = re.search(r'\\d{5}', str3)\n",
        "print(hasil_re_search2)\n",
        "print(type(hasil_re_search2))"
      ]
    },
    {
      "cell_type": "markdown",
      "metadata": {
        "id": "nBICMbCyPT9J"
      },
      "source": [
        "    - Method re.search() akan mencari 3 digit secara berurutan yang ada di dalam string. Meskipun ada angka yang berjumlah 4 digit atau lebih, hanya 3 angka awal saja yang dibaca oleh method ini. Sisa angka lainnya tidak akan dianggap ada.\n",
        "    - Perlu diingat, method ini hanya mengeluarkan 1 hasil saja. Eksekusi akan berhenti jika sudah ketemu pola yang sesuai dengan regex-nya, meskipun masih ada angka-angka lain yang sesuai spesifikasi. Hasil di output hanyalah angka yang pertama saja.\n",
        "    - span=(22, 25) berarti nilai yang ada di 'match' berada pada index 22-24. Bisa di-indexing dengan cara str3[22:25]\n",
        "    - Method re.search() akan mengembalikan re.Match objek jika ada hasil yang ditemukan. Jika tidak ada hasil, maka akan dikembalikan sebagai NoneType."
      ]
    },
    {
      "cell_type": "markdown",
      "metadata": {
        "id": "BJ-jt31NPT9J"
      },
      "source": [
        "#### **re.findall()**"
      ]
    },
    {
      "cell_type": "markdown",
      "metadata": {
        "id": "rJduGsKFPT9K"
      },
      "source": [
        "- Salah satu method yang paling sering digunakan.\n",
        "- Mengembalikan semua nilai di target string yang sesuai dengan regex pattern.\n",
        "- Return value dalam bentuk class list."
      ]
    },
    {
      "cell_type": "code",
      "execution_count": 32,
      "metadata": {},
      "outputs": [
        {
          "data": {
            "text/plain": [
              "'Saya lahir pada tahun 2032. Pada tahun 2026, umur saya baru 4 tahun. Saya tinggal di rumah bernomor 399 jalan Kahatex.'"
            ]
          },
          "execution_count": 32,
          "metadata": {},
          "output_type": "execute_result"
        }
      ],
      "source": [
        "str3"
      ]
    },
    {
      "cell_type": "code",
      "execution_count": 34,
      "metadata": {
        "id": "TYBUJQvJPT9K",
        "outputId": "fc7ec4ee-8b37-4aac-9653-598850349b92"
      },
      "outputs": [
        {
          "data": {
            "text/plain": [
              "['2', '0', '3', '2', '2', '0', '2', '6', '4', '3', '9', '9']"
            ]
          },
          "execution_count": 34,
          "metadata": {},
          "output_type": "execute_result"
        }
      ],
      "source": [
        "# Contoh 1\n",
        "hasil_findall = re.findall(r'\\d{1}', str3)\n",
        "hasil_findall"
      ]
    },
    {
      "cell_type": "code",
      "execution_count": null,
      "metadata": {
        "id": "lxzzGA6kPT9L",
        "outputId": "67dbae27-9948-4b38-9708-5e129f785b6c"
      },
      "outputs": [
        {
          "name": "stdout",
          "output_type": "stream",
          "text": [
            "<class 'list'>\n"
          ]
        }
      ],
      "source": [
        "# Cek data type dari return value findall method\n",
        "print(type(hasil_findall))"
      ]
    },
    {
      "cell_type": "code",
      "execution_count": null,
      "metadata": {
        "id": "Uf4Gi742PT9M",
        "outputId": "65f2a5df-15eb-458d-8497-6ceb09754da0"
      },
      "outputs": [
        {
          "name": "stdout",
          "output_type": "stream",
          "text": [
            "[]\n",
            "<class 'list'>\n"
          ]
        }
      ],
      "source": [
        "# Jika tidak ada yang sesuai dengan regex pattern, maka return value berupa list kosong.\n",
        "hasil_re_findall2 = re.findall(r'\\d{5}', str3)\n",
        "print(hasil_re_findall2)\n",
        "print(type(hasil_re_findall2))"
      ]
    },
    {
      "cell_type": "markdown",
      "metadata": {
        "id": "YvsFV8UkPT9N"
      },
      "source": [
        "#### **re.split()**"
      ]
    },
    {
      "cell_type": "code",
      "execution_count": null,
      "metadata": {
        "id": "L_dLf3FpPT9O",
        "outputId": "378d47fc-2952-47f9-cc0a-c41515799168"
      },
      "outputs": [
        {
          "data": {
            "text/plain": [
              "['Saya',\n",
              " 'lahir',\n",
              " 'pada',\n",
              " 'tahun',\n",
              " '2022.',\n",
              " 'Pada',\n",
              " 'tahun',\n",
              " '2026,',\n",
              " 'umur',\n",
              " 'saya',\n",
              " 'baru',\n",
              " '4',\n",
              " 'tahun.',\n",
              " 'Saya',\n",
              " 'tinggal',\n",
              " 'di',\n",
              " 'rumah',\n",
              " 'bernomor',\n",
              " '399',\n",
              " 'jalan',\n",
              " 'Kahatex.']"
            ]
          },
          "execution_count": 25,
          "metadata": {},
          "output_type": "execute_result"
        }
      ],
      "source": [
        "# Python split()\n",
        "str3.split()"
      ]
    },
    {
      "cell_type": "code",
      "execution_count": null,
      "metadata": {
        "id": "6WnUEuOQPT9O",
        "outputId": "adcb2760-fec7-45e8-cbab-3ff183b3482c"
      },
      "outputs": [
        {
          "data": {
            "text/plain": [
              "['Saya',\n",
              " 'lahir',\n",
              " 'pada',\n",
              " 'tahun',\n",
              " '2022.',\n",
              " 'Pada',\n",
              " 'tahun',\n",
              " '2026,',\n",
              " 'umur',\n",
              " 'saya',\n",
              " 'baru',\n",
              " '4',\n",
              " 'tahun.',\n",
              " 'Saya',\n",
              " 'tinggal',\n",
              " 'di',\n",
              " 'rumah',\n",
              " 'bernomor',\n",
              " '399',\n",
              " 'jalan',\n",
              " 'Kahatex.']"
            ]
          },
          "execution_count": 29,
          "metadata": {},
          "output_type": "execute_result"
        }
      ],
      "source": [
        "# Split menggunakan re.split()\n",
        "hasil_split = re.split(r'\\s', str3) # \\s berarti 1 whitespace\n",
        "hasil_split"
      ]
    },
    {
      "cell_type": "code",
      "execution_count": null,
      "metadata": {
        "id": "HqhpTLiHPT9T",
        "outputId": "242e001e-c530-4814-e92d-74931a9078f5"
      },
      "outputs": [
        {
          "data": {
            "text/plain": [
              "['Saya lahir pada tahun ',\n",
              " '2. Pada tahun ',\n",
              " '6, umur saya baru 4 tahun. Saya tinggal di rumah bernomor ',\n",
              " ' jalan Kahatex.']"
            ]
          },
          "execution_count": 30,
          "metadata": {},
          "output_type": "execute_result"
        }
      ],
      "source": [
        "# Contoh delimiter yang flexible menggunakan re.split()\n",
        "\n",
        "# Split string kalau ketemu pola 3 digit secara berurutan\n",
        "hasil_split_3digit = re.split(r'\\d{3}', str3)\n",
        "hasil_split_3digit"
      ]
    },
    {
      "cell_type": "code",
      "execution_count": null,
      "metadata": {
        "id": "kE4Vr0_TPT9U",
        "outputId": "e7ec743d-3c8f-49d4-ec98-651c805caddb"
      },
      "outputs": [
        {
          "data": {
            "text/plain": [
              "['Saya lahir pada tahun 2022. Pada tahun 2026, umur saya baru 4 tahun. Saya tinggal di rumah bernomor 399 jalan Kahatex.']"
            ]
          },
          "execution_count": 36,
          "metadata": {},
          "output_type": "execute_result"
        }
      ],
      "source": [
        "# Jika tidak ada yang cocok dengan regex pattern, maka akan mengembalikan\n",
        "    # semua isi string. Tidak ada yang di-split\n",
        "\n",
        "# Split berdasarkan 3 whitespaces secara beruntun    \n",
        "hasil_split_3spaces = re.split(r'\\s{3}', str3)\n",
        "hasil_split_3spaces"
      ]
    },
    {
      "cell_type": "markdown",
      "metadata": {
        "id": "DoYv7pk_PT9U"
      },
      "source": [
        "    - Pada regex, \\s berarti mencocokkan regular space (whitespace).\n",
        "    - Perbedaan antara split pada Python dan regex adalah kita bisa mendefinisikan pattern pada delimiter-nya, sedangkan pada Python hanya terbatas pada fixed-characters saja. Jadi, split pada regex jauh lebih fleksibel.\n",
        "    - Jika tidak ada yang cocok dengan pattern yang didefinisikan di re.split, maka tidak akan ada yang di-split. Output-nya adalah semua yang ada di dalam string."
      ]
    },
    {
      "cell_type": "markdown",
      "metadata": {
        "id": "85DgzmFcPT9V"
      },
      "source": [
        "#### **re.sub()**"
      ]
    },
    {
      "cell_type": "markdown",
      "metadata": {
        "id": "IKC9EcR9PT9V"
      },
      "source": [
        "    **Syntax: re.sub(pattern, replacement, string, count, flags)**'\n",
        "\n",
        "**Tiga argumen wajib:**\n",
        "- pattern: regex pattern untuk target string\n",
        "- repl: replacement yang akan dimasukkan untuk tiap occurence\n",
        "- string: variabel target string\n",
        "\n",
        "**Argumen opsional:**\n",
        "- count: menandakan angka maksimal dari pattern yang akan diganti. Isinya harus berupa integer positif dan default-nya adalah 0, yang artinya semua occcurrences akan diganti.\n",
        "- flags: re.I, re.S, re.X, etc.\n",
        "\n",
        "\n"
      ]
    },
    {
      "cell_type": "code",
      "execution_count": 36,
      "metadata": {
        "id": "PFzcpi4OPT9W",
        "outputId": "e8d77273-781f-4208-b701-064536a9fc47"
      },
      "outputs": [
        {
          "data": {
            "text/plain": [
              "'Saya LAHIR pada tahun 2022. Pada tahun 2026, UMUR saya baru 4 tahun. Saya TINGGAL di rumah bernomor 399 jalan Kahatex.'"
            ]
          },
          "execution_count": 36,
          "metadata": {},
          "output_type": "execute_result"
        }
      ],
      "source": [
        "str4 = 'Saya LAHIR pada tahun 2022. Pada tahun 2026, UMUR saya baru 4 tahun. Saya TINGGAL di rumah bernomor 399 jalan Kahatex.'\n",
        "\n",
        "str4"
      ]
    },
    {
      "cell_type": "code",
      "execution_count": 41,
      "metadata": {
        "id": "XJPbypIHPT9X",
        "outputId": "66d5e13a-0889-488c-b2e2-d42d4be14c8c"
      },
      "outputs": [
        {
          "data": {
            "text/plain": [
              "'Saya INDEX pada tahun 2022. Pada tahun 2026, INDEX saya baru 4 tahun. Saya INDEX di rumah bernomor 399 jalan Kahatex.'"
            ]
          },
          "execution_count": 41,
          "metadata": {},
          "output_type": "execute_result"
        }
      ],
      "source": [
        "# Mengganti semua kata yang hurufnya kapital dengan kata 'INDEX'\n",
        "\n",
        "# [A-Z] dinamakan character class\n",
        "    # [A-Z] --> any uppercase letter\n",
        "    # [a-z] --> any lowercase letter\n",
        "\n",
        "hasil_re_sub = re.sub(r'[A-Z]{2,}', 'INDEX', str4)\n",
        "hasil_re_sub\n",
        "\n",
        "# [A-Z]{2,} berarti mencari pola dengan huruf kapital [A-Z] yang diulang minimal\n",
        "    # sebanyak 2 kali dan bisa lebih, berapapun itu."
      ]
    },
    {
      "cell_type": "code",
      "execution_count": 45,
      "metadata": {
        "id": "2y8qzFXAPT9Y",
        "outputId": "347f1238-7655-4577-ac8d-e9f73c9ffaeb"
      },
      "outputs": [
        {
          "data": {
            "text/plain": [
              "'Saya INDEX pada tahun 2022. Pada tahun 2026, INDEX saya baru 4 tahun. Saya INDEX di rumah bernomor 399 jalan Kahatex.'"
            ]
          },
          "execution_count": 45,
          "metadata": {},
          "output_type": "execute_result"
        }
      ],
      "source": [
        "# Jika parameter count diisi dengan suatu value\n",
        "\n",
        "# Mengganti kata yang mengandung minimal 2 huruf dan\n",
        "    # berupa huruf kapital semua sebanyak 2 occurrences\n",
        "hasil_re_sub2 = re.sub(r'[A-Z]{2,}', 'INDEX', str4, 0)\n",
        "hasil_re_sub2"
      ]
    },
    {
      "cell_type": "code",
      "execution_count": 44,
      "metadata": {},
      "outputs": [
        {
          "name": "stdout",
          "output_type": "stream",
          "text": [
            "\u001b[1;31mSignature:\u001b[0m \u001b[0mre\u001b[0m\u001b[1;33m.\u001b[0m\u001b[0msub\u001b[0m\u001b[1;33m(\u001b[0m\u001b[0mpattern\u001b[0m\u001b[1;33m,\u001b[0m \u001b[0mrepl\u001b[0m\u001b[1;33m,\u001b[0m \u001b[0mstring\u001b[0m\u001b[1;33m,\u001b[0m \u001b[0mcount\u001b[0m\u001b[1;33m=\u001b[0m\u001b[1;36m0\u001b[0m\u001b[1;33m,\u001b[0m \u001b[0mflags\u001b[0m\u001b[1;33m=\u001b[0m\u001b[1;36m0\u001b[0m\u001b[1;33m)\u001b[0m\u001b[1;33m\u001b[0m\u001b[1;33m\u001b[0m\u001b[0m\n",
            "\u001b[1;31mDocstring:\u001b[0m\n",
            "Return the string obtained by replacing the leftmost\n",
            "non-overlapping occurrences of the pattern in string by the\n",
            "replacement repl.  repl can be either a string or a callable;\n",
            "if a string, backslash escapes in it are processed.  If it is\n",
            "a callable, it's passed the Match object and must return\n",
            "a replacement string to be used.\n",
            "\u001b[1;31mFile:\u001b[0m      c:\\users\\achma\\appdata\\local\\programs\\python\\python39\\lib\\re.py\n",
            "\u001b[1;31mType:\u001b[0m      function"
          ]
        }
      ],
      "source": [
        "?re.sub"
      ]
    },
    {
      "cell_type": "markdown",
      "metadata": {
        "id": "TpJh8-1iPT9Y"
      },
      "source": [
        "#### **Optional Flags**"
      ]
    },
    {
      "cell_type": "markdown",
      "metadata": {
        "id": "QVf_XCOwPT9Z"
      },
      "source": [
        "Beberapa macam optional flags yang sering digunakan:\n",
        "\n",
        "- re.I --> IGNORECASE --> to perform case insensitive matching.\n",
        "- re.S --> DOTALL --> cover new line character, when we use dot (.)\n",
        "- re.X --> VERBOSE --> more flexibility & better formatting when writing more complex patterns."
      ]
    },
    {
      "cell_type": "code",
      "execution_count": null,
      "metadata": {
        "id": "2Sdv2xbOPT9a",
        "outputId": "d1940c3e-720e-4ba8-8ee1-ad7ae27631cf"
      },
      "outputs": [
        {
          "data": {
            "text/plain": [
              "'Saya LAHIR pada tahun 2022. \\nPada tahun 2026, UMUR saya baru 4 tahun. \\nSaya TINGGAL di rumah bernomor 399 jalan Kahatex.\\n'"
            ]
          },
          "execution_count": 45,
          "metadata": {},
          "output_type": "execute_result"
        }
      ],
      "source": [
        "str5 = '''Saya LAHIR pada tahun 2022. \n",
        "Pada tahun 2026, UMUR saya baru 4 tahun. \n",
        "Saya TINGGAL di rumah bernomor 399 jalan Kahatex.\n",
        "'''\n",
        "\n",
        "str5"
      ]
    },
    {
      "cell_type": "markdown",
      "metadata": {
        "id": "jteZao8LPT9b"
      },
      "source": [
        "##### **re.I (IGNORECASE)**"
      ]
    },
    {
      "cell_type": "code",
      "execution_count": null,
      "metadata": {
        "id": "0Zx5nNW6PT-B",
        "outputId": "89ba903f-522f-431c-db73-b5ca1c761598"
      },
      "outputs": [
        {
          "data": {
            "text/plain": [
              "['saya']"
            ]
          },
          "execution_count": 46,
          "metadata": {},
          "output_type": "execute_result"
        }
      ],
      "source": [
        "# Hanya kata 'saya' dengan s huruf kecil yang match\n",
        "hasil_tanpa_ignorecase = re.findall(r'saya', str5)\n",
        "hasil_tanpa_ignorecase"
      ]
    },
    {
      "cell_type": "code",
      "execution_count": null,
      "metadata": {
        "id": "sK31M1oDPT-D",
        "outputId": "f29b0e23-453e-48f8-c2e6-e3dd6c9880c8"
      },
      "outputs": [
        {
          "data": {
            "text/plain": [
              "['Saya', 'saya', 'Saya']"
            ]
          },
          "execution_count": 47,
          "metadata": {},
          "output_type": "execute_result"
        }
      ],
      "source": [
        "# Semua kata 'saya' akan match.\n",
        "hasil_ignorecase = re.findall(r'saya', str5, re.I)\n",
        "hasil_ignorecase"
      ]
    },
    {
      "cell_type": "markdown",
      "metadata": {
        "id": "_q_NMYSnPT-D"
      },
      "source": [
        "##### **re.S (DOTALL)**"
      ]
    },
    {
      "cell_type": "code",
      "execution_count": null,
      "metadata": {
        "id": "y1cXRLl1PT-E",
        "outputId": "0122c757-01c1-4e29-acf6-a1c789f4bb35"
      },
      "outputs": [
        {
          "data": {
            "text/plain": [
              "<re.Match object; span=(0, 28), match='Saya LAHIR pada tahun 2022. '>"
            ]
          },
          "execution_count": 51,
          "metadata": {},
          "output_type": "execute_result"
        }
      ],
      "source": [
        "# Hanya akan terbaca kalimat pertama saja\n",
        "\n",
        "# Mencari karakter apapun diikuti minimal 1 repetisi.\n",
        "hasil_tanpa_dotall = re.search(r'.+', str5) # mencari karakter apapun tapi tidak bisa menangkap\n",
        "                                                # newline.\n",
        "hasil_tanpa_dotall"
      ]
    },
    {
      "cell_type": "code",
      "execution_count": null,
      "metadata": {
        "id": "O8ItO06VPT-F",
        "outputId": "55f0c363-0b41-43bb-afa9-e6bc079595c9"
      },
      "outputs": [
        {
          "data": {
            "text/plain": [
              "<re.Match object; span=(0, 121), match='Saya LAHIR pada tahun 2022. \\nPada tahun 2026, UM>"
            ]
          },
          "execution_count": 52,
          "metadata": {},
          "output_type": "execute_result"
        }
      ],
      "source": [
        "# re.S digunakan khususnya jika target string mengandung multiline\n",
        "hasil_dotall = re.search(r'.+', str5, re.S)\n",
        "hasil_dotall"
      ]
    },
    {
      "cell_type": "code",
      "execution_count": null,
      "metadata": {
        "id": "pqjp_v9_PT-G",
        "outputId": "47138c3a-2277-46f9-abf1-5a1a5cef7082"
      },
      "outputs": [
        {
          "data": {
            "text/plain": [
              "'Saya LAHIR pada tahun 2022. \\nPada tahun 2026, UMUR saya baru 4 tahun. \\nSaya TINGGAL di rumah bernomor 399 jalan Kahatex.\\n'"
            ]
          },
          "execution_count": 58,
          "metadata": {},
          "output_type": "execute_result"
        }
      ],
      "source": [
        "# Validasi hasil di atas\n",
        "str5[:121]"
      ]
    },
    {
      "cell_type": "markdown",
      "metadata": {
        "id": "ZM2bOzECPT-G"
      },
      "source": [
        "##### **re.X (VERBOSE)**"
      ]
    },
    {
      "cell_type": "code",
      "execution_count": null,
      "metadata": {
        "id": "JpCr2PWgPT-H"
      },
      "outputs": [],
      "source": [
        "hasil_tanpa_verbose = re.search(r'.+\\s(.+ax).+(\\d\\d\\s\\w{2,})', str5)\n",
        "hasil_tanpa_verbose"
      ]
    },
    {
      "cell_type": "code",
      "execution_count": null,
      "metadata": {
        "id": "YCkD2DVLPT-I",
        "outputId": "a5b8c7c7-5540-4e48-fdd1-4885cc360fda"
      },
      "outputs": [
        {
          "name": "stdout",
          "output_type": "stream",
          "text": [
            "None\n"
          ]
        }
      ],
      "source": [
        "# Digunakan untuk memberikan dokumentasi terhadap regex pattern yang dibuat\n",
        "hasil_verbose = re.search(\n",
        "                        r'''\n",
        "                        .+ # untuk mencari karakter apapun dan diikuti dengan minimum 1 repetisi\n",
        "                        \\s # 1 whitespace\n",
        "                        (.+ax) # grouping karakter apapun dan diikuti dengan minimum 1 repetisi ditambah karakter 'ax'\n",
        "                        .+ # untuk mencari karakter apapun dan diikuti dengan minimum 1 repetisi\n",
        "                        '''\n",
        "                        , str5\n",
        ")\n",
        "\n",
        "print(hasil_verbose)"
      ]
    },
    {
      "cell_type": "markdown",
      "metadata": {
        "id": "9Jsno1j0PT-I"
      },
      "source": [
        "### **Metacharacters**"
      ]
    },
    {
      "cell_type": "markdown",
      "metadata": {
        "id": "U9N5HkPaPT-J"
      },
      "source": [
        "#### **The dot (.)**"
      ]
    },
    {
      "cell_type": "markdown",
      "metadata": {
        "id": "fsEgvDXVPT-J"
      },
      "source": [
        "    dot (.) means match any character except a new line"
      ]
    },
    {
      "cell_type": "code",
      "execution_count": null,
      "metadata": {
        "id": "nSmRq8aIPT-K",
        "outputId": "c268a2b0-932d-4cf3-ab96-2dc9f59c8a2a"
      },
      "outputs": [
        {
          "data": {
            "text/plain": [
              "'Saya LAHIR pada tahun 2022. Pada tahun 2026, UMUR saya baru 4 tahun. Saya TINGGAL di rumah bernomor 399 jalan Kahatex 2100'"
            ]
          },
          "execution_count": 59,
          "metadata": {},
          "output_type": "execute_result"
        }
      ],
      "source": [
        "str6 = 'Saya LAHIR pada tahun 2022. Pada tahun 2026, UMUR saya baru 4 tahun. Saya TINGGAL di rumah bernomor 399 jalan Kahatex 2100' \n",
        "str6"
      ]
    },
    {
      "cell_type": "code",
      "execution_count": null,
      "metadata": {
        "id": "YoXYjSBAPT-L",
        "outputId": "1ef3ab85-b6c0-41fa-9680-f51a92bfeaf8"
      },
      "outputs": [
        {
          "data": {
            "text/plain": [
              "<re.Match object; span=(0, 122), match='Saya LAHIR pada tahun 2022. Pada tahun 2026, UMUR>"
            ]
          },
          "execution_count": 60,
          "metadata": {},
          "output_type": "execute_result"
        }
      ],
      "source": [
        "# dot (.) means match any character except a new line\n",
        "hasil_dot = re.search(r'.+', str6)\n",
        "hasil_dot # Output-nya adalah seluruh isi pada string karena semuanya match\n",
        "          # dengan . dan karena ada +, jadinya diambil semuanya.\n"
      ]
    },
    {
      "cell_type": "code",
      "execution_count": null,
      "metadata": {
        "id": "n4SbG1l-PT-L",
        "outputId": "44280b07-06c7-477c-d494-79cfd369e2e1"
      },
      "outputs": [
        {
          "data": {
            "text/plain": [
              "'Saya LAHIR pada tahun 2022. Pada tahun 2026, UMUR saya baru 4 tahun. Saya TINGGAL di rumah bernomor 399 jalan Kahatex 2100'"
            ]
          },
          "execution_count": 61,
          "metadata": {},
          "output_type": "execute_result"
        }
      ],
      "source": [
        "str6[:122]"
      ]
    },
    {
      "cell_type": "markdown",
      "metadata": {
        "id": "laTez5OxPT-M"
      },
      "source": [
        "#### **Match pattern in the beginning or the end of string**"
      ]
    },
    {
      "cell_type": "markdown",
      "metadata": {
        "id": "u0JjHOecPT-M"
      },
      "source": [
        "##### **The caret (^)**\n",
        "\n"
      ]
    },
    {
      "cell_type": "markdown",
      "metadata": {
        "id": "bUmcrKoFPT-N"
      },
      "source": [
        "    The caret (^) matches only at the beginning of string."
      ]
    },
    {
      "cell_type": "code",
      "execution_count": null,
      "metadata": {
        "id": "KZPxrkHKPT-N",
        "outputId": "cbe4e64e-33f4-43dd-9dda-a6dfe9e42c56"
      },
      "outputs": [
        {
          "data": {
            "text/plain": [
              "<re.Match object; span=(0, 4), match='Saya'>"
            ]
          },
          "execution_count": 62,
          "metadata": {},
          "output_type": "execute_result"
        }
      ],
      "source": [
        "hasil_caret = re.search(r'^\\w{4}', str6) # Mencari kata dengan 4 huruf secara berurutan\n",
        "hasil_caret"
      ]
    },
    {
      "cell_type": "code",
      "execution_count": null,
      "metadata": {
        "id": "ZXDZpcuZPT-O",
        "outputId": "7ab0fb3a-141e-4ee9-dbe5-2201e57489ac"
      },
      "outputs": [
        {
          "name": "stdout",
          "output_type": "stream",
          "text": [
            "None\n"
          ]
        }
      ],
      "source": [
        "hasil_caret2 = re.search(r'^\\w{5}', str6) # Mencari kata dengan 4 huruf secara berurutan\n",
        "print(hasil_caret2)"
      ]
    },
    {
      "cell_type": "markdown",
      "metadata": {
        "id": "EhG1FfAQPT-P"
      },
      "source": [
        "    - re.search() hanya menampilkan temuan pertama saja jika memang ada yang cocok dengan regex pattern.\n",
        "    - ^\\w tidak akan bisa membaca semua pattern jika terdapat new lines pada string, meskipun menggunakan metode re.findall().\n",
        "    - Untuk dapat menemukan semua kata yang cocok dengan pattern pada target string meskipun terdapat new lines, gunakan re.findall() dan re.M (untuk multiple line)."
      ]
    },
    {
      "cell_type": "markdown",
      "metadata": {
        "id": "9SSlEnkIPT-Q"
      },
      "source": [
        "**Contoh re.M (multiline flag)**"
      ]
    },
    {
      "cell_type": "code",
      "execution_count": null,
      "metadata": {
        "id": "0U43GRIsPT-Q",
        "outputId": "1f8a694b-ffc1-4bd1-ed39-a22c63c56c49"
      },
      "outputs": [
        {
          "data": {
            "text/plain": [
              "'Saya LAHIR pada tahun 2022. \\nPada tahun 2026, UMUR saya baru 4 tahun. \\nSaya TINGGAL di rumah bernomor 399 jalan Kahatex.\\n'"
            ]
          },
          "execution_count": 69,
          "metadata": {},
          "output_type": "execute_result"
        }
      ],
      "source": [
        "str5"
      ]
    },
    {
      "cell_type": "code",
      "execution_count": null,
      "metadata": {
        "id": "pyBmR-stPT-R",
        "outputId": "e33918f6-d822-4f7d-bcff-7e6aa8020ddb"
      },
      "outputs": [
        {
          "data": {
            "text/plain": [
              "['Saya']"
            ]
          },
          "execution_count": 66,
          "metadata": {},
          "output_type": "execute_result"
        }
      ],
      "source": [
        "hasil_tanpa_M = re.findall(r'^\\w{4}', str5) # Mencari kata dengan 4 huruf secara berurutan\n",
        "hasil_tanpa_M"
      ]
    },
    {
      "cell_type": "code",
      "execution_count": null,
      "metadata": {
        "id": "JXvq_w_gPT-X",
        "outputId": "055a0637-a404-498a-8f93-1fd55e2d8ee4"
      },
      "outputs": [
        {
          "data": {
            "text/plain": [
              "['Saya', 'Pada', 'Saya']"
            ]
          },
          "execution_count": 68,
          "metadata": {},
          "output_type": "execute_result"
        }
      ],
      "source": [
        "# Percobaan dengan menggunakan findall pada target string yang memiliki new line.\n",
        "hasil_M = re.findall(r'^\\w{4}', str5, re.M) # Mencari kata dengan 4 huruf secara berurutan\n",
        "hasil_M"
      ]
    },
    {
      "cell_type": "code",
      "execution_count": null,
      "metadata": {
        "id": "dfEfcWM7PT-X"
      },
      "outputs": [],
      "source": [
        "# Contoh lain\n",
        "strx = '''Saya LAHIR pada tahun \n",
        "2022. Pada tahun 2026, UMUR saya baru 4 \n",
        "tahun. Saya TINGGAL di rumah bernomor 399 jalan Kahatex.\n",
        "'''\n",
        "\n",
        "strx"
      ]
    },
    {
      "cell_type": "code",
      "execution_count": null,
      "metadata": {
        "id": "G3WCl-1IPT-Y",
        "outputId": "823febfe-d826-40a1-8ba9-ae648c243a91"
      },
      "outputs": [
        {
          "data": {
            "text/plain": [
              "['Saya', '2022', 'tahu']"
            ]
          },
          "execution_count": 71,
          "metadata": {},
          "output_type": "execute_result"
        }
      ],
      "source": [
        "# Yang perlu diingat, caret (^) hanya membaca kata pertama saja dari suatu string.\n",
        "# Jika string mengandung lebih dari 1 line dan kita menggunakan re.M, maka kata pertama \n",
        "    # dari suatu string dan semua kata pertama setelah new line (\\n) akan tertangkap.\n",
        "\n",
        "# Contoh kasus\n",
        "hasil_M2 = re.findall(r'^\\w{4}', strx, re.M) # Mencari kata dengan 4 huruf secara berurutan\n",
        "hasil_M2 # Output adalah Saya, 2022, tahu karena 2022 dan tahu tepat berada setelah new line"
      ]
    },
    {
      "cell_type": "markdown",
      "metadata": {
        "id": "Hi8EWSe1PT-Z"
      },
      "source": [
        "#### **The dollar sign ($)**"
      ]
    },
    {
      "cell_type": "markdown",
      "metadata": {
        "id": "LpJbGtcLPT-a"
      },
      "source": [
        "    Opposite of caret (^), matches at the end of line or string."
      ]
    },
    {
      "cell_type": "code",
      "execution_count": null,
      "metadata": {
        "id": "bLJW_p2iPT-c",
        "outputId": "2db98664-b366-4f0f-fb9b-10a6ef493d81"
      },
      "outputs": [
        {
          "data": {
            "text/plain": [
              "'Saya LAHIR pada tahun 2022. Pada tahun 2026, UMUR saya baru 4 tahun. Saya TINGGAL di rumah bernomor 399 jalan Kahatex 2100'"
            ]
          },
          "execution_count": 72,
          "metadata": {},
          "output_type": "execute_result"
        }
      ],
      "source": [
        "str6"
      ]
    },
    {
      "cell_type": "code",
      "execution_count": null,
      "metadata": {
        "id": "EJJKM0_BPT-c",
        "outputId": "76d6d05c-c5f0-4d2f-a991-6b44dafabb2f"
      },
      "outputs": [
        {
          "data": {
            "text/plain": [
              "<re.Match object; span=(118, 122), match='2100'>"
            ]
          },
          "execution_count": 75,
          "metadata": {},
          "output_type": "execute_result"
        }
      ],
      "source": [
        "# Tanda $ diletakkan di akhir regex pattern karena kita ingin mencari tahu apakah target string\n",
        "    # diakhiri dengan 4 karakter berupa angka secara beruntun.\n",
        "hasil_dollar = re.search(r'\\d{4}$', str6)\n",
        "hasil_dollar"
      ]
    },
    {
      "cell_type": "code",
      "execution_count": null,
      "metadata": {
        "id": "hhULtdgrPT-d",
        "outputId": "17ba4084-9eb9-403c-d64d-5accc06a8c0b"
      },
      "outputs": [
        {
          "data": {
            "text/plain": [
              "['2100']"
            ]
          },
          "execution_count": 76,
          "metadata": {},
          "output_type": "execute_result"
        }
      ],
      "source": [
        "hasil_dollar2 = re.findall(r'\\d{4}$', str6)\n",
        "hasil_dollar2"
      ]
    },
    {
      "cell_type": "code",
      "execution_count": null,
      "metadata": {
        "id": "-cdyEgWEPT-e",
        "outputId": "9fe16f21-89d9-4014-9f56-229d6eb5ede1"
      },
      "outputs": [
        {
          "data": {
            "text/plain": [
              "[]"
            ]
          },
          "execution_count": 77,
          "metadata": {},
          "output_type": "execute_result"
        }
      ],
      "source": [
        "# Jika akhir string tidak sesuai dengan regex pattern.\n",
        "re.findall(r'\\d{5}$', str6)\n"
      ]
    },
    {
      "cell_type": "markdown",
      "metadata": {
        "id": "tZKYfuAxPT-g"
      },
      "source": [
        "#### **The asterisk (*)**"
      ]
    },
    {
      "cell_type": "markdown",
      "metadata": {
        "id": "WRnH2lcTPT-h"
      },
      "source": [
        "The asterisk (*) matches zero or more repetitions of the preceeding expression in greedy way (as many repetitions as possible)."
      ]
    },
    {
      "cell_type": "code",
      "execution_count": null,
      "metadata": {
        "id": "8G59I6h8PT-i"
      },
      "outputs": [],
      "source": [
        "str7 = '''Saya LAHIR pada tahun 2022. \n",
        "Pada tahun 2026, UMUR saya baru 4 tahun. \n",
        "Saya TINGGAL di rumah bernomor 399 jalan Kahatex.\n",
        "Bapak saya berumur 30 tahun.\n",
        "'''"
      ]
    },
    {
      "cell_type": "code",
      "execution_count": null,
      "metadata": {
        "id": "OrF4xmJSPT-j",
        "outputId": "7f5e7d8c-0488-45c9-cea9-cdb23972c4d5"
      },
      "outputs": [
        {
          "data": {
            "text/plain": [
              "['2022', '2026', '399', '30']"
            ]
          },
          "execution_count": 86,
          "metadata": {},
          "output_type": "execute_result"
        }
      ],
      "source": [
        "# Contoh 1\n",
        "# Mencari karakter dengan minimal 2 digit secara beruntun.\n",
        "# Jika lebih dari 2, maka akan match (greedy).\n",
        "hasil_asterisk = re.findall(r'\\d\\d\\d*', str7) # \\d mencari 1 digit\n",
        "hasil_asterisk\n",
        "\n",
        "# Dalam contoh ini, \\d yang ketiga bersifat opsional karena diikuti oleh * yang mana artinya bisa match\n",
        "    # untuk zero repetition."
      ]
    },
    {
      "cell_type": "code",
      "execution_count": null,
      "metadata": {
        "id": "fDKRIb09PT-k",
        "outputId": "8d58730f-ec01-4a94-f436-3259ded313bf"
      },
      "outputs": [
        {
          "data": {
            "text/plain": [
              "['AHIR pada tahun 2022. ', 'AL di rumah bernomor 399 jalan Kahatex.']"
            ]
          },
          "execution_count": 92,
          "metadata": {},
          "output_type": "execute_result"
        }
      ],
      "source": [
        "# Contoh 2\n",
        "# Mencari kata yang mengandung huruf A kapital\n",
        "hasil_asterisk2 = re.findall(r'A.*', str7) # A kapital diikuti oleh karakter \n",
        "                                           # apapun kecuali new line dan mengandung \n",
        "                                           # minimal 0 repetisi\n",
        "hasil_asterisk2\n",
        "\n",
        "# Greedy berarti substrings selain A dan diikuti oleh 1 karakter setelahnya juga ikut ditampilkan\n",
        "    # di outcome."
      ]
    },
    {
      "cell_type": "code",
      "execution_count": null,
      "metadata": {
        "id": "4PsxzhybPT-k",
        "outputId": "679fa1b0-49c7-45ea-ee44-8f99b882f275"
      },
      "outputs": [
        {
          "data": {
            "text/plain": [
              "['A', 'A']"
            ]
          },
          "execution_count": 94,
          "metadata": {},
          "output_type": "execute_result"
        }
      ],
      "source": [
        "# Kalau mau bersifat non-greedy, gunakan ? setelah *\n",
        "re.findall(r'A.*?', str7)"
      ]
    },
    {
      "cell_type": "markdown",
      "metadata": {
        "id": "N0dZEiX8PT-l"
      },
      "source": [
        "#### **The plus (+)**"
      ]
    },
    {
      "cell_type": "markdown",
      "metadata": {
        "id": "h-DxOLgUPT-l"
      },
      "source": [
        "The plus sign (+) matches one or more repetitions of the preceeding expression."
      ]
    },
    {
      "cell_type": "code",
      "execution_count": null,
      "metadata": {
        "id": "4iEOnyjSPT-m",
        "outputId": "1afca706-4bdf-48aa-84a9-c6580806d247"
      },
      "outputs": [
        {
          "data": {
            "text/plain": [
              "['AHIR pada tahun 2022. ', 'AL di rumah bernomor 399 jalan Kahatex.']"
            ]
          },
          "execution_count": 95,
          "metadata": {},
          "output_type": "execute_result"
        }
      ],
      "source": [
        "# By default, sifat + adalah greedy\n",
        "\n",
        "# Contoh 1\n",
        "hasil_plus = re.findall(r'A.+', str7)\n",
        "hasil_plus"
      ]
    },
    {
      "cell_type": "code",
      "execution_count": null,
      "metadata": {
        "id": "6LjK8L7nPT-n",
        "outputId": "78301620-dfac-4801-b7cc-1323eb58aa6f"
      },
      "outputs": [
        {
          "name": "stdout",
          "output_type": "stream",
          "text": [
            "Hasil asterisk:\n",
            " ['2022', '2026', '399', '30']\n",
            "Hasil plus:\n",
            " ['2022', '2026', '399']\n"
          ]
        }
      ],
      "source": [
        "# Contoh 2\n",
        "# Perbandingan antara * dan + untuk case yang sama\n",
        "\n",
        "# Asterisk\n",
        "print('Hasil asterisk:\\n', re.findall(r'\\d\\d\\d*', str7)) # \\d ketiga sifatnya opsional karena * minimal bisa 0 repetisi\n",
        "\n",
        "# Plus\n",
        "print('Hasil plus:\\n', re.findall(r'\\d\\d\\d+', str7)) # \\d ketiga sifatnya wajib karena + minimal terdapat 1 repetisi"
      ]
    },
    {
      "cell_type": "markdown",
      "metadata": {
        "id": "OPb_v2fuPT-n"
      },
      "source": [
        "#### **The question mark (?)**"
      ]
    },
    {
      "cell_type": "markdown",
      "metadata": {
        "id": "ngH1oE3zPT-o"
      },
      "source": [
        "    - The question mark (?) matches 0 or 1 repetitions of the preceeding expression.\n",
        "    - Non-greedy behaviour.\n",
        "    - This sign can cancel the greedy behaviour."
      ]
    },
    {
      "cell_type": "code",
      "execution_count": null,
      "metadata": {
        "id": "2wns1s90PT-p",
        "outputId": "7ddcdd1c-60b1-4408-e083-534500fa71f5"
      },
      "outputs": [
        {
          "data": {
            "text/plain": [
              "['202', '202', '399', '30']"
            ]
          },
          "execution_count": 98,
          "metadata": {},
          "output_type": "execute_result"
        }
      ],
      "source": [
        "# ? bersifat non-greedy\n",
        "hasil_question_mark = re.findall(r'\\d\\d\\d?', str7)\n",
        "hasil_question_mark"
      ]
    },
    {
      "cell_type": "code",
      "execution_count": null,
      "metadata": {
        "id": "lCLEiaCyPT-q",
        "outputId": "19a509a6-a8dc-40da-acd1-69b02658a129"
      },
      "outputs": [
        {
          "data": {
            "text/plain": [
              "['AH', 'AL']"
            ]
          },
          "execution_count": 102,
          "metadata": {},
          "output_type": "execute_result"
        }
      ],
      "source": [
        "# Contoh lain\n",
        "# Mencari kata yang mengandung huruf A kapital diikuti oleh 1 karakter apapun itu kecuali new line\n",
        "re.findall(r'A.?', str7)"
      ]
    },
    {
      "cell_type": "markdown",
      "metadata": {
        "id": "gdRVoV-aPT-r"
      },
      "source": [
        "#### **Greedy vs Non-greedy behaviour**"
      ]
    },
    {
      "cell_type": "markdown",
      "metadata": {
        "id": "MhuKroHgPT-s"
      },
      "source": [
        "#### **The backslash (\\)**"
      ]
    },
    {
      "cell_type": "markdown",
      "metadata": {
        "id": "RJzB603mPT-s"
      },
      "source": [
        "The functions:\n",
        "- Menandakan spesial sequence pada regex (e.g. \\w, \\d, \\s, etc.)\n",
        "- Escaping special character function with a special meaning in regex (ex: \\., \\?, etc.)"
      ]
    },
    {
      "cell_type": "code",
      "execution_count": null,
      "metadata": {
        "id": "qb3OZsM2PT-v",
        "outputId": "86d6298b-5d3a-430a-c4bf-616a54a0cb46"
      },
      "outputs": [
        {
          "data": {
            "text/plain": [
              "'Saya LAHIR pada tahun 2022. \\nPada tahun 2026, UMUR saya baru 4 tahun. \\nSaya TINGGAL di rumah bernomor 399 jalan Kahatex.\\nBapak saya berumur 30 tahun.\\n'"
            ]
          },
          "execution_count": 108,
          "metadata": {},
          "output_type": "execute_result"
        }
      ],
      "source": [
        "str7"
      ]
    },
    {
      "cell_type": "code",
      "execution_count": null,
      "metadata": {
        "id": "z82kgm_pPT-x",
        "outputId": "8fb6cfd1-fca0-4c23-e707-4d742bf83c8d"
      },
      "outputs": [
        {
          "data": {
            "text/plain": [
              "[]"
            ]
          },
          "execution_count": 110,
          "metadata": {},
          "output_type": "execute_result"
        }
      ],
      "source": [
        "# Contoh 1\n",
        "\n",
        "# Mencari digit pada target string (special sequence)\n",
        "re.findall(r'\\d', str7)"
      ]
    },
    {
      "cell_type": "code",
      "execution_count": null,
      "metadata": {
        "id": "WFR8Fs59PT-y",
        "outputId": "ed60aefb-4dd5-4c2b-bf6f-680554a1376c"
      },
      "outputs": [
        {
          "data": {
            "text/plain": [
              "['.', '.', '.', '.']"
            ]
          },
          "execution_count": 106,
          "metadata": {},
          "output_type": "execute_result"
        }
      ],
      "source": [
        "# Contoh 2 (escaping special char function)\n",
        "\n",
        "# Jika menggunakan backslash sebelum metachars yang ada pada regex, itu berarti kita mencari\n",
        "    # simbol metachars tersebut pada target string.\n",
        "\n",
        "# Mencari tanda titik pada target string \n",
        "re.findall(r'\\.', str7)"
      ]
    },
    {
      "cell_type": "markdown",
      "metadata": {
        "id": "J2NWosuZPT-z"
      },
      "source": [
        "#### **The square bracket []**"
      ]
    },
    {
      "cell_type": "markdown",
      "metadata": {
        "id": "5cNtKmCiPT-z"
      },
      "source": [
        "- The square bracket menandakan set of characters (character range/class).\n",
        "- Semua special characters (. ? * +) akan kehilangan fungsi spesialnya ketika berada di dalam []."
      ]
    },
    {
      "cell_type": "code",
      "execution_count": null,
      "metadata": {
        "id": "AL32yhe3PT-0",
        "outputId": "2b01caee-cecf-4c60-cc87-18f6621f8062"
      },
      "outputs": [
        {
          "data": {
            "text/plain": [
              "'Saya LAHIR pada tahun 2022. \\nPada tahun 2026, UMUR saya baru 4 tahun. \\nSaya TINGGAL di rumah bernomor 399 jalan Kahatex.\\nBapak saya berumur 30 tahun.\\n'"
            ]
          },
          "execution_count": 111,
          "metadata": {},
          "output_type": "execute_result"
        }
      ],
      "source": [
        "str7"
      ]
    },
    {
      "cell_type": "code",
      "execution_count": null,
      "metadata": {
        "id": "cf0BjlLNPT-5",
        "outputId": "b03625cc-6a6b-46d2-fff7-e3e56a5bd55f"
      },
      "outputs": [
        {
          "data": {
            "text/plain": [
              "['y', 'y', 'y', 'x', 'k', 'y']"
            ]
          },
          "execution_count": 112,
          "metadata": {},
          "output_type": "execute_result"
        }
      ],
      "source": [
        "# Contoh 1\n",
        "\n",
        "# Mencari huruf y, x, k yang ada di target string (set of chars)\n",
        "re.findall(r'[yxk]', str7)"
      ]
    },
    {
      "cell_type": "code",
      "execution_count": null,
      "metadata": {
        "id": "00xow4YuPT-6",
        "outputId": "2f088562-5755-44cf-9279-abb8eaa1d4d2"
      },
      "outputs": [
        {
          "data": {
            "text/plain": [
              "['.', '.', '.', '.']"
            ]
          },
          "execution_count": 113,
          "metadata": {},
          "output_type": "execute_result"
        }
      ],
      "source": [
        "# Contoh 2\n",
        "\n",
        "# Special chars kehilangan fungsi spesialnya karena berada di dalam []\n",
        "# Mirip fungsi backslash untuk escaping special chars function\n",
        "re.findall(r'[.]', str7)"
      ]
    },
    {
      "cell_type": "code",
      "execution_count": null,
      "metadata": {
        "id": "_vGblhxePT-6",
        "outputId": "71ad5785-2cff-4b7d-bd87-9e1af61c7bac"
      },
      "outputs": [
        {
          "data": {
            "text/plain": [
              "['2', '2', '2', '2', '2', '4', '3', '3']"
            ]
          },
          "execution_count": 114,
          "metadata": {},
          "output_type": "execute_result"
        }
      ],
      "source": [
        "# Contoh 3\n",
        "\n",
        "# Mencari semua angka yang ada di dalam range 1 hingga 5\n",
        "re.findall(r'[1-5]', str7)"
      ]
    },
    {
      "cell_type": "code",
      "execution_count": null,
      "metadata": {
        "id": "Q79qzPQKPT-7",
        "outputId": "0f5d5f5a-6e53-44d3-a831-b069ecc588fc"
      },
      "outputs": [
        {
          "data": {
            "text/plain": [
              "'Saya LAHIR pada tahun 2022. \\nPada tahun 2026, UMUR saya baru 4 tahun. \\nSaya TINGGAL di rumah bernomor 399 jalan Kahatex.\\nBapak saya berumur 30 tahun.\\n'"
            ]
          },
          "execution_count": 118,
          "metadata": {},
          "output_type": "execute_result"
        }
      ],
      "source": [
        "str7"
      ]
    },
    {
      "cell_type": "code",
      "execution_count": null,
      "metadata": {
        "id": "t3leRv_FPT-8",
        "outputId": "45c103d2-e270-4d5e-f520-f64932ce23da"
      },
      "outputs": [
        {
          "data": {
            "text/plain": [
              "['ah', 'ah', 'ah', 'di', 'ah', 'al', 'ah', 'ak', 'ah']"
            ]
          },
          "execution_count": 117,
          "metadata": {},
          "output_type": "execute_result"
        }
      ],
      "source": [
        "# Contoh 4\n",
        "\n",
        "# Mencari karakter pada range a sampai d diikuti karakter pada range h sampai m pada target string.\n",
        "re.findall(r'[a-d][h-m]', str7)"
      ]
    },
    {
      "cell_type": "code",
      "execution_count": null,
      "metadata": {
        "id": "5AUKtDLbPT-8",
        "outputId": "18a0e016-e496-4b04-dca7-efd79bfadd10"
      },
      "outputs": [
        {
          "data": {
            "text/plain": [
              "['26', '39']"
            ]
          },
          "execution_count": 119,
          "metadata": {},
          "output_type": "execute_result"
        }
      ],
      "source": [
        "# Contoh 5\n",
        "\n",
        "# Berlaku juga untuk angka\n",
        "re.findall(r'[1-4][5-9]', str7)"
      ]
    },
    {
      "cell_type": "markdown",
      "metadata": {
        "id": "Rdj2BNRHPT-9"
      },
      "source": [
        "    Jika caret (^) digunakan di dalam square bracket [], maka akan berfungsi sebagai negasi dari expression yang mengikutinya."
      ]
    },
    {
      "cell_type": "code",
      "execution_count": null,
      "metadata": {
        "id": "NKoE-EjtPT--",
        "outputId": "c8cf9e40-084b-4d54-a8bc-7c58b18eac11"
      },
      "outputs": [
        {
          "name": "stdout",
          "output_type": "stream",
          "text": [
            "['S', 'y', ' ', 'L', 'A', 'H', 'I', 'R', ' ', 'p', 'd', ' ', 't', 'h', 'u', 'n', ' ', '2', '0', '2', '2', '.', ' ', '\\n', 'P', 'd', ' ', 't', 'h', 'u', 'n', ' ', '2', '0', '2', '6', ',', ' ', 'U', 'M', 'U', 'R', ' ', 's', 'y', ' ', 'b', 'r', 'u', ' ', '4', ' ', 't', 'h', 'u', 'n', '.', ' ', '\\n', 'S', 'y', ' ', 'T', 'I', 'N', 'G', 'G', 'A', 'L', ' ', 'd', 'i', ' ', 'r', 'u', 'm', 'h', ' ', 'b', 'e', 'r', 'n', 'o', 'm', 'o', 'r', ' ', '3', '9', '9', ' ', 'j', 'l', 'n', ' ', 'K', 'h', 't', 'e', 'x', '.', '\\n', 'B', 'p', 'k', ' ', 's', 'y', ' ', 'b', 'e', 'r', 'u', 'm', 'u', 'r', ' ', '3', '0', ' ', 't', 'h', 'u', 'n', '.', '\\n'] "
          ]
        }
      ],
      "source": [
        "# Contoh 6\n",
        "\n",
        "# Mencari karakter selain huruf a kecil\n",
        "print(re.findall(r'[^a]', str7), end=' ')"
      ]
    },
    {
      "cell_type": "code",
      "execution_count": null,
      "metadata": {
        "id": "oyHoZ1U-PT-_",
        "outputId": "94e20bca-33cc-4c02-9029-2bca3ae43a17"
      },
      "outputs": [
        {
          "data": {
            "text/plain": [
              "False"
            ]
          },
          "execution_count": 125,
          "metadata": {},
          "output_type": "execute_result"
        }
      ],
      "source": [
        "# Validasi outcome\n",
        "'a' in re.findall(r'[^a]', str7)"
      ]
    },
    {
      "cell_type": "markdown",
      "metadata": {
        "id": "zn4mb3x2PT_A"
      },
      "source": [
        "#### **Character classes**"
      ]
    },
    {
      "cell_type": "code",
      "execution_count": null,
      "metadata": {
        "id": "-Y9EmhegPT_A",
        "outputId": "d7757798-0db0-49b9-d30c-c38e1315215e"
      },
      "outputs": [
        {
          "data": {
            "text/plain": [
              "['2', '0', '2', '2', '2', '0', '2', '6', '4', '3', '9', '9', '3', '0']"
            ]
          },
          "execution_count": 126,
          "metadata": {},
          "output_type": "execute_result"
        }
      ],
      "source": [
        "# Character class 0-9\n",
        "re.findall(r'[0-9]', str7)"
      ]
    },
    {
      "cell_type": "code",
      "execution_count": null,
      "metadata": {
        "id": "LmBEO-yfPT_B",
        "outputId": "8dff4384-bff0-4417-ab27-dc9a93d021af"
      },
      "outputs": [
        {
          "name": "stdout",
          "output_type": "stream",
          "text": [
            "['S', 'a', 'y', 'a', 'L', 'A', 'H', 'I', 'R', 'p', 'a', 'd', 'a', 't', 'a', 'h', 'u', 'n', 'P', 'a', 'd', 'a', 't', 'a', 'h', 'u', 'n', 'U', 'M', 'U', 'R', 's', 'a', 'y', 'a', 'b', 'a', 'r', 'u', 't', 'a', 'h', 'u', 'n', 'S', 'a', 'y', 'a', 'T', 'I', 'N', 'G', 'G', 'A', 'L', 'd', 'i', 'r', 'u', 'm', 'a', 'h', 'b', 'e', 'r', 'n', 'o', 'm', 'o', 'r', 'j', 'a', 'l', 'a', 'n', 'K', 'a', 'h', 'a', 't', 'e', 'x', 'B', 'a', 'p', 'a', 'k', 's', 'a', 'y', 'a', 'b', 'e', 'r', 'u', 'm', 'u', 'r', 't', 'a', 'h', 'u', 'n'] "
          ]
        }
      ],
      "source": [
        "# Character class [a-z] and [A-Z]\n",
        "print(re.findall(r'[a-zA-Z]', str7), end=' ')"
      ]
    },
    {
      "cell_type": "code",
      "execution_count": null,
      "metadata": {
        "id": "tM9c64s-PT_B",
        "outputId": "4c4f2902-0e2e-44e5-ff7e-e5a1651da3c7"
      },
      "outputs": [
        {
          "name": "stdout",
          "output_type": "stream",
          "text": [
            "['S', 'a', 'y', 'a', ' ', 'L', 'A', 'H', 'I', 'R', ' ', 'p', 'a', 'd', 'a', ' ', 't', 'a', 'h', 'u', 'n', ' ', '.', ' ', '\\n', 'P', 'a', 'd', 'a', ' ', 't', 'a', 'h', 'u', 'n', ' ', ',', ' ', 'U', 'M', 'U', 'R', ' ', 's', 'a', 'y', 'a', ' ', 'b', 'a', 'r', 'u', ' ', ' ', 't', 'a', 'h', 'u', 'n', '.', ' ', '\\n', 'S', 'a', 'y', 'a', ' ', 'T', 'I', 'N', 'G', 'G', 'A', 'L', ' ', 'd', 'i', ' ', 'r', 'u', 'm', 'a', 'h', ' ', 'b', 'e', 'r', 'n', 'o', 'm', 'o', 'r', ' ', ' ', 'j', 'a', 'l', 'a', 'n', ' ', 'K', 'a', 'h', 'a', 't', 'e', 'x', '.', '\\n', 'B', 'a', 'p', 'a', 'k', ' ', 's', 'a', 'y', 'a', ' ', 'b', 'e', 'r', 'u', 'm', 'u', 'r', ' ', ' ', 't', 'a', 'h', 'u', 'n', '.', '\\n'] "
          ]
        }
      ],
      "source": [
        "# Mencari selain angka\n",
        "print(re.findall(r'[^0-9]', str7), end=' ')"
      ]
    },
    {
      "cell_type": "markdown",
      "metadata": {
        "id": "55iHZfNLPT_C"
      },
      "source": [
        "#### **Whitespace characters**"
      ]
    },
    {
      "cell_type": "markdown",
      "metadata": {
        "id": "spfFP6BAPT_D"
      },
      "source": [
        "- Space from keyboard\n",
        "- Space (\\s)\n",
        "- New line char (\\n)\n",
        "- Tab char (\\t)\n",
        "- Carriage return (\\r)\n",
        "- Form feed (\\f)\n",
        "- Vertical tab (\\v)\n"
      ]
    },
    {
      "cell_type": "code",
      "execution_count": null,
      "metadata": {
        "id": "86Igbc6-PT_D",
        "outputId": "872eaffb-8d25-448a-f63e-1d45c6e4106d"
      },
      "outputs": [
        {
          "name": "stdout",
          "output_type": "stream",
          "text": [
            "[' ', ' ', ' ', ' ', ' ', '\\n', ' ', ' ', ' ', ' ', ' ', ' ', ' ', ' ', '\\n', ' ', ' ', ' ', ' ', ' ', ' ', ' ', '\\n', ' ', ' ', ' ', ' ', '\\n'] "
          ]
        }
      ],
      "source": [
        "# Mencari whitespaces\n",
        "print(re.findall(r'[ \\s\\n\\t\\r\\f\\v]', str7), end=' ')"
      ]
    },
    {
      "cell_type": "code",
      "execution_count": null,
      "metadata": {
        "id": "QfpL-QOBPT_E",
        "outputId": "f88dea58-aa90-48f4-c425-b4223c01cb0b"
      },
      "outputs": [
        {
          "name": "stdout",
          "output_type": "stream",
          "text": [
            "['S', 'a', 'y', 'a', 'L', 'A', 'H', 'I', 'R', 'p', 'a', 'd', 'a', 't', 'a', 'h', 'u', 'n', '2', '0', '2', '2', '.', 'P', 'a', 'd', 'a', 't', 'a', 'h', 'u', 'n', '2', '0', '2', '6', ',', 'U', 'M', 'U', 'R', 's', 'a', 'y', 'a', 'b', 'a', 'r', 'u', '4', 't', 'a', 'h', 'u', 'n', '.', 'S', 'a', 'y', 'a', 'T', 'I', 'N', 'G', 'G', 'A', 'L', 'd', 'i', 'r', 'u', 'm', 'a', 'h', 'b', 'e', 'r', 'n', 'o', 'm', 'o', 'r', '3', '9', '9', 'j', 'a', 'l', 'a', 'n', 'K', 'a', 'h', 'a', 't', 'e', 'x', '.', 'B', 'a', 'p', 'a', 'k', 's', 'a', 'y', 'a', 'b', 'e', 'r', 'u', 'm', 'u', 'r', '3', '0', 't', 'a', 'h', 'u', 'n', '.'] "
          ]
        }
      ],
      "source": [
        "# Mencari selain whitespace pada target string\n",
        "print(re.findall(r'[^ \\s\\n\\t\\r\\f\\v]', str7), end=' ')"
      ]
    },
    {
      "cell_type": "markdown",
      "metadata": {
        "id": "wNJQwNY0PT_F"
      },
      "source": [
        "#### **The curly braces {}**"
      ]
    },
    {
      "cell_type": "markdown",
      "metadata": {
        "id": "8OFTwomlPT_F"
      },
      "source": [
        "    Repetition operator like * and +"
      ]
    },
    {
      "cell_type": "code",
      "execution_count": null,
      "metadata": {
        "id": "oJkmUum-PT_F",
        "outputId": "32295448-5e51-4d28-f1f1-6d8777d18943"
      },
      "outputs": [
        {
          "data": {
            "text/plain": [
              "'Saya LAHIR pada tahun 2022. \\nPada tahun 2026, UMUR saya baru 4 tahun. \\nSaya TINGGAL di rumah bernomor 399 jalan Kahatex.\\nBapak saya berumur 30 tahun.\\n'"
            ]
          },
          "execution_count": 135,
          "metadata": {},
          "output_type": "execute_result"
        }
      ],
      "source": [
        "str7"
      ]
    },
    {
      "cell_type": "code",
      "execution_count": null,
      "metadata": {
        "id": "IkWXivhHPT_G",
        "outputId": "550dd0d3-3350-453b-cf3a-91ef25998c94"
      },
      "outputs": [
        {
          "name": "stdout",
          "output_type": "stream",
          "text": [
            "['Saya', 'LAHI', 'pada', 'tahu', '2022', 'Pada', 'tahu', '2026', 'UMUR', 'saya', 'baru', 'tahu', 'Saya', 'TING', 'ruma', 'bern', 'omor', 'jala', 'Kaha', 'Bapa', 'saya', 'beru', 'tahu'] "
          ]
        }
      ],
      "source": [
        "# Akan match untuk setiap kata yang memiliki minimal 4 karakter.\n",
        "# Jika memiliki lebih dari 4 karakter, maka di outcome berupa penggalan katanya saja untuk 4 karakter pertama.\n",
        "print(re.findall(r'\\w{4}', str7), end=' ')"
      ]
    },
    {
      "cell_type": "code",
      "execution_count": null,
      "metadata": {
        "id": "jhaDe9AbPT_G",
        "outputId": "7a0f3df0-a53d-4020-a417-55bde645ff57"
      },
      "outputs": [
        {
          "name": "stdout",
          "output_type": "stream",
          "text": [
            "['Saya', 'pada', '2022', 'Pada', '2026', 'UMUR', 'saya', 'baru', 'Saya', 'saya'] "
          ]
        }
      ],
      "source": [
        "# Mencari hanya kata yang terdiri dari 4 karakter saja.\n",
        "print(re.findall(r'\\b\\w{4}\\b', str7), end=' ') # \\b di awal dan akhir lah yang menjadikan outcome terbatas\n",
        "                                               # hanya pada kata yang memiliki 4 karakter.\n"
      ]
    },
    {
      "cell_type": "code",
      "execution_count": null,
      "metadata": {
        "id": "nSaQYu9WPT_H",
        "outputId": "949c4d7d-bbcc-43c0-a3c8-92cffa71f820"
      },
      "outputs": [
        {
          "data": {
            "text/plain": [
              "<re.Match object; span=(0, 6), match='122145'>"
            ]
          },
          "execution_count": 143,
          "metadata": {},
          "output_type": "execute_result"
        }
      ],
      "source": [
        "numbers = '12214515151251615661'\n",
        "\n",
        "# Mencari angka dengan repetisi sebanyak 3 hingga 6 kali\n",
        "# Defaultnya bersifat greedy, karena mengembalikan 6 digit\n",
        "re.search(r'\\d{3,6}', numbers)"
      ]
    },
    {
      "cell_type": "code",
      "execution_count": null,
      "metadata": {
        "id": "kY5_mVhYPT_I",
        "outputId": "d97cb4cc-1208-498b-f420-2cc86d616e85"
      },
      "outputs": [
        {
          "data": {
            "text/plain": [
              "['122145', '151512', '516156']"
            ]
          },
          "execution_count": 146,
          "metadata": {},
          "output_type": "execute_result"
        }
      ],
      "source": [
        "# Menggunakan findall\n",
        "re.findall(r'\\d{3,6}', numbers)"
      ]
    },
    {
      "cell_type": "code",
      "execution_count": null,
      "metadata": {
        "id": "FfuZbrLIPT_I",
        "outputId": "16c685fa-a8e7-42c5-a577-84c8c65aedc4"
      },
      "outputs": [
        {
          "data": {
            "text/plain": [
              "<re.Match object; span=(0, 3), match='122'>"
            ]
          },
          "execution_count": 147,
          "metadata": {},
          "output_type": "execute_result"
        }
      ],
      "source": [
        "# Cancelling gready behaviour, akan mengambil repetisi terkecil, yaitu 3 digit\n",
        "re.search(r'\\d{3,6}?', numbers)"
      ]
    },
    {
      "cell_type": "code",
      "execution_count": null,
      "metadata": {
        "id": "dHjFqnHEPT_J",
        "outputId": "28f4fe89-6b28-42e0-be84-f06a67b32124"
      },
      "outputs": [
        {
          "data": {
            "text/plain": [
              "['122', '145', '151', '512', '516', '156']"
            ]
          },
          "execution_count": 148,
          "metadata": {},
          "output_type": "execute_result"
        }
      ],
      "source": [
        "re.findall(r'\\d{3,6}?', numbers)"
      ]
    },
    {
      "cell_type": "markdown",
      "metadata": {
        "id": "965BX1RXPT_J"
      },
      "source": [
        "#### **The pipe (|)**"
      ]
    },
    {
      "cell_type": "markdown",
      "metadata": {
        "id": "JLMiIm3DPT_K"
      },
      "source": [
        "- A|B|C berarti A atau B atau C, return value akan berupa salah satu kondisi saja yang mememnuhi.\n",
        "- Jika pada target string ada yang memenuhi salah satu kondisi, maka kondisi lain akan diabaikan."
      ]
    },
    {
      "cell_type": "code",
      "execution_count": null,
      "metadata": {
        "id": "_bvpQtwuPT_K",
        "outputId": "6e668a70-279a-4abe-d0fd-3be7cb177684"
      },
      "outputs": [
        {
          "data": {
            "text/plain": [
              "'Saya LAHIR pada tahun 2022. \\nPada tahun 2026, UMUR saya baru 4 tahun. \\nSaya TINGGAL di rumah bernomor 399 jalan Kahatex.\\nBapak saya berumur 30 tahun.\\n'"
            ]
          },
          "execution_count": 151,
          "metadata": {},
          "output_type": "execute_result"
        }
      ],
      "source": [
        "str7"
      ]
    },
    {
      "cell_type": "code",
      "execution_count": null,
      "metadata": {
        "id": "4KS__KVPPT_L",
        "outputId": "18942e9e-4118-42ce-f8b7-6210e23a3655"
      },
      "outputs": [
        {
          "data": {
            "text/plain": [
              "<re.Match object; span=(11, 13), match='pa'>"
            ]
          },
          "execution_count": 150,
          "metadata": {},
          "output_type": "execute_result"
        }
      ],
      "source": [
        "# Contoh 1\n",
        "\n",
        "# Pattern ketiga yang pertama match dengan yang adaa di st7,\n",
        "    # sehingga pattern yang lainnya diabaikan\n",
        "re.search(r'\\d{3}|\\d{4}|\\b[a-z]{2}', str7)"
      ]
    },
    {
      "cell_type": "code",
      "execution_count": null,
      "metadata": {
        "id": "rupMNWpUPT_L",
        "outputId": "2f9e81bc-9f10-4ba1-986a-d77eb01f9c54"
      },
      "outputs": [
        {
          "data": {
            "text/plain": [
              "<re.Match object; span=(22, 25), match='202'>"
            ]
          },
          "execution_count": 154,
          "metadata": {},
          "output_type": "execute_result"
        }
      ],
      "source": [
        "# Contoh 2\n",
        "re.search(r'\\d{3}|\\d{4}|\\b[a-z]{2}\\b', str7)"
      ]
    },
    {
      "cell_type": "code",
      "execution_count": null,
      "metadata": {
        "id": "ozgNOZ8DPT_M",
        "outputId": "d4a60d82-f70b-4c02-bbc9-bbc35086ef6f"
      },
      "outputs": [
        {
          "data": {
            "text/plain": [
              "['202', '202', 'di', '399']"
            ]
          },
          "execution_count": 155,
          "metadata": {},
          "output_type": "execute_result"
        }
      ],
      "source": [
        "# Pipe menggunakan findall\n",
        " \n",
        "# Untuk setiap kata di target string akan dicocokkan dengan regex pattern. \n",
        "# Jika ada yang sesuai, maka kondisi lain yang serupa akan diabaikan.\n",
        "re.findall(r'\\d{3}|\\d{4}|\\b[a-z]{2}\\b', str7)"
      ]
    },
    {
      "cell_type": "markdown",
      "metadata": {
        "id": "yqzxzFPGPT_N"
      },
      "source": [
        "## **From the slides**"
      ]
    },
    {
      "cell_type": "markdown",
      "metadata": {
        "id": "Ss-VH4xuK4wL"
      },
      "source": [
        "### **Character sets**"
      ]
    },
    {
      "cell_type": "code",
      "execution_count": null,
      "metadata": {
        "id": "fQDPM5yeK4wL",
        "outputId": "3259d809-16ee-45e0-8379-b304a308f75c"
      },
      "outputs": [
        {
          "data": {
            "text/plain": [
              "['grey', 'gray']"
            ]
          },
          "execution_count": 156,
          "metadata": {},
          "output_type": "execute_result"
        }
      ],
      "source": [
        "# Cara 1\n",
        "words = 'grey gray groy griy gruy'\n",
        "\n",
        "re.findall(r'gr[ea]y', words)"
      ]
    },
    {
      "cell_type": "markdown",
      "metadata": {
        "id": "TSJaBZxVK4wM"
      },
      "source": [
        "    The r means that the string is to be treated as a raw string, which means all escape codes will be ignored."
      ]
    },
    {
      "cell_type": "code",
      "execution_count": null,
      "metadata": {
        "id": "wgQckZ7rK4wM",
        "outputId": "b7187f4d-c34b-4394-bd2e-ab4a88c18647"
      },
      "outputs": [
        {
          "data": {
            "text/plain": [
              "['grey', 'gray']"
            ]
          },
          "execution_count": 157,
          "metadata": {},
          "output_type": "execute_result"
        }
      ],
      "source": [
        "# Bisa juga regex pattern-nya dimasukkan ke dalam variabel\n",
        "\n",
        "words = 'grey gray groy griy gruy'\n",
        "pattern = 'gr[ea]y'\n",
        "\n",
        "re.findall(pattern, words)"
      ]
    },
    {
      "cell_type": "code",
      "execution_count": null,
      "metadata": {
        "id": "HCbtOEnzK4wM",
        "outputId": "cd34d37d-2bd9-4632-8c7e-f8ca00e670b4"
      },
      "outputs": [
        {
          "data": {
            "text/plain": [
              "[]"
            ]
          },
          "execution_count": 158,
          "metadata": {},
          "output_type": "execute_result"
        }
      ],
      "source": [
        "# Regex pada Python adalah case sensitive\n",
        "\n",
        "words = 'grey gray groy griy gruy'\n",
        "pattern = 'gr[EA]y'\n",
        "\n",
        "re.findall(pattern, words)\n",
        "\n",
        "# Jika tidak ada yang match, maka akan dikembalikan list kosong."
      ]
    },
    {
      "cell_type": "code",
      "execution_count": null,
      "metadata": {
        "id": "n_9f8urtK4wM",
        "outputId": "8c909241-1b9f-43d1-a643-c72e14634c99"
      },
      "outputs": [
        {
          "data": {
            "text/plain": [
              "['katak', 'kodok']"
            ]
          },
          "execution_count": 159,
          "metadata": {},
          "output_type": "execute_result"
        }
      ],
      "source": [
        "# Contoh lain\n",
        "hewan = 'katak kodok'\n",
        "pattern = 'k[ao][td][ao]k'\n",
        "\n",
        "re.findall(pattern, hewan)"
      ]
    },
    {
      "cell_type": "code",
      "execution_count": null,
      "metadata": {
        "id": "Zh5xLFNMK4wM",
        "outputId": "c943e789-3cd1-4ab4-b554-00cc061f8e1b"
      },
      "outputs": [
        {
          "data": {
            "text/plain": [
              "['katak', 'kotak', 'kodok', 'kodak']"
            ]
          },
          "execution_count": 160,
          "metadata": {},
          "output_type": "execute_result"
        }
      ],
      "source": [
        "# Challenge-nya adalah bagaimana jika kita hanya ingin mengambil katak \n",
        "    # dan kodok dari target string di bawah ini.\n",
        "\n",
        "hewan = 'katak kotak kodok kodak'\n",
        "pattern = 'k[ao][td][ao]k'\n",
        "\n",
        "re.findall(pattern, hewan)\n",
        "\n",
        "# Kalau dengan regex yang sama, maka akan terambil semuanya."
      ]
    },
    {
      "cell_type": "markdown",
      "metadata": {
        "id": "B00UEI_UK4wM"
      },
      "source": [
        "### **Character ranges**"
      ]
    },
    {
      "cell_type": "markdown",
      "metadata": {
        "id": "-FTS50dRK4wN"
      },
      "source": [
        "    [a-zA-z] and [0-9]"
      ]
    },
    {
      "cell_type": "code",
      "execution_count": null,
      "metadata": {
        "id": "YtUh054hK4wN",
        "outputId": "33e04c98-6029-4f01-fe7c-4e883045b623"
      },
      "outputs": [
        {
          "data": {
            "text/plain": [
              "[]"
            ]
          },
          "execution_count": 161,
          "metadata": {},
          "output_type": "execute_result"
        }
      ],
      "source": [
        "target = 'XRA 000, 1AA 1AA'\n",
        "pattern = '''[A-Z0-9][A-Z][A-Z]\n",
        "        \\s[0-9][A-Z0-9][A-Z0-9]'''\n",
        "\n",
        "re.findall(pattern, target)"
      ]
    },
    {
      "cell_type": "markdown",
      "metadata": {
        "id": "1OWHvqUkK4wN"
      },
      "source": [
        "Karakter ke:\n",
        "1. Huruf kapital atau digit\n",
        "2. Huruf kapital\n",
        "3. Huruf kapital\n",
        "4. Spasi\n",
        "5. Digit\n",
        "6. Digit atau huruf kapital\n",
        "7. Digit atau huruf kapital"
      ]
    },
    {
      "cell_type": "code",
      "execution_count": null,
      "metadata": {
        "id": "Pzvvr49PK4wN",
        "outputId": "c57f4e83-6df8-46cd-897c-e6fe86f928f0"
      },
      "outputs": [
        {
          "data": {
            "text/plain": [
              "['XRA 000', '1AA 1AA']"
            ]
          },
          "execution_count": 162,
          "metadata": {},
          "output_type": "execute_result"
        }
      ],
      "source": [
        "# Cara lain\n",
        "target = 'XRA 000, 1AA 1AA'\n",
        "pattern = '[A-Z0-9]{3}\\s[A-Z0-9]{3}'\n",
        "\n",
        "re.findall(pattern, target)"
      ]
    },
    {
      "cell_type": "code",
      "execution_count": null,
      "metadata": {
        "id": "CpehfB-uK4wN",
        "outputId": "f1483863-cdcb-413d-964f-aab57ac532bb"
      },
      "outputs": [
        {
          "data": {
            "text/plain": [
              "['XRA 000', '1AA 1AA']"
            ]
          },
          "execution_count": 163,
          "metadata": {},
          "output_type": "execute_result"
        }
      ],
      "source": [
        "# Bagaimana kalau komanya dihapus?\n",
        "target = 'XRA 000 1AA 1AA'\n",
        "pattern = '[A-Z0-9]{3}\\s[A-Z0-9]{3}'\n",
        "\n",
        "re.findall(pattern, target)\n",
        "\n",
        "# Outcome-nya ternyata tetap sama."
      ]
    },
    {
      "cell_type": "code",
      "execution_count": null,
      "metadata": {
        "id": "hjK_EkmMK4wO",
        "outputId": "61f44782-c7ea-4fab-d3eb-1c083701f572"
      },
      "outputs": [
        {
          "name": "stdout",
          "output_type": "stream",
          "text": [
            "['1AA 1AA']\n",
            "['XRA G00', '1AA 1AA']\n"
          ]
        }
      ],
      "source": [
        "# Bagaimana kalau 0 pada karakter ke 5 diganti huruf?\n",
        "# Bandingkan hasil dari kedua regex berikut.\n",
        "\n",
        "target = 'XRA G00 1AA 1AA'\n",
        "pattern1 = '[A-Z0-9][A-Z][A-Z]\\s[0-9][A-Z0-9][A-Z0-9]'\n",
        "\n",
        "pattern2 = '[A-Z0-9]{3}\\s[A-Z0-9]{3}'\n",
        "\n",
        "\n",
        "print(re.findall(pattern1, target))\n",
        "print(re.findall(pattern2, target))"
      ]
    },
    {
      "cell_type": "markdown",
      "metadata": {
        "id": "JJYVc8IKK4wO"
      },
      "source": [
        "- Regex pertama lebih rigid karena pada karakter kelima, kita hanya mendefinisikan digit saja, sehingga pola yang pertama pada target tidak bisa ditangkap."
      ]
    },
    {
      "cell_type": "code",
      "execution_count": null,
      "metadata": {
        "id": "6yyEGcmSK4wO",
        "outputId": "fd42a742-a1c0-47ac-eecf-34886de00358"
      },
      "outputs": [
        {
          "data": {
            "text/plain": [
              "['XRA 000', '1AA 1AA']"
            ]
          },
          "metadata": {},
          "output_type": "display_data"
        }
      ],
      "source": [
        "# Cara lain\n",
        "target = 'XRA 000 1AA 1AA'\n",
        "pattern = '[\\w\\d]+\\s[\\w\\d]+'\n",
        "\n",
        "re.findall(pattern, target)"
      ]
    },
    {
      "cell_type": "markdown",
      "metadata": {
        "id": "_7rlYgihK4wO"
      },
      "source": [
        "### **Negative character sets [^]**"
      ]
    },
    {
      "cell_type": "markdown",
      "metadata": {
        "id": "wcB0NODmK4wO"
      },
      "source": [
        "- Jika ^ digunakan dalam [], maka berarti negasi.\n",
        "- Mencari hasil selain dari yang didefinisikan di regex pattern."
      ]
    },
    {
      "cell_type": "code",
      "execution_count": null,
      "metadata": {
        "id": "DO0it7QbK4wO",
        "outputId": "6146047e-649c-4c1a-f1ee-fedd1b15adb1"
      },
      "outputs": [
        {
          "data": {
            "text/plain": [
              "['hog', 'dog']"
            ]
          },
          "metadata": {},
          "output_type": "display_data"
        }
      ],
      "source": [
        "target = 'hog dog bog'\n",
        "\n",
        "# Kita mau menangkap kata lain selain 'bog'\n",
        "re.findall(r'[^b]og', target)"
      ]
    },
    {
      "cell_type": "code",
      "execution_count": null,
      "metadata": {
        "id": "x8imWm33K4wO",
        "outputId": "d4e25e0a-cb54-419a-92fb-b0a162865e1f"
      },
      "outputs": [
        {
          "data": {
            "text/plain": [
              "['hog dog bog']"
            ]
          },
          "metadata": {},
          "output_type": "display_data"
        }
      ],
      "source": [
        "# Jika tidak digunakan dalam [], maka akan mencari yang match \n",
        "    # dengan regex pada awal string\n",
        "\n",
        "re.findall(r'^\\w.*', target)"
      ]
    },
    {
      "cell_type": "markdown",
      "metadata": {
        "id": "M1JUMEpsK4wP"
      },
      "source": [
        "### **Metacharacters**"
      ]
    },
    {
      "cell_type": "markdown",
      "metadata": {
        "id": "cjgrJ178K4wP"
      },
      "source": [
        "* * *\n",
        "* <font color=\"red\">[0-9]</font> Matches a single digit\n",
        "* <font color=\"red\">[a-z0-9]</font> Matches a single character that must be a lower case letter or a digit.\n",
        "* <font color=\"red\">[A-Za-z]</font> Matches a single character that much be a upper/lower case letter \n",
        "* <font color=\"red\">\\d</font> Matches any decimal digit; equivalent to the set [0-9].\n",
        "* <font color=\"red\">\\D</font> Matches characters that are not digits, which is equivalent to [^0-9] or [^\\d].\n",
        "* <font color=\"red\">\\w</font> Matches any alphanumeric character, which is equivalent to [a-zA-Z0-9_].\n",
        "* <font color=\"red\">\\W</font> Matches any non-alphanumeric character; which is equivalent to [^a-zA-Z0-9_] or [^\\w].\n",
        "* <font color=\"red\">\\s</font> Matches any whitespace character; which is equivalent to [\\t\\n\\r\\f\\v], where \\t indicates taps, \\n  line feeds, \\r carriage returns, \\f form feeds and \\v vertical tabs.\n",
        "* <font color=\"red\">\\S:</font> Matches any non-whitespace character; which is equivalent to  [^ \\t\\n\\r\\f\\v].\n",
        "* <font color=\"red\">ˆ</font> Matches the start of the line.\n",
        "* <font color=\"red\">$</font> Matches the end of the line.\n",
        "\n",
        "\n",
        "More information can be found here :\n",
        "https://docs.python.org/2/library/re.html\n",
        "* * *"
      ]
    },
    {
      "cell_type": "code",
      "execution_count": null,
      "metadata": {
        "id": "nBLFjdQ5K4wP",
        "outputId": "3552d216-56ff-44ac-c071-2ed7682dc00d"
      },
      "outputs": [
        {
          "name": "stdout",
          "output_type": "stream",
          "text": [
            "nasi mau makan \n"
          ]
        }
      ],
      "source": [
        "# \\r adalah carriage return\n",
        "# Kata yang kita sisipkan \\r di depannya akan muncul \n",
        "    # sebagai index pertama di output menggantikan kata pertama \n",
        "    # sesuai dengan jumlah karakter pada kata \\r yang didefinisikan.\n",
        "\n",
        "# Contoh 1\n",
        "kalimat = 'Saya mau makan \\rnasi'\n",
        "print(kalimat)\n",
        "\n",
        "# Saya digantikan oleh nasi karena sama-sama memiliki # 4 karakter."
      ]
    },
    {
      "cell_type": "code",
      "execution_count": null,
      "metadata": {
        "id": "PRrLulXpK4wP",
        "outputId": "de21a7fc-992d-4d26-fea0-f6b170e4118c"
      },
      "outputs": [
        {
          "name": "stdout",
          "output_type": "stream",
          "text": [
            "nasin mau makan \n"
          ]
        }
      ],
      "source": [
        "# Contoh 2\n",
        "kalimat = 'Teman mau makan \\rnasi'\n",
        "print(kalimat)\n",
        "\n",
        "# Hanya tema yang akan digantikan oleh nasi karena nasi hanya memiliki 4 karakter\n",
        "    # sedangkan teman memiliki 5 karakter."
      ]
    },
    {
      "cell_type": "code",
      "execution_count": null,
      "metadata": {
        "id": "eoo7Qxa4K4wQ",
        "outputId": "4bdf4052-6f3c-4fde-a94c-a2f042eed4a9"
      },
      "outputs": [
        {
          "data": {
            "text/plain": [
              "['2022']"
            ]
          },
          "metadata": {},
          "output_type": "display_data"
        }
      ],
      "source": [
        "year = '2022'\n",
        "re.findall(r'\\w\\w\\w\\w', year)"
      ]
    },
    {
      "cell_type": "code",
      "execution_count": null,
      "metadata": {
        "id": "lwL3bm41K4wQ",
        "outputId": "ca15a465-f681-4da8-f39f-8fea40e03047"
      },
      "outputs": [
        {
          "data": {
            "text/plain": [
              "[]"
            ]
          },
          "metadata": {},
          "output_type": "display_data"
        }
      ],
      "source": [
        "year = '2022'\n",
        "re.findall(r'\\W\\W\\W\\W', year)"
      ]
    },
    {
      "cell_type": "code",
      "execution_count": null,
      "metadata": {
        "id": "LgFZls99K4wQ",
        "outputId": "0437a29c-dd86-4440-d1dd-5031090c020e"
      },
      "outputs": [
        {
          "data": {
            "text/plain": [
              "['2022 - 2025']"
            ]
          },
          "metadata": {},
          "output_type": "display_data"
        }
      ],
      "source": [
        "# Cara mudah\n",
        "year = '2022 - 2025'\n",
        "re.findall(r'\\w\\w\\w\\w - \\w\\w\\w\\w', year)"
      ]
    },
    {
      "cell_type": "code",
      "execution_count": null,
      "metadata": {
        "id": "44mWxaFKK4wQ",
        "outputId": "14cb72f7-60ee-4a71-e49e-4b7886ca2d4c"
      },
      "outputs": [
        {
          "data": {
            "text/plain": [
              "['2022 - 2025']"
            ]
          },
          "metadata": {},
          "output_type": "display_data"
        }
      ],
      "source": [
        "# Cara lain yang lebih fleksibel\n",
        "year = '2022 - 2025'\n",
        "re.findall(r'\\w+\\s-\\s\\w+', year)"
      ]
    },
    {
      "cell_type": "markdown",
      "metadata": {
        "id": "sYCs-h2lK4wQ"
      },
      "source": [
        "### **Repetition metacharacters**"
      ]
    },
    {
      "cell_type": "markdown",
      "metadata": {
        "id": "ah00jAkcK4wR"
      },
      "source": [
        "* <font color=\"red\">.</font> Matches any character (a wildcard).\n",
        "* <font color=\"red\">*</font> Matches when the preceding character occurs zero or more times.\n",
        "* <font color=\"red\">+</font> Matches when the preceding character occurs one or more times.\n",
        "* <font color=\"red\">?</font> Matches when the preceding character occurs zero or one times."
      ]
    },
    {
      "cell_type": "code",
      "execution_count": null,
      "metadata": {
        "id": "Vu9HB1GjK4wR",
        "outputId": "bb3def47-8f23-4c15-b923-3753573c972f"
      },
      "outputs": [
        {
          "data": {
            "text/plain": [
              "['oops ooops', 'oooops oooooops']"
            ]
          },
          "metadata": {},
          "output_type": "display_data"
        }
      ],
      "source": [
        "target = 'oops ooops oooops oooooops'\n",
        "\n",
        "# Ops tidak boleh tertangkap 2 karakter pertama haruslah 'o'\n",
        "re.findall(r'oo*ps oo+ps', target)\n",
        "\n",
        "# Pattern kata pertama adalah oo*ps\n",
        "# Pattern kata kedua adalah oo+ps"
      ]
    },
    {
      "cell_type": "markdown",
      "metadata": {
        "id": "cjNB-KiYK4wR"
      },
      "source": [
        "### **Quantified repetitions**"
      ]
    },
    {
      "cell_type": "markdown",
      "metadata": {
        "id": "UbG1TKZ5K4wR"
      },
      "source": [
        "- Digunakan jika ingin mendefinisikan secara spesifikan repetisi yang diinginkan, dalam bentuk range.\n",
        "- {m, n} di mana m adalah nilai minimum dan n nilai maksimum.\n",
        "- m bersifat wajib didefinisikan, sedangkan n bersifat opsional."
      ]
    },
    {
      "cell_type": "code",
      "execution_count": null,
      "metadata": {
        "id": "g9iJntukK4wR",
        "outputId": "432b361e-064b-4451-a427-943da48830f2"
      },
      "outputs": [
        {
          "data": {
            "text/plain": [
              "['oops ooops', 'oooops oooooops']"
            ]
          },
          "metadata": {},
          "output_type": "display_data"
        }
      ],
      "source": [
        "# Dengan menggunakan contoh di atas\n",
        "target = 'oops ooops oooops oooooops'\n",
        "\n",
        "re.findall(r'o{2,4}ps o{3,6}ps', target)\n",
        "\n",
        "# Tapi hasilnya jadi kurang flexible dibandingkan menggunakan metachars."
      ]
    },
    {
      "cell_type": "markdown",
      "metadata": {
        "id": "QeRsxJZqK4wR"
      },
      "source": [
        "### **Grouping**"
      ]
    },
    {
      "cell_type": "markdown",
      "metadata": {
        "id": "Ub_wyBs0K4wS"
      },
      "source": [
        "- (...) \n",
        "- Regex yang berada di dalam () berarti dihitung sebagai 1 grup.\n",
        "- Regex yang berada di dalam () berarti akan dioperasikan secara keseluruhan dengan metachar yang mengikutinya."
      ]
    },
    {
      "cell_type": "code",
      "execution_count": null,
      "metadata": {
        "id": "CGR0DYPXK4wS",
        "outputId": "80331469-d90a-46a8-84e1-b66e4e33b3bf"
      },
      "outputs": [
        {
          "data": {
            "text/plain": [
              "['abc']"
            ]
          },
          "metadata": {},
          "output_type": "display_data"
        }
      ],
      "source": [
        "# Contoh\n",
        "\n",
        "teks = 'abcabcabc'\n",
        "\n",
        "re.findall(r'(abc)+', teks)"
      ]
    },
    {
      "cell_type": "code",
      "execution_count": null,
      "metadata": {
        "id": "gSCo5YDlK4wS",
        "outputId": "ec6e3ce8-00bc-417d-9a04-a66bf84fd6b1"
      },
      "outputs": [
        {
          "data": {
            "text/plain": [
              "['abc', 'abc', 'abc']"
            ]
          },
          "metadata": {},
          "output_type": "display_data"
        }
      ],
      "source": [
        "re.findall(r'abc+', teks)"
      ]
    },
    {
      "cell_type": "code",
      "execution_count": null,
      "metadata": {
        "id": "KxKrTVxDK4wS",
        "outputId": "2ddbbd7f-c83b-4a8a-8478-8e07446b1625"
      },
      "outputs": [
        {
          "data": {
            "text/plain": [
              "['abcabcabc']"
            ]
          },
          "metadata": {},
          "output_type": "display_data"
        }
      ],
      "source": [
        "# Kalau mau tertangkap semua yang ada di dalam teks, \n",
        "    # saat grouping berarti harus menggunakan ?:\n",
        "\n",
        "# (?:...) berarti sebuah set of non-capturing grouping parentheses.\n",
        "\n",
        "re.findall(r'(?:abc)+', teks)"
      ]
    },
    {
      "cell_type": "markdown",
      "metadata": {
        "id": "ptFlnLE1K4wT"
      },
      "source": [
        "### **Alternative**"
      ]
    },
    {
      "cell_type": "markdown",
      "metadata": {
        "id": "z-3IMgfLK4wU"
      },
      "source": [
        "- (|) atau nama lainnya adalah pipe.\n",
        "- Berati or, yang mana yang akan tertangkap adalah regex yang match pertama saja (hanya salah satu), meskipun kondisi setelahnya match juga maka akan diabaikan."
      ]
    },
    {
      "cell_type": "code",
      "execution_count": null,
      "metadata": {
        "id": "XAK2DKmhK4wU",
        "outputId": "888b4684-d005-488f-cf27-36269994ef52"
      },
      "outputs": [
        {
          "data": {
            "text/plain": [
              "<re.Match object; span=(0, 3), match='300'>"
            ]
          },
          "metadata": {},
          "output_type": "display_data"
        }
      ],
      "source": [
        "# Contoh menggunakan method search\n",
        "re.search(r'\\d{3}|\\d{4}|\\b[A-Z]{4}\\b', \n",
        "'''300 ekor kucing \n",
        "berhasil diselamatkan''')"
      ]
    },
    {
      "cell_type": "code",
      "execution_count": null,
      "metadata": {
        "id": "VETu6HghK4wU",
        "outputId": "4952e69f-7568-4815-f40e-0762fb314e0c"
      },
      "outputs": [
        {
          "data": {
            "text/plain": [
              "['300']"
            ]
          },
          "metadata": {},
          "output_type": "display_data"
        }
      ],
      "source": [
        "# Contoh dengan method findall\n",
        "re.findall(r'\\d{3}|\\d{4}|\\b[A-Z]{4}\\b', \n",
        "'300 ekor kucing berhasil diselamatkan')"
      ]
    },
    {
      "cell_type": "markdown",
      "metadata": {
        "id": "kLnPGeHyK4wU"
      },
      "source": [
        "- Karena '300' sudah match dengan regex pertama, maka outcome-nya hanya 300 saja. Sisa kata setelahnya akan diabaikan meskipun match dengan regex pattern."
      ]
    }
  ],
  "metadata": {
    "colab": {
      "provenance": []
    },
    "kernelspec": {
      "display_name": "Python 3.9.7 ('base')",
      "language": "python",
      "name": "python3"
    },
    "language_info": {
      "codemirror_mode": {
        "name": "ipython",
        "version": 3
      },
      "file_extension": ".py",
      "mimetype": "text/x-python",
      "name": "python",
      "nbconvert_exporter": "python",
      "pygments_lexer": "ipython3",
      "version": "3.9.0"
    },
    "orig_nbformat": 4,
    "vscode": {
      "interpreter": {
        "hash": "29a3ec0ddefdaff5f4d200ee8547790884c916059fa289fc41554aaeec66bbeb"
      }
    }
  },
  "nbformat": 4,
  "nbformat_minor": 0
}
