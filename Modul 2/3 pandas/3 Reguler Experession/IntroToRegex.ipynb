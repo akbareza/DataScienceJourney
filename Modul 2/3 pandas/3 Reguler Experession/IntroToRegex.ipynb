{
 "cells": [
  {
   "attachments": {},
   "cell_type": "markdown",
   "metadata": {},
   "source": [
    "# **REGULER EXPRESSION**"
   ]
  },
  {
   "cell_type": "code",
   "execution_count": 1,
   "metadata": {},
   "outputs": [
    {
     "name": "stdout",
     "output_type": "stream",
     "text": [
      "C\\Users\\tab\\new\n"
     ]
    }
   ],
   "source": [
    "path = r'C\\Users\\tab\\new'\n",
    "print(path)\n",
    "\n",
    "# r'' clearing the unicode/escape character like \\t \\n and etc"
   ]
  },
  {
   "cell_type": "code",
   "execution_count": 2,
   "metadata": {},
   "outputs": [],
   "source": [
    "import re"
   ]
  },
  {
   "attachments": {},
   "cell_type": "markdown",
   "metadata": {},
   "source": [
    "## RE COMPILE"
   ]
  },
  {
   "cell_type": "code",
   "execution_count": 3,
   "metadata": {},
   "outputs": [
    {
     "name": "stdout",
     "output_type": "stream",
     "text": [
      "<class 'str'>\n"
     ]
    }
   ],
   "source": [
    "x = r'\\d{4}'\n",
    "print(type(x))"
   ]
  },
  {
   "cell_type": "code",
   "execution_count": 4,
   "metadata": {},
   "outputs": [
    {
     "name": "stdout",
     "output_type": "stream",
     "text": [
      "<class 're.Pattern'>\n"
     ]
    }
   ],
   "source": [
    "x = re.compile(x) # x = re.compile('\\d{4}')\n",
    "print(type(x))"
   ]
  },
  {
   "attachments": {},
   "cell_type": "markdown",
   "metadata": {},
   "source": [
    "## RE.FINDALL()"
   ]
  },
  {
   "cell_type": "code",
   "execution_count": 5,
   "metadata": {},
   "outputs": [
    {
     "data": {
      "text/plain": [
       "['2023', '2022']"
      ]
     },
     "metadata": {},
     "output_type": "display_data"
    },
    {
     "data": {
      "text/plain": [
       "['2023', '2022']"
      ]
     },
     "metadata": {},
     "output_type": "display_data"
    }
   ],
   "source": [
    "str1 = 'Tahun ini 2023, tahun yang sangat fluktuatif dari pada 2022'\n",
    "hasil = re.findall(x,str1)\n",
    "display(hasil)\n",
    "\n",
    "#CARA LANGSUNG\n",
    "y = r'\\d{4}'\n",
    "hasil2 = re.findall(y,str1)\n",
    "display(hasil2)\n"
   ]
  },
  {
   "attachments": {},
   "cell_type": "markdown",
   "metadata": {},
   "source": [
    "## RE.SEARCH()\n",
    "this function, just return (stop running) until found the first item"
   ]
  },
  {
   "cell_type": "code",
   "execution_count": 6,
   "metadata": {},
   "outputs": [
    {
     "data": {
      "text/plain": [
       "<re.Match object; span=(10, 13), match='202'>"
      ]
     },
     "execution_count": 6,
     "metadata": {},
     "output_type": "execute_result"
    }
   ],
   "source": [
    "str1 = 'Tahun ini 2023, tahun yang sangat fluktuatif dari pada 2022'\n",
    "hasil_search = re.search('\\d{3}',str1)\n",
    "hasil_search #hanya balikin 202 pertama, span menjelaskan ada di index keberapa"
   ]
  },
  {
   "attachments": {},
   "cell_type": "markdown",
   "metadata": {},
   "source": [
    "## RE.SPLIT()"
   ]
  },
  {
   "cell_type": "code",
   "execution_count": 7,
   "metadata": {},
   "outputs": [
    {
     "data": {
      "text/plain": [
       "['Tahun',\n",
       " 'ini',\n",
       " '2023,',\n",
       " 'tahun',\n",
       " 'yang',\n",
       " 'sangat',\n",
       " 'fluktuatif',\n",
       " 'dari',\n",
       " 'pada',\n",
       " '2022']"
      ]
     },
     "execution_count": 7,
     "metadata": {},
     "output_type": "execute_result"
    }
   ],
   "source": [
    "str1.split()"
   ]
  },
  {
   "cell_type": "code",
   "execution_count": 11,
   "metadata": {},
   "outputs": [
    {
     "data": {
      "text/plain": [
       "['Tahun',\n",
       " 'ini',\n",
       " '2023,',\n",
       " 'tahun',\n",
       " 'yang',\n",
       " 'sangat',\n",
       " 'fluktuatif',\n",
       " 'dari',\n",
       " 'pada',\n",
       " '2022']"
      ]
     },
     "metadata": {},
     "output_type": "display_data"
    },
    {
     "data": {
      "text/plain": [
       "['Tahun ini ', '', ', tahun yang sangat fluktuatif dari pada ', '', '']"
      ]
     },
     "metadata": {},
     "output_type": "display_data"
    }
   ],
   "source": [
    "hasil_split = re.split(r'\\s', str1)\n",
    "hasil_split_2digit = re.split(r'\\d{2}', str1)\n",
    "display(hasil_split, hasil_split_2digit)\n"
   ]
  },
  {
   "attachments": {},
   "cell_type": "markdown",
   "metadata": {},
   "source": [
    "## RE.SUB()"
   ]
  },
  {
   "cell_type": "code",
   "execution_count": 14,
   "metadata": {},
   "outputs": [
    {
     "data": {
      "text/plain": [
       "'Tahun DEBUG 2023, tahun yang DEBUG fluktuatif dari pada 2022'"
      ]
     },
     "execution_count": 14,
     "metadata": {},
     "output_type": "execute_result"
    }
   ],
   "source": [
    "str3 = 'Tahun INI 2023, tahun yang SANGAT fluktuatif dari pada 2022'\n",
    "hasil_sub_2 = re.sub(r'[A-Z]{2,}','DEBUG',str3) #{2,} minimal dalam satu karakter ada 2\n",
    "hasil_sub_2"
   ]
  }
 ],
 "metadata": {
  "kernelspec": {
   "display_name": "Python 3",
   "language": "python",
   "name": "python3"
  },
  "language_info": {
   "codemirror_mode": {
    "name": "ipython",
    "version": 3
   },
   "file_extension": ".py",
   "mimetype": "text/x-python",
   "name": "python",
   "nbconvert_exporter": "python",
   "pygments_lexer": "ipython3",
   "version": "3.9.1"
  },
  "orig_nbformat": 4
 },
 "nbformat": 4,
 "nbformat_minor": 2
}
