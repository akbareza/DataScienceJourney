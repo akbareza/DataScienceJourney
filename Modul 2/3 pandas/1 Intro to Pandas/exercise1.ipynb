{
  "cells": [
    {
      "cell_type": "markdown",
      "metadata": {
        "id": "9TtX5niLP35S"
      },
      "source": [
        "## **Latihan Pandas 1**\n",
        "\n",
        "## Jangan di-run! Copy dulu file ini, kemudian jawab di file copy tersebut"
      ]
    },
    {
      "cell_type": "markdown",
      "metadata": {
        "id": "SQHbFqMIP35d"
      },
      "source": [
        "**Membuat DataFrame**\n",
        "\n",
        "Ikuti semua petunjuk yang harus dilakukan di bawah ini."
      ]
    },
    {
      "cell_type": "markdown",
      "metadata": {
        "id": "e7W0hzsHP35e"
      },
      "source": [
        "**Step 1. Import library yang dibutuhkan.**"
      ]
    },
    {
      "cell_type": "code",
      "execution_count": 33,
      "metadata": {
        "id": "oTRCa5ptP35g"
      },
      "outputs": [],
      "source": [
        "import numpy as np \n",
        "import pandas as pd "
      ]
    },
    {
      "cell_type": "markdown",
      "metadata": {
        "id": "QgEJjLLwP35k"
      },
      "source": [
        "**Step 2. Buat dictionary untuk membuat DataFrame berjumlah 5 key dan masing-masing key memiliki value berupa list dengan 10 item.**"
      ]
    },
    {
      "cell_type": "code",
      "execution_count": 34,
      "metadata": {
        "id": "ViDvfpqdP35l",
        "outputId": "6aa21cef-5c1e-4466-b542-7bab153ca7ee"
      },
      "outputs": [
        {
          "data": {
            "text/html": [
              "<div>\n",
              "<style scoped>\n",
              "    .dataframe tbody tr th:only-of-type {\n",
              "        vertical-align: middle;\n",
              "    }\n",
              "\n",
              "    .dataframe tbody tr th {\n",
              "        vertical-align: top;\n",
              "    }\n",
              "\n",
              "    .dataframe thead th {\n",
              "        text-align: right;\n",
              "    }\n",
              "</style>\n",
              "<table border=\"1\" class=\"dataframe\">\n",
              "  <thead>\n",
              "    <tr style=\"text-align: right;\">\n",
              "      <th></th>\n",
              "      <th>Nama</th>\n",
              "      <th>Umur</th>\n",
              "      <th>Gender</th>\n",
              "      <th>Pekerjaan</th>\n",
              "      <th>Domisili</th>\n",
              "    </tr>\n",
              "  </thead>\n",
              "  <tbody>\n",
              "    <tr>\n",
              "      <th>0</th>\n",
              "      <td>Adele</td>\n",
              "      <td>24</td>\n",
              "      <td>Wanita</td>\n",
              "      <td>Data Analyst</td>\n",
              "      <td>Jakarta</td>\n",
              "    </tr>\n",
              "    <tr>\n",
              "      <th>1</th>\n",
              "      <td>Beyonce</td>\n",
              "      <td>25</td>\n",
              "      <td>Wanita</td>\n",
              "      <td>Data Engineer</td>\n",
              "      <td>Tangerang</td>\n",
              "    </tr>\n",
              "    <tr>\n",
              "      <th>2</th>\n",
              "      <td>Camila</td>\n",
              "      <td>30</td>\n",
              "      <td>Wanita</td>\n",
              "      <td>Data Scientist</td>\n",
              "      <td>Jakarta</td>\n",
              "    </tr>\n",
              "    <tr>\n",
              "      <th>3</th>\n",
              "      <td>Donald</td>\n",
              "      <td>32</td>\n",
              "      <td>Pria</td>\n",
              "      <td>Data Scientist</td>\n",
              "      <td>Bandung</td>\n",
              "    </tr>\n",
              "    <tr>\n",
              "      <th>4</th>\n",
              "      <td>Eminem</td>\n",
              "      <td>28</td>\n",
              "      <td>Pria</td>\n",
              "      <td>Data Analyst</td>\n",
              "      <td>Jakarta</td>\n",
              "    </tr>\n",
              "    <tr>\n",
              "      <th>5</th>\n",
              "      <td>Ferguson</td>\n",
              "      <td>24</td>\n",
              "      <td>Pria</td>\n",
              "      <td>Data Engineer</td>\n",
              "      <td>Surabaya</td>\n",
              "    </tr>\n",
              "    <tr>\n",
              "      <th>6</th>\n",
              "      <td>Gaga</td>\n",
              "      <td>29</td>\n",
              "      <td>Wanita</td>\n",
              "      <td>ML Engineer</td>\n",
              "      <td>Bandung</td>\n",
              "    </tr>\n",
              "    <tr>\n",
              "      <th>7</th>\n",
              "      <td>Hillary</td>\n",
              "      <td>31</td>\n",
              "      <td>Wanita</td>\n",
              "      <td>ML Researcher</td>\n",
              "      <td>Yogyakarta</td>\n",
              "    </tr>\n",
              "    <tr>\n",
              "      <th>8</th>\n",
              "      <td>Indro</td>\n",
              "      <td>30</td>\n",
              "      <td>Pria</td>\n",
              "      <td>BI Analyst</td>\n",
              "      <td>Jakarta</td>\n",
              "    </tr>\n",
              "    <tr>\n",
              "      <th>9</th>\n",
              "      <td>Joko</td>\n",
              "      <td>29</td>\n",
              "      <td>Pria</td>\n",
              "      <td>Data Analyst</td>\n",
              "      <td>Tangerang</td>\n",
              "    </tr>\n",
              "  </tbody>\n",
              "</table>\n",
              "</div>"
            ],
            "text/plain": [
              "       Nama  Umur  Gender       Pekerjaan    Domisili\n",
              "0     Adele    24  Wanita    Data Analyst     Jakarta\n",
              "1   Beyonce    25  Wanita   Data Engineer   Tangerang\n",
              "2    Camila    30  Wanita  Data Scientist     Jakarta\n",
              "3    Donald    32    Pria  Data Scientist     Bandung\n",
              "4    Eminem    28    Pria    Data Analyst     Jakarta\n",
              "5  Ferguson    24    Pria   Data Engineer    Surabaya\n",
              "6      Gaga    29  Wanita     ML Engineer     Bandung\n",
              "7   Hillary    31  Wanita   ML Researcher  Yogyakarta\n",
              "8     Indro    30    Pria      BI Analyst     Jakarta\n",
              "9      Joko    29    Pria    Data Analyst   Tangerang"
            ]
          },
          "execution_count": 34,
          "metadata": {},
          "output_type": "execute_result"
        }
      ],
      "source": [
        "nama = 'Adele, Beyonce, Camila, Donald, Eminem, Ferguson, Gaga, Hillary, Indro, Joko'.split(', ')\n",
        "umur = [24, 25, 30, 32, 28, 24, 29, 31, 30, 29]\n",
        "gender = 'Wanita, Wanita, Wanita, Pria, Pria, Pria, Wanita, Wanita, Pria, Pria'.split(', ')\n",
        "pekerjaan = 'Data Analyst, Data Engineer, Data Scientist, Data Scientist, Data Analyst, Data Engineer, ML Engineer, ML Researcher, BI Analyst, Data Analyst'.split(', ')\n",
        "domisili = 'Jakarta, Tangerang, Jakarta, Bandung, Jakarta, Surabaya, Bandung, Yogyakarta, Jakarta, Tangerang'.split(', ')\n",
        "\n",
        "df = pd.DataFrame({\n",
        "    'Nama' : nama,\n",
        "    'Umur' : umur,\n",
        "    'Gender' : gender,\n",
        "    'Pekerjaan' : pekerjaan,\n",
        "    'Domisili' : domisili\n",
        "})\n",
        "df"
      ]
    },
    {
      "cell_type": "markdown",
      "metadata": {
        "id": "X0o9afDUP35o"
      },
      "source": [
        "**Step 3. Ubah urutan kolom tersebut menjadi seperti berikut: Nama, Gender, Umur, Domisili, Pekerjaan.**\n",
        "\n"
      ]
    },
    {
      "cell_type": "code",
      "execution_count": 35,
      "metadata": {
        "id": "FsuViyYSP35q",
        "outputId": "2db5f13d-d81e-46c7-8688-829c2476ddc5"
      },
      "outputs": [
        {
          "data": {
            "text/html": [
              "<div>\n",
              "<style scoped>\n",
              "    .dataframe tbody tr th:only-of-type {\n",
              "        vertical-align: middle;\n",
              "    }\n",
              "\n",
              "    .dataframe tbody tr th {\n",
              "        vertical-align: top;\n",
              "    }\n",
              "\n",
              "    .dataframe thead th {\n",
              "        text-align: right;\n",
              "    }\n",
              "</style>\n",
              "<table border=\"1\" class=\"dataframe\">\n",
              "  <thead>\n",
              "    <tr style=\"text-align: right;\">\n",
              "      <th></th>\n",
              "      <th>Nama</th>\n",
              "      <th>Gender</th>\n",
              "      <th>Umur</th>\n",
              "      <th>Domisili</th>\n",
              "      <th>Pekerjaan</th>\n",
              "    </tr>\n",
              "  </thead>\n",
              "  <tbody>\n",
              "    <tr>\n",
              "      <th>0</th>\n",
              "      <td>Adele</td>\n",
              "      <td>Wanita</td>\n",
              "      <td>24</td>\n",
              "      <td>Jakarta</td>\n",
              "      <td>Data Analyst</td>\n",
              "    </tr>\n",
              "    <tr>\n",
              "      <th>1</th>\n",
              "      <td>Beyonce</td>\n",
              "      <td>Wanita</td>\n",
              "      <td>25</td>\n",
              "      <td>Tangerang</td>\n",
              "      <td>Data Engineer</td>\n",
              "    </tr>\n",
              "    <tr>\n",
              "      <th>2</th>\n",
              "      <td>Camila</td>\n",
              "      <td>Wanita</td>\n",
              "      <td>30</td>\n",
              "      <td>Jakarta</td>\n",
              "      <td>Data Scientist</td>\n",
              "    </tr>\n",
              "    <tr>\n",
              "      <th>3</th>\n",
              "      <td>Donald</td>\n",
              "      <td>Pria</td>\n",
              "      <td>32</td>\n",
              "      <td>Bandung</td>\n",
              "      <td>Data Scientist</td>\n",
              "    </tr>\n",
              "    <tr>\n",
              "      <th>4</th>\n",
              "      <td>Eminem</td>\n",
              "      <td>Pria</td>\n",
              "      <td>28</td>\n",
              "      <td>Jakarta</td>\n",
              "      <td>Data Analyst</td>\n",
              "    </tr>\n",
              "    <tr>\n",
              "      <th>5</th>\n",
              "      <td>Ferguson</td>\n",
              "      <td>Pria</td>\n",
              "      <td>24</td>\n",
              "      <td>Surabaya</td>\n",
              "      <td>Data Engineer</td>\n",
              "    </tr>\n",
              "    <tr>\n",
              "      <th>6</th>\n",
              "      <td>Gaga</td>\n",
              "      <td>Wanita</td>\n",
              "      <td>29</td>\n",
              "      <td>Bandung</td>\n",
              "      <td>ML Engineer</td>\n",
              "    </tr>\n",
              "    <tr>\n",
              "      <th>7</th>\n",
              "      <td>Hillary</td>\n",
              "      <td>Wanita</td>\n",
              "      <td>31</td>\n",
              "      <td>Yogyakarta</td>\n",
              "      <td>ML Researcher</td>\n",
              "    </tr>\n",
              "    <tr>\n",
              "      <th>8</th>\n",
              "      <td>Indro</td>\n",
              "      <td>Pria</td>\n",
              "      <td>30</td>\n",
              "      <td>Jakarta</td>\n",
              "      <td>BI Analyst</td>\n",
              "    </tr>\n",
              "    <tr>\n",
              "      <th>9</th>\n",
              "      <td>Joko</td>\n",
              "      <td>Pria</td>\n",
              "      <td>29</td>\n",
              "      <td>Tangerang</td>\n",
              "      <td>Data Analyst</td>\n",
              "    </tr>\n",
              "  </tbody>\n",
              "</table>\n",
              "</div>"
            ],
            "text/plain": [
              "       Nama  Gender  Umur    Domisili       Pekerjaan\n",
              "0     Adele  Wanita    24     Jakarta    Data Analyst\n",
              "1   Beyonce  Wanita    25   Tangerang   Data Engineer\n",
              "2    Camila  Wanita    30     Jakarta  Data Scientist\n",
              "3    Donald    Pria    32     Bandung  Data Scientist\n",
              "4    Eminem    Pria    28     Jakarta    Data Analyst\n",
              "5  Ferguson    Pria    24    Surabaya   Data Engineer\n",
              "6      Gaga  Wanita    29     Bandung     ML Engineer\n",
              "7   Hillary  Wanita    31  Yogyakarta   ML Researcher\n",
              "8     Indro    Pria    30     Jakarta      BI Analyst\n",
              "9      Joko    Pria    29   Tangerang    Data Analyst"
            ]
          },
          "execution_count": 35,
          "metadata": {},
          "output_type": "execute_result"
        }
      ],
      "source": [
        "df[['Nama','Gender','Umur','Domisili','Pekerjaan']]"
      ]
    },
    {
      "cell_type": "markdown",
      "metadata": {
        "id": "ld4bVYr0P35s"
      },
      "source": [
        "**Step 4. Tambahkan 1 kolom baru bernama 'Hobi' dan isikan datanya seperti output berikut.**"
      ]
    },
    {
      "cell_type": "code",
      "execution_count": 36,
      "metadata": {
        "id": "3PTyRI-WP35t",
        "outputId": "613ae155-9a18-47f4-c503-aac1b07d4827"
      },
      "outputs": [
        {
          "data": {
            "text/html": [
              "<div>\n",
              "<style scoped>\n",
              "    .dataframe tbody tr th:only-of-type {\n",
              "        vertical-align: middle;\n",
              "    }\n",
              "\n",
              "    .dataframe tbody tr th {\n",
              "        vertical-align: top;\n",
              "    }\n",
              "\n",
              "    .dataframe thead th {\n",
              "        text-align: right;\n",
              "    }\n",
              "</style>\n",
              "<table border=\"1\" class=\"dataframe\">\n",
              "  <thead>\n",
              "    <tr style=\"text-align: right;\">\n",
              "      <th></th>\n",
              "      <th>Nama</th>\n",
              "      <th>Umur</th>\n",
              "      <th>Gender</th>\n",
              "      <th>Pekerjaan</th>\n",
              "      <th>Domisili</th>\n",
              "      <th>Hobi</th>\n",
              "    </tr>\n",
              "  </thead>\n",
              "  <tbody>\n",
              "    <tr>\n",
              "      <th>0</th>\n",
              "      <td>Adele</td>\n",
              "      <td>24</td>\n",
              "      <td>Wanita</td>\n",
              "      <td>Data Analyst</td>\n",
              "      <td>Jakarta</td>\n",
              "      <td>Gaming</td>\n",
              "    </tr>\n",
              "    <tr>\n",
              "      <th>1</th>\n",
              "      <td>Beyonce</td>\n",
              "      <td>25</td>\n",
              "      <td>Wanita</td>\n",
              "      <td>Data Engineer</td>\n",
              "      <td>Tangerang</td>\n",
              "      <td>Masak</td>\n",
              "    </tr>\n",
              "    <tr>\n",
              "      <th>2</th>\n",
              "      <td>Camila</td>\n",
              "      <td>30</td>\n",
              "      <td>Wanita</td>\n",
              "      <td>Data Scientist</td>\n",
              "      <td>Jakarta</td>\n",
              "      <td>Baca</td>\n",
              "    </tr>\n",
              "    <tr>\n",
              "      <th>3</th>\n",
              "      <td>Donald</td>\n",
              "      <td>32</td>\n",
              "      <td>Pria</td>\n",
              "      <td>Data Scientist</td>\n",
              "      <td>Bandung</td>\n",
              "      <td>Gaming</td>\n",
              "    </tr>\n",
              "    <tr>\n",
              "      <th>4</th>\n",
              "      <td>Eminem</td>\n",
              "      <td>28</td>\n",
              "      <td>Pria</td>\n",
              "      <td>Data Analyst</td>\n",
              "      <td>Jakarta</td>\n",
              "      <td>Futsal</td>\n",
              "    </tr>\n",
              "    <tr>\n",
              "      <th>5</th>\n",
              "      <td>Ferguson</td>\n",
              "      <td>24</td>\n",
              "      <td>Pria</td>\n",
              "      <td>Data Engineer</td>\n",
              "      <td>Surabaya</td>\n",
              "      <td>Traveling</td>\n",
              "    </tr>\n",
              "    <tr>\n",
              "      <th>6</th>\n",
              "      <td>Gaga</td>\n",
              "      <td>29</td>\n",
              "      <td>Wanita</td>\n",
              "      <td>ML Engineer</td>\n",
              "      <td>Bandung</td>\n",
              "      <td>Basket</td>\n",
              "    </tr>\n",
              "    <tr>\n",
              "      <th>7</th>\n",
              "      <td>Hillary</td>\n",
              "      <td>31</td>\n",
              "      <td>Wanita</td>\n",
              "      <td>ML Researcher</td>\n",
              "      <td>Yogyakarta</td>\n",
              "      <td>Traveling</td>\n",
              "    </tr>\n",
              "    <tr>\n",
              "      <th>8</th>\n",
              "      <td>Indro</td>\n",
              "      <td>30</td>\n",
              "      <td>Pria</td>\n",
              "      <td>BI Analyst</td>\n",
              "      <td>Jakarta</td>\n",
              "      <td>Gaming</td>\n",
              "    </tr>\n",
              "    <tr>\n",
              "      <th>9</th>\n",
              "      <td>Joko</td>\n",
              "      <td>29</td>\n",
              "      <td>Pria</td>\n",
              "      <td>Data Analyst</td>\n",
              "      <td>Tangerang</td>\n",
              "      <td>Futsal</td>\n",
              "    </tr>\n",
              "  </tbody>\n",
              "</table>\n",
              "</div>"
            ],
            "text/plain": [
              "       Nama  Umur  Gender       Pekerjaan    Domisili       Hobi\n",
              "0     Adele    24  Wanita    Data Analyst     Jakarta     Gaming\n",
              "1   Beyonce    25  Wanita   Data Engineer   Tangerang      Masak\n",
              "2    Camila    30  Wanita  Data Scientist     Jakarta       Baca\n",
              "3    Donald    32    Pria  Data Scientist     Bandung     Gaming\n",
              "4    Eminem    28    Pria    Data Analyst     Jakarta     Futsal\n",
              "5  Ferguson    24    Pria   Data Engineer    Surabaya  Traveling\n",
              "6      Gaga    29  Wanita     ML Engineer     Bandung     Basket\n",
              "7   Hillary    31  Wanita   ML Researcher  Yogyakarta  Traveling\n",
              "8     Indro    30    Pria      BI Analyst     Jakarta     Gaming\n",
              "9      Joko    29    Pria    Data Analyst   Tangerang     Futsal"
            ]
          },
          "execution_count": 36,
          "metadata": {},
          "output_type": "execute_result"
        }
      ],
      "source": [
        "hobi = 'Gaming, Masak, Baca, Gaming, Futsal, Traveling, Basket, Traveling, Gaming, Futsal'.split(', ')\n",
        "df['Hobi'] = hobi\n",
        "df"
      ]
    },
    {
      "cell_type": "markdown",
      "metadata": {
        "id": "qg5ayIBKP35u"
      },
      "source": [
        "**Soal Lanjutan**"
      ]
    },
    {
      "cell_type": "markdown",
      "metadata": {
        "id": "aomo8CLEP35v"
      },
      "source": [
        "**5. Gunakan .iloc untuk mengambil data Donald, Ferguson, Hillary**"
      ]
    },
    {
      "cell_type": "code",
      "execution_count": 37,
      "metadata": {
        "id": "3bjou8v8P35w",
        "outputId": "c9bd94bd-af66-4b70-ef03-80bb25d8dbbb"
      },
      "outputs": [
        {
          "data": {
            "text/html": [
              "<div>\n",
              "<style scoped>\n",
              "    .dataframe tbody tr th:only-of-type {\n",
              "        vertical-align: middle;\n",
              "    }\n",
              "\n",
              "    .dataframe tbody tr th {\n",
              "        vertical-align: top;\n",
              "    }\n",
              "\n",
              "    .dataframe thead th {\n",
              "        text-align: right;\n",
              "    }\n",
              "</style>\n",
              "<table border=\"1\" class=\"dataframe\">\n",
              "  <thead>\n",
              "    <tr style=\"text-align: right;\">\n",
              "      <th></th>\n",
              "      <th>Nama</th>\n",
              "      <th>Umur</th>\n",
              "      <th>Gender</th>\n",
              "      <th>Pekerjaan</th>\n",
              "      <th>Domisili</th>\n",
              "      <th>Hobi</th>\n",
              "    </tr>\n",
              "  </thead>\n",
              "  <tbody>\n",
              "    <tr>\n",
              "      <th>3</th>\n",
              "      <td>Donald</td>\n",
              "      <td>32</td>\n",
              "      <td>Pria</td>\n",
              "      <td>Data Scientist</td>\n",
              "      <td>Bandung</td>\n",
              "      <td>Gaming</td>\n",
              "    </tr>\n",
              "    <tr>\n",
              "      <th>5</th>\n",
              "      <td>Ferguson</td>\n",
              "      <td>24</td>\n",
              "      <td>Pria</td>\n",
              "      <td>Data Engineer</td>\n",
              "      <td>Surabaya</td>\n",
              "      <td>Traveling</td>\n",
              "    </tr>\n",
              "    <tr>\n",
              "      <th>7</th>\n",
              "      <td>Hillary</td>\n",
              "      <td>31</td>\n",
              "      <td>Wanita</td>\n",
              "      <td>ML Researcher</td>\n",
              "      <td>Yogyakarta</td>\n",
              "      <td>Traveling</td>\n",
              "    </tr>\n",
              "  </tbody>\n",
              "</table>\n",
              "</div>"
            ],
            "text/plain": [
              "       Nama  Umur  Gender       Pekerjaan    Domisili       Hobi\n",
              "3    Donald    32    Pria  Data Scientist     Bandung     Gaming\n",
              "5  Ferguson    24    Pria   Data Engineer    Surabaya  Traveling\n",
              "7   Hillary    31  Wanita   ML Researcher  Yogyakarta  Traveling"
            ]
          },
          "execution_count": 37,
          "metadata": {},
          "output_type": "execute_result"
        }
      ],
      "source": [
        "df.iloc[3:8:2]"
      ]
    },
    {
      "cell_type": "markdown",
      "metadata": {
        "id": "TtS-pJmWP35x"
      },
      "source": [
        "**6. Gunakan .loc untuk menampilkan domisili dan pekerjaan dari Camila dan Indro (termasuk kolom nama)**\n"
      ]
    },
    {
      "cell_type": "code",
      "execution_count": 38,
      "metadata": {
        "id": "XY_xTRFQP35z",
        "outputId": "539bad99-6248-4c8e-997c-aff884cff3a2"
      },
      "outputs": [
        {
          "data": {
            "text/html": [
              "<div>\n",
              "<style scoped>\n",
              "    .dataframe tbody tr th:only-of-type {\n",
              "        vertical-align: middle;\n",
              "    }\n",
              "\n",
              "    .dataframe tbody tr th {\n",
              "        vertical-align: top;\n",
              "    }\n",
              "\n",
              "    .dataframe thead th {\n",
              "        text-align: right;\n",
              "    }\n",
              "</style>\n",
              "<table border=\"1\" class=\"dataframe\">\n",
              "  <thead>\n",
              "    <tr style=\"text-align: right;\">\n",
              "      <th></th>\n",
              "      <th>Nama</th>\n",
              "      <th>Domisili</th>\n",
              "      <th>Pekerjaan</th>\n",
              "    </tr>\n",
              "  </thead>\n",
              "  <tbody>\n",
              "    <tr>\n",
              "      <th>2</th>\n",
              "      <td>Camila</td>\n",
              "      <td>Jakarta</td>\n",
              "      <td>Data Scientist</td>\n",
              "    </tr>\n",
              "    <tr>\n",
              "      <th>8</th>\n",
              "      <td>Indro</td>\n",
              "      <td>Jakarta</td>\n",
              "      <td>BI Analyst</td>\n",
              "    </tr>\n",
              "  </tbody>\n",
              "</table>\n",
              "</div>"
            ],
            "text/plain": [
              "     Nama Domisili       Pekerjaan\n",
              "2  Camila  Jakarta  Data Scientist\n",
              "8   Indro  Jakarta      BI Analyst"
            ]
          },
          "execution_count": 38,
          "metadata": {},
          "output_type": "execute_result"
        }
      ],
      "source": [
        "df.loc[2:9:6,['Nama', 'Domisili', 'Pekerjaan']]"
      ]
    },
    {
      "cell_type": "markdown",
      "metadata": {
        "id": "sFx_lXmqP350"
      },
      "source": [
        "**7. Gunakan .iloc untuk menampilkan semua data dari Hillary dan Joko**"
      ]
    },
    {
      "cell_type": "code",
      "execution_count": 39,
      "metadata": {
        "id": "E2mcGl2_P351",
        "outputId": "ee429ab5-4c02-4723-8373-62c73c589c2c"
      },
      "outputs": [
        {
          "data": {
            "text/html": [
              "<div>\n",
              "<style scoped>\n",
              "    .dataframe tbody tr th:only-of-type {\n",
              "        vertical-align: middle;\n",
              "    }\n",
              "\n",
              "    .dataframe tbody tr th {\n",
              "        vertical-align: top;\n",
              "    }\n",
              "\n",
              "    .dataframe thead th {\n",
              "        text-align: right;\n",
              "    }\n",
              "</style>\n",
              "<table border=\"1\" class=\"dataframe\">\n",
              "  <thead>\n",
              "    <tr style=\"text-align: right;\">\n",
              "      <th></th>\n",
              "      <th>Nama</th>\n",
              "      <th>Umur</th>\n",
              "      <th>Gender</th>\n",
              "      <th>Pekerjaan</th>\n",
              "      <th>Domisili</th>\n",
              "      <th>Hobi</th>\n",
              "    </tr>\n",
              "  </thead>\n",
              "  <tbody>\n",
              "    <tr>\n",
              "      <th>7</th>\n",
              "      <td>Hillary</td>\n",
              "      <td>31</td>\n",
              "      <td>Wanita</td>\n",
              "      <td>ML Researcher</td>\n",
              "      <td>Yogyakarta</td>\n",
              "      <td>Traveling</td>\n",
              "    </tr>\n",
              "    <tr>\n",
              "      <th>9</th>\n",
              "      <td>Joko</td>\n",
              "      <td>29</td>\n",
              "      <td>Pria</td>\n",
              "      <td>Data Analyst</td>\n",
              "      <td>Tangerang</td>\n",
              "      <td>Futsal</td>\n",
              "    </tr>\n",
              "  </tbody>\n",
              "</table>\n",
              "</div>"
            ],
            "text/plain": [
              "      Nama  Umur  Gender      Pekerjaan    Domisili       Hobi\n",
              "7  Hillary    31  Wanita  ML Researcher  Yogyakarta  Traveling\n",
              "9     Joko    29    Pria   Data Analyst   Tangerang     Futsal"
            ]
          },
          "execution_count": 39,
          "metadata": {},
          "output_type": "execute_result"
        }
      ],
      "source": [
        "df.iloc[7:10:2]"
      ]
    },
    {
      "cell_type": "markdown",
      "metadata": {
        "id": "9_1BXqs6P351"
      },
      "source": [
        "**8. Siapa sajakah yang berumur lebih dari 30 tahun?**"
      ]
    },
    {
      "cell_type": "code",
      "execution_count": 41,
      "metadata": {
        "id": "RCUs9zPoP352",
        "outputId": "1a4e9b69-40db-4d28-e6c8-84a0f14431ae"
      },
      "outputs": [
        {
          "data": {
            "text/html": [
              "<div>\n",
              "<style scoped>\n",
              "    .dataframe tbody tr th:only-of-type {\n",
              "        vertical-align: middle;\n",
              "    }\n",
              "\n",
              "    .dataframe tbody tr th {\n",
              "        vertical-align: top;\n",
              "    }\n",
              "\n",
              "    .dataframe thead th {\n",
              "        text-align: right;\n",
              "    }\n",
              "</style>\n",
              "<table border=\"1\" class=\"dataframe\">\n",
              "  <thead>\n",
              "    <tr style=\"text-align: right;\">\n",
              "      <th></th>\n",
              "      <th>Nama</th>\n",
              "      <th>Umur</th>\n",
              "      <th>Gender</th>\n",
              "      <th>Pekerjaan</th>\n",
              "      <th>Domisili</th>\n",
              "      <th>Hobi</th>\n",
              "    </tr>\n",
              "  </thead>\n",
              "  <tbody>\n",
              "    <tr>\n",
              "      <th>3</th>\n",
              "      <td>Donald</td>\n",
              "      <td>32</td>\n",
              "      <td>Pria</td>\n",
              "      <td>Data Scientist</td>\n",
              "      <td>Bandung</td>\n",
              "      <td>Gaming</td>\n",
              "    </tr>\n",
              "    <tr>\n",
              "      <th>7</th>\n",
              "      <td>Hillary</td>\n",
              "      <td>31</td>\n",
              "      <td>Wanita</td>\n",
              "      <td>ML Researcher</td>\n",
              "      <td>Yogyakarta</td>\n",
              "      <td>Traveling</td>\n",
              "    </tr>\n",
              "  </tbody>\n",
              "</table>\n",
              "</div>"
            ],
            "text/plain": [
              "      Nama  Umur  Gender       Pekerjaan    Domisili       Hobi\n",
              "3   Donald    32    Pria  Data Scientist     Bandung     Gaming\n",
              "7  Hillary    31  Wanita   ML Researcher  Yogyakarta  Traveling"
            ]
          },
          "execution_count": 41,
          "metadata": {},
          "output_type": "execute_result"
        }
      ],
      "source": [
        "df[df['Umur']>30]"
      ]
    },
    {
      "cell_type": "markdown",
      "metadata": {
        "id": "erC3maHDP353"
      },
      "source": [
        "**9. Siapa sajakah yang berumur kurang dari 30 tahun dan hobinya Gaming?**"
      ]
    },
    {
      "cell_type": "code",
      "execution_count": 45,
      "metadata": {
        "id": "8oOmzJBIP354",
        "outputId": "b3f063b2-c34c-4008-8996-4196924d8aef"
      },
      "outputs": [
        {
          "data": {
            "text/html": [
              "<div>\n",
              "<style scoped>\n",
              "    .dataframe tbody tr th:only-of-type {\n",
              "        vertical-align: middle;\n",
              "    }\n",
              "\n",
              "    .dataframe tbody tr th {\n",
              "        vertical-align: top;\n",
              "    }\n",
              "\n",
              "    .dataframe thead th {\n",
              "        text-align: right;\n",
              "    }\n",
              "</style>\n",
              "<table border=\"1\" class=\"dataframe\">\n",
              "  <thead>\n",
              "    <tr style=\"text-align: right;\">\n",
              "      <th></th>\n",
              "      <th>Nama</th>\n",
              "      <th>Umur</th>\n",
              "      <th>Gender</th>\n",
              "      <th>Pekerjaan</th>\n",
              "      <th>Domisili</th>\n",
              "      <th>Hobi</th>\n",
              "    </tr>\n",
              "  </thead>\n",
              "  <tbody>\n",
              "    <tr>\n",
              "      <th>0</th>\n",
              "      <td>Adele</td>\n",
              "      <td>24</td>\n",
              "      <td>Wanita</td>\n",
              "      <td>Data Analyst</td>\n",
              "      <td>Jakarta</td>\n",
              "      <td>Gaming</td>\n",
              "    </tr>\n",
              "  </tbody>\n",
              "</table>\n",
              "</div>"
            ],
            "text/plain": [
              "    Nama  Umur  Gender     Pekerjaan Domisili    Hobi\n",
              "0  Adele    24  Wanita  Data Analyst  Jakarta  Gaming"
            ]
          },
          "execution_count": 45,
          "metadata": {},
          "output_type": "execute_result"
        }
      ],
      "source": [
        "df[(df['Umur']<30) & (df['Hobi']=='Gaming')]"
      ]
    },
    {
      "cell_type": "markdown",
      "metadata": {
        "id": "_PFXKA0GP354"
      },
      "source": [
        "**10. Tampilkan nama orang yang pekerjaannya adalah Data Analyst! Tampilkan kolom nama saja dalam bentuk Series!**"
      ]
    },
    {
      "cell_type": "code",
      "execution_count": 48,
      "metadata": {
        "id": "cHIT4HFiP355",
        "outputId": "c8d05a1d-1504-423d-be08-3bce6d5f8115"
      },
      "outputs": [
        {
          "data": {
            "text/plain": [
              "0     Adele\n",
              "4    Eminem\n",
              "9      Joko\n",
              "Name: Nama, dtype: object"
            ]
          },
          "execution_count": 48,
          "metadata": {},
          "output_type": "execute_result"
        }
      ],
      "source": [
        "df[df['Pekerjaan'] == 'Data Analyst']['Nama']"
      ]
    },
    {
      "cell_type": "markdown",
      "metadata": {
        "id": "6unccrRJP356"
      },
      "source": [
        "**11. Apa saja pekerjaan orang-orang yang berdomisili di Jakarta? Tampilkan nama dan pekerjaannya!**"
      ]
    },
    {
      "cell_type": "code",
      "execution_count": 51,
      "metadata": {
        "id": "wZVYt4-gP357",
        "outputId": "15f3c24b-a254-444f-e383-74872b72ef1b"
      },
      "outputs": [
        {
          "data": {
            "text/html": [
              "<div>\n",
              "<style scoped>\n",
              "    .dataframe tbody tr th:only-of-type {\n",
              "        vertical-align: middle;\n",
              "    }\n",
              "\n",
              "    .dataframe tbody tr th {\n",
              "        vertical-align: top;\n",
              "    }\n",
              "\n",
              "    .dataframe thead th {\n",
              "        text-align: right;\n",
              "    }\n",
              "</style>\n",
              "<table border=\"1\" class=\"dataframe\">\n",
              "  <thead>\n",
              "    <tr style=\"text-align: right;\">\n",
              "      <th></th>\n",
              "      <th>Nama</th>\n",
              "      <th>Pekerjaan</th>\n",
              "    </tr>\n",
              "  </thead>\n",
              "  <tbody>\n",
              "    <tr>\n",
              "      <th>0</th>\n",
              "      <td>Adele</td>\n",
              "      <td>Data Analyst</td>\n",
              "    </tr>\n",
              "    <tr>\n",
              "      <th>2</th>\n",
              "      <td>Camila</td>\n",
              "      <td>Data Scientist</td>\n",
              "    </tr>\n",
              "    <tr>\n",
              "      <th>4</th>\n",
              "      <td>Eminem</td>\n",
              "      <td>Data Analyst</td>\n",
              "    </tr>\n",
              "    <tr>\n",
              "      <th>8</th>\n",
              "      <td>Indro</td>\n",
              "      <td>BI Analyst</td>\n",
              "    </tr>\n",
              "  </tbody>\n",
              "</table>\n",
              "</div>"
            ],
            "text/plain": [
              "     Nama       Pekerjaan\n",
              "0   Adele    Data Analyst\n",
              "2  Camila  Data Scientist\n",
              "4  Eminem    Data Analyst\n",
              "8   Indro      BI Analyst"
            ]
          },
          "execution_count": 51,
          "metadata": {},
          "output_type": "execute_result"
        }
      ],
      "source": [
        "df[df['Domisili']=='Jakarta'][['Nama','Pekerjaan']]"
      ]
    },
    {
      "cell_type": "markdown",
      "metadata": {
        "id": "GOgfHfyQP358"
      },
      "source": [
        "**12. Apa saja hobi para wanita yang ada di dataset? Tampilkan hanya kolom Nama, Hobi, Umur secara berurutan!**"
      ]
    },
    {
      "cell_type": "code",
      "execution_count": 53,
      "metadata": {
        "id": "RGb4GTxcP358",
        "outputId": "6345dd0b-8eb7-4001-d4ff-bcea3b074ea1"
      },
      "outputs": [
        {
          "data": {
            "text/html": [
              "<div>\n",
              "<style scoped>\n",
              "    .dataframe tbody tr th:only-of-type {\n",
              "        vertical-align: middle;\n",
              "    }\n",
              "\n",
              "    .dataframe tbody tr th {\n",
              "        vertical-align: top;\n",
              "    }\n",
              "\n",
              "    .dataframe thead th {\n",
              "        text-align: right;\n",
              "    }\n",
              "</style>\n",
              "<table border=\"1\" class=\"dataframe\">\n",
              "  <thead>\n",
              "    <tr style=\"text-align: right;\">\n",
              "      <th></th>\n",
              "      <th>Nama</th>\n",
              "      <th>Hobi</th>\n",
              "      <th>Umur</th>\n",
              "    </tr>\n",
              "  </thead>\n",
              "  <tbody>\n",
              "    <tr>\n",
              "      <th>0</th>\n",
              "      <td>Adele</td>\n",
              "      <td>Gaming</td>\n",
              "      <td>24</td>\n",
              "    </tr>\n",
              "    <tr>\n",
              "      <th>1</th>\n",
              "      <td>Beyonce</td>\n",
              "      <td>Masak</td>\n",
              "      <td>25</td>\n",
              "    </tr>\n",
              "    <tr>\n",
              "      <th>2</th>\n",
              "      <td>Camila</td>\n",
              "      <td>Baca</td>\n",
              "      <td>30</td>\n",
              "    </tr>\n",
              "    <tr>\n",
              "      <th>6</th>\n",
              "      <td>Gaga</td>\n",
              "      <td>Basket</td>\n",
              "      <td>29</td>\n",
              "    </tr>\n",
              "    <tr>\n",
              "      <th>7</th>\n",
              "      <td>Hillary</td>\n",
              "      <td>Traveling</td>\n",
              "      <td>31</td>\n",
              "    </tr>\n",
              "  </tbody>\n",
              "</table>\n",
              "</div>"
            ],
            "text/plain": [
              "      Nama       Hobi  Umur\n",
              "0    Adele     Gaming    24\n",
              "1  Beyonce      Masak    25\n",
              "2   Camila       Baca    30\n",
              "6     Gaga     Basket    29\n",
              "7  Hillary  Traveling    31"
            ]
          },
          "execution_count": 53,
          "metadata": {},
          "output_type": "execute_result"
        }
      ],
      "source": [
        "df[df['Gender']=='Wanita'][['Nama', 'Hobi', 'Umur']]"
      ]
    },
    {
      "cell_type": "markdown",
      "metadata": {
        "id": "OqBqclw_P359"
      },
      "source": [
        "**13. Siapa saja yang berumur lebih tua dari Eminem? Tampilkan kolom nama dan umur!**"
      ]
    },
    {
      "cell_type": "code",
      "execution_count": 96,
      "metadata": {
        "id": "RCB5VzslP359",
        "outputId": "de4cd859-88fa-4b8e-f53c-305374d1402f"
      },
      "outputs": [
        {
          "data": {
            "text/html": [
              "<div>\n",
              "<style scoped>\n",
              "    .dataframe tbody tr th:only-of-type {\n",
              "        vertical-align: middle;\n",
              "    }\n",
              "\n",
              "    .dataframe tbody tr th {\n",
              "        vertical-align: top;\n",
              "    }\n",
              "\n",
              "    .dataframe thead th {\n",
              "        text-align: right;\n",
              "    }\n",
              "</style>\n",
              "<table border=\"1\" class=\"dataframe\">\n",
              "  <thead>\n",
              "    <tr style=\"text-align: right;\">\n",
              "      <th></th>\n",
              "      <th>Nama</th>\n",
              "      <th>Umur</th>\n",
              "    </tr>\n",
              "  </thead>\n",
              "  <tbody>\n",
              "    <tr>\n",
              "      <th>2</th>\n",
              "      <td>Camila</td>\n",
              "      <td>30</td>\n",
              "    </tr>\n",
              "    <tr>\n",
              "      <th>3</th>\n",
              "      <td>Donald</td>\n",
              "      <td>32</td>\n",
              "    </tr>\n",
              "    <tr>\n",
              "      <th>6</th>\n",
              "      <td>Gaga</td>\n",
              "      <td>29</td>\n",
              "    </tr>\n",
              "    <tr>\n",
              "      <th>7</th>\n",
              "      <td>Hillary</td>\n",
              "      <td>31</td>\n",
              "    </tr>\n",
              "    <tr>\n",
              "      <th>8</th>\n",
              "      <td>Indro</td>\n",
              "      <td>30</td>\n",
              "    </tr>\n",
              "    <tr>\n",
              "      <th>9</th>\n",
              "      <td>Joko</td>\n",
              "      <td>29</td>\n",
              "    </tr>\n",
              "  </tbody>\n",
              "</table>\n",
              "</div>"
            ],
            "text/plain": [
              "      Nama  Umur\n",
              "2   Camila    30\n",
              "3   Donald    32\n",
              "6     Gaga    29\n",
              "7  Hillary    31\n",
              "8    Indro    30\n",
              "9     Joko    29"
            ]
          },
          "execution_count": 96,
          "metadata": {},
          "output_type": "execute_result"
        }
      ],
      "source": [
        "umurEminem = df[df['Nama']=='Eminem']['Umur']\n",
        "umurEminem = umurEminem.iloc[0]\n",
        "umurEminem\n",
        "df[df['Umur']>umurEminem][['Nama', 'Umur']]"
      ]
    },
    {
      "cell_type": "markdown",
      "metadata": {
        "id": "vJ8r5H2WP35-"
      },
      "source": [
        "**14. Berdasarkan data, apakah ada wanita yang hobinya traveling?**"
      ]
    },
    {
      "cell_type": "code",
      "execution_count": 88,
      "metadata": {
        "id": "_JZ1LgLZP35-",
        "outputId": "9bc27626-506d-4651-f04c-9ee96599f2b4"
      },
      "outputs": [
        {
          "data": {
            "text/html": [
              "<div>\n",
              "<style scoped>\n",
              "    .dataframe tbody tr th:only-of-type {\n",
              "        vertical-align: middle;\n",
              "    }\n",
              "\n",
              "    .dataframe tbody tr th {\n",
              "        vertical-align: top;\n",
              "    }\n",
              "\n",
              "    .dataframe thead th {\n",
              "        text-align: right;\n",
              "    }\n",
              "</style>\n",
              "<table border=\"1\" class=\"dataframe\">\n",
              "  <thead>\n",
              "    <tr style=\"text-align: right;\">\n",
              "      <th></th>\n",
              "      <th>Nama</th>\n",
              "      <th>Umur</th>\n",
              "      <th>Gender</th>\n",
              "      <th>Pekerjaan</th>\n",
              "      <th>Domisili</th>\n",
              "      <th>Hobi</th>\n",
              "    </tr>\n",
              "  </thead>\n",
              "  <tbody>\n",
              "    <tr>\n",
              "      <th>7</th>\n",
              "      <td>Hillary</td>\n",
              "      <td>31</td>\n",
              "      <td>Wanita</td>\n",
              "      <td>ML Researcher</td>\n",
              "      <td>Yogyakarta</td>\n",
              "      <td>Traveling</td>\n",
              "    </tr>\n",
              "  </tbody>\n",
              "</table>\n",
              "</div>"
            ],
            "text/plain": [
              "      Nama  Umur  Gender      Pekerjaan    Domisili       Hobi\n",
              "7  Hillary    31  Wanita  ML Researcher  Yogyakarta  Traveling"
            ]
          },
          "execution_count": 88,
          "metadata": {},
          "output_type": "execute_result"
        }
      ],
      "source": [
        "df[(df['Gender'] == 'Wanita') & (df['Hobi'] == 'Traveling')]"
      ]
    }
  ],
  "metadata": {
    "colab": {
      "provenance": []
    },
    "kernelspec": {
      "display_name": "Python 3.10.5 ('pwdenv')",
      "language": "python",
      "name": "python3"
    },
    "language_info": {
      "codemirror_mode": {
        "name": "ipython",
        "version": 3
      },
      "file_extension": ".py",
      "mimetype": "text/x-python",
      "name": "python",
      "nbconvert_exporter": "python",
      "pygments_lexer": "ipython3",
      "version": "3.9.1"
    },
    "orig_nbformat": 4,
    "vscode": {
      "interpreter": {
        "hash": "26d83cb9ebc769f8a392797c85547e3220df367d4f886ed011b3f771d6a84444"
      }
    }
  },
  "nbformat": 4,
  "nbformat_minor": 0
}
