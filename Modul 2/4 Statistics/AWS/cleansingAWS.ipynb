{
 "cells": [
  {
   "cell_type": "code",
   "execution_count": 65,
   "metadata": {},
   "outputs": [],
   "source": [
    "import numpy as np\n",
    "import pandas as pd\n",
    "import matplotlib.pyplot as plt\n",
    "import seaborn as sns\n",
    "import os\n",
    "from scipy import stats\n",
    "\n",
    "import warnings\n",
    "warnings.filterwarnings('ignore')"
   ]
  },
  {
   "cell_type": "code",
   "execution_count": 66,
   "metadata": {},
   "outputs": [],
   "source": [
    "aws_df = pd.read_csv('SaaS-Sales.csv')"
   ]
  },
  {
   "cell_type": "code",
   "execution_count": 67,
   "metadata": {},
   "outputs": [
    {
     "name": "stdout",
     "output_type": "stream",
     "text": [
      "<class 'pandas.core.frame.DataFrame'>\n",
      "RangeIndex: 9994 entries, 0 to 9993\n",
      "Data columns (total 19 columns):\n",
      " #   Column        Non-Null Count  Dtype         \n",
      "---  ------        --------------  -----         \n",
      " 0   Row ID        9994 non-null   int64         \n",
      " 1   Order ID      9994 non-null   object        \n",
      " 2   Order Date    9994 non-null   datetime64[ns]\n",
      " 3   Date Key      9994 non-null   int64         \n",
      " 4   Contact Name  9994 non-null   object        \n",
      " 5   Country       9994 non-null   object        \n",
      " 6   City          9994 non-null   object        \n",
      " 7   Region        9994 non-null   object        \n",
      " 8   Subregion     9994 non-null   object        \n",
      " 9   Customer      9994 non-null   object        \n",
      " 10  Customer ID   9994 non-null   int64         \n",
      " 11  Industry      9994 non-null   object        \n",
      " 12  Segment       9994 non-null   object        \n",
      " 13  Product       9994 non-null   object        \n",
      " 14  License       9994 non-null   object        \n",
      " 15  Sales         9994 non-null   float64       \n",
      " 16  Quantity      9994 non-null   int64         \n",
      " 17  Discount      9994 non-null   float64       \n",
      " 18  Profit        9994 non-null   float64       \n",
      "dtypes: datetime64[ns](1), float64(3), int64(4), object(11)\n",
      "memory usage: 1.4+ MB\n"
     ]
    },
    {
     "data": {
      "text/plain": [
       "None"
      ]
     },
     "metadata": {},
     "output_type": "display_data"
    },
    {
     "data": {
      "text/html": [
       "<div>\n",
       "<style scoped>\n",
       "    .dataframe tbody tr th:only-of-type {\n",
       "        vertical-align: middle;\n",
       "    }\n",
       "\n",
       "    .dataframe tbody tr th {\n",
       "        vertical-align: top;\n",
       "    }\n",
       "\n",
       "    .dataframe thead th {\n",
       "        text-align: right;\n",
       "    }\n",
       "</style>\n",
       "<table border=\"1\" class=\"dataframe\">\n",
       "  <thead>\n",
       "    <tr style=\"text-align: right;\">\n",
       "      <th></th>\n",
       "      <th>Row ID</th>\n",
       "      <th>Order Date</th>\n",
       "      <th>Date Key</th>\n",
       "      <th>Customer ID</th>\n",
       "      <th>Sales</th>\n",
       "      <th>Quantity</th>\n",
       "      <th>Discount</th>\n",
       "      <th>Profit</th>\n",
       "    </tr>\n",
       "  </thead>\n",
       "  <tbody>\n",
       "    <tr>\n",
       "      <th>count</th>\n",
       "      <td>9994.000000</td>\n",
       "      <td>9994</td>\n",
       "      <td>9.994000e+03</td>\n",
       "      <td>9994.000000</td>\n",
       "      <td>9994.000000</td>\n",
       "      <td>9994.000000</td>\n",
       "      <td>9994.000000</td>\n",
       "      <td>9994.000000</td>\n",
       "    </tr>\n",
       "    <tr>\n",
       "      <th>mean</th>\n",
       "      <td>4997.500000</td>\n",
       "      <td>2022-05-01 00:07:12.259355648</td>\n",
       "      <td>2.021803e+07</td>\n",
       "      <td>1049.771963</td>\n",
       "      <td>229.858001</td>\n",
       "      <td>3.789574</td>\n",
       "      <td>0.156203</td>\n",
       "      <td>28.656896</td>\n",
       "    </tr>\n",
       "    <tr>\n",
       "      <th>min</th>\n",
       "      <td>1.000000</td>\n",
       "      <td>2020-01-04 00:00:00</td>\n",
       "      <td>2.020010e+07</td>\n",
       "      <td>1001.000000</td>\n",
       "      <td>0.444000</td>\n",
       "      <td>1.000000</td>\n",
       "      <td>0.000000</td>\n",
       "      <td>-6599.978000</td>\n",
       "    </tr>\n",
       "    <tr>\n",
       "      <th>25%</th>\n",
       "      <td>2499.250000</td>\n",
       "      <td>2021-05-23 00:00:00</td>\n",
       "      <td>2.021052e+07</td>\n",
       "      <td>1024.000000</td>\n",
       "      <td>17.280000</td>\n",
       "      <td>2.000000</td>\n",
       "      <td>0.000000</td>\n",
       "      <td>1.728750</td>\n",
       "    </tr>\n",
       "    <tr>\n",
       "      <th>50%</th>\n",
       "      <td>4997.500000</td>\n",
       "      <td>2022-06-27 00:00:00</td>\n",
       "      <td>2.022063e+07</td>\n",
       "      <td>1049.000000</td>\n",
       "      <td>54.490000</td>\n",
       "      <td>3.000000</td>\n",
       "      <td>0.200000</td>\n",
       "      <td>8.666500</td>\n",
       "    </tr>\n",
       "    <tr>\n",
       "      <th>75%</th>\n",
       "      <td>7495.750000</td>\n",
       "      <td>2023-05-15 00:00:00</td>\n",
       "      <td>2.023052e+07</td>\n",
       "      <td>1076.000000</td>\n",
       "      <td>209.940000</td>\n",
       "      <td>5.000000</td>\n",
       "      <td>0.200000</td>\n",
       "      <td>29.364000</td>\n",
       "    </tr>\n",
       "    <tr>\n",
       "      <th>max</th>\n",
       "      <td>9994.000000</td>\n",
       "      <td>2023-12-31 00:00:00</td>\n",
       "      <td>2.023123e+07</td>\n",
       "      <td>1101.000000</td>\n",
       "      <td>22638.480000</td>\n",
       "      <td>14.000000</td>\n",
       "      <td>0.800000</td>\n",
       "      <td>8399.976000</td>\n",
       "    </tr>\n",
       "    <tr>\n",
       "      <th>std</th>\n",
       "      <td>2885.163629</td>\n",
       "      <td>NaN</td>\n",
       "      <td>1.123898e+04</td>\n",
       "      <td>29.719388</td>\n",
       "      <td>623.245101</td>\n",
       "      <td>2.225110</td>\n",
       "      <td>0.206452</td>\n",
       "      <td>234.260108</td>\n",
       "    </tr>\n",
       "  </tbody>\n",
       "</table>\n",
       "</div>"
      ],
      "text/plain": [
       "            Row ID                     Order Date      Date Key  Customer ID   \n",
       "count  9994.000000                           9994  9.994000e+03  9994.000000  \\\n",
       "mean   4997.500000  2022-05-01 00:07:12.259355648  2.021803e+07  1049.771963   \n",
       "min       1.000000            2020-01-04 00:00:00  2.020010e+07  1001.000000   \n",
       "25%    2499.250000            2021-05-23 00:00:00  2.021052e+07  1024.000000   \n",
       "50%    4997.500000            2022-06-27 00:00:00  2.022063e+07  1049.000000   \n",
       "75%    7495.750000            2023-05-15 00:00:00  2.023052e+07  1076.000000   \n",
       "max    9994.000000            2023-12-31 00:00:00  2.023123e+07  1101.000000   \n",
       "std    2885.163629                            NaN  1.123898e+04    29.719388   \n",
       "\n",
       "              Sales     Quantity     Discount       Profit  \n",
       "count   9994.000000  9994.000000  9994.000000  9994.000000  \n",
       "mean     229.858001     3.789574     0.156203    28.656896  \n",
       "min        0.444000     1.000000     0.000000 -6599.978000  \n",
       "25%       17.280000     2.000000     0.000000     1.728750  \n",
       "50%       54.490000     3.000000     0.200000     8.666500  \n",
       "75%      209.940000     5.000000     0.200000    29.364000  \n",
       "max    22638.480000    14.000000     0.800000  8399.976000  \n",
       "std      623.245101     2.225110     0.206452   234.260108  "
      ]
     },
     "metadata": {},
     "output_type": "display_data"
    },
    {
     "data": {
      "text/html": [
       "<div>\n",
       "<style scoped>\n",
       "    .dataframe tbody tr th:only-of-type {\n",
       "        vertical-align: middle;\n",
       "    }\n",
       "\n",
       "    .dataframe tbody tr th {\n",
       "        vertical-align: top;\n",
       "    }\n",
       "\n",
       "    .dataframe thead th {\n",
       "        text-align: right;\n",
       "    }\n",
       "</style>\n",
       "<table border=\"1\" class=\"dataframe\">\n",
       "  <thead>\n",
       "    <tr style=\"text-align: right;\">\n",
       "      <th></th>\n",
       "      <th>Order ID</th>\n",
       "      <th>Order Date</th>\n",
       "      <th>Contact Name</th>\n",
       "      <th>Country</th>\n",
       "      <th>City</th>\n",
       "      <th>Region</th>\n",
       "      <th>Subregion</th>\n",
       "      <th>Customer</th>\n",
       "      <th>Industry</th>\n",
       "      <th>Segment</th>\n",
       "      <th>Product</th>\n",
       "      <th>License</th>\n",
       "    </tr>\n",
       "  </thead>\n",
       "  <tbody>\n",
       "    <tr>\n",
       "      <th>count</th>\n",
       "      <td>9994</td>\n",
       "      <td>9994</td>\n",
       "      <td>9994</td>\n",
       "      <td>9994</td>\n",
       "      <td>9994</td>\n",
       "      <td>9994</td>\n",
       "      <td>9994</td>\n",
       "      <td>9994</td>\n",
       "      <td>9994</td>\n",
       "      <td>9994</td>\n",
       "      <td>9994</td>\n",
       "      <td>9994</td>\n",
       "    </tr>\n",
       "    <tr>\n",
       "      <th>unique</th>\n",
       "      <td>5009</td>\n",
       "      <td>NaN</td>\n",
       "      <td>793</td>\n",
       "      <td>48</td>\n",
       "      <td>262</td>\n",
       "      <td>3</td>\n",
       "      <td>12</td>\n",
       "      <td>99</td>\n",
       "      <td>10</td>\n",
       "      <td>3</td>\n",
       "      <td>14</td>\n",
       "      <td>9994</td>\n",
       "    </tr>\n",
       "    <tr>\n",
       "      <th>top</th>\n",
       "      <td>EMEA-2023-100111</td>\n",
       "      <td>NaN</td>\n",
       "      <td>Leonard Kelly</td>\n",
       "      <td>United States</td>\n",
       "      <td>London</td>\n",
       "      <td>EMEA</td>\n",
       "      <td>NAMER</td>\n",
       "      <td>Allianz</td>\n",
       "      <td>Finance</td>\n",
       "      <td>SMB</td>\n",
       "      <td>ContactMatcher</td>\n",
       "      <td>16GRM07R1K</td>\n",
       "    </tr>\n",
       "    <tr>\n",
       "      <th>freq</th>\n",
       "      <td>14</td>\n",
       "      <td>NaN</td>\n",
       "      <td>37</td>\n",
       "      <td>2001</td>\n",
       "      <td>922</td>\n",
       "      <td>4219</td>\n",
       "      <td>2507</td>\n",
       "      <td>192</td>\n",
       "      <td>2127</td>\n",
       "      <td>5191</td>\n",
       "      <td>1842</td>\n",
       "      <td>1</td>\n",
       "    </tr>\n",
       "    <tr>\n",
       "      <th>mean</th>\n",
       "      <td>NaN</td>\n",
       "      <td>2022-05-01 00:07:12.259355648</td>\n",
       "      <td>NaN</td>\n",
       "      <td>NaN</td>\n",
       "      <td>NaN</td>\n",
       "      <td>NaN</td>\n",
       "      <td>NaN</td>\n",
       "      <td>NaN</td>\n",
       "      <td>NaN</td>\n",
       "      <td>NaN</td>\n",
       "      <td>NaN</td>\n",
       "      <td>NaN</td>\n",
       "    </tr>\n",
       "    <tr>\n",
       "      <th>min</th>\n",
       "      <td>NaN</td>\n",
       "      <td>2020-01-04 00:00:00</td>\n",
       "      <td>NaN</td>\n",
       "      <td>NaN</td>\n",
       "      <td>NaN</td>\n",
       "      <td>NaN</td>\n",
       "      <td>NaN</td>\n",
       "      <td>NaN</td>\n",
       "      <td>NaN</td>\n",
       "      <td>NaN</td>\n",
       "      <td>NaN</td>\n",
       "      <td>NaN</td>\n",
       "    </tr>\n",
       "    <tr>\n",
       "      <th>25%</th>\n",
       "      <td>NaN</td>\n",
       "      <td>2021-05-23 00:00:00</td>\n",
       "      <td>NaN</td>\n",
       "      <td>NaN</td>\n",
       "      <td>NaN</td>\n",
       "      <td>NaN</td>\n",
       "      <td>NaN</td>\n",
       "      <td>NaN</td>\n",
       "      <td>NaN</td>\n",
       "      <td>NaN</td>\n",
       "      <td>NaN</td>\n",
       "      <td>NaN</td>\n",
       "    </tr>\n",
       "    <tr>\n",
       "      <th>50%</th>\n",
       "      <td>NaN</td>\n",
       "      <td>2022-06-27 00:00:00</td>\n",
       "      <td>NaN</td>\n",
       "      <td>NaN</td>\n",
       "      <td>NaN</td>\n",
       "      <td>NaN</td>\n",
       "      <td>NaN</td>\n",
       "      <td>NaN</td>\n",
       "      <td>NaN</td>\n",
       "      <td>NaN</td>\n",
       "      <td>NaN</td>\n",
       "      <td>NaN</td>\n",
       "    </tr>\n",
       "    <tr>\n",
       "      <th>75%</th>\n",
       "      <td>NaN</td>\n",
       "      <td>2023-05-15 00:00:00</td>\n",
       "      <td>NaN</td>\n",
       "      <td>NaN</td>\n",
       "      <td>NaN</td>\n",
       "      <td>NaN</td>\n",
       "      <td>NaN</td>\n",
       "      <td>NaN</td>\n",
       "      <td>NaN</td>\n",
       "      <td>NaN</td>\n",
       "      <td>NaN</td>\n",
       "      <td>NaN</td>\n",
       "    </tr>\n",
       "    <tr>\n",
       "      <th>max</th>\n",
       "      <td>NaN</td>\n",
       "      <td>2023-12-31 00:00:00</td>\n",
       "      <td>NaN</td>\n",
       "      <td>NaN</td>\n",
       "      <td>NaN</td>\n",
       "      <td>NaN</td>\n",
       "      <td>NaN</td>\n",
       "      <td>NaN</td>\n",
       "      <td>NaN</td>\n",
       "      <td>NaN</td>\n",
       "      <td>NaN</td>\n",
       "      <td>NaN</td>\n",
       "    </tr>\n",
       "  </tbody>\n",
       "</table>\n",
       "</div>"
      ],
      "text/plain": [
       "                Order ID                     Order Date   Contact Name   \n",
       "count               9994                           9994           9994  \\\n",
       "unique              5009                            NaN            793   \n",
       "top     EMEA-2023-100111                            NaN  Leonard Kelly   \n",
       "freq                  14                            NaN             37   \n",
       "mean                 NaN  2022-05-01 00:07:12.259355648            NaN   \n",
       "min                  NaN            2020-01-04 00:00:00            NaN   \n",
       "25%                  NaN            2021-05-23 00:00:00            NaN   \n",
       "50%                  NaN            2022-06-27 00:00:00            NaN   \n",
       "75%                  NaN            2023-05-15 00:00:00            NaN   \n",
       "max                  NaN            2023-12-31 00:00:00            NaN   \n",
       "\n",
       "              Country    City Region Subregion Customer Industry Segment   \n",
       "count            9994    9994   9994      9994     9994     9994    9994  \\\n",
       "unique             48     262      3        12       99       10       3   \n",
       "top     United States  London   EMEA     NAMER  Allianz  Finance     SMB   \n",
       "freq             2001     922   4219      2507      192     2127    5191   \n",
       "mean              NaN     NaN    NaN       NaN      NaN      NaN     NaN   \n",
       "min               NaN     NaN    NaN       NaN      NaN      NaN     NaN   \n",
       "25%               NaN     NaN    NaN       NaN      NaN      NaN     NaN   \n",
       "50%               NaN     NaN    NaN       NaN      NaN      NaN     NaN   \n",
       "75%               NaN     NaN    NaN       NaN      NaN      NaN     NaN   \n",
       "max               NaN     NaN    NaN       NaN      NaN      NaN     NaN   \n",
       "\n",
       "               Product     License  \n",
       "count             9994        9994  \n",
       "unique              14        9994  \n",
       "top     ContactMatcher  16GRM07R1K  \n",
       "freq              1842           1  \n",
       "mean               NaN         NaN  \n",
       "min                NaN         NaN  \n",
       "25%                NaN         NaN  \n",
       "50%                NaN         NaN  \n",
       "75%                NaN         NaN  \n",
       "max                NaN         NaN  "
      ]
     },
     "metadata": {},
     "output_type": "display_data"
    }
   ],
   "source": [
    "aws_df['Order Date'] = pd.to_datetime(aws_df['Order Date'])\n",
    "\n",
    "display(aws_df.info(),aws_df.describe(),aws_df.describe(exclude='number'))"
   ]
  },
  {
   "cell_type": "code",
   "execution_count": 68,
   "metadata": {},
   "outputs": [
    {
     "data": {
      "text/html": [
       "<div>\n",
       "<style scoped>\n",
       "    .dataframe tbody tr th:only-of-type {\n",
       "        vertical-align: middle;\n",
       "    }\n",
       "\n",
       "    .dataframe tbody tr th {\n",
       "        vertical-align: top;\n",
       "    }\n",
       "\n",
       "    .dataframe thead th {\n",
       "        text-align: right;\n",
       "    }\n",
       "</style>\n",
       "<table border=\"1\" class=\"dataframe\">\n",
       "  <thead>\n",
       "    <tr style=\"text-align: right;\">\n",
       "      <th></th>\n",
       "      <th>Row ID</th>\n",
       "      <th>Order ID</th>\n",
       "      <th>Order Date</th>\n",
       "      <th>Date Key</th>\n",
       "      <th>Contact Name</th>\n",
       "      <th>Country</th>\n",
       "      <th>City</th>\n",
       "      <th>Region</th>\n",
       "      <th>Subregion</th>\n",
       "      <th>Customer</th>\n",
       "      <th>Customer ID</th>\n",
       "      <th>Industry</th>\n",
       "      <th>Segment</th>\n",
       "      <th>Product</th>\n",
       "      <th>License</th>\n",
       "      <th>Sales</th>\n",
       "      <th>Quantity</th>\n",
       "      <th>Discount</th>\n",
       "      <th>Profit</th>\n",
       "    </tr>\n",
       "  </thead>\n",
       "  <tbody>\n",
       "    <tr>\n",
       "      <th>0</th>\n",
       "      <td>1</td>\n",
       "      <td>EMEA-2022-152156</td>\n",
       "      <td>2022-11-09</td>\n",
       "      <td>20221109</td>\n",
       "      <td>Nathan Bell</td>\n",
       "      <td>Ireland</td>\n",
       "      <td>Dublin</td>\n",
       "      <td>EMEA</td>\n",
       "      <td>UKIR</td>\n",
       "      <td>Chevron</td>\n",
       "      <td>1017</td>\n",
       "      <td>Energy</td>\n",
       "      <td>SMB</td>\n",
       "      <td>Marketing Suite</td>\n",
       "      <td>16GRM07R1K</td>\n",
       "      <td>261.9600</td>\n",
       "      <td>2</td>\n",
       "      <td>0.00</td>\n",
       "      <td>41.9136</td>\n",
       "    </tr>\n",
       "    <tr>\n",
       "      <th>1</th>\n",
       "      <td>2</td>\n",
       "      <td>EMEA-2022-152156</td>\n",
       "      <td>2022-11-09</td>\n",
       "      <td>20221109</td>\n",
       "      <td>Nathan Bell</td>\n",
       "      <td>Ireland</td>\n",
       "      <td>Dublin</td>\n",
       "      <td>EMEA</td>\n",
       "      <td>UKIR</td>\n",
       "      <td>Chevron</td>\n",
       "      <td>1017</td>\n",
       "      <td>Energy</td>\n",
       "      <td>SMB</td>\n",
       "      <td>FinanceHub</td>\n",
       "      <td>QLIW57KZUV</td>\n",
       "      <td>731.9400</td>\n",
       "      <td>3</td>\n",
       "      <td>0.00</td>\n",
       "      <td>219.5820</td>\n",
       "    </tr>\n",
       "    <tr>\n",
       "      <th>2</th>\n",
       "      <td>3</td>\n",
       "      <td>AMER-2022-138688</td>\n",
       "      <td>2022-06-13</td>\n",
       "      <td>20220613</td>\n",
       "      <td>Deirdre Bailey</td>\n",
       "      <td>United States</td>\n",
       "      <td>New York City</td>\n",
       "      <td>AMER</td>\n",
       "      <td>NAMER</td>\n",
       "      <td>Phillips 66</td>\n",
       "      <td>1056</td>\n",
       "      <td>Energy</td>\n",
       "      <td>Strategic</td>\n",
       "      <td>FinanceHub</td>\n",
       "      <td>JI6BVL70HQ</td>\n",
       "      <td>14.6200</td>\n",
       "      <td>2</td>\n",
       "      <td>0.00</td>\n",
       "      <td>6.8714</td>\n",
       "    </tr>\n",
       "    <tr>\n",
       "      <th>3</th>\n",
       "      <td>4</td>\n",
       "      <td>EMEA-2021-108966</td>\n",
       "      <td>2021-10-11</td>\n",
       "      <td>20211011</td>\n",
       "      <td>Zoe Hodges</td>\n",
       "      <td>Germany</td>\n",
       "      <td>Stuttgart</td>\n",
       "      <td>EMEA</td>\n",
       "      <td>EU-WEST</td>\n",
       "      <td>Royal Dutch Shell</td>\n",
       "      <td>1031</td>\n",
       "      <td>Energy</td>\n",
       "      <td>SMB</td>\n",
       "      <td>ContactMatcher</td>\n",
       "      <td>DE9GJKGD44</td>\n",
       "      <td>957.5775</td>\n",
       "      <td>5</td>\n",
       "      <td>0.45</td>\n",
       "      <td>-383.0310</td>\n",
       "    </tr>\n",
       "    <tr>\n",
       "      <th>4</th>\n",
       "      <td>5</td>\n",
       "      <td>EMEA-2021-108966</td>\n",
       "      <td>2021-10-11</td>\n",
       "      <td>20211011</td>\n",
       "      <td>Zoe Hodges</td>\n",
       "      <td>Germany</td>\n",
       "      <td>Stuttgart</td>\n",
       "      <td>EMEA</td>\n",
       "      <td>EU-WEST</td>\n",
       "      <td>Royal Dutch Shell</td>\n",
       "      <td>1031</td>\n",
       "      <td>Energy</td>\n",
       "      <td>SMB</td>\n",
       "      <td>Marketing Suite - Gold</td>\n",
       "      <td>OIF7NY23WD</td>\n",
       "      <td>22.3680</td>\n",
       "      <td>2</td>\n",
       "      <td>0.20</td>\n",
       "      <td>2.5164</td>\n",
       "    </tr>\n",
       "  </tbody>\n",
       "</table>\n",
       "</div>"
      ],
      "text/plain": [
       "   Row ID          Order ID Order Date  Date Key    Contact Name   \n",
       "0       1  EMEA-2022-152156 2022-11-09  20221109     Nathan Bell  \\\n",
       "1       2  EMEA-2022-152156 2022-11-09  20221109     Nathan Bell   \n",
       "2       3  AMER-2022-138688 2022-06-13  20220613  Deirdre Bailey   \n",
       "3       4  EMEA-2021-108966 2021-10-11  20211011      Zoe Hodges   \n",
       "4       5  EMEA-2021-108966 2021-10-11  20211011      Zoe Hodges   \n",
       "\n",
       "         Country           City Region Subregion           Customer   \n",
       "0        Ireland         Dublin   EMEA      UKIR            Chevron  \\\n",
       "1        Ireland         Dublin   EMEA      UKIR            Chevron   \n",
       "2  United States  New York City   AMER     NAMER        Phillips 66   \n",
       "3        Germany      Stuttgart   EMEA   EU-WEST  Royal Dutch Shell   \n",
       "4        Germany      Stuttgart   EMEA   EU-WEST  Royal Dutch Shell   \n",
       "\n",
       "   Customer ID Industry    Segment                 Product     License   \n",
       "0         1017   Energy        SMB         Marketing Suite  16GRM07R1K  \\\n",
       "1         1017   Energy        SMB              FinanceHub  QLIW57KZUV   \n",
       "2         1056   Energy  Strategic              FinanceHub  JI6BVL70HQ   \n",
       "3         1031   Energy        SMB          ContactMatcher  DE9GJKGD44   \n",
       "4         1031   Energy        SMB  Marketing Suite - Gold  OIF7NY23WD   \n",
       "\n",
       "      Sales  Quantity  Discount    Profit  \n",
       "0  261.9600         2      0.00   41.9136  \n",
       "1  731.9400         3      0.00  219.5820  \n",
       "2   14.6200         2      0.00    6.8714  \n",
       "3  957.5775         5      0.45 -383.0310  \n",
       "4   22.3680         2      0.20    2.5164  "
      ]
     },
     "execution_count": 68,
     "metadata": {},
     "output_type": "execute_result"
    }
   ],
   "source": [
    "aws_df.head()"
   ]
  },
  {
   "cell_type": "code",
   "execution_count": 69,
   "metadata": {},
   "outputs": [
    {
     "data": {
      "text/plain": [
       "Row ID          0\n",
       "Order ID        0\n",
       "Order Date      0\n",
       "Date Key        0\n",
       "Contact Name    0\n",
       "Country         0\n",
       "City            0\n",
       "Region          0\n",
       "Subregion       0\n",
       "Customer        0\n",
       "Customer ID     0\n",
       "Industry        0\n",
       "Segment         0\n",
       "Product         0\n",
       "License         0\n",
       "Sales           0\n",
       "Quantity        0\n",
       "Discount        0\n",
       "Profit          0\n",
       "dtype: int64"
      ]
     },
     "execution_count": 69,
     "metadata": {},
     "output_type": "execute_result"
    }
   ],
   "source": [
    "aws_df.isnull().sum()"
   ]
  },
  {
   "cell_type": "code",
   "execution_count": 70,
   "metadata": {},
   "outputs": [
    {
     "data": {
      "text/plain": [
       "'Row ID'"
      ]
     },
     "metadata": {},
     "output_type": "display_data"
    },
    {
     "data": {
      "text/plain": [
       "dtype('int64')"
      ]
     },
     "metadata": {},
     "output_type": "display_data"
    },
    {
     "data": {
      "text/plain": [
       "array([   1,    2,    3, ..., 9992, 9993, 9994])"
      ]
     },
     "metadata": {},
     "output_type": "display_data"
    },
    {
     "data": {
      "text/plain": [
       "'Order ID'"
      ]
     },
     "metadata": {},
     "output_type": "display_data"
    },
    {
     "data": {
      "text/plain": [
       "dtype('O')"
      ]
     },
     "metadata": {},
     "output_type": "display_data"
    },
    {
     "data": {
      "text/plain": [
       "array(['EMEA-2022-152156', 'AMER-2022-138688', 'EMEA-2021-108966', ...,\n",
       "       'EMEA-2020-110422', 'AMER-2023-121258', 'AMER-2023-119914'],\n",
       "      dtype=object)"
      ]
     },
     "metadata": {},
     "output_type": "display_data"
    },
    {
     "data": {
      "text/plain": [
       "'Order Date'"
      ]
     },
     "metadata": {},
     "output_type": "display_data"
    },
    {
     "data": {
      "text/plain": [
       "dtype('<M8[ns]')"
      ]
     },
     "metadata": {},
     "output_type": "display_data"
    },
    {
     "data": {
      "text/plain": [
       "<DatetimeArray>\n",
       "['2022-11-09 00:00:00', '2022-06-13 00:00:00', '2021-10-11 00:00:00',\n",
       " '2020-06-09 00:00:00', '2023-04-16 00:00:00', '2022-12-06 00:00:00',\n",
       " '2021-11-22 00:00:00', '2020-11-11 00:00:00', '2020-05-13 00:00:00',\n",
       " '2020-08-27 00:00:00',\n",
       " ...\n",
       " '2022-10-12 00:00:00', '2020-06-18 00:00:00', '2023-03-01 00:00:00',\n",
       " '2021-05-09 00:00:00', '2020-11-06 00:00:00', '2021-12-29 00:00:00',\n",
       " '2020-04-03 00:00:00', '2022-06-04 00:00:00', '2021-04-12 00:00:00',\n",
       " '2020-01-22 00:00:00']\n",
       "Length: 1237, dtype: datetime64[ns]"
      ]
     },
     "metadata": {},
     "output_type": "display_data"
    },
    {
     "data": {
      "text/plain": [
       "'Date Key'"
      ]
     },
     "metadata": {},
     "output_type": "display_data"
    },
    {
     "data": {
      "text/plain": [
       "dtype('int64')"
      ]
     },
     "metadata": {},
     "output_type": "display_data"
    },
    {
     "data": {
      "text/plain": [
       "array([20221109, 20220613, 20211011, ..., 20220604, 20210412, 20200122])"
      ]
     },
     "metadata": {},
     "output_type": "display_data"
    },
    {
     "data": {
      "text/plain": [
       "'Contact Name'"
      ]
     },
     "metadata": {},
     "output_type": "display_data"
    },
    {
     "data": {
      "text/plain": [
       "dtype('O')"
      ]
     },
     "metadata": {},
     "output_type": "display_data"
    },
    {
     "data": {
      "text/plain": [
       "array(['Nathan Bell', 'Deirdre Bailey', 'Zoe Hodges', 'Thomas Hodges',\n",
       "       'Adrian Hunter', 'Adrian Abraham', 'Emily Morrison',\n",
       "       'Claire Welch', 'Carol Campbell', 'Blake Hughes', 'Melanie Sharp',\n",
       "       'Luke Bower', 'Jonathan Ferguson', 'Sam Parsons', 'Neil Gill',\n",
       "       'Amelia Campbell', 'Chloe Short', 'Jasmine Metcalfe',\n",
       "       'Karen Mathis', 'Dylan Dickens', 'Sophie Lewis', 'Gavin Mitchell',\n",
       "       'Katherine Dowd', 'Harry Brown', 'Brian Dickens', 'Joseph Newman',\n",
       "       'Nicola Howard', 'Stewart Wilson', 'Eric McLean', 'Leah Clarkson',\n",
       "       'Alison Davidson', 'Sophie Vance', 'Anne Lee', 'Maria Dyer',\n",
       "       'Julia Ellison', 'Gordon McLean', 'Jessica Buckland',\n",
       "       'Bernadette Nolan', 'Sonia Ince', 'William Lewis', 'Melanie Young',\n",
       "       'Edward Oliver', 'Peter Quinn', 'Max Marshall', 'Jan Watson',\n",
       "       'Carol Ball', 'Gavin Walsh', 'Penelope Peake', 'Amy Scott',\n",
       "       'Carl Jackson', 'Joe Wallace', 'Luke Mills', 'Alexandra Dyer',\n",
       "       'Rebecca Dickens', 'Audrey Hardacre', 'Jennifer Dowd',\n",
       "       'Natalie Sanderson', 'Samantha Rampling', 'Sally Berry',\n",
       "       'Anthony Clark', 'Victor Short', 'Austin Newman', 'Rose Scott',\n",
       "       'Tim Morrison', 'Harry Murray', 'Dylan Dowd', 'Angela Parsons',\n",
       "       'Lisa Oliver', 'Joseph Duncan', 'Paul MacDonald', 'Gordon Graham',\n",
       "       'Sean Bower', 'Anthony Sanderson', 'Stewart Marshall',\n",
       "       'Joanne Carr', 'Angela Davies', 'William Alsop', 'Owen Watson',\n",
       "       'Melanie Davidson', 'Warren Forsyth', 'Gabrielle Ogden',\n",
       "       'Justin Randall', 'Jack Graham', 'Sophie Henderson', 'Brian Short',\n",
       "       'Samantha Lawrence', 'Una Hudson', 'Kimberly North', 'Dylan Ogden',\n",
       "       'Jonathan Clark', 'Kevin Vaughan', 'Madeleine Smith', 'Diana Ince',\n",
       "       'Tracey Knox', 'Michelle McLean', 'Diana Bell', 'Jan Clark',\n",
       "       'Pippa Smith', 'Rebecca Wilson', 'Irene Smith', 'Evan Terry',\n",
       "       'Bella Mackenzie', 'Gordon Jackson', 'Joe Ross', 'Carolyn Murray',\n",
       "       'Lily Paterson', 'William Skinner', 'Trevor Langdon', 'Luke Terry',\n",
       "       'Vanessa Davidson', 'Penelope Nash', 'Molly Rees', 'Carol James',\n",
       "       'Sally Davidson', 'Simon Peters', 'Charles Hart', 'Lucas Mathis',\n",
       "       'Joanne Robertson', 'Felicity King', 'Thomas Peters', 'Zoe Avery',\n",
       "       'Luke Jones', 'Isaac Hart', 'Nicola Pullman', 'Faith Harris',\n",
       "       'Thomas Roberts', 'Lillian Hodges', 'Joseph Forsyth',\n",
       "       'Anne Rutherford', 'Harry Mills', 'Trevor Clark', 'Dylan Terry',\n",
       "       'Jasmine MacDonald', 'Blake Campbell', 'Boris Underwood',\n",
       "       'Fiona Peters', 'Phil Short', 'Fiona Allan', 'Peter McLean',\n",
       "       'Kevin Morrison', 'Andrew Wilkins', 'Matt Forsyth',\n",
       "       'Amelia Martin', 'Sally Wallace', 'Anna Bower', 'Pippa Morrison',\n",
       "       'Gordon Chapman', 'Wanda Simpson', 'Christian Gill', 'Julian Nash',\n",
       "       'Anna Hemmings', 'Sue Anderson', 'Boris Coleman', 'Fiona Nolan',\n",
       "       'Faith Jones', 'Grace Duncan', 'Richard Davidson', 'Colin Glover',\n",
       "       'Phil Dowd', 'Rachel Cornish', 'Molly Vance', 'Alan Graham',\n",
       "       'Dominic Bell', 'Abigail Langdon', 'Edward Wilkins',\n",
       "       'Richard Lyman', 'Lily Bond', 'Joe Hughes', 'Kimberly Newman',\n",
       "       'Felicity Henderson', 'Blake Fraser', 'Lily North', 'Irene Duncan',\n",
       "       'Sean Rees', 'Victoria Nash', 'Sebastian Brown', 'Gordon Greene',\n",
       "       'Ryan Oliver', 'Liam Abraham', 'Chloe Underwood', 'Owen Ferguson',\n",
       "       'Cameron MacLeod', 'Hannah Sanderson', 'Deirdre McDonald',\n",
       "       'Diane Metcalfe', 'Dylan Mills', 'Diane Mills', 'Oliver Bond',\n",
       "       'Stewart Hart', 'Alexander James', 'Warren Hemmings', 'Maria Bell',\n",
       "       'Alison Fisher', 'Jack Hodges', 'Una Knox', 'Adam James',\n",
       "       'Connor Watson', 'Samantha Murray', 'Carol Forsyth', 'Sam Alsop',\n",
       "       'Eric Forsyth', 'Dominic Duncan', 'Robert Dyer', 'Karen Taylor',\n",
       "       'Molly Rutherford', 'Alan White', 'Gavin Walker', 'Joseph Tucker',\n",
       "       'James Butler', 'William Lawrence', 'Irene Wright', 'Irene Clark',\n",
       "       'Sean Scott', 'Emma Young', 'Wanda Gill', 'Sebastian Sharp',\n",
       "       'Virginia Carr', 'Zoe Ferguson', 'Michelle Langdon',\n",
       "       'James Harris', 'Jonathan Thomson', 'Victoria Roberts',\n",
       "       'Justin Anderson', 'Caroline Burgess', 'Liam Paige',\n",
       "       'Dominic Hill', 'Justin Pullman', 'Joseph Cameron', 'Natalie Nash',\n",
       "       'Colin Morgan', 'Jasmine MacLeod', 'Charles Lee', 'Leonard Nash',\n",
       "       'Pippa Brown', 'Pippa Ross', 'Matt Kelly', 'Michelle Thomson',\n",
       "       'Evan Ince', 'Diane Buckland', 'Jane Pullman', 'Jessica Langdon',\n",
       "       'Ella Lawrence', 'Carolyn Ross', 'Ella Simpson', 'Ian Ross',\n",
       "       'Vanessa White', 'Joshua Lyman', 'Grace Hodges',\n",
       "       'Elizabeth Hughes', 'Fiona Piper', 'Alan Hudson', 'Faith Blake',\n",
       "       'Gordon Parr', 'Emily Ball', 'Michael Morgan', 'Peter Hart',\n",
       "       'Andrew Lee', 'Ruth McGrath', 'Kevin Rampling', 'Dan Tucker',\n",
       "       'Stephanie Abraham', 'Simon Payne', 'Bella Powell',\n",
       "       'Liam Clarkson', 'Deirdre Sharp', 'Emily Fisher', 'Joan Dickens',\n",
       "       'Kimberly Oliver', 'Pippa Blake', 'Ella Henderson', 'Stewart May',\n",
       "       'Lucas Turner', 'Lucas Kerr', 'Kevin Welch', 'David Lee',\n",
       "       'Stephen Dyer', 'Claire Carr', 'Irene Walsh', 'Adrian Poole',\n",
       "       'Amy Simpson', 'Trevor Jones', 'Kevin Mitchell', 'Austin Stewart',\n",
       "       'Benjamin Fisher', 'Sam Carr', 'Liam Churchill', 'Victoria Poole',\n",
       "       'Cameron Bower', 'Michael King', 'Amy Paterson', 'Andrew Reid',\n",
       "       'Christopher James', 'Colin Bell', 'Nathan Young',\n",
       "       'Anthony Mackay', 'Carolyn Dowd', 'Sam Rampling', 'Deirdre James',\n",
       "       'Isaac Robertson', 'Ava Ellison', 'Joanne Walsh', 'Audrey Wilkins',\n",
       "       'Sean Taylor', 'Lillian Duncan', 'Harry McGrath',\n",
       "       'Jonathan Marshall', 'Evan Paige', 'Trevor Simpson', 'Ian Butler',\n",
       "       'Alexandra Slater', 'Charles Churchill', 'Evan Ogden',\n",
       "       'Peter Ellison', 'Boris Hunter', 'Joe Davies', 'William Robertson',\n",
       "       'Andrea Reid', 'Virginia Murray', 'Colin Hamilton', 'Liam Young',\n",
       "       'Chloe Campbell', 'Andrew Miller', 'Eric Mills',\n",
       "       'Sebastian Robertson', 'Jan Baker', 'Sue Ince', 'Madeleine Howard',\n",
       "       'Sebastian Abraham', 'Carol Edmunds', 'Amelia Kelly',\n",
       "       'Dan Davidson', 'Melanie Chapman', 'Austin Peters',\n",
       "       'Leonard Springer', 'Robert McGrath', 'Sue Wilson', 'Neil Smith',\n",
       "       'Angela Churchill', 'Connor McDonald', 'Jane Stewart',\n",
       "       'Diana Taylor', 'Liam Murray', 'Jonathan Lawrence', 'Molly Scott',\n",
       "       'Edward Mathis', 'Justin Scott', 'Max Ross', 'Faith Gray',\n",
       "       'Gavin White', 'Luke Davidson', 'Jonathan Ball', 'Benjamin Berry',\n",
       "       'Evan Ross', 'Luke McDonald', 'Jennifer Roberts',\n",
       "       'Leonard Cameron', 'Lisa Edmunds', 'Maria Edmunds',\n",
       "       'Sonia Parsons', 'Thomas Gibson', 'Megan Smith', 'Emily Ogden',\n",
       "       'Stewart Baker', 'Jan Hardacre', 'Dominic Lawrence', 'Emily Ross',\n",
       "       'Alexandra May', 'Boris Baker', 'Audrey Bower', 'Owen Hill',\n",
       "       'Victoria Henderson', 'Theresa Paige', 'Isaac Paterson',\n",
       "       'Max McGrath', 'Chloe May', 'Thomas Ross', 'David Murray',\n",
       "       'Zoe Lyman', 'Victor Walsh', 'John MacDonald', 'Sophie Cornish',\n",
       "       'Jan Hemmings', 'Leah MacLeod', 'Ian McGrath', 'Carl Miller',\n",
       "       'Samantha Hardacre', 'Rose Smith', 'Alison Coleman',\n",
       "       'Irene Graham', 'Penelope Ball', 'Wanda Hardacre',\n",
       "       'Oliver Coleman', 'Amy Edmunds', 'Richard Carr', 'Jacob Vaughan',\n",
       "       'Frank Newman', 'Claire Springer', 'Kimberly Short', 'Bella Payne',\n",
       "       'Lisa Peake', 'Jake Berry', 'Samantha Piper', 'Zoe Bond',\n",
       "       'Justin Carr', 'David McDonald', 'Lauren Peters', 'Bella Wallace',\n",
       "       'Lisa Lee', 'Bella Hodges', 'Leonard Parsons', 'Nathan McGrath',\n",
       "       'Una Mackay', 'Jonathan Gibson', 'Cameron King', 'Boris Springer',\n",
       "       'Sam Randall', 'Steven Henderson', 'Jasmine Springer',\n",
       "       'Adam Manning', 'Joshua Glover', 'Jan Vaughan', 'Jonathan Brown',\n",
       "       'Andrew Smith', 'Blake Jackson', 'Justin Walker', 'Pippa Hunter',\n",
       "       'Liam Russell', 'Nicola Butler', 'Ruth Vaughan', 'Molly Mitchell',\n",
       "       'Alexandra Morrison', 'Ryan Ellison', 'Joe Skinner',\n",
       "       'Nicholas May', 'Julian Langdon', 'Owen Scott', 'Cameron Lawrence',\n",
       "       'Nathan Marshall', 'Gabrielle Russell', 'Melanie Dowd',\n",
       "       'Sarah Sanderson', 'Jake North', 'Wendy Young', 'Gabrielle Dowd',\n",
       "       'Bernadette Hill', 'Cameron Randall', 'Liam Burgess',\n",
       "       'Paul Martin', 'Rebecca Lambert', 'Claire Henderson',\n",
       "       'Pippa Chapman', 'Warren McGrath', 'Tracey Dickens', 'Rose Hill',\n",
       "       'Sue Parsons', 'Carolyn Parr', 'Steven Coleman', 'Ruth Kerr',\n",
       "       'Carl Powell', 'Joseph White', 'Elizabeth Young',\n",
       "       'Katherine Graham', 'Faith Robertson', 'Diana Black',\n",
       "       'Carol Greene', 'Adam Davidson', 'Sonia Hardacre', 'Andrea Hughes',\n",
       "       'Audrey Alsop', 'Ella Springer', 'William May', 'Brandon Kerr',\n",
       "       'Alexander Wallace', 'Faith Campbell', 'Leonard Dyer',\n",
       "       'Harry Buckland', 'Brian Hunter', 'Olivia Graham', 'Andrew Lewis',\n",
       "       'Una Poole', 'Ella Hart', 'Sophie Murray', 'Emma Greene',\n",
       "       'Dan Allan', 'Jack Hughes', 'Una Avery', 'Alexandra Sharp',\n",
       "       'Frank Ball', 'Emma Thomson', 'Audrey Young', 'Anna Clarkson',\n",
       "       'Olivia Taylor', 'Kylie Poole', 'Felicity Terry', 'Peter Knox',\n",
       "       'Kimberly Langdon', 'Emily Campbell', 'Hannah Hughes',\n",
       "       'Connor Roberts', 'Dan Rutherford', 'Justin Turner',\n",
       "       'Pippa Edmunds', 'Rose James', 'Rose Dyer', 'Michael Forsyth',\n",
       "       'Ruth Tucker', 'Alison Howard', 'Theresa Henderson', 'Sarah Alsop',\n",
       "       'Gordon Sanderson', 'Leah Murray', 'Kevin Jones', 'Alan Bailey',\n",
       "       'Boris Walsh', 'Alison Miller', 'Frank Piper', 'Blake Reid',\n",
       "       'Gordon Burgess', 'John Jones', 'Lisa Wilkins', 'Karen Vance',\n",
       "       'Felicity Sutherland', 'Charles Buckland', 'Molly Turner',\n",
       "       'Carol Berry', 'David Graham', 'Michelle Hemmings', 'Joan Ball',\n",
       "       'Sean Morrison', 'Joe Allan', 'Alexander Martin',\n",
       "       'Bernadette Scott', 'Edward Berry', 'Cameron Miller',\n",
       "       'Edward Hardacre', 'John Dyer', 'Karen Edmunds', 'Rebecca May',\n",
       "       'Luke Churchill', 'Ryan Turner', 'Trevor Rutherford',\n",
       "       'Emily Blake', 'Penelope Terry', 'Adrian Walker', 'Zoe Edmunds',\n",
       "       'Joanne Harris', 'Irene Johnston', 'Max James', 'Victoria Ellison',\n",
       "       'Adrian Clarkson', 'Vanessa Metcalfe', 'Keith Randall',\n",
       "       'Adam Nash', 'Maria James', 'Madeleine Cameron',\n",
       "       'Kimberly Manning', 'Gordon Dyer', 'Joanne Hemmings',\n",
       "       'Caroline Greene', 'Lucas Taylor', 'Caroline Gibson',\n",
       "       'Bella Morgan', 'Joanne Blake', 'Max Skinner', 'Owen Ellison',\n",
       "       'Brandon Vaughan', 'Warren Reid', 'Harry McLean',\n",
       "       'Nicholas Skinner', 'Jasmine Greene', 'Dominic Short',\n",
       "       'Alexander Pullman', 'Sonia Miller', 'Connor Nolan', 'Pippa Kerr',\n",
       "       'Gordon Bower', 'Leonard Kelly', 'Sue Miller', 'Brian Peters',\n",
       "       'Connor Paige', 'Lucas Newman', 'Grace Butler', 'Joe Lee',\n",
       "       'Max Langdon', 'Gordon Baker', 'Donna Bailey', 'Lucas Oliver',\n",
       "       'Victoria Wilkins', 'Sophie Pullman', 'Paul Harris',\n",
       "       'Warren Butler', 'Leonard Poole', 'Connor Morrison',\n",
       "       'Andrew Sanderson', 'Amelia Chapman', 'Andrea Hill', 'Blake Short',\n",
       "       'Donna Hemmings', 'Diane Murray', 'Steven Rees', 'Kimberly Harris',\n",
       "       'Christian Lyman', 'Karen Welch', 'Tracey Skinner',\n",
       "       'Natalie Newman', 'Max Hardacre', 'James Terry', 'Carl Ince',\n",
       "       'Frank Hart', 'Emma Stewart', 'Jennifer Bailey', 'Michael Lewis',\n",
       "       'Ava Oliver', 'Sophie Poole', 'Jasmine McDonald', 'Cameron Oliver',\n",
       "       'Evan Jackson', 'Kevin Brown', 'Benjamin Hughes', 'Felicity Peake',\n",
       "       'Alan Gill', 'Warren Abraham', 'Keith Mills', 'Jake Mackenzie',\n",
       "       'Rose Ball', 'Ryan Thomson', 'Christian Kerr', 'Caroline Smith',\n",
       "       'Molly Grant', 'Irene Lambert', 'Charles Wilkins', 'Ian Sharp',\n",
       "       'Harry Vaughan', 'Frank Metcalfe', 'Rachel Bond',\n",
       "       'Benjamin Bailey', 'Andrew Slater', 'Kimberly MacDonald',\n",
       "       'Jennifer Payne', 'Wanda Sharp', 'Jason Arnold', 'Kevin Burgess',\n",
       "       'Stephanie Kelly', 'Luke Ross', 'Joan Watson', 'Matt Bell',\n",
       "       'Keith Paige', 'Alexander Hill', 'Harry Sharp',\n",
       "       'Samantha Paterson', 'Andrea Rampling', 'Theresa Murray',\n",
       "       'Christian Glover', 'Kimberly Black', 'Julian Morrison',\n",
       "       'Oliver King', 'Sally Nolan', 'Claire Vance', 'Jonathan Grant',\n",
       "       'Olivia Hamilton', 'Julian Short', 'Phil Mills', 'Carl Avery',\n",
       "       'James Fisher', 'Liam Robertson', 'Ian Jones', 'Alexander Langdon',\n",
       "       'Stephen Robertson', 'Michael Nolan', 'Rachel Blake', 'Alan Berry',\n",
       "       'Felicity Abraham', 'Samantha Ince', 'Dylan Ince',\n",
       "       'Frank Davidson', 'Dan Hunter', 'Joshua Vaughan', 'Joanne Davies',\n",
       "       'Ella King', 'Emma Langdon', 'Jacob Paterson', 'Joan Glover',\n",
       "       'Leonard Ogden', 'Colin White', 'Jessica Hughes', 'Jennifer Avery',\n",
       "       'Jennifer Watson', 'Anna Reid', 'Penelope Brown', 'Anna Fisher',\n",
       "       'Matt Berry', 'Christopher Hodges', 'Ryan Jackson',\n",
       "       'Samantha Walker', 'Simon Taylor', 'Phil Tucker',\n",
       "       'Dorothy Pullman', 'Natalie Skinner', 'Katherine Manning',\n",
       "       'Keith Morrison', 'Austin Randall', 'Megan Rampling', 'Jan White',\n",
       "       'Peter Nolan', 'Gavin Clark', 'Keith Coleman', 'Nicholas Paterson',\n",
       "       'Chloe White', 'Theresa Cameron', 'Dominic Burgess', 'Grace Bell',\n",
       "       'Molly Watson', 'Julian Glover', 'Ella Thomson', 'Blake Hart',\n",
       "       'Lisa Lawrence', 'Rose MacDonald', 'Karen Langdon',\n",
       "       'Lauren Ellison', 'Joshua Short', 'Carl Langdon', 'Alison Mills',\n",
       "       'Justin Walsh', 'Ryan Kerr', 'Theresa McLean', 'Emma Baker',\n",
       "       'Ella Rees', 'Bernadette Black', 'Karen Howard', 'Boris Vance',\n",
       "       'John Davies', 'Jane Manning', 'Victor Avery', 'Nathan Hughes',\n",
       "       'Dylan Anderson', 'Thomas Watson', 'Peter Johnston', 'Peter Peake',\n",
       "       'Ella Clarkson', 'Victor Gill', 'Kevin Wilkins',\n",
       "       'Carolyn Metcalfe', 'Heather Dyer', 'Rebecca Mackay',\n",
       "       'Donna Scott', 'Simon Hart', 'Michael Watson', 'Joanne Forsyth',\n",
       "       'Diane Hart', 'Amelia Lee', 'Deirdre Ogden', 'Benjamin Bower',\n",
       "       'Lily Hart', 'Luke Rutherford', 'Jack Ince', 'Ryan Johnston',\n",
       "       'Gavin Nash', 'Kylie Lee', 'Max Morgan', 'Sophie Hill',\n",
       "       'Sebastian Young', 'Julian Newman', 'Lily Blake', 'Sean Randall',\n",
       "       'Lily Hardacre', 'Sam Lawrence', 'Victor Lewis', 'Molly MacDonald',\n",
       "       'Andrea Hunter', 'Oliver Cornish', 'Nathan Lambert',\n",
       "       'Trevor Metcalfe', 'Katherine Watson', 'Felicity Peters',\n",
       "       'Brian Campbell', 'Charles Ross', 'Sam Gill', 'Joshua Gibson',\n",
       "       'Katherine Rutherford', 'Katherine Baker', 'Boris Reid',\n",
       "       'Kylie Mackenzie', 'Stewart Vance', 'Molly Martin',\n",
       "       'Simon McDonald', 'Emma Watson', 'Phil Turner', 'Jacob Hart',\n",
       "       'Alexander Duncan', 'Ella Paige', 'Bernadette Hudson',\n",
       "       'Frank Ferguson', 'Chloe Vance'], dtype=object)"
      ]
     },
     "metadata": {},
     "output_type": "display_data"
    },
    {
     "data": {
      "text/plain": [
       "'Country'"
      ]
     },
     "metadata": {},
     "output_type": "display_data"
    },
    {
     "data": {
      "text/plain": [
       "dtype('O')"
      ]
     },
     "metadata": {},
     "output_type": "display_data"
    },
    {
     "data": {
      "text/plain": [
       "array(['Ireland', 'United States', 'Germany', 'Sweden', 'Canada', 'Japan',\n",
       "       'Italy', 'Turkey', 'Costa Rica', 'France', 'Australia',\n",
       "       'Luxembourg', 'Brazil', 'Philippines', 'India', 'United Kingdom',\n",
       "       'Chile', 'Spain', 'South Africa', 'Portugal', 'Colombia',\n",
       "       'Belgium', 'Russia', 'Netherlands', 'Mexico', 'Poland',\n",
       "       'Singapore', 'New Zealand', 'Czech Republic', 'Saudi Arabia',\n",
       "       'Argentina', 'South Korea', 'Finland', 'Israel', 'Norway',\n",
       "       'Ukraine', 'United Arab Emirates', 'Greece', 'China', 'Austria',\n",
       "       'Indonesia', 'Egypt', 'Denmark', 'Croatia', 'Taiwan', 'Qatar',\n",
       "       'Slovenia', 'Iceland'], dtype=object)"
      ]
     },
     "metadata": {},
     "output_type": "display_data"
    },
    {
     "data": {
      "text/plain": [
       "'City'"
      ]
     },
     "metadata": {},
     "output_type": "display_data"
    },
    {
     "data": {
      "text/plain": [
       "dtype('O')"
      ]
     },
     "metadata": {},
     "output_type": "display_data"
    },
    {
     "data": {
      "text/plain": [
       "array(['Dublin', 'New York City', 'Stuttgart', 'Stockholm', 'Toronto',\n",
       "       'Saitama', 'Naples', 'Ankara', 'Los Angeles', 'San José', 'Paris',\n",
       "       'Istanbul', 'Tokyo', 'Aichi', 'Wollongong', 'Hanover',\n",
       "       'Luxembourg', 'Salvador', 'Davao City', 'Kolkata', 'London',\n",
       "       'Brighton', 'Sydney', 'Puente Alto', 'Madrid', 'Rio de Janeiro',\n",
       "       'Cape Town', 'Lisboa', 'Uppsala', 'Bogotá', 'Brussels', 'Moscow',\n",
       "       'Canberra', 'The Hague', 'Mexico City', 'Manila', 'Geelong',\n",
       "       'Santiago', 'Aurora', 'Warsaw', 'Newark', 'Monterrey', 'Rome',\n",
       "       'Chicago', 'Singapore', 'Wellington', 'Osaka', 'Melbourne',\n",
       "       'Prague', 'Riyadh', 'Raleigh', 'Providence', 'Córdoba',\n",
       "       'Guadalajara', 'Oklahoma City', 'Puerto Vallarta', 'São Paulo',\n",
       "       'Johannesburg', 'Cologne', 'Rochester', 'Seattle', 'Detroit',\n",
       "       'Lafayette', 'Munich', 'St Petersburg', 'Buenos Aires', 'Mendoza',\n",
       "       'Leipzig', 'Jacksonville', 'Long Beach', 'Chiba', 'Incheon',\n",
       "       'Helsinki', 'Dhahran', 'Seoul', 'Dresden', 'Vancouver', 'Adelaide',\n",
       "       'Tel Aviv', 'Hordaland', 'Hamburg', 'Henderson', 'Kyiv',\n",
       "       'Leicester', 'Malmö', 'Berlin', 'Mumbai', 'Cardiff', 'Columbus',\n",
       "       'Fukuoka', 'Birmingham', 'Kanagawa', 'Liverpool', 'Abu Dhabi',\n",
       "       'Milwaukee', 'Yekaterinburg', 'Krakow', 'Frankfurt', 'Porto',\n",
       "       'Antofagasta', 'Genoa', 'Toluca', 'San Francisco', 'Hamilton',\n",
       "       'Tampere', 'Miami', 'Yonkers', 'Manaus', 'Rosario', 'Ottawa',\n",
       "       'Hyogo', 'Tijuana', 'Gothenburg', 'Lyon', 'Edinburgh', 'Leeds',\n",
       "       'Brisbane', 'Belo Horizonte', 'Ostrava', 'Amsterdam', 'Roswell',\n",
       "       'Murcia', 'Baltimore', 'Brno', 'Montreal', 'Atlanta', 'Milan',\n",
       "       'Cork', 'Jackson', 'Nice', 'Athens', 'Shanghai', 'Alicante',\n",
       "       'Cancun', 'Auckland', 'Springfield', 'Sapporo', 'Richmond',\n",
       "       'Seville', 'Huntsville', 'Calgary', 'Vienna', 'Woking',\n",
       "       'San Diego', 'Shenzhen', 'Louisville', 'Dubai', 'Tampa',\n",
       "       'Jerusalem', 'Zaragoza', 'Virginia Beach', 'Guangzhou',\n",
       "       'Manchester', 'Kharkiv', 'Philadelphia', 'Vantaa', 'Oslo',\n",
       "       'Novosibirsk', 'Columbia', 'Belfast', 'Oakland', 'Izmir',\n",
       "       'Cabo San Lucas', 'Daegu', 'Dallas', 'Phoenix', 'Bristol',\n",
       "       'Venice', 'Quebec', 'Shizuoka', 'Kyoto', 'Antwerp', 'Ibaraki',\n",
       "       'Barcelona', 'Delhi', 'Beijing', 'Turin', 'Jakarta', 'Jeddah',\n",
       "       'Valencia', 'Anaheim', 'Gwangju', 'Lawrence', 'Austin',\n",
       "       'Burlington', 'Sacramento', 'Nantes', 'Fort Worth', 'Brasília',\n",
       "       'Cairo', 'Copenhagen', 'Odessa', 'Zagreb', 'Nizhny Novogorod',\n",
       "       'Houston', 'Nashville', 'Hobart', 'Medellín', 'Granada', 'Glasgow',\n",
       "       'Bangalore', 'Gold Coast', 'Wilmington', 'Bologna', 'Indianapolis',\n",
       "       'Nuremberg', 'Hiroshima', 'Lakewood', 'Chennai', 'Florence',\n",
       "       'Ghent', 'Taipei', 'Arlington', 'San Jose', 'Fresno', 'Busan',\n",
       "       'Lakeland', 'Rotterdam', 'Mannheim', 'Cali', 'Brescia', 'Bari',\n",
       "       'Regina', 'Surabaya', 'Newcastle', 'Hyderabad', 'Doha', 'Palermo',\n",
       "       'Donetsk', 'Lancaster', 'Espoo', 'Catania', 'Tianjin', 'Bursa',\n",
       "       'Buffalo', 'Limerick', 'Quezon City', 'Perth', 'Marseille',\n",
       "       'San Antonio', 'Cleveland', 'Charlotte', 'Tucson', 'Ljubljana',\n",
       "       'Tulsa', 'Winnipeg', 'Thessaloniki', 'Denver', 'Victoria',\n",
       "       'Alexandria', 'Las Vegas', 'Minneapolis', 'Omaha', 'Bandung',\n",
       "       'Franklin', 'Reykjavík', 'Tallahassee', 'Suzhou', 'Chengdu',\n",
       "       'Everett', 'Clinton', 'Memphis'], dtype=object)"
      ]
     },
     "metadata": {},
     "output_type": "display_data"
    },
    {
     "data": {
      "text/plain": [
       "'Region'"
      ]
     },
     "metadata": {},
     "output_type": "display_data"
    },
    {
     "data": {
      "text/plain": [
       "dtype('O')"
      ]
     },
     "metadata": {},
     "output_type": "display_data"
    },
    {
     "data": {
      "text/plain": [
       "array(['EMEA', 'AMER', 'APJ'], dtype=object)"
      ]
     },
     "metadata": {},
     "output_type": "display_data"
    },
    {
     "data": {
      "text/plain": [
       "'Subregion'"
      ]
     },
     "metadata": {},
     "output_type": "display_data"
    },
    {
     "data": {
      "text/plain": [
       "dtype('O')"
      ]
     },
     "metadata": {},
     "output_type": "display_data"
    },
    {
     "data": {
      "text/plain": [
       "array(['UKIR', 'NAMER', 'EU-WEST', 'NOR', 'JAPN', 'EU', 'MEA', 'LATAM',\n",
       "       'ANZ', 'APAC', 'IND', 'EU-EAST'], dtype=object)"
      ]
     },
     "metadata": {},
     "output_type": "display_data"
    },
    {
     "data": {
      "text/plain": [
       "'Customer'"
      ]
     },
     "metadata": {},
     "output_type": "display_data"
    },
    {
     "data": {
      "text/plain": [
       "dtype('O')"
      ]
     },
     "metadata": {},
     "output_type": "display_data"
    },
    {
     "data": {
      "text/plain": [
       "array(['Chevron', 'Phillips 66', 'Royal Dutch Shell', 'BNP Paribas',\n",
       "       'Engie', 'Microsoft', 'Pfizer', 'Toyota Motor', 'Home Depot',\n",
       "       'Wells Fargo', 'Carrefour', 'Costco Wholesale', 'McKesson',\n",
       "       'Siemens', 'Intel', 'Glencore', 'Procter & Gamble',\n",
       "       'Banco Santander', 'Pemex', 'Samsung Electronics', 'Sony',\n",
       "       'Morgan Stanley', 'Bank of America Corp.', 'Tesco', 'Aviva',\n",
       "       'Mondelez International', 'Abbott Laboratories', 'Fannie Mae',\n",
       "       'Aetna', 'Oracle', 'Nissan Motor', 'Tyson Foods',\n",
       "       'Verizon Communications', 'Itochu', 'Daimler', 'Walgreens',\n",
       "       'Boeing', 'Valero Energy', 'Nestle', 'Philip Morris International',\n",
       "       'Trafigura Group', 'Walmart', 'Cisco Systems',\n",
       "       'Prudential Financial', 'Amazon', 'Gazprom', 'FedEx',\n",
       "       'Honda Motor', 'CVS Health', 'General Motors',\n",
       "       'State Farm Insurance Cos.', 'Comcast', 'AmerisourceBergen',\n",
       "       'Johnson & Johnson', 'HonHai Precision Industry',\n",
       "       'American Express', 'J.P. Morgan Chase & Co.', 'Kroger',\n",
       "       'Volkswagen', 'Merck', 'AT&T', 'Allstate', 'BMW', 'Humana',\n",
       "       'Sprint Nextel', 'Allianz', 'United Parcel Service', 'Target',\n",
       "       'Airbus', 'Cigna', 'Goldman Sachs Group', 'Lowes', 'Ford Motor',\n",
       "       'Apple', 'China National Petroleum', 'ConocoPhillips', 'Bosch',\n",
       "       'HSBC Holdings', 'Enel', 'Sysco', 'Marathon Petroleum',\n",
       "       'UnitedHealth Group', 'Mitsubishi', 'Exxon Mobil', 'Anthem',\n",
       "       'Petrobras', 'Lukoil', 'Coca-Cola', 'PepsiCo', 'General Electric',\n",
       "       'Berkshire Hathaway', 'Walt Disney', 'Alphabet', 'Huawei',\n",
       "       'News Corp.', 'Caterpillar', 'Citigroup', 'Panasonic', 'Safeway'],\n",
       "      dtype=object)"
      ]
     },
     "metadata": {},
     "output_type": "display_data"
    },
    {
     "data": {
      "text/plain": [
       "'Customer ID'"
      ]
     },
     "metadata": {},
     "output_type": "display_data"
    },
    {
     "data": {
      "text/plain": [
       "dtype('int64')"
      ]
     },
     "metadata": {},
     "output_type": "display_data"
    },
    {
     "data": {
      "text/plain": [
       "array([1017, 1056, 1031, 1065, 1062, 1066, 1074, 1087, 1047, 1099, 1048,\n",
       "       1025, 1063, 1043, 1051, 1083, 1077, 1101, 1058, 1015, 1028, 1068,\n",
       "       1011, 1059, 1006, 1067, 1001, 1035, 1002, 1072, 1098, 1088, 1094,\n",
       "       1032, 1052, 1095, 1014, 1093, 1089, 1075, 1100, 1096, 1019, 1078,\n",
       "       1004, 1027, 1036, 1045, 1026, 1041, 1082, 1022, 1007, 1055, 1033,\n",
       "       1005, 1054, 1057, 1046, 1064, 1010, 1003, 1039, 1049, 1081, 1080,\n",
       "       1090, 1085, 1030, 1038, 1042, 1060, 1009, 1008, 1023, 1024, 1076,\n",
       "       1070, 1013, 1084, 1061, 1092, 1050, 1034, 1029, 1018, 1044, 1021,\n",
       "       1073, 1040, 1012, 1097, 1053, 1086, 1071, 1016, 1020, 1091, 1079])"
      ]
     },
     "metadata": {},
     "output_type": "display_data"
    },
    {
     "data": {
      "text/plain": [
       "'Industry'"
      ]
     },
     "metadata": {},
     "output_type": "display_data"
    },
    {
     "data": {
      "text/plain": [
       "dtype('O')"
      ]
     },
     "metadata": {},
     "output_type": "display_data"
    },
    {
     "data": {
      "text/plain": [
       "array(['Energy', 'Finance', 'Tech', 'Healthcare', 'Manufacturing',\n",
       "       'Retail', 'Consumer Products', 'Misc', 'Transportation',\n",
       "       'Communications'], dtype=object)"
      ]
     },
     "metadata": {},
     "output_type": "display_data"
    },
    {
     "data": {
      "text/plain": [
       "'Segment'"
      ]
     },
     "metadata": {},
     "output_type": "display_data"
    },
    {
     "data": {
      "text/plain": [
       "dtype('O')"
      ]
     },
     "metadata": {},
     "output_type": "display_data"
    },
    {
     "data": {
      "text/plain": [
       "array(['SMB', 'Strategic', 'Enterprise'], dtype=object)"
      ]
     },
     "metadata": {},
     "output_type": "display_data"
    },
    {
     "data": {
      "text/plain": [
       "'Product'"
      ]
     },
     "metadata": {},
     "output_type": "display_data"
    },
    {
     "data": {
      "text/plain": [
       "dtype('O')"
      ]
     },
     "metadata": {},
     "output_type": "display_data"
    },
    {
     "data": {
      "text/plain": [
       "array(['Marketing Suite', 'FinanceHub', 'ContactMatcher',\n",
       "       'Marketing Suite - Gold', 'SaaS Connector Pack', 'ChatBot Plugin',\n",
       "       'Site Analytics', 'OneView', 'Support', 'Data Smasher',\n",
       "       'SaaS Connector Pack - Gold', 'Storage', 'Big Ol Database',\n",
       "       'Alchemy'], dtype=object)"
      ]
     },
     "metadata": {},
     "output_type": "display_data"
    },
    {
     "data": {
      "text/plain": [
       "'License'"
      ]
     },
     "metadata": {},
     "output_type": "display_data"
    },
    {
     "data": {
      "text/plain": [
       "dtype('O')"
      ]
     },
     "metadata": {},
     "output_type": "display_data"
    },
    {
     "data": {
      "text/plain": [
       "array(['16GRM07R1K', 'QLIW57KZUV', 'JI6BVL70HQ', ..., 'I5SVMI6M88',\n",
       "       'JHLW4P6LQ2', '3NTBV9B3PS'], dtype=object)"
      ]
     },
     "metadata": {},
     "output_type": "display_data"
    },
    {
     "data": {
      "text/plain": [
       "'Sales'"
      ]
     },
     "metadata": {},
     "output_type": "display_data"
    },
    {
     "data": {
      "text/plain": [
       "dtype('float64')"
      ]
     },
     "metadata": {},
     "output_type": "display_data"
    },
    {
     "data": {
      "text/plain": [
       "array([261.96 , 731.94 ,  14.62 , ..., 437.472,  97.98 , 243.16 ])"
      ]
     },
     "metadata": {},
     "output_type": "display_data"
    },
    {
     "data": {
      "text/plain": [
       "'Quantity'"
      ]
     },
     "metadata": {},
     "output_type": "display_data"
    },
    {
     "data": {
      "text/plain": [
       "dtype('int64')"
      ]
     },
     "metadata": {},
     "output_type": "display_data"
    },
    {
     "data": {
      "text/plain": [
       "array([ 2,  3,  5,  7,  4,  6,  9,  1,  8, 14, 11, 13, 10, 12])"
      ]
     },
     "metadata": {},
     "output_type": "display_data"
    },
    {
     "data": {
      "text/plain": [
       "'Discount'"
      ]
     },
     "metadata": {},
     "output_type": "display_data"
    },
    {
     "data": {
      "text/plain": [
       "dtype('float64')"
      ]
     },
     "metadata": {},
     "output_type": "display_data"
    },
    {
     "data": {
      "text/plain": [
       "array([0.  , 0.45, 0.2 , 0.8 , 0.3 , 0.5 , 0.7 , 0.6 , 0.32, 0.1 , 0.4 ,\n",
       "       0.15])"
      ]
     },
     "metadata": {},
     "output_type": "display_data"
    },
    {
     "data": {
      "text/plain": [
       "'Profit'"
      ]
     },
     "metadata": {},
     "output_type": "display_data"
    },
    {
     "data": {
      "text/plain": [
       "dtype('float64')"
      ]
     },
     "metadata": {},
     "output_type": "display_data"
    },
    {
     "data": {
      "text/plain": [
       "array([ 41.9136, 219.582 ,   6.8714, ...,  16.124 ,   4.1028,  72.948 ])"
      ]
     },
     "metadata": {},
     "output_type": "display_data"
    }
   ],
   "source": [
    "for i in aws_df:\n",
    "    display(i, aws_df[i].dtype , aws_df[i].unique())"
   ]
  },
  {
   "cell_type": "code",
   "execution_count": 71,
   "metadata": {},
   "outputs": [
    {
     "name": "stdout",
     "output_type": "stream",
     "text": [
      "Profit (9994 rows):\n",
      "Q1 = 1.72875\n",
      "Q3 = 29.364\n",
      "Outliers (1881 rows):\n",
      "Outliers (8113 rows):\n"
     ]
    },
    {
     "data": {
      "text/html": [
       "<div>\n",
       "<style scoped>\n",
       "    .dataframe tbody tr th:only-of-type {\n",
       "        vertical-align: middle;\n",
       "    }\n",
       "\n",
       "    .dataframe tbody tr th {\n",
       "        vertical-align: top;\n",
       "    }\n",
       "\n",
       "    .dataframe thead th {\n",
       "        text-align: right;\n",
       "    }\n",
       "</style>\n",
       "<table border=\"1\" class=\"dataframe\">\n",
       "  <thead>\n",
       "    <tr style=\"text-align: right;\">\n",
       "      <th></th>\n",
       "      <th>Row ID</th>\n",
       "      <th>Order ID</th>\n",
       "      <th>Order Date</th>\n",
       "      <th>Date Key</th>\n",
       "      <th>Contact Name</th>\n",
       "      <th>Country</th>\n",
       "      <th>City</th>\n",
       "      <th>Region</th>\n",
       "      <th>Subregion</th>\n",
       "      <th>Customer</th>\n",
       "      <th>Customer ID</th>\n",
       "      <th>Industry</th>\n",
       "      <th>Segment</th>\n",
       "      <th>Product</th>\n",
       "      <th>License</th>\n",
       "      <th>Sales</th>\n",
       "      <th>Quantity</th>\n",
       "      <th>Discount</th>\n",
       "      <th>Profit</th>\n",
       "    </tr>\n",
       "  </thead>\n",
       "  <tbody>\n",
       "    <tr>\n",
       "      <th>0</th>\n",
       "      <td>1</td>\n",
       "      <td>EMEA-2022-152156</td>\n",
       "      <td>2022-11-09</td>\n",
       "      <td>20221109</td>\n",
       "      <td>Nathan Bell</td>\n",
       "      <td>Ireland</td>\n",
       "      <td>Dublin</td>\n",
       "      <td>EMEA</td>\n",
       "      <td>UKIR</td>\n",
       "      <td>Chevron</td>\n",
       "      <td>1017</td>\n",
       "      <td>Energy</td>\n",
       "      <td>SMB</td>\n",
       "      <td>Marketing Suite</td>\n",
       "      <td>16GRM07R1K</td>\n",
       "      <td>261.960</td>\n",
       "      <td>2</td>\n",
       "      <td>0.0</td>\n",
       "      <td>41.9136</td>\n",
       "    </tr>\n",
       "    <tr>\n",
       "      <th>2</th>\n",
       "      <td>3</td>\n",
       "      <td>AMER-2022-138688</td>\n",
       "      <td>2022-06-13</td>\n",
       "      <td>20220613</td>\n",
       "      <td>Deirdre Bailey</td>\n",
       "      <td>United States</td>\n",
       "      <td>New York City</td>\n",
       "      <td>AMER</td>\n",
       "      <td>NAMER</td>\n",
       "      <td>Phillips 66</td>\n",
       "      <td>1056</td>\n",
       "      <td>Energy</td>\n",
       "      <td>Strategic</td>\n",
       "      <td>FinanceHub</td>\n",
       "      <td>JI6BVL70HQ</td>\n",
       "      <td>14.620</td>\n",
       "      <td>2</td>\n",
       "      <td>0.0</td>\n",
       "      <td>6.8714</td>\n",
       "    </tr>\n",
       "    <tr>\n",
       "      <th>4</th>\n",
       "      <td>5</td>\n",
       "      <td>EMEA-2021-108966</td>\n",
       "      <td>2021-10-11</td>\n",
       "      <td>20211011</td>\n",
       "      <td>Zoe Hodges</td>\n",
       "      <td>Germany</td>\n",
       "      <td>Stuttgart</td>\n",
       "      <td>EMEA</td>\n",
       "      <td>EU-WEST</td>\n",
       "      <td>Royal Dutch Shell</td>\n",
       "      <td>1031</td>\n",
       "      <td>Energy</td>\n",
       "      <td>SMB</td>\n",
       "      <td>Marketing Suite - Gold</td>\n",
       "      <td>OIF7NY23WD</td>\n",
       "      <td>22.368</td>\n",
       "      <td>2</td>\n",
       "      <td>0.2</td>\n",
       "      <td>2.5164</td>\n",
       "    </tr>\n",
       "    <tr>\n",
       "      <th>5</th>\n",
       "      <td>6</td>\n",
       "      <td>AMER-2020-115812</td>\n",
       "      <td>2020-06-09</td>\n",
       "      <td>20200609</td>\n",
       "      <td>Thomas Hodges</td>\n",
       "      <td>United States</td>\n",
       "      <td>New York City</td>\n",
       "      <td>AMER</td>\n",
       "      <td>NAMER</td>\n",
       "      <td>BNP Paribas</td>\n",
       "      <td>1065</td>\n",
       "      <td>Finance</td>\n",
       "      <td>SMB</td>\n",
       "      <td>SaaS Connector Pack</td>\n",
       "      <td>8RM88WFOAE</td>\n",
       "      <td>48.860</td>\n",
       "      <td>7</td>\n",
       "      <td>0.0</td>\n",
       "      <td>14.1694</td>\n",
       "    </tr>\n",
       "    <tr>\n",
       "      <th>6</th>\n",
       "      <td>7</td>\n",
       "      <td>AMER-2020-115812</td>\n",
       "      <td>2020-06-09</td>\n",
       "      <td>20200609</td>\n",
       "      <td>Thomas Hodges</td>\n",
       "      <td>United States</td>\n",
       "      <td>New York City</td>\n",
       "      <td>AMER</td>\n",
       "      <td>NAMER</td>\n",
       "      <td>BNP Paribas</td>\n",
       "      <td>1065</td>\n",
       "      <td>Finance</td>\n",
       "      <td>SMB</td>\n",
       "      <td>ChatBot Plugin</td>\n",
       "      <td>4SYTVM0746</td>\n",
       "      <td>7.280</td>\n",
       "      <td>4</td>\n",
       "      <td>0.0</td>\n",
       "      <td>1.9656</td>\n",
       "    </tr>\n",
       "    <tr>\n",
       "      <th>...</th>\n",
       "      <td>...</td>\n",
       "      <td>...</td>\n",
       "      <td>...</td>\n",
       "      <td>...</td>\n",
       "      <td>...</td>\n",
       "      <td>...</td>\n",
       "      <td>...</td>\n",
       "      <td>...</td>\n",
       "      <td>...</td>\n",
       "      <td>...</td>\n",
       "      <td>...</td>\n",
       "      <td>...</td>\n",
       "      <td>...</td>\n",
       "      <td>...</td>\n",
       "      <td>...</td>\n",
       "      <td>...</td>\n",
       "      <td>...</td>\n",
       "      <td>...</td>\n",
       "      <td>...</td>\n",
       "    </tr>\n",
       "    <tr>\n",
       "      <th>9988</th>\n",
       "      <td>9989</td>\n",
       "      <td>EMEA-2023-163629</td>\n",
       "      <td>2023-11-18</td>\n",
       "      <td>20231118</td>\n",
       "      <td>Dylan Dickens</td>\n",
       "      <td>Finland</td>\n",
       "      <td>Espoo</td>\n",
       "      <td>EMEA</td>\n",
       "      <td>NOR</td>\n",
       "      <td>Siemens</td>\n",
       "      <td>1043</td>\n",
       "      <td>Manufacturing</td>\n",
       "      <td>Strategic</td>\n",
       "      <td>Site Analytics</td>\n",
       "      <td>TFALA50KPS</td>\n",
       "      <td>206.100</td>\n",
       "      <td>5</td>\n",
       "      <td>0.0</td>\n",
       "      <td>55.6470</td>\n",
       "    </tr>\n",
       "    <tr>\n",
       "      <th>9989</th>\n",
       "      <td>9990</td>\n",
       "      <td>EMEA-2020-110422</td>\n",
       "      <td>2020-01-22</td>\n",
       "      <td>20200122</td>\n",
       "      <td>Dan Allan</td>\n",
       "      <td>Germany</td>\n",
       "      <td>Hamburg</td>\n",
       "      <td>EMEA</td>\n",
       "      <td>EU-WEST</td>\n",
       "      <td>Johnson &amp; Johnson</td>\n",
       "      <td>1055</td>\n",
       "      <td>Healthcare</td>\n",
       "      <td>SMB</td>\n",
       "      <td>SaaS Connector Pack</td>\n",
       "      <td>ETHXMB5TMD</td>\n",
       "      <td>25.248</td>\n",
       "      <td>3</td>\n",
       "      <td>0.2</td>\n",
       "      <td>4.1028</td>\n",
       "    </tr>\n",
       "    <tr>\n",
       "      <th>9990</th>\n",
       "      <td>9991</td>\n",
       "      <td>AMER-2023-121258</td>\n",
       "      <td>2023-02-27</td>\n",
       "      <td>20230227</td>\n",
       "      <td>Anthony Sanderson</td>\n",
       "      <td>United States</td>\n",
       "      <td>Milwaukee</td>\n",
       "      <td>AMER</td>\n",
       "      <td>NAMER</td>\n",
       "      <td>American Express</td>\n",
       "      <td>1005</td>\n",
       "      <td>Finance</td>\n",
       "      <td>SMB</td>\n",
       "      <td>SaaS Connector Pack</td>\n",
       "      <td>LYHOKTRY7L</td>\n",
       "      <td>91.960</td>\n",
       "      <td>2</td>\n",
       "      <td>0.0</td>\n",
       "      <td>15.6332</td>\n",
       "    </tr>\n",
       "    <tr>\n",
       "      <th>9991</th>\n",
       "      <td>9992</td>\n",
       "      <td>AMER-2023-121258</td>\n",
       "      <td>2023-02-27</td>\n",
       "      <td>20230227</td>\n",
       "      <td>Anthony Sanderson</td>\n",
       "      <td>United States</td>\n",
       "      <td>Milwaukee</td>\n",
       "      <td>AMER</td>\n",
       "      <td>NAMER</td>\n",
       "      <td>American Express</td>\n",
       "      <td>1005</td>\n",
       "      <td>Finance</td>\n",
       "      <td>SMB</td>\n",
       "      <td>Site Analytics</td>\n",
       "      <td>I5SVMI6M88</td>\n",
       "      <td>258.576</td>\n",
       "      <td>2</td>\n",
       "      <td>0.2</td>\n",
       "      <td>19.3932</td>\n",
       "    </tr>\n",
       "    <tr>\n",
       "      <th>9992</th>\n",
       "      <td>9993</td>\n",
       "      <td>AMER-2023-121258</td>\n",
       "      <td>2023-02-27</td>\n",
       "      <td>20230227</td>\n",
       "      <td>Anthony Sanderson</td>\n",
       "      <td>United States</td>\n",
       "      <td>Milwaukee</td>\n",
       "      <td>AMER</td>\n",
       "      <td>NAMER</td>\n",
       "      <td>American Express</td>\n",
       "      <td>1005</td>\n",
       "      <td>Finance</td>\n",
       "      <td>SMB</td>\n",
       "      <td>Support</td>\n",
       "      <td>JHLW4P6LQ2</td>\n",
       "      <td>29.600</td>\n",
       "      <td>4</td>\n",
       "      <td>0.0</td>\n",
       "      <td>13.3200</td>\n",
       "    </tr>\n",
       "  </tbody>\n",
       "</table>\n",
       "<p>8113 rows × 19 columns</p>\n",
       "</div>"
      ],
      "text/plain": [
       "      Row ID          Order ID Order Date  Date Key       Contact Name   \n",
       "0          1  EMEA-2022-152156 2022-11-09  20221109        Nathan Bell  \\\n",
       "2          3  AMER-2022-138688 2022-06-13  20220613     Deirdre Bailey   \n",
       "4          5  EMEA-2021-108966 2021-10-11  20211011         Zoe Hodges   \n",
       "5          6  AMER-2020-115812 2020-06-09  20200609      Thomas Hodges   \n",
       "6          7  AMER-2020-115812 2020-06-09  20200609      Thomas Hodges   \n",
       "...      ...               ...        ...       ...                ...   \n",
       "9988    9989  EMEA-2023-163629 2023-11-18  20231118      Dylan Dickens   \n",
       "9989    9990  EMEA-2020-110422 2020-01-22  20200122          Dan Allan   \n",
       "9990    9991  AMER-2023-121258 2023-02-27  20230227  Anthony Sanderson   \n",
       "9991    9992  AMER-2023-121258 2023-02-27  20230227  Anthony Sanderson   \n",
       "9992    9993  AMER-2023-121258 2023-02-27  20230227  Anthony Sanderson   \n",
       "\n",
       "            Country           City Region Subregion           Customer   \n",
       "0           Ireland         Dublin   EMEA      UKIR            Chevron  \\\n",
       "2     United States  New York City   AMER     NAMER        Phillips 66   \n",
       "4           Germany      Stuttgart   EMEA   EU-WEST  Royal Dutch Shell   \n",
       "5     United States  New York City   AMER     NAMER        BNP Paribas   \n",
       "6     United States  New York City   AMER     NAMER        BNP Paribas   \n",
       "...             ...            ...    ...       ...                ...   \n",
       "9988        Finland          Espoo   EMEA       NOR            Siemens   \n",
       "9989        Germany        Hamburg   EMEA   EU-WEST  Johnson & Johnson   \n",
       "9990  United States      Milwaukee   AMER     NAMER   American Express   \n",
       "9991  United States      Milwaukee   AMER     NAMER   American Express   \n",
       "9992  United States      Milwaukee   AMER     NAMER   American Express   \n",
       "\n",
       "      Customer ID       Industry    Segment                 Product   \n",
       "0            1017         Energy        SMB         Marketing Suite  \\\n",
       "2            1056         Energy  Strategic              FinanceHub   \n",
       "4            1031         Energy        SMB  Marketing Suite - Gold   \n",
       "5            1065        Finance        SMB     SaaS Connector Pack   \n",
       "6            1065        Finance        SMB          ChatBot Plugin   \n",
       "...           ...            ...        ...                     ...   \n",
       "9988         1043  Manufacturing  Strategic          Site Analytics   \n",
       "9989         1055     Healthcare        SMB     SaaS Connector Pack   \n",
       "9990         1005        Finance        SMB     SaaS Connector Pack   \n",
       "9991         1005        Finance        SMB          Site Analytics   \n",
       "9992         1005        Finance        SMB                 Support   \n",
       "\n",
       "         License    Sales  Quantity  Discount   Profit  \n",
       "0     16GRM07R1K  261.960         2       0.0  41.9136  \n",
       "2     JI6BVL70HQ   14.620         2       0.0   6.8714  \n",
       "4     OIF7NY23WD   22.368         2       0.2   2.5164  \n",
       "5     8RM88WFOAE   48.860         7       0.0  14.1694  \n",
       "6     4SYTVM0746    7.280         4       0.0   1.9656  \n",
       "...          ...      ...       ...       ...      ...  \n",
       "9988  TFALA50KPS  206.100         5       0.0  55.6470  \n",
       "9989  ETHXMB5TMD   25.248         3       0.2   4.1028  \n",
       "9990  LYHOKTRY7L   91.960         2       0.0  15.6332  \n",
       "9991  I5SVMI6M88  258.576         2       0.2  19.3932  \n",
       "9992  JHLW4P6LQ2   29.600         4       0.0  13.3200  \n",
       "\n",
       "[8113 rows x 19 columns]"
      ]
     },
     "execution_count": 71,
     "metadata": {},
     "output_type": "execute_result"
    }
   ],
   "source": [
    "\n",
    "q1 = aws_df['Profit'].describe()['25%']\n",
    "print(f'Profit ({len(aws_df[\"Profit\"])} rows):')\n",
    "print(f'Q1 = {q1}')\n",
    "q3 = aws_df['Profit'].describe()['75%']\n",
    "print(f'Q3 = {q3}')\n",
    "IQR = q3-q1\n",
    "\n",
    "lowerBound = q1 - (1.5*IQR)\n",
    "upperBound = q3 + (1.5*IQR)\n",
    "\n",
    "outliersProfit = aws_df[(aws_df['Profit'] < lowerBound) | (aws_df['Profit'] > upperBound)]\n",
    "print(f'Outliers ({len(outliersProfit)} rows):')\n",
    "\n",
    "aws_df_profitClean = aws_df.drop(outliersProfit.index)\n",
    "print(f'Outliers ({len(aws_df_profitClean)} rows):')\n",
    "aws_df_profitClean\n",
    "\n",
    "\n",
    "\n",
    "\n"
   ]
  },
  {
   "cell_type": "code",
   "execution_count": 72,
   "metadata": {},
   "outputs": [
    {
     "data": {
      "image/png": "[encoded data removed]",
      "text/plain": [
       "<Figure size 2000x500 with 1 Axes>"
      ]
     },
     "metadata": {},
     "output_type": "display_data"
    }
   ],
   "source": [
    "plt.figure(figsize=(20,5))\n",
    "sns.boxplot(data = aws_df_profitClean, x='Profit')\n",
    "plt.show()\n",
    "\n",
    "#aws_df[aws_df['Profit']>6000]"
   ]
  },
  {
   "cell_type": "code",
   "execution_count": 73,
   "metadata": {},
   "outputs": [
    {
     "data": {
      "image/png": "[encoded data removed]",
      "text/plain": [
       "<Figure size 2000x500 with 1 Axes>"
      ]
     },
     "metadata": {},
     "output_type": "display_data"
    }
   ],
   "source": [
    "plt.figure(figsize=(20,5))\n",
    "sns.boxplot(data = aws_df, x='Sales',y='Product')\n",
    "plt.show()"
   ]
  },
  {
   "cell_type": "code",
   "execution_count": 74,
   "metadata": {},
   "outputs": [
    {
     "data": {
      "image/png": "[encoded data removed]",
      "text/plain": [
       "<Figure size 640x480 with 1 Axes>"
      ]
     },
     "metadata": {},
     "output_type": "display_data"
    },
    {
     "name": "stdout",
     "output_type": "stream",
     "text": [
      "Sales (9994 rows):\n",
      "Q1 = 17.28\n",
      "Q3 = 209.94\n",
      "Outliers (1167 rows):\n",
      "Final (8827 rows):\n"
     ]
    },
    {
     "data": {
      "image/png": "[encoded data removed]",
      "text/plain": [
       "<Figure size 640x480 with 1 Axes>"
      ]
     },
     "metadata": {},
     "output_type": "display_data"
    }
   ],
   "source": [
    "aws_df2 = aws_df.copy()\n",
    "\n",
    "plt.figure()\n",
    "sns.boxplot(\n",
    "    data= aws_df2,\n",
    "    x='Sales'\n",
    ")\n",
    "plt.show()\n",
    "\n",
    "q1 = aws_df2['Sales'].describe()['25%']\n",
    "print(f'Sales ({len(aws_df2[\"Sales\"])} rows):')\n",
    "print(f'Q1 = {q1}')\n",
    "q3 = aws_df2['Sales'].describe()['75%']\n",
    "print(f'Q3 = {q3}')\n",
    "IQR = q3-q1\n",
    "\n",
    "lowerBound = q1 - (1.5*IQR)\n",
    "upperBound = q3 + (1.5*IQR)\n",
    "\n",
    "outliersSales = aws_df2[(aws_df2['Sales'] < lowerBound) | (aws_df2['Sales'] > upperBound)]\n",
    "print(f'Outliers ({len(outliersSales)} rows):')\n",
    "\n",
    "aws_df2_sales_clean = aws_df2.drop(outliersSales.index)\n",
    "print(f'Final ({len(aws_df2_sales_clean)} rows):')\n",
    "aws_df2_sales_clean\n",
    "\n",
    "\n",
    "plt.figure()\n",
    "sns.boxplot(\n",
    "    data= aws_df2_sales_clean,\n",
    "    x='Sales'\n",
    ")\n",
    "plt.show()\n"
   ]
  },
  {
   "cell_type": "code",
   "execution_count": null,
   "metadata": {},
   "outputs": [],
   "source": []
  },
  {
   "cell_type": "code",
   "execution_count": 75,
   "metadata": {},
   "outputs": [],
   "source": [
    "def monthToQuartile (x):\n",
    "    if x <= 3:\n",
    "        return 'Q1'\n",
    "    elif x <= 6:\n",
    "        return 'Q2'\n",
    "    elif x <= 9:\n",
    "        return 'Q3'\n",
    "    else:\n",
    "        return 'Q4'"
   ]
  },
  {
   "cell_type": "code",
   "execution_count": 76,
   "metadata": {},
   "outputs": [],
   "source": [
    "aws_df2['Order Date'] = pd.to_datetime(aws_df2['Order Date'])\n",
    "aws_df2['Order YearMonth'] = aws_df2['Order Date'].apply(lambda x : str(x)[:7])\n",
    "aws_df2['Order YearMonth'] = pd.to_datetime(aws_df2['Order YearMonth'])\n",
    "\n",
    "aws_df2['Order Year'] = aws_df2['Order YearMonth'].apply(lambda x: str(x)[:4])\n",
    "aws_df2['Order Month'] = aws_df2['Order YearMonth'].apply(lambda x: int(str(x)[5:7]))\n",
    "aws_df2['Order Quartile'] = aws_df2['Order Month'].apply(monthToQuartile)\n",
    "aws_df2['Order YearQuartile'] = aws_df2['Order Year'] + '-' + aws_df2['Order Quartile']"
   ]
  },
  {
   "cell_type": "code",
   "execution_count": 77,
   "metadata": {},
   "outputs": [
    {
     "data": {
      "image/png": "[encoded data removed]",
      "text/plain": [
       "<Figure size 2000x600 with 1 Axes>"
      ]
     },
     "metadata": {},
     "output_type": "display_data"
    }
   ],
   "source": [
    "plt.figure(figsize=(20,6))\n",
    "\n",
    "sns.barplot(\n",
    "    data = aws_df2.sort_values('Order YearQuartile'),\n",
    "    x = 'Order YearQuartile',\n",
    "    y = 'Sales',\n",
    "    estimator=\"sum\",\n",
    "    ci=0\n",
    ")\n",
    "\n",
    "plt.title('Total Sales by Quartile')\n",
    "\n",
    "plt.show()\n"
   ]
  },
  {
   "cell_type": "code",
   "execution_count": 78,
   "metadata": {},
   "outputs": [
    {
     "data": {
      "image/png": "[encoded data removed]",
      "text/plain": [
       "<Figure size 2000x600 with 1 Axes>"
      ]
     },
     "metadata": {},
     "output_type": "display_data"
    }
   ],
   "source": [
    "aws_df2_sales_product_group = aws_df2.groupby('Order Year')['Sales'].sum().reset_index()\n",
    "\n",
    "plt.figure(figsize=(20,6))\n",
    "\n",
    "sns.barplot(\n",
    "    data = aws_df2.sort_values('Order YearQuartile'),\n",
    "    x = 'Order Year',\n",
    "    y = 'Sales',\n",
    "    hue = 'Product',\n",
    "    estimator=\"sum\",\n",
    "    ci=0\n",
    ")\n",
    "\n",
    "plt.title('Total Sales by Product (Year)')\n",
    "\n",
    "plt.show()"
   ]
  }
 ],
 "metadata": {
  "kernelspec": {
   "display_name": "Python 3",
   "language": "python",
   "name": "python3"
  },
  "language_info": {
   "codemirror_mode": {
    "name": "ipython",
    "version": 3
   },
   "file_extension": ".py",
   "mimetype": "text/x-python",
   "name": "python",
   "nbconvert_exporter": "python",
   "pygments_lexer": "ipython3",
   "version": "3.9.1"
  },
  "orig_nbformat": 4
 },
 "nbformat": 4,
 "nbformat_minor": 2
}
