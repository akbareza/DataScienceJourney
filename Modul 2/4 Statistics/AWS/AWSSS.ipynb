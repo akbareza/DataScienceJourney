{
 "cells": [
  {
   "attachments": {},
   "cell_type": "markdown",
   "metadata": {},
   "source": [
    "# Dataset 3 : AWS SaaS Sales\n",
    "1. Dataset dapat di download pada link berikut ini.\n",
    "2. Jangan lupa untuk melakukan data cleaning sebelum lanjut ke tahapan analisis.\n",
    "3. Siapa stakeholders pada masalah tersebut\n",
    "4. Laporkan kepada user tentang hal-hal berikut ini :\n",
    "  - Jumlah order di setiap bulan di tahun 2022 dan 2023.\n",
    "  - Top 10 Negara asal pembeli.\n",
    "  - Top 10 Customers.\n",
    "  - Total sales tertinggi dan terendah (Bulan dan Tahun).\n",
    "  - Product dengan discount > 50%.\n",
    "  - Segment & Product yang paling untung & rugi.\n",
    "  - Negara penghasil profit tertinggi.\n",
    "  - Periode waktu yang memberikan kerugian pada perusahaan.\n",
    "5. Buatlah kesimpulan dan rekomendasi dari temuan yang didapatkan. Selain pertanyaan user yang wajib dijawab, lakukan juga analisis tambahan sehingga dapat memberikan kesimpulan yang lebih banyak."
   ]
  },
  {
   "attachments": {},
   "cell_type": "markdown",
   "metadata": {},
   "source": [
    "### Oleh Kelompok A:\n",
    "1. Akbar\n",
    "2. Ami\n",
    "3. Dyah\n",
    "4. Kentani\n",
    "5. Rangga\n",
    "6. Zahra"
   ]
  },
  {
   "cell_type": "code",
   "execution_count": 2,
   "metadata": {},
   "outputs": [],
   "source": [
    "import numpy as np\n",
    "import pandas as pd\n",
    "import matplotlib.pyplot as plt\n",
    "import seaborn as sns\n",
    "import os\n",
    "from scipy import stats\n",
    "\n",
    "import warnings\n",
    "warnings.filterwarnings('ignore')"
   ]
  },
  {
   "attachments": {},
   "cell_type": "markdown",
   "metadata": {},
   "source": [
    "### *DATAFRAME aws_df untuk soal nomor 4 (A-C)*"
   ]
  },
  {
   "cell_type": "code",
   "execution_count": 3,
   "metadata": {},
   "outputs": [],
   "source": [
    "aws_df = pd.read_csv('SaaS-Sales.csv')"
   ]
  },
  {
   "attachments": {},
   "cell_type": "markdown",
   "metadata": {},
   "source": [
    "### *DATAFRAME aws_df2 untuk soal nomor 4 (D-H)*"
   ]
  },
  {
   "cell_type": "code",
   "execution_count": 4,
   "metadata": {},
   "outputs": [],
   "source": [
    "aws_df2 = pd.read_csv('SaaS-Sales.csv')"
   ]
  },
  {
   "attachments": {},
   "cell_type": "markdown",
   "metadata": {},
   "source": [
    "*Check Null*"
   ]
  },
  {
   "cell_type": "code",
   "execution_count": 5,
   "metadata": {},
   "outputs": [
    {
     "data": {
      "text/plain": [
       "Row ID          0\n",
       "Order ID        0\n",
       "Order Date      0\n",
       "Date Key        0\n",
       "Contact Name    0\n",
       "Country         0\n",
       "City            0\n",
       "Region          0\n",
       "Subregion       0\n",
       "Customer        0\n",
       "Customer ID     0\n",
       "Industry        0\n",
       "Segment         0\n",
       "Product         0\n",
       "License         0\n",
       "Sales           0\n",
       "Quantity        0\n",
       "Discount        0\n",
       "Profit          0\n",
       "dtype: int64"
      ]
     },
     "execution_count": 5,
     "metadata": {},
     "output_type": "execute_result"
    }
   ],
   "source": [
    "aws_df.isnull().sum()"
   ]
  },
  {
   "cell_type": "code",
   "execution_count": 6,
   "metadata": {},
   "outputs": [
    {
     "data": {
      "text/plain": [
       "0"
      ]
     },
     "execution_count": 6,
     "metadata": {},
     "output_type": "execute_result"
    }
   ],
   "source": [
    "#Check Duplicate\n",
    "aws_df.duplicated().sum()"
   ]
  },
  {
   "attachments": {},
   "cell_type": "markdown",
   "metadata": {},
   "source": [
    "### No.2\n",
    "Jangan lupa untuk melakukan data cleaning sebelum lanjut ke tahapan analisis."
   ]
  },
  {
   "attachments": {},
   "cell_type": "markdown",
   "metadata": {},
   "source": [
    "#### Data Cleaning "
   ]
  },
  {
   "attachments": {},
   "cell_type": "markdown",
   "metadata": {},
   "source": [
    "#### *CLEAR OUTLIER aws_df*"
   ]
  },
  {
   "cell_type": "code",
   "execution_count": 7,
   "metadata": {},
   "outputs": [],
   "source": [
    "#sns.histplot(aws_df['Sales'], kde=True)\n",
    "#plt.title('Distribution of Sales Including Outliers')\n",
    "#plt.xlabel('Sales')\n",
    "#plt.ylabel('Density')\n",
    "#plt.show()"
   ]
  },
  {
   "cell_type": "code",
   "execution_count": 8,
   "metadata": {},
   "outputs": [],
   "source": [
    "#Q1 = aws_df['Sales'].quantile(0.25)\n",
    "#Q3 = aws_df['Sales'].quantile(0.75)\n",
    "\n",
    "#IQR = Q3 - Q1\n",
    "\n",
    "#The boundaries for outliers\n",
    "#lower_bound = Q1 - 1.5 * IQR\n",
    "#upper_bound = Q3 + 1.5 * IQR\n",
    "\n",
    "#Identify the outliers\n",
    "#outliers = aws_df[(aws_df['Sales'] < lower_bound) | (aws_df['Sales'] > upper_bound)]\n",
    "\n",
    "#print(outliers)"
   ]
  },
  {
   "cell_type": "code",
   "execution_count": 9,
   "metadata": {},
   "outputs": [],
   "source": [
    "#z_scores = np.abs(stats.zscore(aws_df['Sales']))\n",
    "#threshold = 3\n",
    "#aws_df_outliers = aws_df[(z_scores > threshold)]\n",
    "#display(aws_df_outliers)"
   ]
  },
  {
   "cell_type": "code",
   "execution_count": 10,
   "metadata": {},
   "outputs": [],
   "source": [
    "# Q1 = data_setelah_outliers_sales['Sales'].quantile(0.25)\n",
    "# print(f'Nilai kuartil pertama: {Q1}')\n",
    "# Q3 = data_setelah_outliers_sales['Sales'].quantile(0.75)\n",
    "# print(f'Nilai kuartil ketiga: {Q3}')\n",
    "# nilai=Q3-Q1\n",
    "\n",
    "# lower_bound = Q1 - 1.5*nilai\n",
    "# upper_bound = Q3 + 1.5*nilai\n",
    "# outliers = data_setelah_outliers_sales[(data_setelah_outliers_sales['Sales'] < lower_bound) | (data_setelah_outliers_sales['Sales'] > upper_bound)]\n",
    "# # outliers\n",
    "# # num_outliers = outliers.shape[0]\n",
    "\n",
    "# # data_setelah_outliers = aws_df[aws_df['Sales'].isin(outliers['Sales'])]\n",
    "\n",
    "# data_setelah_outliers = aws_df[(aws_df['Sales'] >= lower_bound) & (aws_df['Sales'] <= upper_bound)]\n",
    "# data_setelah_outliers\n"
   ]
  },
  {
   "cell_type": "code",
   "execution_count": 11,
   "metadata": {},
   "outputs": [],
   "source": [
    "#Clear Outlier aws_df disini\n",
    "# Q1 = aws_df['Profit'].quantile(0.25)\n",
    "# print(f'Nilai kuartil pertama: {Q1}')\n",
    "# Q3 = aws_df['Profit'].quantile(0.75)\n",
    "# print(f'Nilai kuartil ketiga: {Q3}')\n",
    "# nilai=Q3-Q1\n",
    "\n",
    "# lower_bound = Q1 - 1.5*nilai\n",
    "# upper_bound = Q3 + 1.5*nilai\n",
    "# outliers_sales = aws_df[(aws_df['Profit'] < lower_bound) | (aws_df['Profit'] > upper_bound)]\n",
    "\n",
    "# data_setelah_outliers_sales = aws_df[~aws_df['Profit'].isin(outliers_sales['Profit'])]"
   ]
  },
  {
   "attachments": {},
   "cell_type": "markdown",
   "metadata": {},
   "source": [
    "#### *CLEAR OUTLIER di aws_df2*"
   ]
  },
  {
   "attachments": {},
   "cell_type": "markdown",
   "metadata": {},
   "source": [
    "#### *DROP DUPLICATE*"
   ]
  },
  {
   "cell_type": "code",
   "execution_count": 12,
   "metadata": {},
   "outputs": [
    {
     "data": {
      "text/plain": [
       "Order ID\n",
       "EMEA-2023-100111    14\n",
       "EMEA-2023-157987    12\n",
       "AMER-2022-165330    11\n",
       "EMEA-2022-108504    11\n",
       "EMEA-2021-131338    10\n",
       "                    ..\n",
       "EMEA-2022-157259     1\n",
       "AMER-2023-107986     1\n",
       "EMEA-2021-112508     1\n",
       "APJ-2022-126844      1\n",
       "AMER-2023-119914     1\n",
       "Name: count, Length: 5009, dtype: int64"
      ]
     },
     "metadata": {},
     "output_type": "display_data"
    },
    {
     "data": {
      "text/plain": [
       "Order ID\n",
       "EMEA-2023-100111    14\n",
       "EMEA-2023-157987    12\n",
       "AMER-2022-165330    11\n",
       "EMEA-2022-108504    11\n",
       "EMEA-2021-131338    10\n",
       "                    ..\n",
       "EMEA-2022-157259     1\n",
       "AMER-2023-107986     1\n",
       "EMEA-2021-112508     1\n",
       "APJ-2022-126844      1\n",
       "AMER-2023-119914     1\n",
       "Name: count, Length: 5009, dtype: int64"
      ]
     },
     "metadata": {},
     "output_type": "display_data"
    }
   ],
   "source": [
    "#Sebelum di drop duplicate\n",
    "display(aws_df['Order ID'].value_counts())\n",
    "display(aws_df2['Order ID'].value_counts())\n",
    "#DROP DUPLICATE dataframe bb untuk menjawab soal nomor 1-3\n",
    "aws_df.drop_duplicates(subset=['Order ID'],inplace=True)"
   ]
  },
  {
   "cell_type": "code",
   "execution_count": 13,
   "metadata": {},
   "outputs": [
    {
     "data": {
      "text/plain": [
       "5009"
      ]
     },
     "metadata": {},
     "output_type": "display_data"
    },
    {
     "data": {
      "text/plain": [
       "9994"
      ]
     },
     "metadata": {},
     "output_type": "display_data"
    }
   ],
   "source": [
    "#setelah drop duplicate\n",
    "display(len(aws_df['Order ID']))\n",
    "display(len(aws_df2['Order ID']))"
   ]
  },
  {
   "attachments": {},
   "cell_type": "markdown",
   "metadata": {},
   "source": [
    "### No.3\n",
    "Siapa stakeholders pada masalah tersebut?"
   ]
  },
  {
   "attachments": {},
   "cell_type": "markdown",
   "metadata": {},
   "source": [
    "Stakeholders for Amazon Web Services (AWS) Software as a Service (SaaS) sales, there could be several categories of stakeholders involved. These could include:\n",
    "\n",
    "1. **AWS leadership and employees**: These are people who work directly on developing, selling, and supporting AWS SaaS products.\n",
    "\n",
    "2. **Competitors**: Other cloud service providers might be considered stakeholders as their actions and strategies could affect AWS' strategies and vice versa."
   ]
  },
  {
   "attachments": {},
   "cell_type": "markdown",
   "metadata": {},
   "source": [
    "### No.4\n",
    "Laporkan kepada user tentang hal-hal berikut ini :"
   ]
  },
  {
   "attachments": {},
   "cell_type": "markdown",
   "metadata": {},
   "source": [
    "A. ➡️ Jumlah order di setiap bulan di tahun 2022 dan 2023."
   ]
  },
  {
   "cell_type": "code",
   "execution_count": 14,
   "metadata": {},
   "outputs": [
    {
     "name": "stdout",
     "output_type": "stream",
     "text": [
      "After Drop Duplicate\n"
     ]
    },
    {
     "data": {
      "text/plain": [
       "Order Date\n",
       "2022-01     48\n",
       "2022-02     44\n",
       "2022-03     85\n",
       "2022-04     88\n",
       "2022-05    109\n",
       "2022-06     97\n",
       "2022-07     96\n",
       "2022-08     91\n",
       "2022-09    191\n",
       "2022-10    102\n",
       "2022-11    186\n",
       "2022-12    173\n",
       "2023-01     74\n",
       "2023-02     52\n",
       "2023-03    111\n",
       "2023-04    112\n",
       "2023-05    130\n",
       "2023-06    125\n",
       "2023-07    112\n",
       "2023-08    110\n",
       "2023-09    229\n",
       "2023-10    150\n",
       "2023-11    252\n",
       "2023-12    235\n",
       "Freq: M, dtype: int64"
      ]
     },
     "metadata": {},
     "output_type": "display_data"
    }
   ],
   "source": [
    "print(\"After Drop Duplicate\")\n",
    "aws_df['Order Date'] = pd.to_datetime(aws_df['Order Date'])\n",
    "aws_df = aws_df[(aws_df['Order Date'].dt.year == 2022) | (aws_df['Order Date'].dt.year == 2023)]\n",
    "orders_per_month = aws_df.groupby(aws_df['Order Date'].dt.to_period('M')).size()\n",
    "display(orders_per_month)"
   ]
  },
  {
   "cell_type": "code",
   "execution_count": 15,
   "metadata": {},
   "outputs": [
    {
     "data": {
      "image/png": "[encoded data removed]",
      "text/plain": [
       "<Figure size 1000x600 with 1 Axes>"
      ]
     },
     "metadata": {},
     "output_type": "display_data"
    }
   ],
   "source": [
    "#Visual\n",
    "\n",
    "#Plotting the data\n",
    "plt.figure(figsize=(10, 6)) #Figure size\n",
    "orders_per_month.plot(kind='line', marker='o') #Plotting as a line plot with marker\n",
    "\n",
    "#Setting title and labels\n",
    "plt.title('Order Count Per Month (2022-2023)')\n",
    "plt.xlabel('Month')\n",
    "plt.ylabel('Number of Orders')\n",
    "plt.show()"
   ]
  },
  {
   "attachments": {},
   "cell_type": "markdown",
   "metadata": {},
   "source": [
    "B. ➡️ Top 10 Negara asal pembeli."
   ]
  },
  {
   "cell_type": "code",
   "execution_count": 16,
   "metadata": {},
   "outputs": [
    {
     "data": {
      "text/plain": [
       "Country\n",
       "United States     619\n",
       "United Kingdom    332\n",
       "Japan             286\n",
       "France            170\n",
       "Australia         167\n",
       "Canada            164\n",
       "Mexico            151\n",
       "Germany           117\n",
       "Sweden             84\n",
       "Brazil             64\n",
       "Name: count, dtype: int64"
      ]
     },
     "metadata": {},
     "output_type": "display_data"
    }
   ],
   "source": [
    "top_10_countries = aws_df['Country'].value_counts().head(10)\n",
    "display(top_10_countries)\n",
    "\n",
    "# top_10_countries2 = aws_df2['Country'].value_counts().head(10)\n",
    "# display(top_10_countries2)"
   ]
  },
  {
   "cell_type": "code",
   "execution_count": 17,
   "metadata": {},
   "outputs": [
    {
     "data": {
      "image/png": "[encoded data removed]",
      "text/plain": [
       "<Figure size 1000x600 with 1 Axes>"
      ]
     },
     "metadata": {},
     "output_type": "display_data"
    }
   ],
   "source": [
    "#Visual\n",
    "\n",
    "plt.figure(figsize=(10, 6)) #Figure size\n",
    "top_10_countries.plot(kind='bar', color='skyblue') #Bar plot\n",
    "\n",
    "plt.title('Top 10 Countries by Number of Orders') #Title\n",
    "plt.xlabel('Country') #x-label\n",
    "plt.ylabel('Number of Orders') #y-label\n",
    "plt.xticks(rotation=45)\n",
    "plt.show()"
   ]
  },
  {
   "attachments": {},
   "cell_type": "markdown",
   "metadata": {},
   "source": [
    "C. ➡️ Top 10 Customers."
   ]
  },
  {
   "cell_type": "code",
   "execution_count": 18,
   "metadata": {},
   "outputs": [
    {
     "data": {
      "text/plain": [
       "Customer\n",
       "Allianz                 67\n",
       "Ford Motor              62\n",
       "BNP Paribas             54\n",
       "Prudential Financial    54\n",
       "Tyson Foods             52\n",
       "Chevron                 51\n",
       "Siemens                 46\n",
       "Kroger                  45\n",
       "Comcast                 45\n",
       "American Express        44\n",
       "Name: count, dtype: int64"
      ]
     },
     "execution_count": 18,
     "metadata": {},
     "output_type": "execute_result"
    }
   ],
   "source": [
    "top_10_customers = aws_df['Customer'].value_counts().head(10)\n",
    "top_10_customers"
   ]
  },
  {
   "cell_type": "code",
   "execution_count": 19,
   "metadata": {},
   "outputs": [
    {
     "data": {
      "image/png": "[encoded data removed]",
      "text/plain": [
       "<Figure size 1000x600 with 1 Axes>"
      ]
     },
     "metadata": {},
     "output_type": "display_data"
    }
   ],
   "source": [
    "#Visual\n",
    "\n",
    "plt.figure(figsize=(10, 6)) #Figure size\n",
    "top_10_customers.plot(kind='bar', color='pink') #Bar plot\n",
    "\n",
    "plt.title('Top 10 Customers by Number of Orders') #Title\n",
    "plt.xlabel('Customer') #x-label\n",
    "plt.ylabel('Number of Orders') #y-label\n",
    "plt.xticks(rotation=45)\n",
    "plt.show()"
   ]
  },
  {
   "attachments": {},
   "cell_type": "markdown",
   "metadata": {},
   "source": [
    "D. ➡️ Total sales tertinggi dan terendah (Bulan dan Tahun)."
   ]
  },
  {
   "cell_type": "code",
   "execution_count": 29,
   "metadata": {},
   "outputs": [
    {
     "data": {
      "text/html": [
       "<div>\n",
       "<style scoped>\n",
       "    .dataframe tbody tr th:only-of-type {\n",
       "        vertical-align: middle;\n",
       "    }\n",
       "\n",
       "    .dataframe tbody tr th {\n",
       "        vertical-align: top;\n",
       "    }\n",
       "\n",
       "    .dataframe thead th {\n",
       "        text-align: right;\n",
       "    }\n",
       "</style>\n",
       "<table border=\"1\" class=\"dataframe\">\n",
       "  <thead>\n",
       "    <tr style=\"text-align: right;\">\n",
       "      <th></th>\n",
       "      <th>Order Month</th>\n",
       "      <th>Sales</th>\n",
       "    </tr>\n",
       "  </thead>\n",
       "  <tbody>\n",
       "    <tr>\n",
       "      <th>46</th>\n",
       "      <td>2023-11</td>\n",
       "      <td>112326.471</td>\n",
       "    </tr>\n",
       "  </tbody>\n",
       "</table>\n",
       "</div>"
      ],
      "text/plain": [
       "   Order Month       Sales\n",
       "46     2023-11  112326.471"
      ]
     },
     "metadata": {},
     "output_type": "display_data"
    },
    {
     "data": {
      "text/html": [
       "<div>\n",
       "<style scoped>\n",
       "    .dataframe tbody tr th:only-of-type {\n",
       "        vertical-align: middle;\n",
       "    }\n",
       "\n",
       "    .dataframe tbody tr th {\n",
       "        vertical-align: top;\n",
       "    }\n",
       "\n",
       "    .dataframe thead th {\n",
       "        text-align: right;\n",
       "    }\n",
       "</style>\n",
       "<table border=\"1\" class=\"dataframe\">\n",
       "  <thead>\n",
       "    <tr style=\"text-align: right;\">\n",
       "      <th></th>\n",
       "      <th>Order Month</th>\n",
       "      <th>Sales</th>\n",
       "    </tr>\n",
       "  </thead>\n",
       "  <tbody>\n",
       "    <tr>\n",
       "      <th>1</th>\n",
       "      <td>2020-02</td>\n",
       "      <td>4810.558</td>\n",
       "    </tr>\n",
       "  </tbody>\n",
       "</table>\n",
       "</div>"
      ],
      "text/plain": [
       "  Order Month     Sales\n",
       "1     2020-02  4810.558"
      ]
     },
     "metadata": {},
     "output_type": "display_data"
    }
   ],
   "source": [
    "aws_df2['Order Date'] = pd.to_datetime(aws_df2['Order Date'])\n",
    "\n",
    "aws_df2['Order Month'] = aws_df2['Order Date'].dt.to_period('M')\n",
    "\n",
    "\n",
    "aws_sales_month = aws_df2[['Sales','Order Month']].groupby('Order Month').sum()['Sales']\n",
    "aws_sales_month = aws_sales_month.to_frame().reset_index()\n",
    "aws_sales_month = aws_sales_month.sort_values(by=['Sales'],ascending=False)\n",
    "display(aws_sales_month.head(1)) #tertinggi\n",
    "display(aws_sales_month.tail(1)) #terendah"
   ]
  },
  {
   "attachments": {},
   "cell_type": "markdown",
   "metadata": {},
   "source": [
    "E. ➡️ Product dengan discount > 50%."
   ]
  },
  {
   "cell_type": "code",
   "execution_count": 21,
   "metadata": {},
   "outputs": [
    {
     "data": {
      "text/html": [
       "<div>\n",
       "<style scoped>\n",
       "    .dataframe tbody tr th:only-of-type {\n",
       "        vertical-align: middle;\n",
       "    }\n",
       "\n",
       "    .dataframe tbody tr th {\n",
       "        vertical-align: top;\n",
       "    }\n",
       "\n",
       "    .dataframe thead th {\n",
       "        text-align: right;\n",
       "    }\n",
       "</style>\n",
       "<table border=\"1\" class=\"dataframe\">\n",
       "  <thead>\n",
       "    <tr style=\"text-align: right;\">\n",
       "      <th></th>\n",
       "      <th>Product</th>\n",
       "      <th>Discount</th>\n",
       "    </tr>\n",
       "  </thead>\n",
       "  <tbody>\n",
       "    <tr>\n",
       "      <th>14</th>\n",
       "      <td>OneView</td>\n",
       "      <td>0.8</td>\n",
       "    </tr>\n",
       "    <tr>\n",
       "      <th>15</th>\n",
       "      <td>ContactMatcher</td>\n",
       "      <td>0.8</td>\n",
       "    </tr>\n",
       "    <tr>\n",
       "      <th>28</th>\n",
       "      <td>ContactMatcher</td>\n",
       "      <td>0.7</td>\n",
       "    </tr>\n",
       "    <tr>\n",
       "      <th>32</th>\n",
       "      <td>ContactMatcher</td>\n",
       "      <td>0.7</td>\n",
       "    </tr>\n",
       "    <tr>\n",
       "      <th>36</th>\n",
       "      <td>SaaS Connector Pack</td>\n",
       "      <td>0.6</td>\n",
       "    </tr>\n",
       "    <tr>\n",
       "      <th>...</th>\n",
       "      <td>...</td>\n",
       "      <td>...</td>\n",
       "    </tr>\n",
       "    <tr>\n",
       "      <th>9870</th>\n",
       "      <td>ContactMatcher</td>\n",
       "      <td>0.7</td>\n",
       "    </tr>\n",
       "    <tr>\n",
       "      <th>9877</th>\n",
       "      <td>ContactMatcher</td>\n",
       "      <td>0.7</td>\n",
       "    </tr>\n",
       "    <tr>\n",
       "      <th>9903</th>\n",
       "      <td>SaaS Connector Pack</td>\n",
       "      <td>0.6</td>\n",
       "    </tr>\n",
       "    <tr>\n",
       "      <th>9920</th>\n",
       "      <td>ContactMatcher</td>\n",
       "      <td>0.8</td>\n",
       "    </tr>\n",
       "    <tr>\n",
       "      <th>9921</th>\n",
       "      <td>ContactMatcher</td>\n",
       "      <td>0.7</td>\n",
       "    </tr>\n",
       "  </tbody>\n",
       "</table>\n",
       "<p>856 rows × 2 columns</p>\n",
       "</div>"
      ],
      "text/plain": [
       "                  Product  Discount\n",
       "14                OneView       0.8\n",
       "15         ContactMatcher       0.8\n",
       "28         ContactMatcher       0.7\n",
       "32         ContactMatcher       0.7\n",
       "36    SaaS Connector Pack       0.6\n",
       "...                   ...       ...\n",
       "9870       ContactMatcher       0.7\n",
       "9877       ContactMatcher       0.7\n",
       "9903  SaaS Connector Pack       0.6\n",
       "9920       ContactMatcher       0.8\n",
       "9921       ContactMatcher       0.7\n",
       "\n",
       "[856 rows x 2 columns]"
      ]
     },
     "execution_count": 21,
     "metadata": {},
     "output_type": "execute_result"
    }
   ],
   "source": [
    "aws_df2[['Product','Discount']].loc[aws_df2['Discount'] > 0.5]"
   ]
  },
  {
   "attachments": {},
   "cell_type": "markdown",
   "metadata": {},
   "source": [
    "F. ➡️ Segment & Product yang paling untung & rugi."
   ]
  },
  {
   "cell_type": "code",
   "execution_count": 22,
   "metadata": {},
   "outputs": [
    {
     "data": {
      "text/html": [
       "<div>\n",
       "<style scoped>\n",
       "    .dataframe tbody tr th:only-of-type {\n",
       "        vertical-align: middle;\n",
       "    }\n",
       "\n",
       "    .dataframe tbody tr th {\n",
       "        vertical-align: top;\n",
       "    }\n",
       "\n",
       "    .dataframe thead th {\n",
       "        text-align: right;\n",
       "    }\n",
       "</style>\n",
       "<table border=\"1\" class=\"dataframe\">\n",
       "  <thead>\n",
       "    <tr style=\"text-align: right;\">\n",
       "      <th></th>\n",
       "      <th>Segment</th>\n",
       "      <th>Product</th>\n",
       "      <th>Profit</th>\n",
       "    </tr>\n",
       "  </thead>\n",
       "  <tbody>\n",
       "    <tr>\n",
       "      <th>14</th>\n",
       "      <td>SMB</td>\n",
       "      <td>Alchemy</td>\n",
       "      <td>24083.7106</td>\n",
       "    </tr>\n",
       "    <tr>\n",
       "      <th>25</th>\n",
       "      <td>SMB</td>\n",
       "      <td>Site Analytics</td>\n",
       "      <td>23837.1147</td>\n",
       "    </tr>\n",
       "    <tr>\n",
       "      <th>18</th>\n",
       "      <td>SMB</td>\n",
       "      <td>Data Smasher</td>\n",
       "      <td>20735.9225</td>\n",
       "    </tr>\n",
       "    <tr>\n",
       "      <th>28</th>\n",
       "      <td>Strategic</td>\n",
       "      <td>Alchemy</td>\n",
       "      <td>18990.2789</td>\n",
       "    </tr>\n",
       "    <tr>\n",
       "      <th>19</th>\n",
       "      <td>SMB</td>\n",
       "      <td>FinanceHub</td>\n",
       "      <td>16311.3203</td>\n",
       "    </tr>\n",
       "  </tbody>\n",
       "</table>\n",
       "</div>"
      ],
      "text/plain": [
       "      Segment         Product      Profit\n",
       "14        SMB         Alchemy  24083.7106\n",
       "25        SMB  Site Analytics  23837.1147\n",
       "18        SMB    Data Smasher  20735.9225\n",
       "28  Strategic         Alchemy  18990.2789\n",
       "19        SMB      FinanceHub  16311.3203"
      ]
     },
     "metadata": {},
     "output_type": "display_data"
    },
    {
     "data": {
      "text/html": [
       "<div>\n",
       "<style scoped>\n",
       "    .dataframe tbody tr th:only-of-type {\n",
       "        vertical-align: middle;\n",
       "    }\n",
       "\n",
       "    .dataframe tbody tr th {\n",
       "        vertical-align: top;\n",
       "    }\n",
       "\n",
       "    .dataframe thead th {\n",
       "        text-align: right;\n",
       "    }\n",
       "</style>\n",
       "<table border=\"1\" class=\"dataframe\">\n",
       "  <thead>\n",
       "    <tr style=\"text-align: right;\">\n",
       "      <th></th>\n",
       "      <th>Segment</th>\n",
       "      <th>Product</th>\n",
       "      <th>Profit</th>\n",
       "    </tr>\n",
       "  </thead>\n",
       "  <tbody>\n",
       "    <tr>\n",
       "      <th>20</th>\n",
       "      <td>SMB</td>\n",
       "      <td>Marketing Suite</td>\n",
       "      <td>-4435.6382</td>\n",
       "    </tr>\n",
       "  </tbody>\n",
       "</table>\n",
       "</div>"
      ],
      "text/plain": [
       "   Segment          Product     Profit\n",
       "20     SMB  Marketing Suite -4435.6382"
      ]
     },
     "metadata": {},
     "output_type": "display_data"
    }
   ],
   "source": [
    "df_f = aws_df2.groupby(['Segment','Product'])['Profit'].sum().reset_index()\n",
    "df_f = df_f.sort_values('Profit',ascending=False)\n",
    "display(df_f.head(),df_f[df_f['Profit'] < 0].tail())\n"
   ]
  },
  {
   "attachments": {},
   "cell_type": "markdown",
   "metadata": {},
   "source": [
    "G. ➡️ Negara penghasil profit tertinggi."
   ]
  },
  {
   "cell_type": "code",
   "execution_count": 23,
   "metadata": {},
   "outputs": [
    {
     "name": "stdout",
     "output_type": "stream",
     "text": [
      "Country with the Highest Profit:\n",
      "United States\n"
     ]
    }
   ],
   "source": [
    "highest_profit_country = aws_df2.groupby('Country')['Profit'].sum().idxmax()\n",
    "print(\"Country with the Highest Profit:\")\n",
    "print(highest_profit_country)"
   ]
  },
  {
   "attachments": {},
   "cell_type": "markdown",
   "metadata": {},
   "source": [
    "H. ➡️ Periode waktu yang memberikan kerugian pada perusahaan."
   ]
  },
  {
   "cell_type": "code",
   "execution_count": 25,
   "metadata": {},
   "outputs": [
    {
     "data": {
      "text/html": [
       "<div>\n",
       "<style scoped>\n",
       "    .dataframe tbody tr th:only-of-type {\n",
       "        vertical-align: middle;\n",
       "    }\n",
       "\n",
       "    .dataframe tbody tr th {\n",
       "        vertical-align: top;\n",
       "    }\n",
       "\n",
       "    .dataframe thead th {\n",
       "        text-align: right;\n",
       "    }\n",
       "</style>\n",
       "<table border=\"1\" class=\"dataframe\">\n",
       "  <thead>\n",
       "    <tr style=\"text-align: right;\">\n",
       "      <th></th>\n",
       "      <th>Order Month Name</th>\n",
       "      <th>Profit</th>\n",
       "    </tr>\n",
       "  </thead>\n",
       "  <tbody>\n",
       "    <tr>\n",
       "      <th>4</th>\n",
       "      <td>January 2022</td>\n",
       "      <td>9199.2700</td>\n",
       "    </tr>\n",
       "    <tr>\n",
       "      <th>3</th>\n",
       "      <td>February 2022</td>\n",
       "      <td>10281.4733</td>\n",
       "    </tr>\n",
       "    <tr>\n",
       "      <th>0</th>\n",
       "      <td>April 2022</td>\n",
       "      <td>13437.8068</td>\n",
       "    </tr>\n",
       "    <tr>\n",
       "      <th>5</th>\n",
       "      <td>July 2022</td>\n",
       "      <td>13535.3830</td>\n",
       "    </tr>\n",
       "    <tr>\n",
       "      <th>6</th>\n",
       "      <td>June 2022</td>\n",
       "      <td>20899.3345</td>\n",
       "    </tr>\n",
       "    <tr>\n",
       "      <th>1</th>\n",
       "      <td>August 2022</td>\n",
       "      <td>21896.7154</td>\n",
       "    </tr>\n",
       "    <tr>\n",
       "      <th>8</th>\n",
       "      <td>May 2022</td>\n",
       "      <td>22308.5128</td>\n",
       "    </tr>\n",
       "    <tr>\n",
       "      <th>7</th>\n",
       "      <td>March 2022</td>\n",
       "      <td>26813.9991</td>\n",
       "    </tr>\n",
       "    <tr>\n",
       "      <th>10</th>\n",
       "      <td>October 2022</td>\n",
       "      <td>31469.6638</td>\n",
       "    </tr>\n",
       "    <tr>\n",
       "      <th>9</th>\n",
       "      <td>November 2022</td>\n",
       "      <td>35825.5366</td>\n",
       "    </tr>\n",
       "    <tr>\n",
       "      <th>11</th>\n",
       "      <td>September 2022</td>\n",
       "      <td>37293.1925</td>\n",
       "    </tr>\n",
       "    <tr>\n",
       "      <th>2</th>\n",
       "      <td>December 2022</td>\n",
       "      <td>43436.1339</td>\n",
       "    </tr>\n",
       "  </tbody>\n",
       "</table>\n",
       "</div>"
      ],
      "text/plain": [
       "   Order Month Name      Profit\n",
       "4      January 2022   9199.2700\n",
       "3     February 2022  10281.4733\n",
       "0        April 2022  13437.8068\n",
       "5         July 2022  13535.3830\n",
       "6         June 2022  20899.3345\n",
       "1       August 2022  21896.7154\n",
       "8          May 2022  22308.5128\n",
       "7        March 2022  26813.9991\n",
       "10     October 2022  31469.6638\n",
       "9     November 2022  35825.5366\n",
       "11   September 2022  37293.1925\n",
       "2     December 2022  43436.1339"
      ]
     },
     "execution_count": 25,
     "metadata": {},
     "output_type": "execute_result"
    }
   ],
   "source": [
    "#aws_df2['Order Date'] = pd.to_datetime(aws_df2['Order Date'])\n",
    "\n",
    "#aws_df2['Order Month'] = aws_df2['Order Date'].dt.to_period('M')\n",
    "\n",
    "#aws_df2.info()\n",
    "\n",
    "df_h = aws_df2.groupby('Order Month Name')['Profit'].sum().reset_index()\n",
    "df_h.sort_values('Profit')"
   ]
  }
 ],
 "metadata": {
  "kernelspec": {
   "display_name": "Python 3",
   "language": "python",
   "name": "python3"
  },
  "language_info": {
   "codemirror_mode": {
    "name": "ipython",
    "version": 3
   },
   "file_extension": ".py",
   "mimetype": "text/x-python",
   "name": "python",
   "nbconvert_exporter": "python",
   "pygments_lexer": "ipython3",
   "version": "3.9.2"
  },
  "orig_nbformat": 4
 },
 "nbformat": 4,
 "nbformat_minor": 2
}
