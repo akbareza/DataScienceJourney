{
 "cells": [
  {
   "cell_type": "code",
   "execution_count": 2,
   "metadata": {},
   "outputs": [],
   "source": [
    "import numpy as np\n",
    "import pandas as pd\n",
    "import seaborn as sns\n",
    "import matplotlib.pyplot as plt"
   ]
  },
  {
   "attachments": {},
   "cell_type": "markdown",
   "metadata": {},
   "source": [
    "1. Load dataset all_cars.csv yang telah Anda buat, simpan dalam variabel bernama ‘df_car’.\n",
    "    - Jika ada kolom bernama 'Unnamed: 0', ubah nama kolom tersebut menjadi 'id'!\n",
    "    - Jika tidak ada, lakukan reset index. Kemudian kolom paling kiri bernama 'index' ubah menjadi 'id'!"
   ]
  },
  {
   "cell_type": "code",
   "execution_count": 3,
   "metadata": {},
   "outputs": [
    {
     "data": {
      "text/html": [
       "<div>\n",
       "<style scoped>\n",
       "    .dataframe tbody tr th:only-of-type {\n",
       "        vertical-align: middle;\n",
       "    }\n",
       "\n",
       "    .dataframe tbody tr th {\n",
       "        vertical-align: top;\n",
       "    }\n",
       "\n",
       "    .dataframe thead th {\n",
       "        text-align: right;\n",
       "    }\n",
       "</style>\n",
       "<table border=\"1\" class=\"dataframe\">\n",
       "  <thead>\n",
       "    <tr style=\"text-align: right;\">\n",
       "      <th></th>\n",
       "      <th>brand</th>\n",
       "      <th>model</th>\n",
       "      <th>year</th>\n",
       "      <th>price</th>\n",
       "      <th>transmission</th>\n",
       "      <th>mileage</th>\n",
       "      <th>fuelType</th>\n",
       "      <th>tax</th>\n",
       "      <th>mpg</th>\n",
       "      <th>engineSize</th>\n",
       "    </tr>\n",
       "  </thead>\n",
       "  <tbody>\n",
       "    <tr>\n",
       "      <th>0</th>\n",
       "      <td>Audi</td>\n",
       "      <td>A1</td>\n",
       "      <td>2017</td>\n",
       "      <td>12500</td>\n",
       "      <td>Manual</td>\n",
       "      <td>15735</td>\n",
       "      <td>Petrol</td>\n",
       "      <td>150</td>\n",
       "      <td>55.4</td>\n",
       "      <td>1.4</td>\n",
       "    </tr>\n",
       "    <tr>\n",
       "      <th>1</th>\n",
       "      <td>Audi</td>\n",
       "      <td>A6</td>\n",
       "      <td>2016</td>\n",
       "      <td>16500</td>\n",
       "      <td>Automatic</td>\n",
       "      <td>36203</td>\n",
       "      <td>Diesel</td>\n",
       "      <td>20</td>\n",
       "      <td>64.2</td>\n",
       "      <td>2.0</td>\n",
       "    </tr>\n",
       "    <tr>\n",
       "      <th>2</th>\n",
       "      <td>Audi</td>\n",
       "      <td>A1</td>\n",
       "      <td>2016</td>\n",
       "      <td>11000</td>\n",
       "      <td>Manual</td>\n",
       "      <td>29946</td>\n",
       "      <td>Petrol</td>\n",
       "      <td>30</td>\n",
       "      <td>55.4</td>\n",
       "      <td>1.4</td>\n",
       "    </tr>\n",
       "    <tr>\n",
       "      <th>3</th>\n",
       "      <td>Audi</td>\n",
       "      <td>A4</td>\n",
       "      <td>2017</td>\n",
       "      <td>16800</td>\n",
       "      <td>Automatic</td>\n",
       "      <td>25952</td>\n",
       "      <td>Diesel</td>\n",
       "      <td>145</td>\n",
       "      <td>67.3</td>\n",
       "      <td>2.0</td>\n",
       "    </tr>\n",
       "    <tr>\n",
       "      <th>4</th>\n",
       "      <td>Audi</td>\n",
       "      <td>A3</td>\n",
       "      <td>2019</td>\n",
       "      <td>17300</td>\n",
       "      <td>Manual</td>\n",
       "      <td>1998</td>\n",
       "      <td>Petrol</td>\n",
       "      <td>145</td>\n",
       "      <td>49.6</td>\n",
       "      <td>1.0</td>\n",
       "    </tr>\n",
       "  </tbody>\n",
       "</table>\n",
       "</div>"
      ],
      "text/plain": [
       "  brand model  year  price transmission  mileage fuelType  tax   mpg   \n",
       "0  Audi    A1  2017  12500       Manual    15735   Petrol  150  55.4  \\\n",
       "1  Audi    A6  2016  16500    Automatic    36203   Diesel   20  64.2   \n",
       "2  Audi    A1  2016  11000       Manual    29946   Petrol   30  55.4   \n",
       "3  Audi    A4  2017  16800    Automatic    25952   Diesel  145  67.3   \n",
       "4  Audi    A3  2019  17300       Manual     1998   Petrol  145  49.6   \n",
       "\n",
       "   engineSize  \n",
       "0         1.4  \n",
       "1         2.0  \n",
       "2         1.4  \n",
       "3         2.0  \n",
       "4         1.0  "
      ]
     },
     "execution_count": 3,
     "metadata": {},
     "output_type": "execute_result"
    }
   ],
   "source": [
    "df_car = pd.read_csv('all_cars.csv')\n",
    "df_car.reset_index().rename(columns={'index':'id'})\n",
    "df_car.head()"
   ]
  },
  {
   "attachments": {},
   "cell_type": "markdown",
   "metadata": {},
   "source": [
    "2. Tampilkan deskripsi statistik dari dataset df_car."
   ]
  },
  {
   "cell_type": "code",
   "execution_count": 4,
   "metadata": {},
   "outputs": [
    {
     "data": {
      "text/html": [
       "<div>\n",
       "<style scoped>\n",
       "    .dataframe tbody tr th:only-of-type {\n",
       "        vertical-align: middle;\n",
       "    }\n",
       "\n",
       "    .dataframe tbody tr th {\n",
       "        vertical-align: top;\n",
       "    }\n",
       "\n",
       "    .dataframe thead th {\n",
       "        text-align: right;\n",
       "    }\n",
       "</style>\n",
       "<table border=\"1\" class=\"dataframe\">\n",
       "  <thead>\n",
       "    <tr style=\"text-align: right;\">\n",
       "      <th></th>\n",
       "      <th>year</th>\n",
       "      <th>price</th>\n",
       "      <th>mileage</th>\n",
       "      <th>tax</th>\n",
       "      <th>mpg</th>\n",
       "      <th>engineSize</th>\n",
       "    </tr>\n",
       "  </thead>\n",
       "  <tbody>\n",
       "    <tr>\n",
       "      <th>count</th>\n",
       "      <td>22266.000000</td>\n",
       "      <td>22266.000000</td>\n",
       "      <td>22266.000000</td>\n",
       "      <td>22266.000000</td>\n",
       "      <td>22266.000000</td>\n",
       "      <td>22266.000000</td>\n",
       "    </tr>\n",
       "    <tr>\n",
       "      <th>mean</th>\n",
       "      <td>2016.995509</td>\n",
       "      <td>17542.591575</td>\n",
       "      <td>23501.863604</td>\n",
       "      <td>115.473592</td>\n",
       "      <td>55.151181</td>\n",
       "      <td>1.688489</td>\n",
       "    </tr>\n",
       "    <tr>\n",
       "      <th>std</th>\n",
       "      <td>2.133576</td>\n",
       "      <td>10589.835312</td>\n",
       "      <td>21111.157417</td>\n",
       "      <td>68.835239</td>\n",
       "      <td>14.834181</td>\n",
       "      <td>0.566379</td>\n",
       "    </tr>\n",
       "    <tr>\n",
       "      <th>min</th>\n",
       "      <td>1997.000000</td>\n",
       "      <td>850.000000</td>\n",
       "      <td>1.000000</td>\n",
       "      <td>0.000000</td>\n",
       "      <td>1.100000</td>\n",
       "      <td>0.000000</td>\n",
       "    </tr>\n",
       "    <tr>\n",
       "      <th>25%</th>\n",
       "      <td>2016.000000</td>\n",
       "      <td>9999.000000</td>\n",
       "      <td>7200.000000</td>\n",
       "      <td>30.000000</td>\n",
       "      <td>44.800000</td>\n",
       "      <td>1.400000</td>\n",
       "    </tr>\n",
       "    <tr>\n",
       "      <th>50%</th>\n",
       "      <td>2017.000000</td>\n",
       "      <td>14999.000000</td>\n",
       "      <td>18354.000000</td>\n",
       "      <td>145.000000</td>\n",
       "      <td>55.400000</td>\n",
       "      <td>1.600000</td>\n",
       "    </tr>\n",
       "    <tr>\n",
       "      <th>75%</th>\n",
       "      <td>2019.000000</td>\n",
       "      <td>21991.000000</td>\n",
       "      <td>33100.750000</td>\n",
       "      <td>145.000000</td>\n",
       "      <td>62.800000</td>\n",
       "      <td>2.000000</td>\n",
       "    </tr>\n",
       "    <tr>\n",
       "      <th>max</th>\n",
       "      <td>2020.000000</td>\n",
       "      <td>145000.000000</td>\n",
       "      <td>323000.000000</td>\n",
       "      <td>580.000000</td>\n",
       "      <td>256.800000</td>\n",
       "      <td>6.300000</td>\n",
       "    </tr>\n",
       "  </tbody>\n",
       "</table>\n",
       "</div>"
      ],
      "text/plain": [
       "               year          price        mileage           tax           mpg   \n",
       "count  22266.000000   22266.000000   22266.000000  22266.000000  22266.000000  \\\n",
       "mean    2016.995509   17542.591575   23501.863604    115.473592     55.151181   \n",
       "std        2.133576   10589.835312   21111.157417     68.835239     14.834181   \n",
       "min     1997.000000     850.000000       1.000000      0.000000      1.100000   \n",
       "25%     2016.000000    9999.000000    7200.000000     30.000000     44.800000   \n",
       "50%     2017.000000   14999.000000   18354.000000    145.000000     55.400000   \n",
       "75%     2019.000000   21991.000000   33100.750000    145.000000     62.800000   \n",
       "max     2020.000000  145000.000000  323000.000000    580.000000    256.800000   \n",
       "\n",
       "         engineSize  \n",
       "count  22266.000000  \n",
       "mean       1.688489  \n",
       "std        0.566379  \n",
       "min        0.000000  \n",
       "25%        1.400000  \n",
       "50%        1.600000  \n",
       "75%        2.000000  \n",
       "max        6.300000  "
      ]
     },
     "metadata": {},
     "output_type": "display_data"
    },
    {
     "data": {
      "text/html": [
       "<div>\n",
       "<style scoped>\n",
       "    .dataframe tbody tr th:only-of-type {\n",
       "        vertical-align: middle;\n",
       "    }\n",
       "\n",
       "    .dataframe tbody tr th {\n",
       "        vertical-align: top;\n",
       "    }\n",
       "\n",
       "    .dataframe thead th {\n",
       "        text-align: right;\n",
       "    }\n",
       "</style>\n",
       "<table border=\"1\" class=\"dataframe\">\n",
       "  <thead>\n",
       "    <tr style=\"text-align: right;\">\n",
       "      <th></th>\n",
       "      <th>brand</th>\n",
       "      <th>model</th>\n",
       "      <th>transmission</th>\n",
       "      <th>fuelType</th>\n",
       "    </tr>\n",
       "  </thead>\n",
       "  <tbody>\n",
       "    <tr>\n",
       "      <th>count</th>\n",
       "      <td>22266</td>\n",
       "      <td>22266</td>\n",
       "      <td>22266</td>\n",
       "      <td>22266</td>\n",
       "    </tr>\n",
       "    <tr>\n",
       "      <th>unique</th>\n",
       "      <td>3</td>\n",
       "      <td>60</td>\n",
       "      <td>4</td>\n",
       "      <td>4</td>\n",
       "    </tr>\n",
       "    <tr>\n",
       "      <th>top</th>\n",
       "      <td>Audi</td>\n",
       "      <td>Yaris</td>\n",
       "      <td>Manual</td>\n",
       "      <td>Petrol</td>\n",
       "    </tr>\n",
       "    <tr>\n",
       "      <th>freq</th>\n",
       "      <td>10668</td>\n",
       "      <td>2122</td>\n",
       "      <td>11806</td>\n",
       "      <td>12052</td>\n",
       "    </tr>\n",
       "  </tbody>\n",
       "</table>\n",
       "</div>"
      ],
      "text/plain": [
       "        brand  model transmission fuelType\n",
       "count   22266  22266        22266    22266\n",
       "unique      3     60            4        4\n",
       "top      Audi  Yaris       Manual   Petrol\n",
       "freq    10668   2122        11806    12052"
      ]
     },
     "metadata": {},
     "output_type": "display_data"
    }
   ],
   "source": [
    "display(df_car.describe())\n",
    "display(df_car.describe(exclude='number'))"
   ]
  },
  {
   "attachments": {},
   "cell_type": "markdown",
   "metadata": {},
   "source": [
    "3. Kita mengenal bahwa Variabel dibagi menjadi 2, yaitu variabel Kualitatif dan Kuantitatif. Var. Kualitatif dibagi menjadi 2, yaitu: Nominal dan Ordinal. \n",
    "Var. Kualitatif dibagi menjadi 2, yaitu: Continue dan Discrete\n",
    "\n",
    "    - Kolom mana saja yang menurut Anda merupakan var. kualitatif? Mana yang Nominal dan Ordinal?\n",
    "    - Kolom mana saja yang menurut Anda merupakan var. kuantitatif? Mana yang Continue dan Discrete?"
   ]
  },
  {
   "cell_type": "code",
   "execution_count": 5,
   "metadata": {},
   "outputs": [
    {
     "name": "stdout",
     "output_type": "stream",
     "text": [
      "Variabel Kualitatif\n",
      "\tNominal\t: brand, model, transmission, fueltype\n",
      "\tOrdinal\t: -\n",
      "Variabel Kuantitatif\n",
      "\tContinue: price, mileage, mpg, tax, engineSize\n",
      "\tDiscrete: year\n"
     ]
    }
   ],
   "source": [
    "# qualitative\n",
    "nominal = 'brand, model, transmission, fueltype'\n",
    "ordinal = '-'\n",
    "# quantitative\n",
    "continu = 'price, mileage, mpg, tax, engineSize'\n",
    "discrete = 'year'\n",
    "print(f'Variabel Kualitatif\\n\\tNominal\\t: {nominal}\\n\\tOrdinal\\t: {ordinal}')\n",
    "print(f'Variabel Kuantitatif\\n\\tContinue: {continu}\\n\\tDiscrete: {discrete}')"
   ]
  },
  {
   "attachments": {},
   "cell_type": "markdown",
   "metadata": {},
   "source": [
    "4. Apa yg dimaksud dengan Measure of Central Tendency? Tampilkan Measure of Central Tendency dari kolom 'model' dan 'price'!Central Tendency apa yang cocok untuk kolom 'model' dan 'price'?"
   ]
  },
  {
   "cell_type": "code",
   "execution_count": 6,
   "metadata": {},
   "outputs": [
    {
     "data": {
      "text/plain": [
       "'Yaris'"
      ]
     },
     "metadata": {},
     "output_type": "display_data"
    },
    {
     "name": "stdout",
     "output_type": "stream",
     "text": [
      "price p-value using median: 0.00000\n"
     ]
    },
    {
     "data": {
      "text/plain": [
       "14999.0"
      ]
     },
     "metadata": {},
     "output_type": "display_data"
    }
   ],
   "source": [
    "from scipy.stats import shapiro, normaltest\n",
    "\n",
    "display(df_car['model'].mode()[0]) #menggunakan modus karena data kualitatif\n",
    "\n",
    "#Cek distribusi data\n",
    "df_car['price'].count() # N = 22,266\n",
    "\n",
    "\n",
    "#shapiro(df_car['price']) ##Shapiro Wilk Test -> p-value may not be accurate for N > 5000\n",
    "\n",
    "\n",
    "#If the P-Value of the D'Agostino-Pearson Test is larger than 0.05, we assume a normal distribution\n",
    "#If the P-Value of the D'Agostino-Pearson Test is smaller than 0.05, we do not assume a normal distribution\n",
    "result = normaltest(df_car['price']) \n",
    "print(\"price p-value using median: {:.5f}\".format(result.pvalue)) #D'Agostino-Pearson -> pvalue -> 0 -> not normal distrib. -> use median\n",
    "\n",
    "display(df_car['price'].median())\n",
    "\n"
   ]
  },
  {
   "attachments": {},
   "cell_type": "markdown",
   "metadata": {},
   "source": [
    "5. Apa yang dimaksud dengan Measure of Spread? Tampilkan Measure of Spread dari kolom 'price'!"
   ]
  },
  {
   "cell_type": "code",
   "execution_count": 7,
   "metadata": {},
   "outputs": [
    {
     "name": "stdout",
     "output_type": "stream",
     "text": [
      "\n",
      "    Range               = 144150.0\n",
      "    Standar Deviation   = 10589.835311802195\n",
      "    Q2                  = 14999.0\n",
      "    Q1                  = 9999.0\n",
      "    Q3                  = 21991.0\n",
      "    IQR                 = 11992.0\n",
      "\n"
     ]
    }
   ],
   "source": [
    "describePrice = df_car['price'].describe()\n",
    "\n",
    "print(f'''\n",
    "    Range               = {describePrice['max']-describePrice['min']}\n",
    "    Standar Deviation   = {describePrice['std']}\n",
    "    Q2                  = {describePrice['50%']}\n",
    "    Q1                  = {describePrice['25%']}\n",
    "    Q3                  = {describePrice['75%']}\n",
    "    IQR                 = {describePrice['75%']-describePrice['25%']}\n",
    "''')"
   ]
  },
  {
   "attachments": {},
   "cell_type": "markdown",
   "metadata": {},
   "source": [
    "6. Apakah ada Outlier pada kolom 'price'? Kalau ada, berapa banyak data yang merupakan outliers?"
   ]
  },
  {
   "cell_type": "code",
   "execution_count": 8,
   "metadata": {},
   "outputs": [
    {
     "name": "stdout",
     "output_type": "stream",
     "text": [
      "Jumlah Outlier: 808\n"
     ]
    }
   ],
   "source": [
    "#An observation considered outlier if the value:\n",
    "# below Q1 - 1.5 x IQR\n",
    "# above Q3 + 1.5 x IQR\n",
    "belowOut = describePrice['25%'] - (1.5*(describePrice['75%']-describePrice['25%']))\n",
    "aboveOut = describePrice['75%'] + (1.5*(describePrice['75%']-describePrice['25%']))\n",
    "Outlier = df_car[(df_car['price']<belowOut) | (df_car['price']>aboveOut)]\n",
    "print(f'Jumlah Outlier: {len(Outlier)}')"
   ]
  },
  {
   "attachments": {},
   "cell_type": "markdown",
   "metadata": {},
   "source": [
    "7. Variabel/kolom apa saja yang memiliki distribusi skewed ke kanan?"
   ]
  },
  {
   "cell_type": "code",
   "execution_count": 15,
   "metadata": {},
   "outputs": [
    {
     "name": "stdout",
     "output_type": "stream",
     "text": [
      "year variable does not has a right-skewed distribution\n",
      "price variable has a right-skewed distribution\n",
      "mileage variable has a right-skewed distribution\n",
      "tax variable does not has a right-skewed distribution\n",
      "mpg variable does not has a right-skewed distribution\n",
      "engineSize variable has a right-skewed distribution\n"
     ]
    }
   ],
   "source": [
    "for i in df_car:\n",
    "    try:\n",
    "        if df_car[i].mean() > df_car[i].median():\n",
    "            print(f'{i} variable has a right-skewed distribution')\n",
    "        else:\n",
    "            print(f'{i} variable does not has a right-skewed distribution')\n",
    "    except:\n",
    "        pass\n"
   ]
  },
  {
   "attachments": {},
   "cell_type": "markdown",
   "metadata": {},
   "source": [
    "8. Nilai Mean dan Median dari kolom 'mileage' berbeda jauh. Coba buktikan apakah kolom tersebut terdistribusi normal atau tidak!"
   ]
  },
  {
   "cell_type": "code",
   "execution_count": 9,
   "metadata": {},
   "outputs": [
    {
     "data": {
      "text/plain": [
       "23501.86360370071"
      ]
     },
     "metadata": {},
     "output_type": "display_data"
    },
    {
     "data": {
      "text/plain": [
       "18354.0"
      ]
     },
     "metadata": {},
     "output_type": "display_data"
    },
    {
     "name": "stdout",
     "output_type": "stream",
     "text": [
      "price p-value using median: 0.00000\n"
     ]
    }
   ],
   "source": [
    "display(df_car['mileage'].mean())\n",
    "display(df_car['mileage'].median())\n",
    "\n",
    "resultMileAge = normaltest(df_car['price']) \n",
    "print(\"price p-value using median: {:.5f}\".format(resultMileAge.pvalue)) #D'Agostino-Pearson -> pvalue -> 0.00 -> not normal distrib. -> use median\n"
   ]
  },
  {
   "attachments": {},
   "cell_type": "markdown",
   "metadata": {},
   "source": [
    "9. Grafik apa yang cocok untuk menampilkan visualisasi:\n",
    "    - brand vs price\n",
    "    - price vs mileage\n",
    "    - frequency distribution of mileage"
   ]
  },
  {
   "cell_type": "code",
   "execution_count": 10,
   "metadata": {},
   "outputs": [
    {
     "data": {
      "text/plain": [
       "<function matplotlib.pyplot.show(close=None, block=None)>"
      ]
     },
     "execution_count": 10,
     "metadata": {},
     "output_type": "execute_result"
    },
    {
     "data": {
      "image/png": "[encoded data removed]",
      "text/plain": [
       "<Figure size 640x480 with 1 Axes>"
      ]
     },
     "metadata": {},
     "output_type": "display_data"
    }
   ],
   "source": [
    "brandprice = plt.scatter(df_car['brand'],df_car['price'])\n",
    "plt.xlabel('brand')\n",
    "plt.ylabel('price')\n",
    "plt.title('Brand vs Price Comparison')\n",
    "plt.show"
   ]
  },
  {
   "cell_type": "code",
   "execution_count": 11,
   "metadata": {},
   "outputs": [
    {
     "data": {
      "text/plain": [
       "<function matplotlib.pyplot.show(close=None, block=None)>"
      ]
     },
     "execution_count": 11,
     "metadata": {},
     "output_type": "execute_result"
    },
    {
     "data": {
      "image/png": "[encoded data removed]",
      "text/plain": [
       "<Figure size 640x480 with 1 Axes>"
      ]
     },
     "metadata": {},
     "output_type": "display_data"
    }
   ],
   "source": [
    "plt.scatter(df_car['mileage'],df_car['price'])\n",
    "plt.xlabel('mileage')\n",
    "plt.ylabel('price')\n",
    "plt.title('Mileage vs Price Comparison')\n",
    "plt.show"
   ]
  },
  {
   "cell_type": "code",
   "execution_count": 12,
   "metadata": {},
   "outputs": [
    {
     "data": {
      "text/plain": [
       "(array([1.6468e+04, 4.6640e+03, 9.2600e+02, 1.7600e+02, 2.8000e+01,\n",
       "        3.0000e+00, 0.0000e+00, 0.0000e+00, 0.0000e+00, 1.0000e+00]),\n",
       " array([1.000000e+00, 3.230090e+04, 6.460080e+04, 9.690070e+04,\n",
       "        1.292006e+05, 1.615005e+05, 1.938004e+05, 2.261003e+05,\n",
       "        2.584002e+05, 2.907001e+05, 3.230000e+05]),\n",
       " <BarContainer object of 10 artists>)"
      ]
     },
     "execution_count": 12,
     "metadata": {},
     "output_type": "execute_result"
    },
    {
     "data": {
      "image/png": "[encoded data removed]",
      "text/plain": [
       "<Figure size 640x480 with 1 Axes>"
      ]
     },
     "metadata": {},
     "output_type": "display_data"
    }
   ],
   "source": [
    "plt.hist(df_car['mileage'])"
   ]
  }
 ],
 "metadata": {
  "kernelspec": {
   "display_name": "Python 3",
   "language": "python",
   "name": "python3"
  },
  "language_info": {
   "codemirror_mode": {
    "name": "ipython",
    "version": 3
   },
   "file_extension": ".py",
   "mimetype": "text/x-python",
   "name": "python",
   "nbconvert_exporter": "python",
   "pygments_lexer": "ipython3",
   "version": "3.9.1"
  },
  "orig_nbformat": 4
 },
 "nbformat": 4,
 "nbformat_minor": 2
}
